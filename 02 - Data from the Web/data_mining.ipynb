{
 "cells": [
  {
   "cell_type": "code",
   "execution_count": null,
   "metadata": {
    "collapsed": false
   },
   "outputs": [],
   "source": [
    "from bs4 import BeautifulSoup\n",
    "%matplotlib inline\n",
    "import requests\n",
    "import pandas as pd\n",
    "import re\n",
    "import numpy as np\n",
    "import matplotlib.pyplot as plt\n",
    "import seaborn as sns\n",
    "import scipy.stats as stats\n",
    "import pylab as pl\n",
    "plt.style.available\n",
    "plt.style.use('bmh')\n",
    "\n",
    "sns.set_context('notebook')\n",
    "\"\"\"\n",
    "Example usage:\n",
    ">>> from data_mining import *\n",
    ">>> mine_data('2009', 'B1', 'Spring')\n",
    "...\n",
    "\n",
    "\n",
    "Will output a global data frame indexed by sciper\n",
    "The data frame is indexed by the the year, semester and sciper\n",
    "\"\"\"\n",
    "\n",
    "years = {\n",
    "\t'2007': '978181',\n",
    "\t'2008': '978187',\n",
    "\t'2009': '978195',\n",
    "\t'2010': '39486325',\n",
    "\t'2011': '123455150',\n",
    "\t'2012': '123456101',\n",
    "\t'2013': '213637754',\n",
    "\t'2014': '213637922',\n",
    "\t'2015': '213638028',\n",
    "\t'2016': '355925344'\n",
    "}\n",
    "\n",
    "semesters = {\n",
    "\t'B1': '249108',\n",
    "    'B5': '942120',\n",
    "\t'B6': '942175',\n",
    "\t'M1': '2230106',\n",
    "    'M2': '942192',\n",
    "\t'M3': '2230128',\n",
    "\t'PMAut': '249127',\n",
    "\t'PMSpr': '3781783'\n",
    "}\n",
    "\n",
    "indexes =  []\n",
    "\n",
    "def get_url(year, semester):\n",
    "    \"\"\"Get the url corresponding to a given year and semester\"\"\"\n",
    "    y, sem = years[year], semesters[semester]\n",
    "    return 'http://isa.epfl.ch/imoniteur_ISAP/!GEDPUBLICREPORTS.html?ww_x_GPS=-1&ww_i_reportModel=133685247&ww_i_reportModelXsl=133685270&ww_x_UNITE_ACAD=249847&ww_x_PERIODE_ACAD='+ y +'&ww_x_PERIODE_PEDAGO=' + sem + '&ww_x_HIVERETE=null'\n",
    "\n",
    "def request(year, semester):\n",
    "    \"\"\"return the http request corresponding to a given year and semester\"\"\"\n",
    "    url = get_url(year, semester)\n",
    "    return requests.get(url, verify=False)\n",
    "\n",
    "def get_soup(year, semester):\n",
    "    \"\"\"return the data soup (BeautifulSoup) corresponding to a given year and semester\"\"\"\n",
    "    r = request(year, semester)\n",
    "    data = r.text\n",
    "    return BeautifulSoup(data,\"lxml\")\n",
    "\n",
    "\n",
    "def get_table(soup, year, semester):\n",
    "    \"\"\"Transform the data soup into a dict containing the data frame\n",
    "    Each dict contains the section, the year, and the dataframe containing all the corresponding data\n",
    "    The dataframe contains all the columns returned by the html page + the index corresponding to \"indexes\"\n",
    "    \"\"\"\n",
    "    global indexes\n",
    "    table = soup.html.body.table ##get to the table\n",
    "    list_df  = [] ##init list of data frame\n",
    "    tc = table.children ##every rows of the table\n",
    "    first_row = next(tc, None)\n",
    "    attrs = first_row.text.split(',') ##extract the attributes from the header row\n",
    "    #section = attrs[0]\n",
    "    #year = attrs[1]\n",
    "    nb_student = int(attrs[2].split(\"(\")[1].split(\" \")[0])\n",
    "    if nb_student != 0: ##next row should contain columns info (except if there is no student)\n",
    "        next_row = next(tc, None) ##directly iterate our iterator the next row\n",
    "        columns = list(map(lambda l: l.text, next_row.children)) ##transform the children into a list of the inner text of each children\n",
    "        df = pd.DataFrame(columns=columns) ##create the data frame with the columns from this list\n",
    "\n",
    "        for c in tc:\n",
    "            t = list(map(lambda l: l.text, c.children))[:-1] ##transform the children into a list of the inner text of each children (corresponding here to each column)\n",
    "            df.loc[df.shape[0]] = t ##append the data to the last dataframe created\n",
    "\n",
    "        sciper_c = columns[-1]\n",
    "        df = df.set_index([sciper_c, 'Nom Prénom'])\n",
    "        df[semester+'_year'] = year \n",
    "    \n",
    "        return df\n",
    "    return pd.DataFrame()\n",
    "\n",
    "def mine_data(year, semester):\n",
    "    soup = get_soup(year, semester) ##get the soup\n",
    "    return get_table(soup, year, semester) ##process the soup\n"
   ]
  },
  {
   "cell_type": "code",
   "execution_count": null,
   "metadata": {
    "collapsed": false,
    "scrolled": true
   },
   "outputs": [],
   "source": [
    "df_bachelor =  mine_data('2007', 'B1')\n",
    "df_bachelor['B5_year'] = float('NaN')\n",
    "df_bachelor['B6_year'] = float('NaN') # Because nan can only be stored in floating points\n",
    "\n",
    "\n",
    "for year in range(2007, 2017):\n",
    "    df_b1 = mine_data(str(year), 'B1')\n",
    "    #override only if B1 entry is not in the dataframe yet\n",
    "    df_bachelor = df_bachelor.combine_first(df_b1)\n",
    "    \n",
    "    #override the date when newer semester found\n",
    "    df_b6 = mine_data(str(year), 'B6')\n",
    "    df_b5 = mine_data(str(year), 'B5')\n",
    "    df_bachelor.update(df_b6)\n",
    "    df_bachelor.update(df_b5)"
   ]
  },
  {
   "cell_type": "code",
   "execution_count": null,
   "metadata": {
    "collapsed": false
   },
   "outputs": [],
   "source": [
    "df_bachelor.head(10)\n",
    "df_bachelor.tail(10)"
   ]
  },
  {
   "cell_type": "markdown",
   "metadata": {},
   "source": [
    "Now we keep the rows which have a value in B1 and B6"
   ]
  },
  {
   "cell_type": "code",
   "execution_count": null,
   "metadata": {
    "collapsed": false,
    "scrolled": true
   },
   "outputs": [],
   "source": [
    "df_bachelor = df_bachelor.dropna(subset=['B1_year', 'B6_year'])\n",
    "df_bachelor.head(10)"
   ]
  },
  {
   "cell_type": "markdown",
   "metadata": {},
   "source": [
    "Bachelor 6 is actually in the spring semester so one year after"
   ]
  },
  {
   "cell_type": "code",
   "execution_count": null,
   "metadata": {
    "collapsed": false
   },
   "outputs": [],
   "source": [
    "df_bachelor[['B6_year']] = df_bachelor[['B6_year']].apply(pd.to_numeric)\n",
    "df_bachelor['B6_year'] = df_bachelor['B6_year'] + 1"
   ]
  },
  {
   "cell_type": "code",
   "execution_count": null,
   "metadata": {
    "collapsed": false
   },
   "outputs": [],
   "source": [
    "df_bachelor.head(10)"
   ]
  },
  {
   "cell_type": "code",
   "execution_count": null,
   "metadata": {
    "collapsed": false
   },
   "outputs": [],
   "source": [
    "def compute_time(df):\n",
    "    #if the student finishes in the fifth semester, it has done six more months \n",
    "    if float(df['B5_year']) >= float(df['B6_year']):\n",
    "        end = float(df['B5_year']) + 0.5\n",
    "    #otherwise he finishes in the summer\n",
    "    else:\n",
    "        end = float(df['B6_year'])\n",
    "    # We want to compute the total time spent in months\n",
    "    # 1st semester is sep-jan, and 2nd feb-jul so count only 5 months to complete 1st.\n",
    "    # hurray for nitpicking!\n",
    "    time = (end - float(df['B1_year'])) * 12 - 1 \n",
    "    return time"
   ]
  },
  {
   "cell_type": "code",
   "execution_count": null,
   "metadata": {
    "collapsed": false
   },
   "outputs": [],
   "source": [
    "df_bachelor['bachelor_months'] = df_bachelor.apply(compute_time, axis=1)"
   ]
  },
  {
   "cell_type": "code",
   "execution_count": null,
   "metadata": {
    "collapsed": false
   },
   "outputs": [],
   "source": [
    "df_bachelor.head(10)"
   ]
  },
  {
   "cell_type": "markdown",
   "metadata": {},
   "source": [
    "We simply need to group by `Civilité` to get the average time per gender"
   ]
  },
  {
   "cell_type": "code",
   "execution_count": null,
   "metadata": {
    "collapsed": false,
    "scrolled": true
   },
   "outputs": [],
   "source": [
    "df_bachelor[\"Civilité\"].astype('category')\n",
    "sex_grouped = df_bachelor.groupby('Civilité')['bachelor_months']\n",
    "b_months = sex_grouped.apply(np.average)\n",
    "b_months.to_frame(name='Months to finish bachelor').unstack().unstack().plot.bar()"
   ]
  },
  {
   "cell_type": "code",
   "execution_count": null,
   "metadata": {
    "collapsed": false
   },
   "outputs": [],
   "source": [
    "sex_grouped.head()"
   ]
  },
  {
   "cell_type": "markdown",
   "metadata": {},
   "source": [
    "## Statistical significance\n",
    "In order to evaluate the statistical significance of the difference in average between the male and female students, we first examine the data as a whole, with regard to the number of months spent to get one's bachelor degree."
   ]
  },
  {
   "cell_type": "code",
   "execution_count": null,
   "metadata": {
    "collapsed": false
   },
   "outputs": [],
   "source": [
    "b_months_min = df_bachelor.bachelor_months.min().astype(int)\n",
    "b_months_max = df_bachelor.bachelor_months.max().astype(int)\n",
    "df_bachelor.hist(column='bachelor_months', bins=range(b_months_min, b_months_max+1, 6))\n",
    "pl.suptitle(\"Time spent completing bachelor's degree\")\n",
    "pl.xlabel(\"Months\")\n",
    "pl.ylabel(\"Students\")"
   ]
  },
  {
   "cell_type": "markdown",
   "metadata": {},
   "source": [
    "As can be expected, most students complete the bachelor's in 36 months (the mandatory 3 years). A fair amount will need 6 or 12 months more. If we now look at the structure of the data by gender, we can see that it holds roughly the same shape in both cases."
   ]
  },
  {
   "cell_type": "code",
   "execution_count": null,
   "metadata": {
    "collapsed": false
   },
   "outputs": [],
   "source": [
    "df_bachelor.hist(column='bachelor_months', by=df_bachelor['Civilité'], bins=range(b_months_min, b_months_max+1, 6))\n",
    "pl.suptitle(\"Time spent completing bachelor's degree by gender\")\n",
    "pl.xlabel(\"Months\")\n",
    "pl.ylabel(\"Students\")"
   ]
  },
  {
   "cell_type": "markdown",
   "metadata": {},
   "source": [
    "### Test 1"
   ]
  },
  {
   "cell_type": "markdown",
   "metadata": {},
   "source": [
    "Since we are observing a dependent variable (i.e. the n° of months to complete a bachelor's degree) in two population samples determined by an independent variable (i.e. the gender of the person), we use an **Mann-Whitney rank test **, as provided in `scipy`'s `mannwhitneyu` function. We do not use the unpaired two sample t-tests because our random variables, the number of months, are not randomly sampled from a normal distribution (number of month is not even continuous)."
   ]
  },
  {
   "cell_type": "code",
   "execution_count": null,
   "metadata": {
    "collapsed": false
   },
   "outputs": [],
   "source": [
    "values_per_gender = [gender_value for gender_name, gender_value in sex_grouped]\n",
    "stat, pval = stats.mannwhitneyu(*values_per_gender) "
   ]
  },
  {
   "cell_type": "markdown",
   "metadata": {},
   "source": [
    "So in this case, we're working with the null hypothesis $H_0$ that the mean in months spent for a bachelor's degree of the two populations, male and female students in computer science, is equal. \n",
    "\n",
    "With our two samples, we get the following p-value:"
   ]
  },
  {
   "cell_type": "code",
   "execution_count": null,
   "metadata": {
    "collapsed": false
   },
   "outputs": [],
   "source": [
    "pval"
   ]
  },
  {
   "cell_type": "markdown",
   "metadata": {},
   "source": [
    "This is just above an $\\alpha$ of 0.10. So the test indicates that we fail to reject the null Hypothesis $H_0$, i.e. that this difference in mean is *not obviously statistically significant*. But being at the limit, it is far from unlikely that the Madame takes less times to complete the Master."
   ]
  },
  {
   "cell_type": "markdown",
   "metadata": {
    "collapsed": false
   },
   "source": [
    "### Test 2"
   ]
  },
  {
   "cell_type": "markdown",
   "metadata": {},
   "source": [
    "As an additional test to avoid arbitrary inaccuracies of the Mann-Whitney rank test we used, we can try the K-S test on our two sample data distributions. This is a non-parametric test, and basically computes the max distance between the cumulative distribution functions of the two distributions. "
   ]
  },
  {
   "cell_type": "code",
   "execution_count": null,
   "metadata": {
    "collapsed": false
   },
   "outputs": [],
   "source": [
    "stat, pval = stats.ks_2samp(*values_per_gender)\n",
    "pval"
   ]
  },
  {
   "cell_type": "markdown",
   "metadata": {},
   "source": [
    "Once again, the result of the test indicates that we should accept $H_0$. So we can state that the difference in the mean value between the number of months needed by women and men is not statistically significant."
   ]
  },
  {
   "cell_type": "markdown",
   "metadata": {
    "collapsed": true
   },
   "source": [
    "# Question 2 "
   ]
  },
  {
   "cell_type": "markdown",
   "metadata": {},
   "source": [
    "Get the data"
   ]
  },
  {
   "cell_type": "code",
   "execution_count": null,
   "metadata": {
    "collapsed": false
   },
   "outputs": [],
   "source": [
    "df_master =  mine_data('2007', 'M1')\n",
    "df_master['M1_year'] = float('NaN')\n",
    "df_master['M2_year'] = float('NaN')\n",
    "df_master['M3_year'] = float('NaN')\n",
    "df_master['PMAut_year'] = float('NaN')\n",
    "df_master['PMSpr_year'] = float('NaN')\n",
    "df_master['Spécialisation'] = str('NaN')\n",
    "\n",
    "for year in range(2007, 2017):\n",
    "    df_m1 = mine_data(str(year), 'M1')\n",
    "    #override only if B1 is not in the dataframe yet\n",
    "    df_master = df_master.combine_first(df_m1)\n",
    "    \n",
    "    #override the date when older semester found\n",
    "    df_m2 = mine_data(str(year), 'M2')\n",
    "    df_m3 = mine_data(str(year), 'M3')\n",
    "    df_p1 = mine_data(str(year), 'PMAut')\n",
    "    df_p2 = mine_data(str(year), 'PMSpr')\n",
    "    df_master.update(df_m2)\n",
    "    df_master.update(df_m3)\n",
    "    df_master.update(df_p1)\n",
    "    df_master.update(df_p2)"
   ]
  },
  {
   "cell_type": "code",
   "execution_count": null,
   "metadata": {
    "collapsed": false
   },
   "outputs": [],
   "source": [
    "df_master.head(10)"
   ]
  },
  {
   "cell_type": "markdown",
   "metadata": {},
   "source": [
    "Drop the ones without M1 and M2 entries"
   ]
  },
  {
   "cell_type": "code",
   "execution_count": null,
   "metadata": {
    "collapsed": true
   },
   "outputs": [],
   "source": [
    "df_m = df_master.dropna(subset=['M1_year', 'M2_year'])"
   ]
  },
  {
   "cell_type": "code",
   "execution_count": null,
   "metadata": {
    "collapsed": false
   },
   "outputs": [],
   "source": [
    "df_m.head(10)"
   ]
  },
  {
   "cell_type": "markdown",
   "metadata": {},
   "source": [
    "To compute stay:\n",
    "-if PMAut_year or PMSpr_year is not empty, then this is the last value - M1_year\n",
    "-if M3_year "
   ]
  },
  {
   "cell_type": "markdown",
   "metadata": {},
   "source": [
    "# TODO delete rows with Mineur and not M3_year"
   ]
  },
  {
   "cell_type": "code",
   "execution_count": null,
   "metadata": {
    "collapsed": false
   },
   "outputs": [],
   "source": [
    "#df_m[((df_m.Mineur != '') and (df_m.M3_year > 0)) | (df_m.Mineur == '')]"
   ]
  },
  {
   "cell_type": "code",
   "execution_count": null,
   "metadata": {
    "collapsed": false
   },
   "outputs": [],
   "source": [
    "df_m[['M1_year','M2_year','M3_year','PMAut_year','PMSpr_year']] = df_m[['M1_year','M2_year','M3_year','PMAut_year','PMSpr_year']].apply(pd.to_numeric)"
   ]
  },
  {
   "cell_type": "code",
   "execution_count": null,
   "metadata": {
    "collapsed": false
   },
   "outputs": [],
   "source": [
    "df_m"
   ]
  },
  {
   "cell_type": "code",
   "execution_count": null,
   "metadata": {
    "collapsed": true
   },
   "outputs": [],
   "source": [
    "def compute_time_master(df):\n",
    "    #if the student has done a master project \n",
    "    if (not pd.isnull(df['PMAut_year'])):\n",
    "        end = float(df['PMAut_year']) + 0.5\n",
    "    elif (not pd.isnull(df['PMSpr_year'])):\n",
    "        end = float(df['PMSpr_year']) + 1\n",
    "    elif (not pd.isnull(df['M3_year'])):\n",
    "        end = float(df['M3_year']) + 0.5\n",
    "    else:\n",
    "        end = float(df['M2_year']) + 1\n",
    "    time = 12*(float(end) - float(df['M1_year'])) - 1\n",
    "    return time"
   ]
  },
  {
   "cell_type": "code",
   "execution_count": null,
   "metadata": {
    "collapsed": false
   },
   "outputs": [],
   "source": [
    "df_m['master_months'] = df_m.apply(compute_time_master, axis=1)"
   ]
  },
  {
   "cell_type": "code",
   "execution_count": null,
   "metadata": {
    "collapsed": false
   },
   "outputs": [],
   "source": [
    "df_m.head()"
   ]
  },
  {
   "cell_type": "code",
   "execution_count": null,
   "metadata": {
    "collapsed": false
   },
   "outputs": [],
   "source": [
    "df_m[\"Civilité\"].astype('category')\n",
    "sex_grouped_master = df_m.groupby('Civilité')['master_months']\n",
    "m_years = sex_grouped_master.apply(np.average)\n",
    "m_years.to_frame(name='Months in master').unstack().unstack().plot.bar()"
   ]
  },
  {
   "cell_type": "markdown",
   "metadata": {},
   "source": [
    "Now we look at the Spécialisation"
   ]
  },
  {
   "cell_type": "code",
   "execution_count": null,
   "metadata": {
    "collapsed": false
   },
   "outputs": [],
   "source": [
    "df_spec = df_m[df_m['Spécialisation'] != '']"
   ]
  },
  {
   "cell_type": "code",
   "execution_count": null,
   "metadata": {
    "collapsed": false
   },
   "outputs": [],
   "source": [
    "df_spec.head(20)"
   ]
  },
  {
   "cell_type": "code",
   "execution_count": null,
   "metadata": {
    "collapsed": false
   },
   "outputs": [],
   "source": [
    "df_spec[\"Spécialisation\"].astype('category')\n",
    "spec_grouped_master = df_spec.groupby('Spécialisation')['master_months']\n",
    "m_spec = spec_grouped_master.apply(np.average)\n",
    "m_spec.to_frame(name='Months in master').unstack().unstack().plot.bar()\n"
   ]
  },
  {
   "cell_type": "markdown",
   "metadata": {
    "collapsed": true
   },
   "source": [
    "## Statistical significance"
   ]
  },
  {
   "cell_type": "markdown",
   "metadata": {},
   "source": [
    "Once again, we want to evaluate the statistical significance of the difference in means between different populations of our data. In the case of the master's students, we look at the pairwise difference between the general mean time spent doing the master's thesis (in months) and the time spent in each specialisation.\n",
    "\n",
    "Let's have a look at the general layout to begin with."
   ]
  },
  {
   "cell_type": "code",
   "execution_count": null,
   "metadata": {
    "collapsed": false
   },
   "outputs": [],
   "source": [
    "m_months_min = df_m.master_months.min().astype(int)\n",
    "m_months_max = df_m.master_months.max().astype(int)\n",
    "df_m.hist(column='master_months', bins=range(m_months_min, m_months_max+1, 6))\n",
    "pl.suptitle(\"Time spent completing master's degree\")\n",
    "pl.xlabel(\"Months\")\n",
    "pl.ylabel(\"Students\")"
   ]
  },
  {
   "cell_type": "markdown",
   "metadata": {},
   "source": [
    "We can do the same thing for all different specialisations, just to get an idea of the layout of the data."
   ]
  },
  {
   "cell_type": "code",
   "execution_count": null,
   "metadata": {
    "collapsed": false
   },
   "outputs": [],
   "source": [
    "df_m.hist(column='master_months', by=df_m['Spécialisation'], bins=range(m_months_min, m_months_max+1, 6))\n",
    "pl.suptitle(\"Time spent completing master's degree\")\n",
    "pl.xlabel(\"Months\")\n",
    "pl.ylabel(\"Students\")"
   ]
  },
  {
   "cell_type": "markdown",
   "metadata": {},
   "source": [
    "This doesn't tell us much, but we can already notice that for many of the specialisations, we have very little data available.\n",
    "\n",
    "### Test 1\n",
    "As for question 1, we can use the **Mann-Whitney rank test ** on each \"general-specialisation\" pair to compute the p-value. We store the result of each pairwise Mann-Whitney statistic in a dictionary. \n",
    "\n",
    "Once again, we're working with the null hypothesis $H_0$ that the mean in months spent for a master's degree of the two populations is equal.\n"
   ]
  },
  {
   "cell_type": "code",
   "execution_count": null,
   "metadata": {
    "collapsed": false
   },
   "outputs": [],
   "source": [
    "mann_whitney_res = {}\n",
    "general_m = df_m['master_months']\n",
    "for name, value, in spec_grouped_master: \n",
    "    stat, pval = stats.mannwhitneyu(general_m, value)\n",
    "    mann_whitney_res[name] = (stat, pval)"
   ]
  },
  {
   "cell_type": "markdown",
   "metadata": {},
   "source": [
    "The resulting p-values of the pairwise tests is as follows:"
   ]
  },
  {
   "cell_type": "code",
   "execution_count": null,
   "metadata": {
    "collapsed": false
   },
   "outputs": [],
   "source": [
    "for k, v in mann_whitney_res.items():\n",
    "    print(k, \"has p-value \\t\", v[1])"
   ]
  },
  {
   "cell_type": "markdown",
   "metadata": {},
   "source": [
    "Let's filter out all the specialisations which had a **p-value of less than 0.10** when compared to the general distribution of students."
   ]
  },
  {
   "cell_type": "code",
   "execution_count": null,
   "metadata": {
    "collapsed": false
   },
   "outputs": [],
   "source": [
    "P_THRESHOLD = 0.10\n",
    "\n",
    "filtered_mw_res = {k: v for k, v in mann_whitney_res.items() if v[1] >= P_THRESHOLD}\n",
    "print(\"The following specialisations have p-value over\", P_THRESHOLD)\n",
    "print(\"====================================================\")\n",
    "for k, v in filtered_mw_res.items():\n",
    "    print(k)"
   ]
  },
  {
   "cell_type": "markdown",
   "metadata": {},
   "source": [
    "So for all of the above, we fail to reject the null hypothesis $H_0$, meaning that the difference in mean is not obviously statistically significant.\n",
    "\n",
    "Let's do the same for the opposite and filter out those with a **p-value of more than 0.10**. "
   ]
  },
  {
   "cell_type": "code",
   "execution_count": null,
   "metadata": {
    "collapsed": false
   },
   "outputs": [],
   "source": [
    "filtered_mw_res = {k: v for k, v in mann_whitney_res.items() if v[1] < P_THRESHOLD}\n",
    "print(\"The following specialisations have p-value below\", P_THRESHOLD)\n",
    "print(\"====================================================\")\n",
    "for k, v in filtered_mw_res.items():\n",
    "    print(k)"
   ]
  },
  {
   "cell_type": "markdown",
   "metadata": {},
   "source": [
    "So for the above specialisations, we reject $H_0$, i.e. the mean of number of months spent for a master's degree in general and for the given specialisation is **not equal**."
   ]
  },
  {
   "cell_type": "markdown",
   "metadata": {},
   "source": [
    "### Test 2\n",
    "\n",
    "Let's run the K-S test on our population pairs again to check for inaccuracies in the Mann-Whitney rank test. "
   ]
  },
  {
   "cell_type": "code",
   "execution_count": null,
   "metadata": {
    "collapsed": true
   },
   "outputs": [],
   "source": [
    "ks_res = {}\n",
    "for name, value, in spec_grouped_master: \n",
    "    stat, pval = stats.ks_2samp(general_m, value)\n",
    "    ks_res[name] = (stat, pval)"
   ]
  },
  {
   "cell_type": "markdown",
   "metadata": {},
   "source": [
    "As before, let's check the resulting p-values for this pairwise testing."
   ]
  },
  {
   "cell_type": "code",
   "execution_count": null,
   "metadata": {
    "collapsed": false
   },
   "outputs": [],
   "source": [
    "for k, v in ks_res.items():\n",
    "    print(k, \"has p-value \\t\", v[1])"
   ]
  },
  {
   "cell_type": "markdown",
   "metadata": {},
   "source": [
    "We check which specialisations have a p-value over our defined threshold when compared to the general distribution, i.e. those where we fail to reject $H_0$."
   ]
  },
  {
   "cell_type": "code",
   "execution_count": null,
   "metadata": {
    "collapsed": false
   },
   "outputs": [],
   "source": [
    "filtered_ks_res = {k: v for k, v in ks_res.items() if v[1] >= P_THRESHOLD}\n",
    "print(\"The following specialisations have p-value over\", P_THRESHOLD)\n",
    "print(\"====================================================\")\n",
    "for k, v in filtered_ks_res.items():\n",
    "    print(k)"
   ]
  },
  {
   "cell_type": "markdown",
   "metadata": {},
   "source": [
    "And then we check which specialisations have a p-value below our defined threshold when compared to the general distribution, i.e. those for which we reject $H_0$."
   ]
  },
  {
   "cell_type": "code",
   "execution_count": null,
   "metadata": {
    "collapsed": false
   },
   "outputs": [],
   "source": [
    "filtered_ks_res = {k: v for k, v in ks_res.items() if v[1] < P_THRESHOLD}\n",
    "print(\"The following specialisations have p-value below\", P_THRESHOLD)\n",
    "print(\"====================================================\")\n",
    "for k, v in filtered_ks_res.items():\n",
    "    print(k)"
   ]
  },
  {
   "cell_type": "markdown",
   "metadata": {},
   "source": [
    "There are three specialisations which get different results for the two tests. *Foundations of Software*, *Computer Engineering - SP* and *Biocomputing*\n",
    "\n",
    "# WHAT THE HELL DAMMIT"
   ]
  }
 ],
 "metadata": {
  "anaconda-cloud": {},
  "kernelspec": {
   "display_name": "Python [Root]",
   "language": "python",
   "name": "Python [Root]"
  },
  "language_info": {
   "codemirror_mode": {
    "name": "ipython",
    "version": 3
   },
   "file_extension": ".py",
   "mimetype": "text/x-python",
   "name": "python",
   "nbconvert_exporter": "python",
   "pygments_lexer": "ipython3",
   "version": "3.5.2"
  }
 },
 "nbformat": 4,
 "nbformat_minor": 0
}
