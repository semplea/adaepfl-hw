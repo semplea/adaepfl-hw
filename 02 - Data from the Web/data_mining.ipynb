{
 "cells": [
  {
   "cell_type": "code",
   "execution_count": 320,
   "metadata": {
    "collapsed": false
   },
   "outputs": [],
   "source": [
    "from bs4 import BeautifulSoup\n",
    "%matplotlib inline\n",
    "import requests\n",
    "import pandas as pd\n",
    "import re\n",
    "import numpy as np\n",
    "import matplotlib.pyplot as plt\n",
    "import seaborn as sns\n",
    "import scipy.stats as stats\n",
    "import pylab as pl\n",
    "plt.style.available\n",
    "plt.style.use('bmh')"
   ]
  },
  {
   "cell_type": "markdown",
   "metadata": {},
   "source": [
    "# Web Scraping\n",
    "For both questions, we will first need to extract the relevant dataset from the IS-Academia website. \n",
    "The function `mine_data(year, semester)` will generate a DataFrame containing the table for the given year and semester with an additional column named `Semester_year`. The returned DataFrame is indexed by `No Sciper` and  `Nom Prénom`. \n",
    "The data is retrieved from the HTML page using BeautifulSoup. For the details, look at the comments in the `get_table(soup, year, semester)` function."
   ]
  },
  {
   "cell_type": "markdown",
   "metadata": {},
   "source": [
    "PostMan has been used to get the corresponding parameters to generate the HTTP requests."
   ]
  },
  {
   "cell_type": "code",
   "execution_count": 321,
   "metadata": {
    "collapsed": true
   },
   "outputs": [],
   "source": [
    "years = {\n",
    "\t'2007': '978181',\n",
    "\t'2008': '978187',\n",
    "\t'2009': '978195',\n",
    "\t'2010': '39486325',\n",
    "\t'2011': '123455150',\n",
    "\t'2012': '123456101',\n",
    "\t'2013': '213637754',\n",
    "\t'2014': '213637922',\n",
    "\t'2015': '213638028',\n",
    "\t'2016': '355925344'\n",
    "}\n",
    "\n",
    "semesters = {\n",
    "\t'B1': '249108',\n",
    "    'B5': '942120',\n",
    "\t'B6': '942175',\n",
    "\t'M1': '2230106',\n",
    "    'M2': '942192',\n",
    "\t'M3': '2230128',\n",
    "\t'PMAut': '249127',\n",
    "\t'PMSpr': '3781783'\n",
    "}"
   ]
  },
  {
   "cell_type": "code",
   "execution_count": 322,
   "metadata": {
    "collapsed": false
   },
   "outputs": [],
   "source": [
    "def get_url(year, semester):\n",
    "    \"\"\"Get the url corresponding to a given year and semester\"\"\"\n",
    "    y, sem = years[year], semesters[semester]\n",
    "    return 'http://isa.epfl.ch/imoniteur_ISAP/!GEDPUBLICREPORTS.html?ww_x_GPS=-1&ww_i_reportModel=133685247&ww_i_reportModelXsl=133685270&ww_x_UNITE_ACAD=249847&ww_x_PERIODE_ACAD='+ y +'&ww_x_PERIODE_PEDAGO=' + sem + '&ww_x_HIVERETE=null'\n",
    "\n",
    "def request(year, semester):\n",
    "    \"\"\"return the http request corresponding to a given year and semester\"\"\"\n",
    "    url = get_url(year, semester)\n",
    "    return requests.get(url, verify=False)\n",
    "\n",
    "def get_soup(year, semester):\n",
    "    \"\"\"return the data soup (BeautifulSoup) corresponding to a given year and semester\"\"\"\n",
    "    r = request(year, semester)\n",
    "    data = r.text\n",
    "    return BeautifulSoup(data,\"lxml\")\n",
    "\n",
    "\n",
    "def get_table(soup, year, semester):\n",
    "    \"\"\"Transform the data soup into a dict containing the data frame\n",
    "    The dataframe contains all the columns returned by the html page + the index + column \"Semester_year\"\n",
    "    \"\"\"\n",
    "    table = soup.html.body.table ##get to the table\n",
    "    tc = table.children ##every rows of the table\n",
    "    first_row = next(tc, None)\n",
    "    attrs = first_row.text.split(',') ##extract the attributes from the header row\n",
    "    nb_student = int(attrs[2].split(\"(\")[1].split(\" \")[0])\n",
    "    if nb_student != 0: ##next row should contain columns info (except if there is no student)\n",
    "        next_row = next(tc, None) ##directly iterate our iterator the next row\n",
    "        columns = list(map(lambda l: l.text, next_row.children)) ##transform the children into a list of the inner text of each children\n",
    "        df = pd.DataFrame(columns=columns) ##create the data frame with the columns from this list\n",
    "\n",
    "        for c in tc:\n",
    "            t = list(map(lambda l: l.text, c.children))[:-1] ##transform the children into a list of the inner text of each children (corresponding here to each column)\n",
    "            df.loc[df.shape[0]] = t ##append the data to the last dataframe created\n",
    "\n",
    "        sciper_c = columns[-1]\n",
    "        df = df.set_index([sciper_c, 'Nom Prénom'])\n",
    "        df[semester+'_year'] = year \n",
    "    \n",
    "        return df\n",
    "    return pd.DataFrame()\n",
    "\n",
    "def mine_data(year, semester):\n",
    "    soup = get_soup(year, semester) ##get the soup\n",
    "    return get_table(soup, year, semester) ##process the soup\n"
   ]
  },
  {
   "cell_type": "markdown",
   "metadata": {},
   "source": [
    "# Question 1\n",
    "### Get the combined DataFrame of all students from 2007 until 2017\n",
    "We will get the data of the first, fifth and sixth semester for each year (the fifth semester is included because students can finish their bachelor's degree in an autumn semester, which would then be entered as the fifth one again). The DataFrames are merged whilst retrieving each year in the following way: the `B1_year` entry is overridden only if it is not in the DataFrame yet. The `B5_year` and `B6_year` are overwritten every time a new value is found in a more recent year. In fact, to compute the time spent by a student during its Bachelor cycle, we will look at its last entry (either B5 or B6) and its first entry (B1)."
   ]
  },
  {
   "cell_type": "code",
   "execution_count": 323,
   "metadata": {
    "collapsed": false,
    "scrolled": true
   },
   "outputs": [],
   "source": [
    "df_bachelor =  mine_data('2007', 'B1') # Just to instantiate the first DataFrame\n",
    "df_bachelor['B5_year'] = float('NaN')\n",
    "df_bachelor['B6_year'] = float('NaN') # Because nan can only be stored in floating points\n",
    "\n",
    "for year in range(2007, 2017):\n",
    "    df_b1 = mine_data(str(year), 'B1')\n",
    "    #override only if B1 entry is not in the dataframe yet\n",
    "    df_bachelor = df_bachelor.combine_first(df_b1)\n",
    "    \n",
    "    #override the date when newer semester found\n",
    "    df_b6 = mine_data(str(year), 'B6')\n",
    "    df_b5 = mine_data(str(year), 'B5')\n",
    "    df_bachelor.update(df_b6)\n",
    "    df_bachelor.update(df_b5)"
   ]
  },
  {
   "cell_type": "code",
   "execution_count": 324,
   "metadata": {
    "collapsed": false
   },
   "outputs": [
    {
     "data": {
      "text/html": [
       "<div>\n",
       "<table border=\"1\" class=\"dataframe\">\n",
       "  <thead>\n",
       "    <tr style=\"text-align: right;\">\n",
       "      <th></th>\n",
       "      <th></th>\n",
       "      <th>B1_year</th>\n",
       "      <th>B5_year</th>\n",
       "      <th>B6_year</th>\n",
       "      <th>Civilité</th>\n",
       "      <th>Ecole Echange</th>\n",
       "      <th>Filière opt.</th>\n",
       "      <th>Mineur</th>\n",
       "      <th>Orientation Bachelor</th>\n",
       "      <th>Orientation Master</th>\n",
       "      <th>Spécialisation</th>\n",
       "      <th>Statut</th>\n",
       "      <th>Type Echange</th>\n",
       "    </tr>\n",
       "    <tr>\n",
       "      <th>No Sciper</th>\n",
       "      <th>Nom Prénom</th>\n",
       "      <th></th>\n",
       "      <th></th>\n",
       "      <th></th>\n",
       "      <th></th>\n",
       "      <th></th>\n",
       "      <th></th>\n",
       "      <th></th>\n",
       "      <th></th>\n",
       "      <th></th>\n",
       "      <th></th>\n",
       "      <th></th>\n",
       "      <th></th>\n",
       "    </tr>\n",
       "  </thead>\n",
       "  <tbody>\n",
       "    <tr>\n",
       "      <th>147008</th>\n",
       "      <th>Good Xavier</th>\n",
       "      <td>2008</td>\n",
       "      <td>2010</td>\n",
       "      <td>2010</td>\n",
       "      <td>Monsieur</td>\n",
       "      <td>Carnegie Mellon University Pittsburgh</td>\n",
       "      <td></td>\n",
       "      <td></td>\n",
       "      <td></td>\n",
       "      <td></td>\n",
       "      <td></td>\n",
       "      <td>Congé</td>\n",
       "      <td>Bilatéral</td>\n",
       "    </tr>\n",
       "    <tr>\n",
       "      <th>161212</th>\n",
       "      <th>Tamesna Rachid</th>\n",
       "      <td>2009</td>\n",
       "      <td>NaN</td>\n",
       "      <td>NaN</td>\n",
       "      <td>Monsieur</td>\n",
       "      <td></td>\n",
       "      <td></td>\n",
       "      <td></td>\n",
       "      <td></td>\n",
       "      <td></td>\n",
       "      <td></td>\n",
       "      <td>Présent</td>\n",
       "      <td></td>\n",
       "    </tr>\n",
       "    <tr>\n",
       "      <th>169569</th>\n",
       "      <th>Arévalo Christian</th>\n",
       "      <td>2007</td>\n",
       "      <td>2009</td>\n",
       "      <td>2009</td>\n",
       "      <td>Monsieur</td>\n",
       "      <td></td>\n",
       "      <td></td>\n",
       "      <td></td>\n",
       "      <td></td>\n",
       "      <td></td>\n",
       "      <td></td>\n",
       "      <td>Présent</td>\n",
       "      <td></td>\n",
       "    </tr>\n",
       "    <tr>\n",
       "      <th>169731</th>\n",
       "      <th>Knecht Mathieu</th>\n",
       "      <td>2007</td>\n",
       "      <td>2010</td>\n",
       "      <td>2010</td>\n",
       "      <td>Monsieur</td>\n",
       "      <td></td>\n",
       "      <td></td>\n",
       "      <td></td>\n",
       "      <td></td>\n",
       "      <td></td>\n",
       "      <td></td>\n",
       "      <td>Congé</td>\n",
       "      <td></td>\n",
       "    </tr>\n",
       "    <tr>\n",
       "      <th>169795</th>\n",
       "      <th>Scheiben Pascal</th>\n",
       "      <td>2007</td>\n",
       "      <td>2011</td>\n",
       "      <td>2010</td>\n",
       "      <td>Monsieur</td>\n",
       "      <td></td>\n",
       "      <td></td>\n",
       "      <td></td>\n",
       "      <td></td>\n",
       "      <td></td>\n",
       "      <td></td>\n",
       "      <td>Présent</td>\n",
       "      <td></td>\n",
       "    </tr>\n",
       "    <tr>\n",
       "      <th>170509</th>\n",
       "      <th>Grall Jean-Louis</th>\n",
       "      <td>2007</td>\n",
       "      <td>NaN</td>\n",
       "      <td>NaN</td>\n",
       "      <td>Monsieur</td>\n",
       "      <td></td>\n",
       "      <td></td>\n",
       "      <td></td>\n",
       "      <td></td>\n",
       "      <td></td>\n",
       "      <td></td>\n",
       "      <td>Présent</td>\n",
       "      <td></td>\n",
       "    </tr>\n",
       "    <tr>\n",
       "      <th>171195</th>\n",
       "      <th>Richter Arnaud</th>\n",
       "      <td>2007</td>\n",
       "      <td>2009</td>\n",
       "      <td>2009</td>\n",
       "      <td>Monsieur</td>\n",
       "      <td></td>\n",
       "      <td></td>\n",
       "      <td></td>\n",
       "      <td></td>\n",
       "      <td></td>\n",
       "      <td></td>\n",
       "      <td>Présent</td>\n",
       "      <td></td>\n",
       "    </tr>\n",
       "    <tr>\n",
       "      <th>171568</th>\n",
       "      <th>Villavicencio Omar</th>\n",
       "      <td>2007</td>\n",
       "      <td>NaN</td>\n",
       "      <td>NaN</td>\n",
       "      <td>Monsieur</td>\n",
       "      <td></td>\n",
       "      <td></td>\n",
       "      <td></td>\n",
       "      <td></td>\n",
       "      <td></td>\n",
       "      <td></td>\n",
       "      <td>Présent</td>\n",
       "      <td></td>\n",
       "    </tr>\n",
       "    <tr>\n",
       "      <th>171619</th>\n",
       "      <th>Buchschacher Nicolas</th>\n",
       "      <td>2007</td>\n",
       "      <td>2009</td>\n",
       "      <td>2009</td>\n",
       "      <td>Monsieur</td>\n",
       "      <td></td>\n",
       "      <td></td>\n",
       "      <td></td>\n",
       "      <td></td>\n",
       "      <td></td>\n",
       "      <td></td>\n",
       "      <td>Présent</td>\n",
       "      <td></td>\n",
       "    </tr>\n",
       "    <tr>\n",
       "      <th>173882</th>\n",
       "      <th>Dettwiler Fabrice</th>\n",
       "      <td>2007</td>\n",
       "      <td>2009</td>\n",
       "      <td>NaN</td>\n",
       "      <td>Monsieur</td>\n",
       "      <td></td>\n",
       "      <td></td>\n",
       "      <td></td>\n",
       "      <td></td>\n",
       "      <td></td>\n",
       "      <td></td>\n",
       "      <td>Présent</td>\n",
       "      <td></td>\n",
       "    </tr>\n",
       "  </tbody>\n",
       "</table>\n",
       "</div>"
      ],
      "text/plain": [
       "                               B1_year B5_year B6_year  Civilité  \\\n",
       "No Sciper Nom Prénom                                               \n",
       "147008    Good Xavier             2008    2010    2010  Monsieur   \n",
       "161212    Tamesna Rachid          2009     NaN     NaN  Monsieur   \n",
       "169569    Arévalo Christian       2007    2009    2009  Monsieur   \n",
       "169731    Knecht Mathieu          2007    2010    2010  Monsieur   \n",
       "169795    Scheiben Pascal         2007    2011    2010  Monsieur   \n",
       "170509    Grall Jean-Louis        2007     NaN     NaN  Monsieur   \n",
       "171195    Richter Arnaud          2007    2009    2009  Monsieur   \n",
       "171568    Villavicencio Omar      2007     NaN     NaN  Monsieur   \n",
       "171619    Buchschacher Nicolas    2007    2009    2009  Monsieur   \n",
       "173882    Dettwiler Fabrice       2007    2009     NaN  Monsieur   \n",
       "\n",
       "                                                        Ecole Echange  \\\n",
       "No Sciper Nom Prénom                                                    \n",
       "147008    Good Xavier           Carnegie Mellon University Pittsburgh   \n",
       "161212    Tamesna Rachid                                                \n",
       "169569    Arévalo Christian                                             \n",
       "169731    Knecht Mathieu                                                \n",
       "169795    Scheiben Pascal                                               \n",
       "170509    Grall Jean-Louis                                              \n",
       "171195    Richter Arnaud                                                \n",
       "171568    Villavicencio Omar                                            \n",
       "171619    Buchschacher Nicolas                                          \n",
       "173882    Dettwiler Fabrice                                             \n",
       "\n",
       "                               Filière opt. Mineur Orientation Bachelor  \\\n",
       "No Sciper Nom Prénom                                                      \n",
       "147008    Good Xavier                                                     \n",
       "161212    Tamesna Rachid                                                  \n",
       "169569    Arévalo Christian                                               \n",
       "169731    Knecht Mathieu                                                  \n",
       "169795    Scheiben Pascal                                                 \n",
       "170509    Grall Jean-Louis                                                \n",
       "171195    Richter Arnaud                                                  \n",
       "171568    Villavicencio Omar                                              \n",
       "171619    Buchschacher Nicolas                                            \n",
       "173882    Dettwiler Fabrice                                               \n",
       "\n",
       "                               Orientation Master Spécialisation   Statut  \\\n",
       "No Sciper Nom Prénom                                                        \n",
       "147008    Good Xavier                                               Congé   \n",
       "161212    Tamesna Rachid                                          Présent   \n",
       "169569    Arévalo Christian                                       Présent   \n",
       "169731    Knecht Mathieu                                            Congé   \n",
       "169795    Scheiben Pascal                                         Présent   \n",
       "170509    Grall Jean-Louis                                        Présent   \n",
       "171195    Richter Arnaud                                          Présent   \n",
       "171568    Villavicencio Omar                                      Présent   \n",
       "171619    Buchschacher Nicolas                                    Présent   \n",
       "173882    Dettwiler Fabrice                                       Présent   \n",
       "\n",
       "                               Type Echange  \n",
       "No Sciper Nom Prénom                         \n",
       "147008    Good Xavier             Bilatéral  \n",
       "161212    Tamesna Rachid                     \n",
       "169569    Arévalo Christian                  \n",
       "169731    Knecht Mathieu                     \n",
       "169795    Scheiben Pascal                    \n",
       "170509    Grall Jean-Louis                   \n",
       "171195    Richter Arnaud                     \n",
       "171568    Villavicencio Omar                 \n",
       "171619    Buchschacher Nicolas               \n",
       "173882    Dettwiler Fabrice                  "
      ]
     },
     "execution_count": 324,
     "metadata": {},
     "output_type": "execute_result"
    }
   ],
   "source": [
    "df_bachelor.head(10)"
   ]
  },
  {
   "cell_type": "markdown",
   "metadata": {},
   "source": [
    "### Keep students who completed  their Bachelor Degree\n",
    "We are interested in the students who have completed their Bachelor degree, so they need to have an entry in B1 and an entry in B6."
   ]
  },
  {
   "cell_type": "code",
   "execution_count": 325,
   "metadata": {
    "collapsed": false,
    "scrolled": true
   },
   "outputs": [
    {
     "data": {
      "text/html": [
       "<div>\n",
       "<table border=\"1\" class=\"dataframe\">\n",
       "  <thead>\n",
       "    <tr style=\"text-align: right;\">\n",
       "      <th></th>\n",
       "      <th></th>\n",
       "      <th>B1_year</th>\n",
       "      <th>B5_year</th>\n",
       "      <th>B6_year</th>\n",
       "      <th>Civilité</th>\n",
       "      <th>Ecole Echange</th>\n",
       "      <th>Filière opt.</th>\n",
       "      <th>Mineur</th>\n",
       "      <th>Orientation Bachelor</th>\n",
       "      <th>Orientation Master</th>\n",
       "      <th>Spécialisation</th>\n",
       "      <th>Statut</th>\n",
       "      <th>Type Echange</th>\n",
       "    </tr>\n",
       "    <tr>\n",
       "      <th>No Sciper</th>\n",
       "      <th>Nom Prénom</th>\n",
       "      <th></th>\n",
       "      <th></th>\n",
       "      <th></th>\n",
       "      <th></th>\n",
       "      <th></th>\n",
       "      <th></th>\n",
       "      <th></th>\n",
       "      <th></th>\n",
       "      <th></th>\n",
       "      <th></th>\n",
       "      <th></th>\n",
       "      <th></th>\n",
       "    </tr>\n",
       "  </thead>\n",
       "  <tbody>\n",
       "    <tr>\n",
       "      <th>147008</th>\n",
       "      <th>Good Xavier</th>\n",
       "      <td>2008</td>\n",
       "      <td>2010</td>\n",
       "      <td>2010</td>\n",
       "      <td>Monsieur</td>\n",
       "      <td>Carnegie Mellon University Pittsburgh</td>\n",
       "      <td></td>\n",
       "      <td></td>\n",
       "      <td></td>\n",
       "      <td></td>\n",
       "      <td></td>\n",
       "      <td>Congé</td>\n",
       "      <td>Bilatéral</td>\n",
       "    </tr>\n",
       "    <tr>\n",
       "      <th>169569</th>\n",
       "      <th>Arévalo Christian</th>\n",
       "      <td>2007</td>\n",
       "      <td>2009</td>\n",
       "      <td>2009</td>\n",
       "      <td>Monsieur</td>\n",
       "      <td></td>\n",
       "      <td></td>\n",
       "      <td></td>\n",
       "      <td></td>\n",
       "      <td></td>\n",
       "      <td></td>\n",
       "      <td>Présent</td>\n",
       "      <td></td>\n",
       "    </tr>\n",
       "    <tr>\n",
       "      <th>169731</th>\n",
       "      <th>Knecht Mathieu</th>\n",
       "      <td>2007</td>\n",
       "      <td>2010</td>\n",
       "      <td>2010</td>\n",
       "      <td>Monsieur</td>\n",
       "      <td></td>\n",
       "      <td></td>\n",
       "      <td></td>\n",
       "      <td></td>\n",
       "      <td></td>\n",
       "      <td></td>\n",
       "      <td>Congé</td>\n",
       "      <td></td>\n",
       "    </tr>\n",
       "    <tr>\n",
       "      <th>169795</th>\n",
       "      <th>Scheiben Pascal</th>\n",
       "      <td>2007</td>\n",
       "      <td>2011</td>\n",
       "      <td>2010</td>\n",
       "      <td>Monsieur</td>\n",
       "      <td></td>\n",
       "      <td></td>\n",
       "      <td></td>\n",
       "      <td></td>\n",
       "      <td></td>\n",
       "      <td></td>\n",
       "      <td>Présent</td>\n",
       "      <td></td>\n",
       "    </tr>\n",
       "    <tr>\n",
       "      <th>171195</th>\n",
       "      <th>Richter Arnaud</th>\n",
       "      <td>2007</td>\n",
       "      <td>2009</td>\n",
       "      <td>2009</td>\n",
       "      <td>Monsieur</td>\n",
       "      <td></td>\n",
       "      <td></td>\n",
       "      <td></td>\n",
       "      <td></td>\n",
       "      <td></td>\n",
       "      <td></td>\n",
       "      <td>Présent</td>\n",
       "      <td></td>\n",
       "    </tr>\n",
       "    <tr>\n",
       "      <th>171619</th>\n",
       "      <th>Buchschacher Nicolas</th>\n",
       "      <td>2007</td>\n",
       "      <td>2009</td>\n",
       "      <td>2009</td>\n",
       "      <td>Monsieur</td>\n",
       "      <td></td>\n",
       "      <td></td>\n",
       "      <td></td>\n",
       "      <td></td>\n",
       "      <td></td>\n",
       "      <td></td>\n",
       "      <td>Présent</td>\n",
       "      <td></td>\n",
       "    </tr>\n",
       "    <tr>\n",
       "      <th>174905</th>\n",
       "      <th>Aubelle Flavien</th>\n",
       "      <td>2007</td>\n",
       "      <td>2011</td>\n",
       "      <td>2011</td>\n",
       "      <td>Monsieur</td>\n",
       "      <td></td>\n",
       "      <td></td>\n",
       "      <td></td>\n",
       "      <td></td>\n",
       "      <td></td>\n",
       "      <td></td>\n",
       "      <td>Présent</td>\n",
       "      <td></td>\n",
       "    </tr>\n",
       "    <tr>\n",
       "      <th>175190</th>\n",
       "      <th>Hanser Valérian</th>\n",
       "      <td>2007</td>\n",
       "      <td>2010</td>\n",
       "      <td>2009</td>\n",
       "      <td>Monsieur</td>\n",
       "      <td></td>\n",
       "      <td></td>\n",
       "      <td></td>\n",
       "      <td></td>\n",
       "      <td></td>\n",
       "      <td></td>\n",
       "      <td>Présent</td>\n",
       "      <td></td>\n",
       "    </tr>\n",
       "    <tr>\n",
       "      <th>175280</th>\n",
       "      <th>Uberti Quentin</th>\n",
       "      <td>2007</td>\n",
       "      <td>2010</td>\n",
       "      <td>2010</td>\n",
       "      <td>Monsieur</td>\n",
       "      <td></td>\n",
       "      <td></td>\n",
       "      <td></td>\n",
       "      <td></td>\n",
       "      <td></td>\n",
       "      <td></td>\n",
       "      <td>Présent</td>\n",
       "      <td></td>\n",
       "    </tr>\n",
       "    <tr>\n",
       "      <th>175379</th>\n",
       "      <th>Gremion Sébastien</th>\n",
       "      <td>2007</td>\n",
       "      <td>2010</td>\n",
       "      <td>2010</td>\n",
       "      <td>Monsieur</td>\n",
       "      <td></td>\n",
       "      <td></td>\n",
       "      <td></td>\n",
       "      <td></td>\n",
       "      <td></td>\n",
       "      <td></td>\n",
       "      <td>Présent</td>\n",
       "      <td></td>\n",
       "    </tr>\n",
       "  </tbody>\n",
       "</table>\n",
       "</div>"
      ],
      "text/plain": [
       "                               B1_year B5_year B6_year  Civilité  \\\n",
       "No Sciper Nom Prénom                                               \n",
       "147008    Good Xavier             2008    2010    2010  Monsieur   \n",
       "169569    Arévalo Christian       2007    2009    2009  Monsieur   \n",
       "169731    Knecht Mathieu          2007    2010    2010  Monsieur   \n",
       "169795    Scheiben Pascal         2007    2011    2010  Monsieur   \n",
       "171195    Richter Arnaud          2007    2009    2009  Monsieur   \n",
       "171619    Buchschacher Nicolas    2007    2009    2009  Monsieur   \n",
       "174905    Aubelle Flavien         2007    2011    2011  Monsieur   \n",
       "175190    Hanser Valérian         2007    2010    2009  Monsieur   \n",
       "175280    Uberti Quentin          2007    2010    2010  Monsieur   \n",
       "175379    Gremion Sébastien       2007    2010    2010  Monsieur   \n",
       "\n",
       "                                                        Ecole Echange  \\\n",
       "No Sciper Nom Prénom                                                    \n",
       "147008    Good Xavier           Carnegie Mellon University Pittsburgh   \n",
       "169569    Arévalo Christian                                             \n",
       "169731    Knecht Mathieu                                                \n",
       "169795    Scheiben Pascal                                               \n",
       "171195    Richter Arnaud                                                \n",
       "171619    Buchschacher Nicolas                                          \n",
       "174905    Aubelle Flavien                                               \n",
       "175190    Hanser Valérian                                               \n",
       "175280    Uberti Quentin                                                \n",
       "175379    Gremion Sébastien                                             \n",
       "\n",
       "                               Filière opt. Mineur Orientation Bachelor  \\\n",
       "No Sciper Nom Prénom                                                      \n",
       "147008    Good Xavier                                                     \n",
       "169569    Arévalo Christian                                               \n",
       "169731    Knecht Mathieu                                                  \n",
       "169795    Scheiben Pascal                                                 \n",
       "171195    Richter Arnaud                                                  \n",
       "171619    Buchschacher Nicolas                                            \n",
       "174905    Aubelle Flavien                                                 \n",
       "175190    Hanser Valérian                                                 \n",
       "175280    Uberti Quentin                                                  \n",
       "175379    Gremion Sébastien                                               \n",
       "\n",
       "                               Orientation Master Spécialisation   Statut  \\\n",
       "No Sciper Nom Prénom                                                        \n",
       "147008    Good Xavier                                               Congé   \n",
       "169569    Arévalo Christian                                       Présent   \n",
       "169731    Knecht Mathieu                                            Congé   \n",
       "169795    Scheiben Pascal                                         Présent   \n",
       "171195    Richter Arnaud                                          Présent   \n",
       "171619    Buchschacher Nicolas                                    Présent   \n",
       "174905    Aubelle Flavien                                         Présent   \n",
       "175190    Hanser Valérian                                         Présent   \n",
       "175280    Uberti Quentin                                          Présent   \n",
       "175379    Gremion Sébastien                                       Présent   \n",
       "\n",
       "                               Type Echange  \n",
       "No Sciper Nom Prénom                         \n",
       "147008    Good Xavier             Bilatéral  \n",
       "169569    Arévalo Christian                  \n",
       "169731    Knecht Mathieu                     \n",
       "169795    Scheiben Pascal                    \n",
       "171195    Richter Arnaud                     \n",
       "171619    Buchschacher Nicolas               \n",
       "174905    Aubelle Flavien                    \n",
       "175190    Hanser Valérian                    \n",
       "175280    Uberti Quentin                     \n",
       "175379    Gremion Sébastien                  "
      ]
     },
     "execution_count": 325,
     "metadata": {},
     "output_type": "execute_result"
    }
   ],
   "source": [
    "df_bachelor = df_bachelor.dropna(subset=['B1_year', 'B6_year'])\n",
    "df_bachelor.head(10)"
   ]
  },
  {
   "cell_type": "markdown",
   "metadata": {},
   "source": [
    "Bachelor 6 is actually in the spring semester so one year after"
   ]
  },
  {
   "cell_type": "code",
   "execution_count": 326,
   "metadata": {
    "collapsed": false
   },
   "outputs": [],
   "source": [
    "df_bachelor[['B6_year']] = df_bachelor[['B6_year']].apply(pd.to_numeric)\n",
    "df_bachelor['B6_year'] = df_bachelor['B6_year'] + 1"
   ]
  },
  {
   "cell_type": "code",
   "execution_count": 327,
   "metadata": {
    "collapsed": false
   },
   "outputs": [
    {
     "data": {
      "text/html": [
       "<div>\n",
       "<table border=\"1\" class=\"dataframe\">\n",
       "  <thead>\n",
       "    <tr style=\"text-align: right;\">\n",
       "      <th></th>\n",
       "      <th></th>\n",
       "      <th>B1_year</th>\n",
       "      <th>B5_year</th>\n",
       "      <th>B6_year</th>\n",
       "      <th>Civilité</th>\n",
       "      <th>Ecole Echange</th>\n",
       "      <th>Filière opt.</th>\n",
       "      <th>Mineur</th>\n",
       "      <th>Orientation Bachelor</th>\n",
       "      <th>Orientation Master</th>\n",
       "      <th>Spécialisation</th>\n",
       "      <th>Statut</th>\n",
       "      <th>Type Echange</th>\n",
       "    </tr>\n",
       "    <tr>\n",
       "      <th>No Sciper</th>\n",
       "      <th>Nom Prénom</th>\n",
       "      <th></th>\n",
       "      <th></th>\n",
       "      <th></th>\n",
       "      <th></th>\n",
       "      <th></th>\n",
       "      <th></th>\n",
       "      <th></th>\n",
       "      <th></th>\n",
       "      <th></th>\n",
       "      <th></th>\n",
       "      <th></th>\n",
       "      <th></th>\n",
       "    </tr>\n",
       "  </thead>\n",
       "  <tbody>\n",
       "    <tr>\n",
       "      <th>147008</th>\n",
       "      <th>Good Xavier</th>\n",
       "      <td>2008</td>\n",
       "      <td>2010</td>\n",
       "      <td>2011</td>\n",
       "      <td>Monsieur</td>\n",
       "      <td>Carnegie Mellon University Pittsburgh</td>\n",
       "      <td></td>\n",
       "      <td></td>\n",
       "      <td></td>\n",
       "      <td></td>\n",
       "      <td></td>\n",
       "      <td>Congé</td>\n",
       "      <td>Bilatéral</td>\n",
       "    </tr>\n",
       "    <tr>\n",
       "      <th>169569</th>\n",
       "      <th>Arévalo Christian</th>\n",
       "      <td>2007</td>\n",
       "      <td>2009</td>\n",
       "      <td>2010</td>\n",
       "      <td>Monsieur</td>\n",
       "      <td></td>\n",
       "      <td></td>\n",
       "      <td></td>\n",
       "      <td></td>\n",
       "      <td></td>\n",
       "      <td></td>\n",
       "      <td>Présent</td>\n",
       "      <td></td>\n",
       "    </tr>\n",
       "    <tr>\n",
       "      <th>169731</th>\n",
       "      <th>Knecht Mathieu</th>\n",
       "      <td>2007</td>\n",
       "      <td>2010</td>\n",
       "      <td>2011</td>\n",
       "      <td>Monsieur</td>\n",
       "      <td></td>\n",
       "      <td></td>\n",
       "      <td></td>\n",
       "      <td></td>\n",
       "      <td></td>\n",
       "      <td></td>\n",
       "      <td>Congé</td>\n",
       "      <td></td>\n",
       "    </tr>\n",
       "    <tr>\n",
       "      <th>169795</th>\n",
       "      <th>Scheiben Pascal</th>\n",
       "      <td>2007</td>\n",
       "      <td>2011</td>\n",
       "      <td>2011</td>\n",
       "      <td>Monsieur</td>\n",
       "      <td></td>\n",
       "      <td></td>\n",
       "      <td></td>\n",
       "      <td></td>\n",
       "      <td></td>\n",
       "      <td></td>\n",
       "      <td>Présent</td>\n",
       "      <td></td>\n",
       "    </tr>\n",
       "    <tr>\n",
       "      <th>171195</th>\n",
       "      <th>Richter Arnaud</th>\n",
       "      <td>2007</td>\n",
       "      <td>2009</td>\n",
       "      <td>2010</td>\n",
       "      <td>Monsieur</td>\n",
       "      <td></td>\n",
       "      <td></td>\n",
       "      <td></td>\n",
       "      <td></td>\n",
       "      <td></td>\n",
       "      <td></td>\n",
       "      <td>Présent</td>\n",
       "      <td></td>\n",
       "    </tr>\n",
       "    <tr>\n",
       "      <th>171619</th>\n",
       "      <th>Buchschacher Nicolas</th>\n",
       "      <td>2007</td>\n",
       "      <td>2009</td>\n",
       "      <td>2010</td>\n",
       "      <td>Monsieur</td>\n",
       "      <td></td>\n",
       "      <td></td>\n",
       "      <td></td>\n",
       "      <td></td>\n",
       "      <td></td>\n",
       "      <td></td>\n",
       "      <td>Présent</td>\n",
       "      <td></td>\n",
       "    </tr>\n",
       "    <tr>\n",
       "      <th>174905</th>\n",
       "      <th>Aubelle Flavien</th>\n",
       "      <td>2007</td>\n",
       "      <td>2011</td>\n",
       "      <td>2012</td>\n",
       "      <td>Monsieur</td>\n",
       "      <td></td>\n",
       "      <td></td>\n",
       "      <td></td>\n",
       "      <td></td>\n",
       "      <td></td>\n",
       "      <td></td>\n",
       "      <td>Présent</td>\n",
       "      <td></td>\n",
       "    </tr>\n",
       "    <tr>\n",
       "      <th>175190</th>\n",
       "      <th>Hanser Valérian</th>\n",
       "      <td>2007</td>\n",
       "      <td>2010</td>\n",
       "      <td>2010</td>\n",
       "      <td>Monsieur</td>\n",
       "      <td></td>\n",
       "      <td></td>\n",
       "      <td></td>\n",
       "      <td></td>\n",
       "      <td></td>\n",
       "      <td></td>\n",
       "      <td>Présent</td>\n",
       "      <td></td>\n",
       "    </tr>\n",
       "    <tr>\n",
       "      <th>175280</th>\n",
       "      <th>Uberti Quentin</th>\n",
       "      <td>2007</td>\n",
       "      <td>2010</td>\n",
       "      <td>2011</td>\n",
       "      <td>Monsieur</td>\n",
       "      <td></td>\n",
       "      <td></td>\n",
       "      <td></td>\n",
       "      <td></td>\n",
       "      <td></td>\n",
       "      <td></td>\n",
       "      <td>Présent</td>\n",
       "      <td></td>\n",
       "    </tr>\n",
       "    <tr>\n",
       "      <th>175379</th>\n",
       "      <th>Gremion Sébastien</th>\n",
       "      <td>2007</td>\n",
       "      <td>2010</td>\n",
       "      <td>2011</td>\n",
       "      <td>Monsieur</td>\n",
       "      <td></td>\n",
       "      <td></td>\n",
       "      <td></td>\n",
       "      <td></td>\n",
       "      <td></td>\n",
       "      <td></td>\n",
       "      <td>Présent</td>\n",
       "      <td></td>\n",
       "    </tr>\n",
       "  </tbody>\n",
       "</table>\n",
       "</div>"
      ],
      "text/plain": [
       "                               B1_year B5_year  B6_year  Civilité  \\\n",
       "No Sciper Nom Prénom                                                \n",
       "147008    Good Xavier             2008    2010     2011  Monsieur   \n",
       "169569    Arévalo Christian       2007    2009     2010  Monsieur   \n",
       "169731    Knecht Mathieu          2007    2010     2011  Monsieur   \n",
       "169795    Scheiben Pascal         2007    2011     2011  Monsieur   \n",
       "171195    Richter Arnaud          2007    2009     2010  Monsieur   \n",
       "171619    Buchschacher Nicolas    2007    2009     2010  Monsieur   \n",
       "174905    Aubelle Flavien         2007    2011     2012  Monsieur   \n",
       "175190    Hanser Valérian         2007    2010     2010  Monsieur   \n",
       "175280    Uberti Quentin          2007    2010     2011  Monsieur   \n",
       "175379    Gremion Sébastien       2007    2010     2011  Monsieur   \n",
       "\n",
       "                                                        Ecole Echange  \\\n",
       "No Sciper Nom Prénom                                                    \n",
       "147008    Good Xavier           Carnegie Mellon University Pittsburgh   \n",
       "169569    Arévalo Christian                                             \n",
       "169731    Knecht Mathieu                                                \n",
       "169795    Scheiben Pascal                                               \n",
       "171195    Richter Arnaud                                                \n",
       "171619    Buchschacher Nicolas                                          \n",
       "174905    Aubelle Flavien                                               \n",
       "175190    Hanser Valérian                                               \n",
       "175280    Uberti Quentin                                                \n",
       "175379    Gremion Sébastien                                             \n",
       "\n",
       "                               Filière opt. Mineur Orientation Bachelor  \\\n",
       "No Sciper Nom Prénom                                                      \n",
       "147008    Good Xavier                                                     \n",
       "169569    Arévalo Christian                                               \n",
       "169731    Knecht Mathieu                                                  \n",
       "169795    Scheiben Pascal                                                 \n",
       "171195    Richter Arnaud                                                  \n",
       "171619    Buchschacher Nicolas                                            \n",
       "174905    Aubelle Flavien                                                 \n",
       "175190    Hanser Valérian                                                 \n",
       "175280    Uberti Quentin                                                  \n",
       "175379    Gremion Sébastien                                               \n",
       "\n",
       "                               Orientation Master Spécialisation   Statut  \\\n",
       "No Sciper Nom Prénom                                                        \n",
       "147008    Good Xavier                                               Congé   \n",
       "169569    Arévalo Christian                                       Présent   \n",
       "169731    Knecht Mathieu                                            Congé   \n",
       "169795    Scheiben Pascal                                         Présent   \n",
       "171195    Richter Arnaud                                          Présent   \n",
       "171619    Buchschacher Nicolas                                    Présent   \n",
       "174905    Aubelle Flavien                                         Présent   \n",
       "175190    Hanser Valérian                                         Présent   \n",
       "175280    Uberti Quentin                                          Présent   \n",
       "175379    Gremion Sébastien                                       Présent   \n",
       "\n",
       "                               Type Echange  \n",
       "No Sciper Nom Prénom                         \n",
       "147008    Good Xavier             Bilatéral  \n",
       "169569    Arévalo Christian                  \n",
       "169731    Knecht Mathieu                     \n",
       "169795    Scheiben Pascal                    \n",
       "171195    Richter Arnaud                     \n",
       "171619    Buchschacher Nicolas               \n",
       "174905    Aubelle Flavien                    \n",
       "175190    Hanser Valérian                    \n",
       "175280    Uberti Quentin                     \n",
       "175379    Gremion Sébastien                  "
      ]
     },
     "execution_count": 327,
     "metadata": {},
     "output_type": "execute_result"
    }
   ],
   "source": [
    "df_bachelor.head(10)"
   ]
  },
  {
   "cell_type": "markdown",
   "metadata": {},
   "source": [
    "### Compute the number of months spent by a student during its Bachelor degree\n",
    "We add the cell `bachelor_months` to the DataFrame.\n"
   ]
  },
  {
   "cell_type": "code",
   "execution_count": 328,
   "metadata": {
    "collapsed": false
   },
   "outputs": [],
   "source": [
    "def compute_time(df):\n",
    "    #if the student finishes in the fifth semester, it has done six more months \n",
    "    if float(df['B5_year']) >= float(df['B6_year']):\n",
    "        end = float(df['B5_year']) + 0.5\n",
    "    #otherwise he finishes in the summer\n",
    "    else:\n",
    "        end = float(df['B6_year'])\n",
    "    # We want to compute the total time spent in months\n",
    "    # 1st semester is sep-jan, and 2nd feb-jul so count only 5 months to complete 1st.\n",
    "    time = (end - float(df['B1_year'])) * 12 - 1 \n",
    "    return time"
   ]
  },
  {
   "cell_type": "code",
   "execution_count": 329,
   "metadata": {
    "collapsed": false
   },
   "outputs": [],
   "source": [
    "df_bachelor['bachelor_months'] = df_bachelor.apply(compute_time, axis=1)"
   ]
  },
  {
   "cell_type": "code",
   "execution_count": 330,
   "metadata": {
    "collapsed": false
   },
   "outputs": [
    {
     "data": {
      "text/html": [
       "<div>\n",
       "<table border=\"1\" class=\"dataframe\">\n",
       "  <thead>\n",
       "    <tr style=\"text-align: right;\">\n",
       "      <th></th>\n",
       "      <th></th>\n",
       "      <th>B1_year</th>\n",
       "      <th>B5_year</th>\n",
       "      <th>B6_year</th>\n",
       "      <th>Civilité</th>\n",
       "      <th>Ecole Echange</th>\n",
       "      <th>Filière opt.</th>\n",
       "      <th>Mineur</th>\n",
       "      <th>Orientation Bachelor</th>\n",
       "      <th>Orientation Master</th>\n",
       "      <th>Spécialisation</th>\n",
       "      <th>Statut</th>\n",
       "      <th>Type Echange</th>\n",
       "      <th>bachelor_months</th>\n",
       "    </tr>\n",
       "    <tr>\n",
       "      <th>No Sciper</th>\n",
       "      <th>Nom Prénom</th>\n",
       "      <th></th>\n",
       "      <th></th>\n",
       "      <th></th>\n",
       "      <th></th>\n",
       "      <th></th>\n",
       "      <th></th>\n",
       "      <th></th>\n",
       "      <th></th>\n",
       "      <th></th>\n",
       "      <th></th>\n",
       "      <th></th>\n",
       "      <th></th>\n",
       "      <th></th>\n",
       "    </tr>\n",
       "  </thead>\n",
       "  <tbody>\n",
       "    <tr>\n",
       "      <th>147008</th>\n",
       "      <th>Good Xavier</th>\n",
       "      <td>2008</td>\n",
       "      <td>2010</td>\n",
       "      <td>2011</td>\n",
       "      <td>Monsieur</td>\n",
       "      <td>Carnegie Mellon University Pittsburgh</td>\n",
       "      <td></td>\n",
       "      <td></td>\n",
       "      <td></td>\n",
       "      <td></td>\n",
       "      <td></td>\n",
       "      <td>Congé</td>\n",
       "      <td>Bilatéral</td>\n",
       "      <td>35.0</td>\n",
       "    </tr>\n",
       "    <tr>\n",
       "      <th>169569</th>\n",
       "      <th>Arévalo Christian</th>\n",
       "      <td>2007</td>\n",
       "      <td>2009</td>\n",
       "      <td>2010</td>\n",
       "      <td>Monsieur</td>\n",
       "      <td></td>\n",
       "      <td></td>\n",
       "      <td></td>\n",
       "      <td></td>\n",
       "      <td></td>\n",
       "      <td></td>\n",
       "      <td>Présent</td>\n",
       "      <td></td>\n",
       "      <td>35.0</td>\n",
       "    </tr>\n",
       "    <tr>\n",
       "      <th>169731</th>\n",
       "      <th>Knecht Mathieu</th>\n",
       "      <td>2007</td>\n",
       "      <td>2010</td>\n",
       "      <td>2011</td>\n",
       "      <td>Monsieur</td>\n",
       "      <td></td>\n",
       "      <td></td>\n",
       "      <td></td>\n",
       "      <td></td>\n",
       "      <td></td>\n",
       "      <td></td>\n",
       "      <td>Congé</td>\n",
       "      <td></td>\n",
       "      <td>47.0</td>\n",
       "    </tr>\n",
       "    <tr>\n",
       "      <th>169795</th>\n",
       "      <th>Scheiben Pascal</th>\n",
       "      <td>2007</td>\n",
       "      <td>2011</td>\n",
       "      <td>2011</td>\n",
       "      <td>Monsieur</td>\n",
       "      <td></td>\n",
       "      <td></td>\n",
       "      <td></td>\n",
       "      <td></td>\n",
       "      <td></td>\n",
       "      <td></td>\n",
       "      <td>Présent</td>\n",
       "      <td></td>\n",
       "      <td>53.0</td>\n",
       "    </tr>\n",
       "    <tr>\n",
       "      <th>171195</th>\n",
       "      <th>Richter Arnaud</th>\n",
       "      <td>2007</td>\n",
       "      <td>2009</td>\n",
       "      <td>2010</td>\n",
       "      <td>Monsieur</td>\n",
       "      <td></td>\n",
       "      <td></td>\n",
       "      <td></td>\n",
       "      <td></td>\n",
       "      <td></td>\n",
       "      <td></td>\n",
       "      <td>Présent</td>\n",
       "      <td></td>\n",
       "      <td>35.0</td>\n",
       "    </tr>\n",
       "    <tr>\n",
       "      <th>171619</th>\n",
       "      <th>Buchschacher Nicolas</th>\n",
       "      <td>2007</td>\n",
       "      <td>2009</td>\n",
       "      <td>2010</td>\n",
       "      <td>Monsieur</td>\n",
       "      <td></td>\n",
       "      <td></td>\n",
       "      <td></td>\n",
       "      <td></td>\n",
       "      <td></td>\n",
       "      <td></td>\n",
       "      <td>Présent</td>\n",
       "      <td></td>\n",
       "      <td>35.0</td>\n",
       "    </tr>\n",
       "    <tr>\n",
       "      <th>174905</th>\n",
       "      <th>Aubelle Flavien</th>\n",
       "      <td>2007</td>\n",
       "      <td>2011</td>\n",
       "      <td>2012</td>\n",
       "      <td>Monsieur</td>\n",
       "      <td></td>\n",
       "      <td></td>\n",
       "      <td></td>\n",
       "      <td></td>\n",
       "      <td></td>\n",
       "      <td></td>\n",
       "      <td>Présent</td>\n",
       "      <td></td>\n",
       "      <td>59.0</td>\n",
       "    </tr>\n",
       "    <tr>\n",
       "      <th>175190</th>\n",
       "      <th>Hanser Valérian</th>\n",
       "      <td>2007</td>\n",
       "      <td>2010</td>\n",
       "      <td>2010</td>\n",
       "      <td>Monsieur</td>\n",
       "      <td></td>\n",
       "      <td></td>\n",
       "      <td></td>\n",
       "      <td></td>\n",
       "      <td></td>\n",
       "      <td></td>\n",
       "      <td>Présent</td>\n",
       "      <td></td>\n",
       "      <td>41.0</td>\n",
       "    </tr>\n",
       "    <tr>\n",
       "      <th>175280</th>\n",
       "      <th>Uberti Quentin</th>\n",
       "      <td>2007</td>\n",
       "      <td>2010</td>\n",
       "      <td>2011</td>\n",
       "      <td>Monsieur</td>\n",
       "      <td></td>\n",
       "      <td></td>\n",
       "      <td></td>\n",
       "      <td></td>\n",
       "      <td></td>\n",
       "      <td></td>\n",
       "      <td>Présent</td>\n",
       "      <td></td>\n",
       "      <td>47.0</td>\n",
       "    </tr>\n",
       "    <tr>\n",
       "      <th>175379</th>\n",
       "      <th>Gremion Sébastien</th>\n",
       "      <td>2007</td>\n",
       "      <td>2010</td>\n",
       "      <td>2011</td>\n",
       "      <td>Monsieur</td>\n",
       "      <td></td>\n",
       "      <td></td>\n",
       "      <td></td>\n",
       "      <td></td>\n",
       "      <td></td>\n",
       "      <td></td>\n",
       "      <td>Présent</td>\n",
       "      <td></td>\n",
       "      <td>47.0</td>\n",
       "    </tr>\n",
       "  </tbody>\n",
       "</table>\n",
       "</div>"
      ],
      "text/plain": [
       "                               B1_year B5_year  B6_year  Civilité  \\\n",
       "No Sciper Nom Prénom                                                \n",
       "147008    Good Xavier             2008    2010     2011  Monsieur   \n",
       "169569    Arévalo Christian       2007    2009     2010  Monsieur   \n",
       "169731    Knecht Mathieu          2007    2010     2011  Monsieur   \n",
       "169795    Scheiben Pascal         2007    2011     2011  Monsieur   \n",
       "171195    Richter Arnaud          2007    2009     2010  Monsieur   \n",
       "171619    Buchschacher Nicolas    2007    2009     2010  Monsieur   \n",
       "174905    Aubelle Flavien         2007    2011     2012  Monsieur   \n",
       "175190    Hanser Valérian         2007    2010     2010  Monsieur   \n",
       "175280    Uberti Quentin          2007    2010     2011  Monsieur   \n",
       "175379    Gremion Sébastien       2007    2010     2011  Monsieur   \n",
       "\n",
       "                                                        Ecole Echange  \\\n",
       "No Sciper Nom Prénom                                                    \n",
       "147008    Good Xavier           Carnegie Mellon University Pittsburgh   \n",
       "169569    Arévalo Christian                                             \n",
       "169731    Knecht Mathieu                                                \n",
       "169795    Scheiben Pascal                                               \n",
       "171195    Richter Arnaud                                                \n",
       "171619    Buchschacher Nicolas                                          \n",
       "174905    Aubelle Flavien                                               \n",
       "175190    Hanser Valérian                                               \n",
       "175280    Uberti Quentin                                                \n",
       "175379    Gremion Sébastien                                             \n",
       "\n",
       "                               Filière opt. Mineur Orientation Bachelor  \\\n",
       "No Sciper Nom Prénom                                                      \n",
       "147008    Good Xavier                                                     \n",
       "169569    Arévalo Christian                                               \n",
       "169731    Knecht Mathieu                                                  \n",
       "169795    Scheiben Pascal                                                 \n",
       "171195    Richter Arnaud                                                  \n",
       "171619    Buchschacher Nicolas                                            \n",
       "174905    Aubelle Flavien                                                 \n",
       "175190    Hanser Valérian                                                 \n",
       "175280    Uberti Quentin                                                  \n",
       "175379    Gremion Sébastien                                               \n",
       "\n",
       "                               Orientation Master Spécialisation   Statut  \\\n",
       "No Sciper Nom Prénom                                                        \n",
       "147008    Good Xavier                                               Congé   \n",
       "169569    Arévalo Christian                                       Présent   \n",
       "169731    Knecht Mathieu                                            Congé   \n",
       "169795    Scheiben Pascal                                         Présent   \n",
       "171195    Richter Arnaud                                          Présent   \n",
       "171619    Buchschacher Nicolas                                    Présent   \n",
       "174905    Aubelle Flavien                                         Présent   \n",
       "175190    Hanser Valérian                                         Présent   \n",
       "175280    Uberti Quentin                                          Présent   \n",
       "175379    Gremion Sébastien                                       Présent   \n",
       "\n",
       "                               Type Echange  bachelor_months  \n",
       "No Sciper Nom Prénom                                          \n",
       "147008    Good Xavier             Bilatéral             35.0  \n",
       "169569    Arévalo Christian                             35.0  \n",
       "169731    Knecht Mathieu                                47.0  \n",
       "169795    Scheiben Pascal                               53.0  \n",
       "171195    Richter Arnaud                                35.0  \n",
       "171619    Buchschacher Nicolas                          35.0  \n",
       "174905    Aubelle Flavien                               59.0  \n",
       "175190    Hanser Valérian                               41.0  \n",
       "175280    Uberti Quentin                                47.0  \n",
       "175379    Gremion Sébastien                             47.0  "
      ]
     },
     "execution_count": 330,
     "metadata": {},
     "output_type": "execute_result"
    }
   ],
   "source": [
    "df_bachelor.head(10)"
   ]
  },
  {
   "cell_type": "markdown",
   "metadata": {},
   "source": [
    "### Average time per gender\n",
    "We simply need to group by `Civilité` to get the average time per gender"
   ]
  },
  {
   "cell_type": "code",
   "execution_count": 331,
   "metadata": {
    "collapsed": false,
    "scrolled": true
   },
   "outputs": [
    {
     "data": {
      "text/plain": [
       "<matplotlib.axes._subplots.AxesSubplot at 0x7f89d32f2518>"
      ]
     },
     "execution_count": 331,
     "metadata": {},
     "output_type": "execute_result"
    },
    {
     "data": {
      "image/png": "[encoded data removed]",
      "text/plain": [
       "<matplotlib.figure.Figure at 0x7f89d37258d0>"
      ]
     },
     "metadata": {},
     "output_type": "display_data"
    }
   ],
   "source": [
    "df_bachelor[\"Civilité\"].astype('category')\n",
    "sex_grouped = df_bachelor.groupby('Civilité')['bachelor_months']\n",
    "b_months = sex_grouped.apply(np.average)\n",
    "b_months.to_frame(name='Months to finish bachelor').unstack().unstack().plot.bar()"
   ]
  },
  {
   "cell_type": "markdown",
   "metadata": {},
   "source": [
    "## Statistical significance\n",
    "In order to evaluate the statistical significance of the difference in average between the male and female students, we first examine the data as a whole, with regard to the number of months spent to get one's bachelor degree."
   ]
  },
  {
   "cell_type": "code",
   "execution_count": 332,
   "metadata": {
    "collapsed": false
   },
   "outputs": [
    {
     "data": {
      "text/plain": [
       "<matplotlib.text.Text at 0x7f89d35fd438>"
      ]
     },
     "execution_count": 332,
     "metadata": {},
     "output_type": "execute_result"
    },
    {
     "data": {
      "image/png": "[encoded data removed]",
      "text/plain": [
       "<matplotlib.figure.Figure at 0x7f89d33ac518>"
      ]
     },
     "metadata": {},
     "output_type": "display_data"
    }
   ],
   "source": [
    "b_months_min = df_bachelor.bachelor_months.min().astype(int)\n",
    "b_months_max = df_bachelor.bachelor_months.max().astype(int)\n",
    "df_bachelor.hist(column='bachelor_months', bins=range(b_months_min, b_months_max+1, 6))\n",
    "pl.suptitle(\"Time spent completing bachelor's degree\")\n",
    "pl.xlabel(\"Months\")\n",
    "pl.ylabel(\"Students\")"
   ]
  },
  {
   "cell_type": "markdown",
   "metadata": {},
   "source": [
    "As can be expected, most students complete the bachelor's in 36 months (the mandatory 3 years). A fair amount will need 6 or 12 months more. If we now look at the structure of the data by gender, we can see that it holds roughly the same shape in both cases."
   ]
  },
  {
   "cell_type": "code",
   "execution_count": 333,
   "metadata": {
    "collapsed": false
   },
   "outputs": [
    {
     "data": {
      "text/plain": [
       "<matplotlib.text.Text at 0x7f89d3a97ac8>"
      ]
     },
     "execution_count": 333,
     "metadata": {},
     "output_type": "execute_result"
    },
    {
     "data": {
      "image/png": "[encoded data removed]",
      "text/plain": [
       "<matplotlib.figure.Figure at 0x7f89d339df98>"
      ]
     },
     "metadata": {},
     "output_type": "display_data"
    }
   ],
   "source": [
    "df_bachelor.hist(column='bachelor_months', by=df_bachelor['Civilité'], bins=range(b_months_min, b_months_max+1, 6))\n",
    "pl.suptitle(\"Time spent completing bachelor's degree by gender\")\n",
    "pl.xlabel(\"Months\")\n",
    "pl.ylabel(\"Students\")"
   ]
  },
  {
   "cell_type": "markdown",
   "metadata": {},
   "source": [
    "### Test 1"
   ]
  },
  {
   "cell_type": "markdown",
   "metadata": {},
   "source": [
    "Since we are observing a dependent variable (i.e. the n° of months to complete a bachelor's degree) in two population samples determined by an independent variable (i.e. the gender of the person), we use an **Mann-Whitney rank test **, as provided in `scipy`'s `mannwhitneyu` function. We do not use the unpaired two sample t-tests because our random variables, the number of months, are not randomly sampled from a normal distribution (number of month is not even continuous)."
   ]
  },
  {
   "cell_type": "code",
   "execution_count": 334,
   "metadata": {
    "collapsed": false
   },
   "outputs": [],
   "source": [
    "values_per_gender = [gender_value for gender_name, gender_value in sex_grouped]\n",
    "stat, pval = stats.mannwhitneyu(*values_per_gender) "
   ]
  },
  {
   "cell_type": "markdown",
   "metadata": {},
   "source": [
    "So in this case, we're working with the null hypothesis $H_0$ that the mean in months spent for a bachelor's degree of the two populations, male and female students in computer science, is equal. \n",
    "\n",
    "With our two samples, we get the following p-value:"
   ]
  },
  {
   "cell_type": "code",
   "execution_count": 335,
   "metadata": {
    "collapsed": false
   },
   "outputs": [
    {
     "data": {
      "text/plain": [
       "0.10002116850072768"
      ]
     },
     "execution_count": 335,
     "metadata": {},
     "output_type": "execute_result"
    }
   ],
   "source": [
    "pval"
   ]
  },
  {
   "cell_type": "markdown",
   "metadata": {},
   "source": [
    "This is just above an $\\alpha$ of 0.10. So the test indicates that we fail to reject the null Hypothesis $H_0$, i.e. that this difference in mean is *not obviously statistically significant*. But being at the limit, it is far from unlikely that the Madame takes less times to complete the Master."
   ]
  },
  {
   "cell_type": "markdown",
   "metadata": {
    "collapsed": false
   },
   "source": [
    "### Test 2"
   ]
  },
  {
   "cell_type": "markdown",
   "metadata": {},
   "source": [
    "As an additional test to avoid arbitrary inaccuracies of the t-test we used, we can try the K-S test on our two sample data distributions. This is a non-parametric test, and basically computes the max distance between the cumulative distribution functions of the two distributions. "
   ]
  },
  {
   "cell_type": "code",
   "execution_count": null,
   "metadata": {
    "collapsed": false
   },
   "outputs": [
    {
     "data": {
      "text/plain": [
       "0.65225950107177355"
      ]
     },
     "execution_count": 336,
     "metadata": {},
     "output_type": "execute_result"
    }
   ],
   "source": [
    "stat, pval = stats.ks_2samp(*values_per_gender)\n",
    "pval"
   ]
  },
  {
   "cell_type": "markdown",
   "metadata": {},
   "source": [
    "Once again, the result of the test indicates that we should accept $H_0$. So we can state that the difference in the mean value between the number of months needed by women and men is not statistically significant."
   ]
  },
  {
   "cell_type": "markdown",
   "metadata": {
    "collapsed": true
   },
   "source": [
    "# Question 2 "
   ]
  },
  {
   "cell_type": "markdown",
   "metadata": {},
   "source": [
    "Get the data: same principle as Question 1."
   ]
  },
  {
   "cell_type": "code",
   "execution_count": null,
   "metadata": {
    "collapsed": false
   },
   "outputs": [],
   "source": [
    "df_master =  mine_data('2007', 'M1')\n",
    "df_master['M1_year'] = float('NaN')\n",
    "df_master['M2_year'] = float('NaN')\n",
    "df_master['M3_year'] = float('NaN')\n",
    "df_master['PMAut_year'] = float('NaN')\n",
    "df_master['PMSpr_year'] = float('NaN')\n",
    "df_master['Spécialisation'] = str('NaN')\n",
    "\n",
    "for year in range(2007, 2017):\n",
    "    df_m1 = mine_data(str(year), 'M1')\n",
    "    #override only if M1 is not in the dataframe yet\n",
    "    df_master = df_master.combine_first(df_m1)\n",
    "    \n",
    "    #override the date when older semester found\n",
    "    df_m2 = mine_data(str(year), 'M2')\n",
    "    df_m3 = mine_data(str(year), 'M3')\n",
    "    df_p1 = mine_data(str(year), 'PMAut')\n",
    "    df_p2 = mine_data(str(year), 'PMSpr')\n",
    "    df_master.update(df_m2)\n",
    "    df_master.update(df_m3)\n",
    "    df_master.update(df_p1)\n",
    "    df_master.update(df_p2)"
   ]
  },
  {
   "cell_type": "code",
   "execution_count": null,
   "metadata": {
    "collapsed": false
   },
   "outputs": [],
   "source": [
    "df_master.head(10)"
   ]
  },
  {
   "cell_type": "markdown",
   "metadata": {},
   "source": [
    "### Compute the time spent to finish the Master degree\n",
    "We made the following assumptions in order to know if a student has finished his Master Degree: if he has no `Spécialisation` or `Mineur`, he needs to have an entry for the first and second semester. If he has a `Spécialisation` or a `Mineur`, he needs an entry for the third semester. We know that a Master Degree is obtained only if a Master Project has been done but it seems that there are many missing values so we will take it into account only if a value has been found.\n"
   ]
  },
  {
   "cell_type": "code",
   "execution_count": null,
   "metadata": {
    "collapsed": false
   },
   "outputs": [],
   "source": [
    "# The empty strings are considered as NaN\n",
    "df_master = df_master.replace('',np.nan)"
   ]
  },
  {
   "cell_type": "code",
   "execution_count": null,
   "metadata": {
    "collapsed": false
   },
   "outputs": [],
   "source": [
    "# drop students not in M1 and M2\n",
    "df_m = df_master.dropna(subset=['M1_year', 'M2_year'])\n",
    "# drop students with Spécialisation or Mineur but no M3\n",
    "df_m = df_m[(pd.isnull(df_m.M3_year) & pd.isnull(df_m.Spécialisation) & pd.isnull(df_m.Mineur)) | (~pd.isnull(df_m.M3_year) & ((~pd.isnull(df_m.Spécialisation) | (~pd.isnull(df_m.Mineur)))))]"
   ]
  },
  {
   "cell_type": "markdown",
   "metadata": {},
   "source": [
    "We compute the difference between the last entry found and the first year"
   ]
  },
  {
   "cell_type": "code",
   "execution_count": null,
   "metadata": {
    "collapsed": true
   },
   "outputs": [],
   "source": [
    "def compute_time_master(df):\n",
    "    #if the student has done a master project \n",
    "    if (not pd.isnull(df['PMAut_year'])):\n",
    "        end = float(df['PMAut_year']) + 0.5\n",
    "    elif (not pd.isnull(df['PMSpr_year'])):\n",
    "        end = float(df['PMSpr_year']) + 1\n",
    "    elif (not pd.isnull(df['M3_year'])):\n",
    "        end = float(df['M3_year']) + 0.5\n",
    "    else:\n",
    "        end = float(df['M2_year']) + 1\n",
    "    time = 12*(float(end) - float(df['M1_year'])) - 1\n",
    "    return time"
   ]
  },
  {
   "cell_type": "code",
   "execution_count": null,
   "metadata": {
    "collapsed": false
   },
   "outputs": [],
   "source": [
    "df_m['master_months'] = df_m.apply(compute_time_master, axis=1)"
   ]
  },
  {
   "cell_type": "code",
   "execution_count": null,
   "metadata": {
    "collapsed": false
   },
   "outputs": [],
   "source": [
    "df_m.head()"
   ]
  },
  {
   "cell_type": "code",
   "execution_count": null,
   "metadata": {
    "collapsed": false
   },
   "outputs": [],
   "source": [
    "df_m[\"Civilité\"].astype('category')\n",
    "sex_grouped_master = df_m.groupby('Civilité')['master_months']\n",
    "m_years = sex_grouped_master.apply(np.average)\n",
    "m_years.to_frame(name='Months in master').unstack().unstack().plot.bar()"
   ]
  },
  {
   "cell_type": "markdown",
   "metadata": {},
   "source": [
    "Now we look at the Spécialisation"
   ]
  },
  {
   "cell_type": "code",
   "execution_count": null,
   "metadata": {
    "collapsed": false
   },
   "outputs": [],
   "source": [
    "df_spec = df_m[~pd.isnull(df_m['Spécialisation'])]"
   ]
  },
  {
   "cell_type": "code",
   "execution_count": null,
   "metadata": {
    "collapsed": false,
    "scrolled": true
   },
   "outputs": [],
   "source": [
    "df_spec.head(20)"
   ]
  },
  {
   "cell_type": "code",
   "execution_count": null,
   "metadata": {
    "collapsed": false
   },
   "outputs": [],
   "source": [
    "df_spec[\"Spécialisation\"].astype('category')\n",
    "spec_grouped_master = df_spec.groupby('Spécialisation')['master_months']\n",
    "m_spec = spec_grouped_master.apply(np.average)\n",
    "m_spec.to_frame(name='Months in master').unstack().unstack().plot.bar()\n"
   ]
  },
  {
   "cell_type": "markdown",
   "metadata": {
    "collapsed": true
   },
   "source": [
    "## Statistical significance"
   ]
  },
  {
   "cell_type": "markdown",
   "metadata": {},
   "source": [
    "Once again, we want to evaluate the statistical significance of the difference in means between different populations of our data. In the case of the master's students, we look at the pairwise difference between the general mean time spent doing the master's thesis (in months) and the time spent in each specialisation.\n",
    "\n",
    "Let's have a look at the general layout to begin with."
   ]
  },
  {
   "cell_type": "code",
   "execution_count": null,
   "metadata": {
    "collapsed": false
   },
   "outputs": [],
   "source": [
    "m_months_min = df_m.master_months.min().astype(int)\n",
    "m_months_max = df_m.master_months.max().astype(int)\n",
    "df_m.hist(column='master_months', bins=range(m_months_min, m_months_max+1, 6))\n",
    "pl.suptitle(\"Time spent completing master's degree\")\n",
    "pl.xlabel(\"Months\")\n",
    "pl.ylabel(\"Students\")"
   ]
  },
  {
   "cell_type": "markdown",
   "metadata": {},
   "source": [
    "We can do the same thing for all different specialisations, just to get an idea of the layout of the data."
   ]
  },
  {
   "cell_type": "code",
   "execution_count": null,
   "metadata": {
    "collapsed": false
   },
   "outputs": [],
   "source": [
    "df_m.hist(column='master_months', by=df_m['Spécialisation'], bins=range(m_months_min, m_months_max+1, 6))\n",
    "pl.suptitle(\"Time spent completing master's degree\")\n",
    "pl.xlabel(\"Months\")\n",
    "pl.ylabel(\"Students\")"
   ]
  },
  {
   "cell_type": "markdown",
   "metadata": {},
   "source": [
    "This doesn't tell us much, but we can already notice that for many of the specialisations, we have very little data available.\n",
    "\n",
    "### Test 1\n",
    "As for question 1, we can use the **Mann-Whitney rank test ** on each \"general-specialisation\" pair to compute the p-value. We store the result of each pairwise Mann-Whitney statistic in a dictionary. \n",
    "\n",
    "Once again, we're working with the null hypothesis $H_0$ that the mean in months spent for a master's degree of the two populations is equal.\n",
    "\n"
   ]
  },
  {
   "cell_type": "code",
   "execution_count": null,
   "metadata": {
    "collapsed": false
   },
   "outputs": [],
   "source": [
    "mann_whitney_res = {}\n",
    "general_m = df_m['master_months']\n",
    "for name, value, in spec_grouped_master: \n",
    "    stat, pval = stats.mannwhitneyu(general_m, value)\n",
    "    mann_whitney_res[name] = (stat, pval)"
   ]
  },
  {
   "cell_type": "markdown",
   "metadata": {
    "collapsed": true
   },
   "source": [
    "The resulting p-values of the pairwise tests is as follows:"
   ]
  },
  {
   "cell_type": "code",
   "execution_count": null,
   "metadata": {
    "collapsed": false
   },
   "outputs": [],
   "source": [
    "for k, v in mann_whitney_res.items():\n",
    "    print(k, \"has p-value \\t\", v[1])"
   ]
  },
  {
   "cell_type": "markdown",
   "metadata": {},
   "source": [
    "Let's filter out the specialisations so that we keep those with a **p-value of more than 0.10** when compared to the general distribution of students."
   ]
  },
  {
   "cell_type": "code",
   "execution_count": null,
   "metadata": {
    "collapsed": false
   },
   "outputs": [],
   "source": [
    "P_THRESHOLD = 0.10\n",
    "\n",
    "filtered_mw_res = {k: v for k, v in mann_whitney_res.items() if v[1] >= P_THRESHOLD}\n",
    "print(\"The following specialisations have p-value over\", P_THRESHOLD)\n",
    "print(\"====================================================\")\n",
    "for k, v in filtered_mw_res.items():\n",
    "    print(k)"
   ]
  },
  {
   "cell_type": "markdown",
   "metadata": {},
   "source": [
    "So for all of the above, we fail to reject the null hypothesis $H_0$, meaning that the difference in mean is not obviously statistically significant.\n",
    "\n",
    "Now let's filter again to keep those with a **p-value of less than 0.10**. "
   ]
  },
  {
   "cell_type": "code",
   "execution_count": null,
   "metadata": {
    "collapsed": false
   },
   "outputs": [],
   "source": [
    "filtered_mw_res = {k: v for k, v in mann_whitney_res.items() if v[1] < P_THRESHOLD}\n",
    "print(\"The following specialisations have p-value below\", P_THRESHOLD)\n",
    "print(\"====================================================\")\n",
    "for k, v in filtered_mw_res.items():\n",
    "    print(k)"
   ]
  },
  {
   "cell_type": "markdown",
   "metadata": {},
   "source": [
    "So for the above specialisations, we reject $H_0$, i.e. the mean of number of months spent for a master's degree in general and for the given specialisation is **not equal**."
   ]
  },
  {
   "cell_type": "markdown",
   "metadata": {},
   "source": [
    "### Test 2\n",
    "\n",
    "Let's run the K-S test on our population pairs again to check for inaccuracies in the Mann-Whitney rank test. "
   ]
  },
  {
   "cell_type": "code",
   "execution_count": null,
   "metadata": {
    "collapsed": true
   },
   "outputs": [],
   "source": [
    "ks_res = {}\n",
    "for name, value, in spec_grouped_master: \n",
    "    stat, pval = stats.ks_2samp(general_m, value)\n",
    "    ks_res[name] = (stat, pval)"
   ]
  },
  {
   "cell_type": "markdown",
   "metadata": {},
   "source": [
    "As before, let's check the resulting p-values for this pairwise testing."
   ]
  },
  {
   "cell_type": "code",
   "execution_count": null,
   "metadata": {
    "collapsed": false
   },
   "outputs": [],
   "source": [
    "for k, v in ks_res.items():\n",
    "    print(k, \"has p-value \\t\", v[1])"
   ]
  },
  {
   "cell_type": "markdown",
   "metadata": {},
   "source": [
    "We check which specialisations have a p-value over our defined threshold when compared to the general distribution, i.e. those where we fail to reject $H_0$."
   ]
  },
  {
   "cell_type": "code",
   "execution_count": null,
   "metadata": {
    "collapsed": false
   },
   "outputs": [],
   "source": [
    "filtered_ks_res = {k: v for k, v in ks_res.items() if v[1] >= P_THRESHOLD}\n",
    "print(\"The following specialisations have p-value over\", P_THRESHOLD)\n",
    "print(\"====================================================\")\n",
    "for k, v in filtered_ks_res.items():\n",
    "    print(k)"
   ]
  },
  {
   "cell_type": "markdown",
   "metadata": {},
   "source": [
    "And then we check which specialisations have a p-value below our defined threshold when compared to the general distribution, i.e. those for which we reject $H_0$."
   ]
  },
  {
   "cell_type": "code",
   "execution_count": null,
   "metadata": {
    "collapsed": false
   },
   "outputs": [],
   "source": [
    "filtered_ks_res = {k: v for k, v in ks_res.items() if v[1] < P_THRESHOLD}\n",
    "print(\"The following specialisations have p-value below\", P_THRESHOLD)\n",
    "print(\"====================================================\")\n",
    "for k, v in filtered_ks_res.items():\n",
    "    print(k)"
   ]
  },
  {
   "cell_type": "markdown",
   "metadata": {},
   "source": [
    "There are two specialisations which get different results for the two tests. *Computer Engineering - SP* and *Biocomputing*"
   ]
  },
  {
   "cell_type": "markdown",
   "metadata": {
    "collapsed": true
   },
   "source": [
    "### Note on multiple testing\n",
    "We should note that when using multiple test, we should be adjusting $\\alpha$ with a Bonferroni correction so that the probability of observing at least one significant result due to chance remains below the desired significance level. However, this seems to be beyond the scope of this course, so we left it out. We felt it was important to mention this, so that we can take the results of the two tests with a pinch of salt."
   ]
  }
 ],
 "metadata": {
  "anaconda-cloud": {},
  "kernelspec": {
   "display_name": "Python [Root]",
   "language": "python",
   "name": "Python [Root]"
  },
  "language_info": {
   "codemirror_mode": {
    "name": "ipython",
    "version": 3
   },
   "file_extension": ".py",
   "mimetype": "text/x-python",
   "name": "python",
   "nbconvert_exporter": "python",
   "pygments_lexer": "ipython3",
   "version": "3.5.2"
  }
 },
 "nbformat": 4,
 "nbformat_minor": 0
}
