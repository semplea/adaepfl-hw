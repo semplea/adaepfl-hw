{
 "cells": [
  {
   "cell_type": "markdown",
   "metadata": {},
   "source": [
    "# Data viz"
   ]
  },
  {
   "cell_type": "code",
   "execution_count": null,
   "metadata": {
    "collapsed": false
   },
   "outputs": [],
   "source": [
    "import folium\n",
    "import pandas as pd\n",
    "import numpy as np\n",
    "from geopy import GeoNames"
   ]
  },
  {
   "cell_type": "code",
   "execution_count": null,
   "metadata": {
    "collapsed": false
   },
   "outputs": [],
   "source": [
    "grants = pd.read_csv('P3_GrantExport.csv', sep=\";\")\n",
    "grants['University'] = grants['University'].astype('str').apply(lambda s: s.split(' -')[0])"
   ]
  },
  {
   "cell_type": "markdown",
   "metadata": {},
   "source": [
    "## TODO: replace institution name with city\n",
    "@ Alexis "
   ]
  },
  {
   "cell_type": "code",
   "execution_count": null,
   "metadata": {
    "collapsed": false
   },
   "outputs": [],
   "source": [
    "grants = grants.replace('', np.nan)\n",
    "grants = grants.replace('nan', np.nan)\n",
    "grants"
   ]
  },
  {
   "cell_type": "code",
   "execution_count": null,
   "metadata": {
    "collapsed": false
   },
   "outputs": [],
   "source": [
    "grants[pd.isnull(grants.Institution) & pd.isnull(grants.University)].shape"
   ]
  },
  {
   "cell_type": "markdown",
   "metadata": {},
   "source": [
    "We can't do much about the rows without a University or an Institution field. We won't consider them."
   ]
  },
  {
   "cell_type": "code",
   "execution_count": null,
   "metadata": {
    "collapsed": true
   },
   "outputs": [],
   "source": [
    "grants = grants[~(pd.isnull(grants.Institution) & pd.isnull(grants.University))]"
   ]
  },
  {
   "cell_type": "markdown",
   "metadata": {},
   "source": [
    "We create a dictionnaire which stores the canton of each university/institution. We get the results from the GeoNames Webservice using `geopy`."
   ]
  },
  {
   "cell_type": "code",
   "execution_count": null,
   "metadata": {
    "collapsed": false
   },
   "outputs": [],
   "source": [
    "unis = grants['University'].unique()\n",
    "# we get the institution if there is no field in University\n",
    "institutions = grants[pd.isnull(grants.University) & (~pd.isnull(grants.Institution))]['Institution'].unique()\n",
    "unis = unis[~pd.isnull(unis)]\n",
    "institutions = institutions[~pd.isnull(institutions)]"
   ]
  },
  {
   "cell_type": "code",
   "execution_count": null,
   "metadata": {
    "collapsed": false
   },
   "outputs": [],
   "source": [
    "unis"
   ]
  },
  {
   "cell_type": "code",
   "execution_count": null,
   "metadata": {
    "collapsed": true
   },
   "outputs": [],
   "source": [
    "geolocator = GeoNames(country_bias='CH', username='ada_dream_team', timeout=1)"
   ]
  },
  {
   "cell_type": "code",
   "execution_count": null,
   "metadata": {
    "collapsed": false
   },
   "outputs": [],
   "source": [
    "cantonDic = {}\n",
    "\n",
    "for uni in unis:\n",
    "    location = geolocator.geocode(uni)\n",
    "    if location:\n",
    "        location = location.address.split(', ')\n",
    "        if len(location) > 2:\n",
    "            address = location[1]\n",
    "        else:\n",
    "            address = np.nan\n",
    "    else:\n",
    "        address = np.nan\n",
    "    cantonDic[uni] = address\n",
    "'''\n",
    "for instit in institutions:\n",
    "    location = geolocator.geocode(instit)\n",
    "    if location:\n",
    "        location = location.address.split(', ')\n",
    "        if len(location) > 2:\n",
    "            address = location[1]\n",
    "        else:\n",
    "            address = np.nan\n",
    "    else:\n",
    "        address = np.nan\n",
    "    cantonDic[instit] = address  \n",
    "'''"
   ]
  },
  {
   "cell_type": "code",
   "execution_count": null,
   "metadata": {
    "collapsed": false
   },
   "outputs": [],
   "source": [
    "location = geolocator.geocode('HEG')"
   ]
  },
  {
   "cell_type": "code",
   "execution_count": null,
   "metadata": {
    "collapsed": false
   },
   "outputs": [],
   "source": [
    "location"
   ]
  },
  {
   "cell_type": "code",
   "execution_count": null,
   "metadata": {
    "collapsed": false
   },
   "outputs": [],
   "source": [
    "def get_canton(df):\n",
    "    if (not pd.isnull(df['University'])):\n",
    "        address = cantonDic[df['University']]\n",
    "    else:\n",
    "        address = cantonDic[df['Institution']]\n",
    "    if address:\n",
    "        return address\n",
    "    else:\n",
    "        return np.nan"
   ]
  },
  {
   "cell_type": "code",
   "execution_count": null,
   "metadata": {
    "collapsed": false
   },
   "outputs": [],
   "source": [
    "grants['Canton'] = grants.apply(get_canton, axis=1)"
   ]
  },
  {
   "cell_type": "code",
   "execution_count": null,
   "metadata": {
    "collapsed": true
   },
   "outputs": [],
   "source": []
  }
 ],
 "metadata": {
  "anaconda-cloud": {},
  "kernelspec": {
   "display_name": "Python [Root]",
   "language": "python",
   "name": "Python [Root]"
  },
  "language_info": {
   "codemirror_mode": {
    "name": "ipython",
    "version": 3
   },
   "file_extension": ".py",
   "mimetype": "text/x-python",
   "name": "python",
   "nbconvert_exporter": "python",
   "pygments_lexer": "ipython3",
   "version": "3.5.2"
  }
 },
 "nbformat": 4,
 "nbformat_minor": 0
}
