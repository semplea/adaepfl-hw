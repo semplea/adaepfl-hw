{
 "cells": [
  {
   "cell_type": "markdown",
   "metadata": {},
   "source": [
    "# Data viz"
   ]
  },
  {
   "cell_type": "code",
   "execution_count": null,
   "metadata": {
    "collapsed": false
   },
   "outputs": [],
   "source": [
    "import folium\n",
    "import pandas as pd\n",
    "import numpy as np\n",
    "from geopy import GeoNames\n",
    "from helpers import *\n",
    "import unicodedata\n"
   ]
  },
  {
   "cell_type": "code",
   "execution_count": null,
   "metadata": {
    "collapsed": false
   },
   "outputs": [],
   "source": [
    "grants = pd.read_csv('P3_GrantExport.csv', sep=\";\")\n",
    "grants['University'] = grants['University'].astype('str').apply(lambda s: s.split(' -')[0])"
   ]
  },
  {
   "cell_type": "markdown",
   "metadata": {},
   "source": [
    "Load data about swiss localities and the cantons they're in.\n",
    "\n",
    "Add some locality names by hand to this dataframe (e.g. Zürcher => ZH, Vaud => VD, Valais => VS)"
   ]
  },
  {
   "cell_type": "code",
   "execution_count": null,
   "metadata": {
    "collapsed": false
   },
   "outputs": [],
   "source": [
    "# load some spreadsheet with cities and shit\n",
    "swiss_locs = pd.read_excel('be-b-00.04-osv-01.xls', sheetname=1, parse_cols=[0,2]) \n",
    "swiss_locs.columns = ['Canton', 'Locality']\n",
    "\n",
    "add_data = pd.DataFrame({'Canton': ['AG', 'BE', 'BS', 'FR', 'FR', 'JU', 'JU', 'JU', 'ZH', 'VD', 'VD', 'VD', 'VS', 'VS', 'VS', 'VS'],\n",
    "                       'Locality': ['Aargauer', 'Berner', 'Basler', 'Fribourgeois', 'Fribourgeoise', 'Jura', 'Jurassien', 'Jurassienne', 'Zürcher', 'Vaud', 'Vaudois', 'Vaudoise', 'Valais', 'Valaisan', 'Valaisanne', 'Walliser']})\n",
    "add_instit = pd.DataFrame({'Canton': ['VD', 'VD', 'VD', 'ZH', 'ZH'],\n",
    "                    'Locality': ['EPFL', 'ETHL', 'CHUV', 'ETHZ', 'EPFZ']})\n",
    "add = pd.concat([add_instit, add_data])\n",
    "swiss_locs = pd.concat([add, swiss_locs])\n",
    "swiss_locs.reset_index(drop=True)\n",
    "swiss_locs.head(10)"
   ]
  },
  {
   "cell_type": "code",
   "execution_count": null,
   "metadata": {
    "collapsed": false
   },
   "outputs": [],
   "source": [
    "grants = grants.replace('', np.nan)\n",
    "grants = grants.replace('nan', np.nan)\n",
    "grants = grants.replace('Nicht zuteilbar', np.nan)\n",
    "grants.shape"
   ]
  },
  {
   "cell_type": "markdown",
   "metadata": {},
   "source": [
    "According to the documentation, the 'Universty' field is empty when the research is carried out at a non-swiss institution. So we can safely get rid of all those entries."
   ]
  },
  {
   "cell_type": "code",
   "execution_count": null,
   "metadata": {
    "collapsed": false
   },
   "outputs": [],
   "source": [
    "grants = grants[~(pd.isnull(grants.University))]\n",
    "grants.shape"
   ]
  },
  {
   "cell_type": "code",
   "execution_count": null,
   "metadata": {
    "collapsed": false
   },
   "outputs": [],
   "source": [
    "unis = grants['University'].unique()\n",
    "# we get the institution if there is no field in University\n",
    "institutions = grants[(~pd.isnull(grants.Institution))]['Institution'].unique()\n",
    "institutions = institutions[~pd.isnull(institutions)]"
   ]
  },
  {
   "cell_type": "markdown",
   "metadata": {},
   "source": [
    "### Google maps API geocoding"
   ]
  },
  {
   "cell_type": "code",
   "execution_count": null,
   "metadata": {
    "collapsed": false
   },
   "outputs": [],
   "source": [
    "import googlemaps\n",
    "key = None\n",
    "with open('key', 'r') as f:\n",
    "    key = f.readline().strip()\n",
    "gmaps = googlemaps.Client(key)\n",
    "       \n",
    "def get_geocodes(name_arr, dic):\n",
    "    for obj in name_arr:\n",
    "        if obj not in dic: # run query if there is not already a mapping \n",
    "            location = gmaps.geocode(obj)\n",
    "            address = ''\n",
    "            if location:\n",
    "                for comp in location[0]['address_components']:\n",
    "                    if 'administrative_area_level_1' in comp['types']:\n",
    "                        address = comp['short_name']\n",
    "            dic[obj] = address    "
   ]
  },
  {
   "cell_type": "code",
   "execution_count": null,
   "metadata": {
    "collapsed": true
   },
   "outputs": [],
   "source": [
    "unis_dict = {}\n",
    "unis_dict = load_dict('unis_dict.json')\n",
    "get_geocodes(unis, unis_dict) # populate unis_dict with uni->canton mapping\n",
    "save_dict(unis_dict, 'unis_dict.json')"
   ]
  },
  {
   "cell_type": "code",
   "execution_count": null,
   "metadata": {
    "collapsed": true
   },
   "outputs": [],
   "source": [
    "inst_dict = {}\n",
    "inst_dict = load_dict('inst_dict.json')\n",
    "get_geocodes(institutions, inst_dict) # populate inst_dict with inst->canton mapping\n",
    "save_dict(inst_dict, 'inst_dict.json')"
   ]
  },
  {
   "cell_type": "code",
   "execution_count": null,
   "metadata": {
    "collapsed": false
   },
   "outputs": [],
   "source": [
    "def update_full():\n",
    "    \"\"\"Sets full_dict to the \"\"\"\n",
    "    full_dict = {}\n",
    "    for elem in (unis_dict, inst_dict): \n",
    "        full_dict.update(elem)\n",
    "    return full_dict\n",
    "\n",
    "def get_canton(df):\n",
    "    \"\"\"Adds the Canton column to the grants df with values mapped to by unis_dict and inst_dict\"\"\"\n",
    "    full_dict = update_full()\n",
    "    if full_dict[df['University']]:\n",
    "        return full_dict[df['University']]\n",
    "    elif not pd.isnull(df['Institution']):\n",
    "        return full_dict[df['Institution']]\n",
    "    else:\n",
    "        return ''"
   ]
  },
  {
   "cell_type": "code",
   "execution_count": null,
   "metadata": {
    "collapsed": false
   },
   "outputs": [],
   "source": [
    "grants['Canton'] = grants.apply(get_canton, axis=1)"
   ]
  },
  {
   "cell_type": "code",
   "execution_count": null,
   "metadata": {
    "collapsed": false
   },
   "outputs": [],
   "source": [
    "grants[grants.Canton == ''].ix[:, ['University','Institution','Canton']].shape"
   ]
  },
  {
   "cell_type": "code",
   "execution_count": null,
   "metadata": {
    "collapsed": false
   },
   "outputs": [],
   "source": [
    "grants[grants.Canton != ''].ix[:, ['University','Institution','Canton']].shape"
   ]
  },
  {
   "cell_type": "markdown",
   "metadata": {},
   "source": [
    "### Complete university and institution to canton mappings with `swiss_locs` dataframe"
   ]
  },
  {
   "cell_type": "code",
   "execution_count": null,
   "metadata": {
    "collapsed": false
   },
   "outputs": [],
   "source": [
    "def null_check_loc(loc_dict):\n",
    "    \"\"\"Returns a dict with new mappings that were found by checking swiss localities df\"\"\"\n",
    "    loc_null = {k: v for k, v in loc_dict.items() if not v}\n",
    "    for k, v in loc_null.items():\n",
    "        for row in zip(swiss_locs['Canton'], swiss_locs['Locality']):\n",
    "            if caseless_contains(\" \" + row[1] + \" \", \" \" + k + \" \"): # to check for full words as substrings\n",
    "                loc_null[k] = row[0]\n",
    "    return loc_null\n",
    "            "
   ]
  },
  {
   "cell_type": "markdown",
   "metadata": {},
   "source": [
    "Compute the possible new mappings for the unis dictionary"
   ]
  },
  {
   "cell_type": "code",
   "execution_count": null,
   "metadata": {
    "collapsed": false
   },
   "outputs": [],
   "source": [
    "unis_null = null_check_loc(unis_dict)\n",
    "unis_new = {k: v for k,v in unis_null.items() if v}"
   ]
  },
  {
   "cell_type": "markdown",
   "metadata": {},
   "source": [
    "Check the changes 'by hand'. In our case there were two errors."
   ]
  },
  {
   "cell_type": "code",
   "execution_count": null,
   "metadata": {
    "collapsed": false
   },
   "outputs": [],
   "source": [
    "unis_new[\"Inst. universit. romand de Santé au Travail\"] = 'VD'\n",
    "unis_new[\"Centre de rech. sur l'environnement alpin\"] = 'VS'\n",
    "unis_new"
   ]
  },
  {
   "cell_type": "code",
   "execution_count": null,
   "metadata": {
    "collapsed": true
   },
   "outputs": [],
   "source": [
    "def update_dict(new_dict, full_dict):\n",
    "    \"\"\"Updates a dictionary with key, value in new_dict\"\"\"\n",
    "    for k,v in new_dict.items():\n",
    "        full_dict[k] = v"
   ]
  },
  {
   "cell_type": "code",
   "execution_count": null,
   "metadata": {
    "collapsed": true
   },
   "outputs": [],
   "source": [
    "update_dict(unis_new, unis_dict)\n",
    "save_dict(unis_dict, 'unis_dict.json')"
   ]
  },
  {
   "cell_type": "markdown",
   "metadata": {},
   "source": [
    "Compute the possible new mappings for the institutions dictionary"
   ]
  },
  {
   "cell_type": "code",
   "execution_count": null,
   "metadata": {
    "collapsed": true
   },
   "outputs": [],
   "source": [
    "inst_null = null_check_loc(inst_dict)\n",
    "inst_new = {k: v for k,v in inst_null.items() if v}"
   ]
  },
  {
   "cell_type": "markdown",
   "metadata": {},
   "source": [
    "Fixing bullshit errors by working like an ass"
   ]
  },
  {
   "cell_type": "code",
   "execution_count": null,
   "metadata": {
    "collapsed": false
   },
   "outputs": [],
   "source": [
    "inst_new[\"Unité d'Oncologie-Hématologie- Immunologie Hôpital de la Tour\"] = 'GE'\n",
    "inst_new[\"Unité d'Allergologie-Immunologie Hôpital de la Tour\"] = 'GE'\n",
    "inst_new[\"UNI: Moscow State University Scientific Rese arch Computer Center  Moscow RUS\"] = ''\n",
    "inst_new[\"Stift. Pro Kloster St. Johann in Müstair\"] = 'GR'\n",
    "inst_new[\"Services généraux sécurité et santé au travail EPFL - SB - SB-SG - SB-SST\"] = 'VD'\n",
    "inst_new[\"Schweiz. Institut für Alternativen zu Tierversuchen SIAT Technopark\"] = ''\n",
    "inst_new[\"Schweiz. Fachstelle für behindertengerechtes Bauen\"] = ''\n",
    "inst_new[\"Regionalspital Biel Urologie\"] = 'BE'\n",
    "inst_new[\"Rapp Trans AG Verkehrs- und Transportberatung\"] = ''\n",
    "inst_new[\"PAN - Büro für Wald und Landschaft\"] = ''\n",
    "inst_new[\"Musée Forel\"] = 'VD'\n",
    "inst_new[\"Marie Meierhof Institut für das Kind\"] = 'ZH'\n",
    "inst_new[\"Laboratoire interdisciplinaire de performance intégrée au projet EPFL - ENAC - IA - LIPID\"] = 'VD'\n",
    "inst_new[\"Laboratoire de recherche sur les particules atmosphériques EPFL - ENAC - IIE - APRL\"] = 'VD'\n",
    "inst_new[\"Laboratoire de mécanique des roches EPFL - ENAC - IIC - LMR\"] = 'VD'\n",
    "inst_new[\"Laboratoire d'algorithmique pour l'information en réseaux EPFL - IC - IIF - ARNI\"] = 'VD'\n",
    "inst_new[\"Kantonsbibliothek Appenzell A.Rh.\"] = 'AR'\n",
    "inst_new[\"Kantonsschule Appenzell A.Rh.\"] = 'AR'\n",
    "inst_new[\"Institut universitaire romand de Santé au Travail\"] = 'VD'\n",
    "inst_new[\"Institut suisse de recherche expérimentale sur le cancer EPFL SV ISREC\"] = 'VD'\n",
    "inst_new[\"Institut des sols, roches et fondations Laboratoire de mécanique des roches\"] = ''\n",
    "inst_new[\"Institut Suisse de Recherche Expérimentale sur le Cancer EPFL SV ISREC\"] = 'VD'\n",
    "inst_new[\"Institut Suisse de Recherche Expérimentale sur le Cancer EPFL - SV - ISREC\"] = 'VD'\n",
    "inst_new[\"Institut Suisse de Recherche Expérimentale sur le Cancer (ISREC)\"] = 'VD'\n",
    "inst_new[\"Institut ERASM Etude et recherches appliquées à la sociologie et au marketing\"] = ''\n",
    "inst_new[\"FE Wirtschafts- und Sozialwissenschaften Eidg. Forschungsanstalt für Wald Schnee und Landschaft WSL\"] = 'ZH'\n",
    "inst_new[\"F. Hoffmann-La Roche AG PDRD\"] = 'AG'\n",
    "inst_new[\"Erziehungsdirektion des Kantons Appenzell A.Rh.\"] = 'AR'\n",
    "inst_new[\"Division d'Immunologie Moléculaire Institut Ludwig de Recherche sur le Cancer\"] = 'VD'\n",
    "inst_new[\"Chaire de théorie ergodique et géométrique des groupes EPFL - SB - MATHGEOM - EGG\"] = 'VD'\n",
    "inst_new[\"Chaire de théorie ergodique et géométrique des groupes EPFL - SB - IMB - EGG\"] = 'VD'\n",
    "inst_new[\"Centre suisse de recherche et d'information sur le vitrail\"] = 'FR'\n",
    "inst_new[\"Centre de recherche sur l'Asie moderne (IUHEI/IUED)\"] = ''\n",
    "inst_new[\"Centre de Recherche sur le Phénomène Urbain (CREPU/EAUG)\"] = ''\n",
    "inst_new[\"Centre d'initiation au cinéma et aux communications\"] = ''\n",
    "inst_new[\"Centre Ludwig de l'Université de Lausanne pour la recherche sur le cancer\"] = 'VD'\n",
    "inst_new[\"Archäologie, Bauhütte Stiftung Pro Kloster St. Johann in Müstair\"] = 'GR'\n",
    "inst_new[\"Arbeitsgemeinschaft Swissaid / Fastenopfer / Brot für alle / Helvetas / Caritas\"] = ''\n",
    "inst_new[\"Angewandte Gewässerökologie Forschungszentrum für Limnologie EAWAG Kastanienbaum\"] = ''\n",
    "inst_new[\"Advokaturbüro Arn + Friedrich\"] = ''\n",
    "\n"
   ]
  },
  {
   "cell_type": "code",
   "execution_count": null,
   "metadata": {
    "collapsed": false,
    "scrolled": true
   },
   "outputs": [],
   "source": [
    "update_dict(inst_new, inst_dict)\n",
    "save_dict(inst_dict, 'inst_dict.json')"
   ]
  },
  {
   "cell_type": "markdown",
   "metadata": {},
   "source": [
    "Update the rows in `grants` where we now have canton values, either by the University or Institution fields."
   ]
  },
  {
   "cell_type": "code",
   "execution_count": null,
   "metadata": {
    "collapsed": false
   },
   "outputs": [],
   "source": [
    "grants['Canton'] = grants.apply(get_canton, axis=1)"
   ]
  }
 ],
 "metadata": {
  "anaconda-cloud": {},
  "kernelspec": {
   "display_name": "Python [Root]",
   "language": "python",
   "name": "Python [Root]"
  },
  "language_info": {
   "codemirror_mode": {
    "name": "ipython",
    "version": 3
   },
   "file_extension": ".py",
   "mimetype": "text/x-python",
   "name": "python",
   "nbconvert_exporter": "python",
   "pygments_lexer": "ipython3",
   "version": "3.5.2"
  }
 },
 "nbformat": 4,
 "nbformat_minor": 0
}
