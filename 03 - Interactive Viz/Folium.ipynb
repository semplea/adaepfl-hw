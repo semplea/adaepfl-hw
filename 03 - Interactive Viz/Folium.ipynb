{
 "cells": [
  {
   "cell_type": "markdown",
   "metadata": {},
   "source": [
    "# Data viz"
   ]
  },
  {
   "cell_type": "code",
   "execution_count": null,
   "metadata": {
    "collapsed": false
   },
   "outputs": [],
   "source": [
    "import folium\n",
    "import pandas as pd\n",
    "import json, random"
   ]
  },
  {
   "cell_type": "code",
   "execution_count": null,
   "metadata": {
    "collapsed": false
   },
   "outputs": [],
   "source": [
    "df = pd.DataFrame(columns=['State', 'Funding'])\n",
    "cantons = r'ch-cantons.topojson.json'\n",
    "\n",
    "with open(cantons) as f:\n",
    "    js = json.load(f)\n",
    "    for i in js[\"objects\"][\"cantons\"][\"geometries\"]:\n",
    "        df.loc[df.shape[0]] = [i[\"id\"], random.uniform(1, 20.2)]\n",
    "    for i in js[\"objects\"][\"cantons\"][\"geometries\"]:\n",
    "        print([i[\"id\"]])\n",
    "df\n"
   ]
  },
  {
   "cell_type": "code",
   "execution_count": null,
   "metadata": {
    "collapsed": false
   },
   "outputs": [],
   "source": [
    "map = folium.Map(location=[46.8182, 8.2275], zoom_start=8, tiles='Mapbox Bright',)\n",
    "#map.choropleth(geo_path=cantons,\n",
    "#topojson = 'objects.cantons')\n",
    "map.choropleth(\n",
    "            geo_path=cantons,\n",
    "            data = df,\n",
    "            columns = ['State', 'Funding'],\n",
    "            topojson='objects.cantons',\n",
    "            key_on='feature.id',\n",
    "            fill_color = 'YlOrRd',\n",
    "            fill_opacity = 0.7,\n",
    "            line_opacity = 0.2,\n",
    "            legend_name = 'Funding by canton'\n",
    "        )\n",
    "\n",
    "map"
   ]
  },
  {
   "cell_type": "code",
   "execution_count": null,
   "metadata": {
    "collapsed": true
   },
   "outputs": [],
   "source": []
  }
 ],
 "metadata": {
  "anaconda-cloud": {},
  "kernelspec": {
   "display_name": "Python [Root]",
   "language": "python",
   "name": "Python [Root]"
  },
  "language_info": {
   "codemirror_mode": {
    "name": "ipython",
    "version": 3
   },
   "file_extension": ".py",
   "mimetype": "text/x-python",
   "name": "python",
   "nbconvert_exporter": "python",
   "pygments_lexer": "ipython3",
   "version": "3.5.1"
  }
 },
 "nbformat": 4,
 "nbformat_minor": 0
}
