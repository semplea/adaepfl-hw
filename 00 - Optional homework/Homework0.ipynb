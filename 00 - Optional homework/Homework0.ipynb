{
 "cells": [
  {
   "cell_type": "markdown",
   "metadata": {},
   "source": [
    "# Homework 0"
   ]
  },
  {
   "cell_type": "code",
   "execution_count": 7,
   "metadata": {
    "collapsed": false
   },
   "outputs": [],
   "source": [
    "import csv\n",
    "import pandas as pd\n",
    "import numpy as np\n",
    "import matplotlib.pyplot as plot\n",
    "%matplotlib inline"
   ]
  },
  {
   "cell_type": "code",
   "execution_count": 8,
   "metadata": {
    "collapsed": false
   },
   "outputs": [
    {
     "data": {
      "text/html": [
       "<div>\n",
       "<table border=\"1\" class=\"dataframe\">\n",
       "  <thead>\n",
       "    <tr style=\"text-align: right;\">\n",
       "      <th></th>\n",
       "      <th>year</th>\n",
       "      <th>month</th>\n",
       "      <th>intent</th>\n",
       "      <th>police</th>\n",
       "      <th>sex</th>\n",
       "      <th>age</th>\n",
       "      <th>race</th>\n",
       "      <th>hispanic</th>\n",
       "      <th>place</th>\n",
       "      <th>education</th>\n",
       "    </tr>\n",
       "  </thead>\n",
       "  <tbody>\n",
       "    <tr>\n",
       "      <th>1</th>\n",
       "      <td>2012</td>\n",
       "      <td>1</td>\n",
       "      <td>Suicide</td>\n",
       "      <td>0</td>\n",
       "      <td>M</td>\n",
       "      <td>34.0</td>\n",
       "      <td>Asian/Pacific Islander</td>\n",
       "      <td>100</td>\n",
       "      <td>Home</td>\n",
       "      <td>4.0</td>\n",
       "    </tr>\n",
       "    <tr>\n",
       "      <th>2</th>\n",
       "      <td>2012</td>\n",
       "      <td>1</td>\n",
       "      <td>Suicide</td>\n",
       "      <td>0</td>\n",
       "      <td>F</td>\n",
       "      <td>21.0</td>\n",
       "      <td>White</td>\n",
       "      <td>100</td>\n",
       "      <td>Street</td>\n",
       "      <td>3.0</td>\n",
       "    </tr>\n",
       "    <tr>\n",
       "      <th>3</th>\n",
       "      <td>2012</td>\n",
       "      <td>1</td>\n",
       "      <td>Suicide</td>\n",
       "      <td>0</td>\n",
       "      <td>M</td>\n",
       "      <td>60.0</td>\n",
       "      <td>White</td>\n",
       "      <td>100</td>\n",
       "      <td>Other specified</td>\n",
       "      <td>4.0</td>\n",
       "    </tr>\n",
       "    <tr>\n",
       "      <th>4</th>\n",
       "      <td>2012</td>\n",
       "      <td>2</td>\n",
       "      <td>Suicide</td>\n",
       "      <td>0</td>\n",
       "      <td>M</td>\n",
       "      <td>64.0</td>\n",
       "      <td>White</td>\n",
       "      <td>100</td>\n",
       "      <td>Home</td>\n",
       "      <td>4.0</td>\n",
       "    </tr>\n",
       "    <tr>\n",
       "      <th>5</th>\n",
       "      <td>2012</td>\n",
       "      <td>2</td>\n",
       "      <td>Suicide</td>\n",
       "      <td>0</td>\n",
       "      <td>M</td>\n",
       "      <td>31.0</td>\n",
       "      <td>White</td>\n",
       "      <td>100</td>\n",
       "      <td>Other specified</td>\n",
       "      <td>2.0</td>\n",
       "    </tr>\n",
       "  </tbody>\n",
       "</table>\n",
       "</div>"
      ],
      "text/plain": [
       "   year  month   intent  police sex   age                    race  hispanic  \\\n",
       "1  2012      1  Suicide       0   M  34.0  Asian/Pacific Islander       100   \n",
       "2  2012      1  Suicide       0   F  21.0                   White       100   \n",
       "3  2012      1  Suicide       0   M  60.0                   White       100   \n",
       "4  2012      2  Suicide       0   M  64.0                   White       100   \n",
       "5  2012      2  Suicide       0   M  31.0                   White       100   \n",
       "\n",
       "             place  education  \n",
       "1             Home        4.0  \n",
       "2           Street        3.0  \n",
       "3  Other specified        4.0  \n",
       "4             Home        4.0  \n",
       "5  Other specified        2.0  "
      ]
     },
     "execution_count": 8,
     "metadata": {},
     "output_type": "execute_result"
    }
   ],
   "source": [
    "full_data = pd.read_csv('full_data.csv', index_col=0)\n",
    "full_data.head()"
   ]
  },
  {
   "cell_type": "code",
   "execution_count": 9,
   "metadata": {
    "collapsed": false
   },
   "outputs": [
    {
     "data": {
      "text/plain": [
       "month        False\n",
       "intent        True\n",
       "police       False\n",
       "sex          False\n",
       "age           True\n",
       "race         False\n",
       "hispanic     False\n",
       "place         True\n",
       "education     True\n",
       "dtype: bool"
      ]
     },
     "execution_count": 9,
     "metadata": {},
     "output_type": "execute_result"
    }
   ],
   "source": [
    "full_data.isnull().any(axis=0)[1:11]"
   ]
  },
  {
   "cell_type": "code",
   "execution_count": 10,
   "metadata": {
    "collapsed": false
   },
   "outputs": [
    {
     "data": {
      "text/plain": [
       "(201596, 10)"
      ]
     },
     "execution_count": 10,
     "metadata": {},
     "output_type": "execute_result"
    }
   ],
   "source": [
    "full_data.shape"
   ]
  },
  {
   "cell_type": "code",
   "execution_count": 14,
   "metadata": {
    "collapsed": false
   },
   "outputs": [
    {
     "data": {
      "text/html": [
       "<div>\n",
       "<table border=\"1\" class=\"dataframe\">\n",
       "  <thead>\n",
       "    <tr style=\"text-align: right;\">\n",
       "      <th></th>\n",
       "      <th>year</th>\n",
       "      <th>month</th>\n",
       "      <th>intent</th>\n",
       "      <th>police</th>\n",
       "      <th>sex</th>\n",
       "      <th>age</th>\n",
       "      <th>race</th>\n",
       "      <th>hispanic</th>\n",
       "      <th>place</th>\n",
       "      <th>education</th>\n",
       "    </tr>\n",
       "  </thead>\n",
       "  <tbody>\n",
       "    <tr>\n",
       "      <th>1</th>\n",
       "      <td>2012</td>\n",
       "      <td>1</td>\n",
       "      <td>Suicide</td>\n",
       "      <td>0</td>\n",
       "      <td>M</td>\n",
       "      <td>34.0</td>\n",
       "      <td>Asian/Pacific Islander</td>\n",
       "      <td>100</td>\n",
       "      <td>Home</td>\n",
       "      <td>4.0</td>\n",
       "    </tr>\n",
       "    <tr>\n",
       "      <th>2</th>\n",
       "      <td>2012</td>\n",
       "      <td>1</td>\n",
       "      <td>Suicide</td>\n",
       "      <td>0</td>\n",
       "      <td>F</td>\n",
       "      <td>21.0</td>\n",
       "      <td>White</td>\n",
       "      <td>100</td>\n",
       "      <td>Street</td>\n",
       "      <td>3.0</td>\n",
       "    </tr>\n",
       "    <tr>\n",
       "      <th>3</th>\n",
       "      <td>2012</td>\n",
       "      <td>1</td>\n",
       "      <td>Suicide</td>\n",
       "      <td>0</td>\n",
       "      <td>M</td>\n",
       "      <td>60.0</td>\n",
       "      <td>White</td>\n",
       "      <td>100</td>\n",
       "      <td>Other specified</td>\n",
       "      <td>4.0</td>\n",
       "    </tr>\n",
       "    <tr>\n",
       "      <th>4</th>\n",
       "      <td>2012</td>\n",
       "      <td>2</td>\n",
       "      <td>Suicide</td>\n",
       "      <td>0</td>\n",
       "      <td>M</td>\n",
       "      <td>64.0</td>\n",
       "      <td>White</td>\n",
       "      <td>100</td>\n",
       "      <td>Home</td>\n",
       "      <td>4.0</td>\n",
       "    </tr>\n",
       "    <tr>\n",
       "      <th>5</th>\n",
       "      <td>2012</td>\n",
       "      <td>2</td>\n",
       "      <td>Suicide</td>\n",
       "      <td>0</td>\n",
       "      <td>M</td>\n",
       "      <td>31.0</td>\n",
       "      <td>White</td>\n",
       "      <td>100</td>\n",
       "      <td>Other specified</td>\n",
       "      <td>2.0</td>\n",
       "    </tr>\n",
       "    <tr>\n",
       "      <th>33564</th>\n",
       "      <td>2013</td>\n",
       "      <td>1</td>\n",
       "      <td>Accidental</td>\n",
       "      <td>0</td>\n",
       "      <td>M</td>\n",
       "      <td>33.0</td>\n",
       "      <td>White</td>\n",
       "      <td>100</td>\n",
       "      <td>Home</td>\n",
       "      <td>3.0</td>\n",
       "    </tr>\n",
       "    <tr>\n",
       "      <th>33565</th>\n",
       "      <td>2013</td>\n",
       "      <td>1</td>\n",
       "      <td>Suicide</td>\n",
       "      <td>0</td>\n",
       "      <td>M</td>\n",
       "      <td>37.0</td>\n",
       "      <td>Native American/Native Alaskan</td>\n",
       "      <td>100</td>\n",
       "      <td>Home</td>\n",
       "      <td>2.0</td>\n",
       "    </tr>\n",
       "    <tr>\n",
       "      <th>33566</th>\n",
       "      <td>2013</td>\n",
       "      <td>1</td>\n",
       "      <td>Suicide</td>\n",
       "      <td>0</td>\n",
       "      <td>M</td>\n",
       "      <td>38.0</td>\n",
       "      <td>Native American/Native Alaskan</td>\n",
       "      <td>100</td>\n",
       "      <td>Home</td>\n",
       "      <td>2.0</td>\n",
       "    </tr>\n",
       "    <tr>\n",
       "      <th>33567</th>\n",
       "      <td>2013</td>\n",
       "      <td>1</td>\n",
       "      <td>Suicide</td>\n",
       "      <td>0</td>\n",
       "      <td>M</td>\n",
       "      <td>27.0</td>\n",
       "      <td>Native American/Native Alaskan</td>\n",
       "      <td>100</td>\n",
       "      <td>Home</td>\n",
       "      <td>3.0</td>\n",
       "    </tr>\n",
       "    <tr>\n",
       "      <th>33568</th>\n",
       "      <td>2013</td>\n",
       "      <td>1</td>\n",
       "      <td>Suicide</td>\n",
       "      <td>0</td>\n",
       "      <td>M</td>\n",
       "      <td>22.0</td>\n",
       "      <td>Native American/Native Alaskan</td>\n",
       "      <td>100</td>\n",
       "      <td>Home</td>\n",
       "      <td>2.0</td>\n",
       "    </tr>\n",
       "    <tr>\n",
       "      <th>67200</th>\n",
       "      <td>2014</td>\n",
       "      <td>1</td>\n",
       "      <td>Suicide</td>\n",
       "      <td>0</td>\n",
       "      <td>M</td>\n",
       "      <td>23.0</td>\n",
       "      <td>White</td>\n",
       "      <td>100</td>\n",
       "      <td>Trade/service area</td>\n",
       "      <td>2.0</td>\n",
       "    </tr>\n",
       "    <tr>\n",
       "      <th>67201</th>\n",
       "      <td>2014</td>\n",
       "      <td>1</td>\n",
       "      <td>Suicide</td>\n",
       "      <td>0</td>\n",
       "      <td>M</td>\n",
       "      <td>20.0</td>\n",
       "      <td>White</td>\n",
       "      <td>100</td>\n",
       "      <td>Other specified</td>\n",
       "      <td>3.0</td>\n",
       "    </tr>\n",
       "    <tr>\n",
       "      <th>67202</th>\n",
       "      <td>2014</td>\n",
       "      <td>1</td>\n",
       "      <td>Suicide</td>\n",
       "      <td>0</td>\n",
       "      <td>M</td>\n",
       "      <td>45.0</td>\n",
       "      <td>White</td>\n",
       "      <td>100</td>\n",
       "      <td>Home</td>\n",
       "      <td>4.0</td>\n",
       "    </tr>\n",
       "    <tr>\n",
       "      <th>67203</th>\n",
       "      <td>2014</td>\n",
       "      <td>1</td>\n",
       "      <td>Suicide</td>\n",
       "      <td>0</td>\n",
       "      <td>M</td>\n",
       "      <td>34.0</td>\n",
       "      <td>Native American/Native Alaskan</td>\n",
       "      <td>100</td>\n",
       "      <td>Home</td>\n",
       "      <td>2.0</td>\n",
       "    </tr>\n",
       "    <tr>\n",
       "      <th>67204</th>\n",
       "      <td>2014</td>\n",
       "      <td>1</td>\n",
       "      <td>Suicide</td>\n",
       "      <td>0</td>\n",
       "      <td>M</td>\n",
       "      <td>19.0</td>\n",
       "      <td>Native American/Native Alaskan</td>\n",
       "      <td>100</td>\n",
       "      <td>Home</td>\n",
       "      <td>2.0</td>\n",
       "    </tr>\n",
       "  </tbody>\n",
       "</table>\n",
       "</div>"
      ],
      "text/plain": [
       "       year  month      intent  police sex   age  \\\n",
       "1      2012      1     Suicide       0   M  34.0   \n",
       "2      2012      1     Suicide       0   F  21.0   \n",
       "3      2012      1     Suicide       0   M  60.0   \n",
       "4      2012      2     Suicide       0   M  64.0   \n",
       "5      2012      2     Suicide       0   M  31.0   \n",
       "33564  2013      1  Accidental       0   M  33.0   \n",
       "33565  2013      1     Suicide       0   M  37.0   \n",
       "33566  2013      1     Suicide       0   M  38.0   \n",
       "33567  2013      1     Suicide       0   M  27.0   \n",
       "33568  2013      1     Suicide       0   M  22.0   \n",
       "67200  2014      1     Suicide       0   M  23.0   \n",
       "67201  2014      1     Suicide       0   M  20.0   \n",
       "67202  2014      1     Suicide       0   M  45.0   \n",
       "67203  2014      1     Suicide       0   M  34.0   \n",
       "67204  2014      1     Suicide       0   M  19.0   \n",
       "\n",
       "                                 race  hispanic               place  education  \n",
       "1              Asian/Pacific Islander       100                Home        4.0  \n",
       "2                               White       100              Street        3.0  \n",
       "3                               White       100     Other specified        4.0  \n",
       "4                               White       100                Home        4.0  \n",
       "5                               White       100     Other specified        2.0  \n",
       "33564                           White       100                Home        3.0  \n",
       "33565  Native American/Native Alaskan       100                Home        2.0  \n",
       "33566  Native American/Native Alaskan       100                Home        2.0  \n",
       "33567  Native American/Native Alaskan       100                Home        3.0  \n",
       "33568  Native American/Native Alaskan       100                Home        2.0  \n",
       "67200                           White       100  Trade/service area        2.0  \n",
       "67201                           White       100     Other specified        3.0  \n",
       "67202                           White       100                Home        4.0  \n",
       "67203  Native American/Native Alaskan       100                Home        2.0  \n",
       "67204  Native American/Native Alaskan       100                Home        2.0  "
      ]
     },
     "execution_count": 14,
     "metadata": {},
     "output_type": "execute_result"
    }
   ],
   "source": [
    "year_data = full_data.groupby('year')\n",
    "year_data.head()\n"
   ]
  },
  {
   "cell_type": "code",
   "execution_count": 25,
   "metadata": {
    "collapsed": false
   },
   "outputs": [
    {
     "data": {
      "text/plain": [
       "array([[<matplotlib.axes._subplots.AxesSubplot object at 0x7fcdb2b37b70>,\n",
       "        <matplotlib.axes._subplots.AxesSubplot object at 0x7fcdaefe2860>],\n",
       "       [<matplotlib.axes._subplots.AxesSubplot object at 0x7fcdaee58f60>,\n",
       "        <matplotlib.axes._subplots.AxesSubplot object at 0x7fcdaee0dac8>]], dtype=object)"
      ]
     },
     "execution_count": 25,
     "metadata": {},
     "output_type": "execute_result"
    },
    {
     "data": {
      "image/png": "[encoded data removed]",
      "text/plain": [
       "<matplotlib.figure.Figure at 0x7fcdaef74630>"
      ]
     },
     "metadata": {},
     "output_type": "display_data"
    }
   ],
   "source": [
    "full_data.hist(column=\"age\", by='intent', color=\"purple\", bins=15)"
   ]
  },
  {
   "cell_type": "code",
   "execution_count": 28,
   "metadata": {
    "collapsed": false
   },
   "outputs": [
    {
     "name": "stdout",
     "output_type": "stream",
     "text": [
      "2013    67272\n",
      "2014    67198\n",
      "2012    67126\n",
      "Name: year, dtype: int64\n",
      "M    172698\n",
      "F     28898\n",
      "Name: sex, dtype: int64\n"
     ]
    }
   ],
   "source": [
    "print(full_data.year.value_counts())\n",
    "print(full_data.sex.value_counts())"
   ]
  },
  {
   "cell_type": "code",
   "execution_count": null,
   "metadata": {
    "collapsed": true
   },
   "outputs": [],
   "source": []
  }
 ],
 "metadata": {
  "kernelspec": {
   "display_name": "Python [Root]",
   "language": "python",
   "name": "Python [Root]"
  },
  "language_info": {
   "codemirror_mode": {
    "name": "ipython",
    "version": 3
   },
   "file_extension": ".py",
   "mimetype": "text/x-python",
   "name": "python",
   "nbconvert_exporter": "python",
   "pygments_lexer": "ipython3",
   "version": "3.5.2"
  }
 },
 "nbformat": 4,
 "nbformat_minor": 0
}
