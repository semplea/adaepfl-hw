{
 "cells": [
  {
   "cell_type": "code",
   "execution_count": 1,
   "metadata": {
    "collapsed": false
   },
   "outputs": [],
   "source": [
    "import pandas as pd\n",
    "import numpy as np \n",
    "from sklearn.ensemble import RandomForestRegressor, RandomForestClassifier\n",
    "import matplotlib.pyplot as plt \n",
    "import seaborn as sns\n",
    "import warnings\n",
    "import math\n",
    "warnings.filterwarnings('ignore')\n",
    "%matplotlib inline\n",
    "pd.options.mode.chained_assignment = None"
   ]
  },
  {
   "cell_type": "markdown",
   "metadata": {},
   "source": [
    "# Applied Machine Learning\n",
    "In this assignment we will explore a dataset about soccer players and referees, focusing predictions and clustering essentially on the players' skin color."
   ]
  },
  {
   "cell_type": "markdown",
   "metadata": {},
   "source": [
    "## Preprocessing"
   ]
  },
  {
   "cell_type": "markdown",
   "metadata": {},
   "source": [
    "Let's have a look at the data:"
   ]
  },
  {
   "cell_type": "code",
   "execution_count": 2,
   "metadata": {
    "collapsed": false
   },
   "outputs": [
    {
     "data": {
      "text/html": [
       "<div>\n",
       "<table border=\"1\" class=\"dataframe\">\n",
       "  <thead>\n",
       "    <tr style=\"text-align: right;\">\n",
       "      <th></th>\n",
       "      <th>playerShort</th>\n",
       "      <th>player</th>\n",
       "      <th>club</th>\n",
       "      <th>leagueCountry</th>\n",
       "      <th>birthday</th>\n",
       "      <th>height</th>\n",
       "      <th>weight</th>\n",
       "      <th>position</th>\n",
       "      <th>games</th>\n",
       "      <th>victories</th>\n",
       "      <th>ties</th>\n",
       "      <th>defeats</th>\n",
       "      <th>goals</th>\n",
       "      <th>yellowCards</th>\n",
       "    </tr>\n",
       "  </thead>\n",
       "  <tbody>\n",
       "    <tr>\n",
       "      <th>0</th>\n",
       "      <td>lucas-wilchez</td>\n",
       "      <td>Lucas Wilchez</td>\n",
       "      <td>Real Zaragoza</td>\n",
       "      <td>Spain</td>\n",
       "      <td>31.08.1983</td>\n",
       "      <td>177.0</td>\n",
       "      <td>72.0</td>\n",
       "      <td>Attacking Midfielder</td>\n",
       "      <td>1</td>\n",
       "      <td>0</td>\n",
       "      <td>0</td>\n",
       "      <td>1</td>\n",
       "      <td>0</td>\n",
       "      <td>0</td>\n",
       "    </tr>\n",
       "    <tr>\n",
       "      <th>1</th>\n",
       "      <td>john-utaka</td>\n",
       "      <td>John Utaka</td>\n",
       "      <td>Montpellier HSC</td>\n",
       "      <td>France</td>\n",
       "      <td>08.01.1982</td>\n",
       "      <td>179.0</td>\n",
       "      <td>82.0</td>\n",
       "      <td>Right Winger</td>\n",
       "      <td>1</td>\n",
       "      <td>0</td>\n",
       "      <td>0</td>\n",
       "      <td>1</td>\n",
       "      <td>0</td>\n",
       "      <td>1</td>\n",
       "    </tr>\n",
       "    <tr>\n",
       "      <th>2</th>\n",
       "      <td>abdon-prats</td>\n",
       "      <td>Abdón Prats</td>\n",
       "      <td>RCD Mallorca</td>\n",
       "      <td>Spain</td>\n",
       "      <td>17.12.1992</td>\n",
       "      <td>181.0</td>\n",
       "      <td>79.0</td>\n",
       "      <td>NaN</td>\n",
       "      <td>1</td>\n",
       "      <td>0</td>\n",
       "      <td>1</td>\n",
       "      <td>0</td>\n",
       "      <td>0</td>\n",
       "      <td>1</td>\n",
       "    </tr>\n",
       "    <tr>\n",
       "      <th>3</th>\n",
       "      <td>pablo-mari</td>\n",
       "      <td>Pablo Marí</td>\n",
       "      <td>RCD Mallorca</td>\n",
       "      <td>Spain</td>\n",
       "      <td>31.08.1993</td>\n",
       "      <td>191.0</td>\n",
       "      <td>87.0</td>\n",
       "      <td>Center Back</td>\n",
       "      <td>1</td>\n",
       "      <td>1</td>\n",
       "      <td>0</td>\n",
       "      <td>0</td>\n",
       "      <td>0</td>\n",
       "      <td>0</td>\n",
       "    </tr>\n",
       "    <tr>\n",
       "      <th>4</th>\n",
       "      <td>ruben-pena</td>\n",
       "      <td>Rubén Peña</td>\n",
       "      <td>Real Valladolid</td>\n",
       "      <td>Spain</td>\n",
       "      <td>18.07.1991</td>\n",
       "      <td>172.0</td>\n",
       "      <td>70.0</td>\n",
       "      <td>Right Midfielder</td>\n",
       "      <td>1</td>\n",
       "      <td>1</td>\n",
       "      <td>0</td>\n",
       "      <td>0</td>\n",
       "      <td>0</td>\n",
       "      <td>0</td>\n",
       "    </tr>\n",
       "    <tr>\n",
       "      <th>5</th>\n",
       "      <td>aaron-hughes</td>\n",
       "      <td>Aaron Hughes</td>\n",
       "      <td>Fulham FC</td>\n",
       "      <td>England</td>\n",
       "      <td>08.11.1979</td>\n",
       "      <td>182.0</td>\n",
       "      <td>71.0</td>\n",
       "      <td>Center Back</td>\n",
       "      <td>1</td>\n",
       "      <td>0</td>\n",
       "      <td>0</td>\n",
       "      <td>1</td>\n",
       "      <td>0</td>\n",
       "      <td>0</td>\n",
       "    </tr>\n",
       "  </tbody>\n",
       "</table>\n",
       "</div>"
      ],
      "text/plain": [
       "     playerShort         player             club leagueCountry    birthday  \\\n",
       "0  lucas-wilchez  Lucas Wilchez    Real Zaragoza         Spain  31.08.1983   \n",
       "1     john-utaka     John Utaka  Montpellier HSC        France  08.01.1982   \n",
       "2    abdon-prats    Abdón Prats     RCD Mallorca         Spain  17.12.1992   \n",
       "3     pablo-mari     Pablo Marí     RCD Mallorca         Spain  31.08.1993   \n",
       "4     ruben-pena     Rubén Peña  Real Valladolid         Spain  18.07.1991   \n",
       "5   aaron-hughes   Aaron Hughes        Fulham FC       England  08.11.1979   \n",
       "\n",
       "   height  weight              position  games  victories  ties  defeats  \\\n",
       "0   177.0    72.0  Attacking Midfielder      1          0     0        1   \n",
       "1   179.0    82.0          Right Winger      1          0     0        1   \n",
       "2   181.0    79.0                   NaN      1          0     1        0   \n",
       "3   191.0    87.0           Center Back      1          1     0        0   \n",
       "4   172.0    70.0      Right Midfielder      1          1     0        0   \n",
       "5   182.0    71.0           Center Back      1          0     0        1   \n",
       "\n",
       "   goals  yellowCards  \n",
       "0      0            0  \n",
       "1      0            1  \n",
       "2      0            1  \n",
       "3      0            0  \n",
       "4      0            0  \n",
       "5      0            0  "
      ]
     },
     "execution_count": 2,
     "metadata": {},
     "output_type": "execute_result"
    }
   ],
   "source": [
    "data = pd.read_csv('CrowdstormingDataJuly1st.csv')\n",
    "data.ix[:5,:14]"
   ]
  },
  {
   "cell_type": "code",
   "execution_count": 3,
   "metadata": {
    "collapsed": false
   },
   "outputs": [
    {
     "data": {
      "text/html": [
       "<div>\n",
       "<table border=\"1\" class=\"dataframe\">\n",
       "  <thead>\n",
       "    <tr style=\"text-align: right;\">\n",
       "      <th></th>\n",
       "      <th>yellowReds</th>\n",
       "      <th>redCards</th>\n",
       "      <th>photoID</th>\n",
       "      <th>rater1</th>\n",
       "      <th>rater2</th>\n",
       "      <th>refNum</th>\n",
       "      <th>refCountry</th>\n",
       "      <th>Alpha_3</th>\n",
       "      <th>meanIAT</th>\n",
       "      <th>nIAT</th>\n",
       "      <th>seIAT</th>\n",
       "      <th>meanExp</th>\n",
       "      <th>nExp</th>\n",
       "      <th>seExp</th>\n",
       "    </tr>\n",
       "  </thead>\n",
       "  <tbody>\n",
       "    <tr>\n",
       "      <th>0</th>\n",
       "      <td>0</td>\n",
       "      <td>0</td>\n",
       "      <td>95212.jpg</td>\n",
       "      <td>0.25</td>\n",
       "      <td>0.50</td>\n",
       "      <td>1</td>\n",
       "      <td>1</td>\n",
       "      <td>GRC</td>\n",
       "      <td>0.326391</td>\n",
       "      <td>712.0</td>\n",
       "      <td>0.000564</td>\n",
       "      <td>0.396000</td>\n",
       "      <td>750.0</td>\n",
       "      <td>0.002696</td>\n",
       "    </tr>\n",
       "    <tr>\n",
       "      <th>1</th>\n",
       "      <td>0</td>\n",
       "      <td>0</td>\n",
       "      <td>1663.jpg</td>\n",
       "      <td>0.75</td>\n",
       "      <td>0.75</td>\n",
       "      <td>2</td>\n",
       "      <td>2</td>\n",
       "      <td>ZMB</td>\n",
       "      <td>0.203375</td>\n",
       "      <td>40.0</td>\n",
       "      <td>0.010875</td>\n",
       "      <td>-0.204082</td>\n",
       "      <td>49.0</td>\n",
       "      <td>0.061504</td>\n",
       "    </tr>\n",
       "    <tr>\n",
       "      <th>2</th>\n",
       "      <td>0</td>\n",
       "      <td>0</td>\n",
       "      <td>NaN</td>\n",
       "      <td>NaN</td>\n",
       "      <td>NaN</td>\n",
       "      <td>3</td>\n",
       "      <td>3</td>\n",
       "      <td>ESP</td>\n",
       "      <td>0.369894</td>\n",
       "      <td>1785.0</td>\n",
       "      <td>0.000229</td>\n",
       "      <td>0.588297</td>\n",
       "      <td>1897.0</td>\n",
       "      <td>0.001002</td>\n",
       "    </tr>\n",
       "    <tr>\n",
       "      <th>3</th>\n",
       "      <td>0</td>\n",
       "      <td>0</td>\n",
       "      <td>NaN</td>\n",
       "      <td>NaN</td>\n",
       "      <td>NaN</td>\n",
       "      <td>3</td>\n",
       "      <td>3</td>\n",
       "      <td>ESP</td>\n",
       "      <td>0.369894</td>\n",
       "      <td>1785.0</td>\n",
       "      <td>0.000229</td>\n",
       "      <td>0.588297</td>\n",
       "      <td>1897.0</td>\n",
       "      <td>0.001002</td>\n",
       "    </tr>\n",
       "    <tr>\n",
       "      <th>4</th>\n",
       "      <td>0</td>\n",
       "      <td>0</td>\n",
       "      <td>NaN</td>\n",
       "      <td>NaN</td>\n",
       "      <td>NaN</td>\n",
       "      <td>3</td>\n",
       "      <td>3</td>\n",
       "      <td>ESP</td>\n",
       "      <td>0.369894</td>\n",
       "      <td>1785.0</td>\n",
       "      <td>0.000229</td>\n",
       "      <td>0.588297</td>\n",
       "      <td>1897.0</td>\n",
       "      <td>0.001002</td>\n",
       "    </tr>\n",
       "    <tr>\n",
       "      <th>5</th>\n",
       "      <td>0</td>\n",
       "      <td>0</td>\n",
       "      <td>3868.jpg</td>\n",
       "      <td>0.25</td>\n",
       "      <td>0.00</td>\n",
       "      <td>4</td>\n",
       "      <td>4</td>\n",
       "      <td>LUX</td>\n",
       "      <td>0.325185</td>\n",
       "      <td>127.0</td>\n",
       "      <td>0.003297</td>\n",
       "      <td>0.538462</td>\n",
       "      <td>130.0</td>\n",
       "      <td>0.013752</td>\n",
       "    </tr>\n",
       "  </tbody>\n",
       "</table>\n",
       "</div>"
      ],
      "text/plain": [
       "   yellowReds  redCards    photoID  rater1  rater2  refNum  refCountry  \\\n",
       "0           0         0  95212.jpg    0.25    0.50       1           1   \n",
       "1           0         0   1663.jpg    0.75    0.75       2           2   \n",
       "2           0         0        NaN     NaN     NaN       3           3   \n",
       "3           0         0        NaN     NaN     NaN       3           3   \n",
       "4           0         0        NaN     NaN     NaN       3           3   \n",
       "5           0         0   3868.jpg    0.25    0.00       4           4   \n",
       "\n",
       "  Alpha_3   meanIAT    nIAT     seIAT   meanExp    nExp     seExp  \n",
       "0     GRC  0.326391   712.0  0.000564  0.396000   750.0  0.002696  \n",
       "1     ZMB  0.203375    40.0  0.010875 -0.204082    49.0  0.061504  \n",
       "2     ESP  0.369894  1785.0  0.000229  0.588297  1897.0  0.001002  \n",
       "3     ESP  0.369894  1785.0  0.000229  0.588297  1897.0  0.001002  \n",
       "4     ESP  0.369894  1785.0  0.000229  0.588297  1897.0  0.001002  \n",
       "5     LUX  0.325185   127.0  0.003297  0.538462   130.0  0.013752  "
      ]
     },
     "execution_count": 3,
     "metadata": {},
     "output_type": "execute_result"
    }
   ],
   "source": [
    "data.ix[:5,14:]"
   ]
  },
  {
   "cell_type": "markdown",
   "metadata": {},
   "source": [
    "### NaN values"
   ]
  },
  {
   "cell_type": "code",
   "execution_count": 4,
   "metadata": {
    "collapsed": false
   },
   "outputs": [
    {
     "data": {
      "text/plain": [
       "playerShort          0\n",
       "player               0\n",
       "club                 0\n",
       "leagueCountry        0\n",
       "birthday             0\n",
       "height             263\n",
       "weight            2243\n",
       "position         17726\n",
       "games                0\n",
       "victories            0\n",
       "ties                 0\n",
       "defeats              0\n",
       "goals                0\n",
       "yellowCards          0\n",
       "yellowReds           0\n",
       "redCards             0\n",
       "photoID          21407\n",
       "rater1           21407\n",
       "rater2           21407\n",
       "refNum               0\n",
       "refCountry           0\n",
       "Alpha_3              1\n",
       "meanIAT            163\n",
       "nIAT               163\n",
       "seIAT              163\n",
       "meanExp            163\n",
       "nExp               163\n",
       "seExp              163\n",
       "dtype: int64"
      ]
     },
     "execution_count": 4,
     "metadata": {},
     "output_type": "execute_result"
    }
   ],
   "source": [
    "data.isnull().sum()"
   ]
  },
  {
   "cell_type": "code",
   "execution_count": 5,
   "metadata": {
    "collapsed": true
   },
   "outputs": [],
   "source": [
    "filtered = data.dropna()"
   ]
  },
  {
   "cell_type": "code",
   "execution_count": 6,
   "metadata": {
    "collapsed": false
   },
   "outputs": [
    {
     "data": {
      "text/plain": [
       "0.790649738406333"
      ]
     },
     "execution_count": 6,
     "metadata": {},
     "output_type": "execute_result"
    }
   ],
   "source": [
    "len(filtered)/len(data)"
   ]
  },
  {
   "cell_type": "markdown",
   "metadata": {},
   "source": [
    "If we would decide to simply discard all the NaN values, we would keep only 21% of the DataSet. We are mainly interested in the skin color of each player so we will have a closer look at the `rater1` and `rater2` skin rating columns."
   ]
  },
  {
   "cell_type": "markdown",
   "metadata": {},
   "source": [
    "### Skin Color"
   ]
  },
  {
   "cell_type": "code",
   "execution_count": 7,
   "metadata": {
    "collapsed": false
   },
   "outputs": [
    {
     "data": {
      "text/plain": [
       "0.14659517352836443"
      ]
     },
     "execution_count": 7,
     "metadata": {},
     "output_type": "execute_result"
    }
   ],
   "source": [
    "len(data[data.rater1.isnull() & (data.rater2.isnull())])/len(data)"
   ]
  },
  {
   "cell_type": "markdown",
   "metadata": {},
   "source": [
    "15% of the dataset will be discarded as it doesn't give any information about the skin color."
   ]
  },
  {
   "cell_type": "code",
   "execution_count": 8,
   "metadata": {
    "collapsed": false
   },
   "outputs": [],
   "source": [
    "skin_data = data.dropna(how='all', subset=['rater1','rater2'])"
   ]
  },
  {
   "cell_type": "markdown",
   "metadata": {},
   "source": [
    "We will also drop the cell with missing IAT or Exp score as there are only 152"
   ]
  },
  {
   "cell_type": "code",
   "execution_count": 9,
   "metadata": {
    "collapsed": true
   },
   "outputs": [],
   "source": [
    "skin_data = skin_data.dropna(how='all', subset=['meanIAT', 'nIAT'])"
   ]
  },
  {
   "cell_type": "code",
   "execution_count": 10,
   "metadata": {
    "collapsed": false
   },
   "outputs": [
    {
     "data": {
      "text/plain": [
       "0"
      ]
     },
     "execution_count": 10,
     "metadata": {},
     "output_type": "execute_result"
    }
   ],
   "source": [
    "len(skin_data[skin_data.rater1.isnull() | (skin_data.rater2.isnull())])"
   ]
  },
  {
   "cell_type": "markdown",
   "metadata": {},
   "source": [
    "We can observe that there were always values for both `rater1` and `rater2` or not any values. Let's have a look at the data for which the raters gave a different skin color."
   ]
  },
  {
   "cell_type": "code",
   "execution_count": 11,
   "metadata": {
    "collapsed": true
   },
   "outputs": [],
   "source": [
    "skin_data_differ = skin_data[skin_data.rater1 != skin_data.rater2]"
   ]
  },
  {
   "cell_type": "code",
   "execution_count": 12,
   "metadata": {
    "collapsed": false
   },
   "outputs": [
    {
     "data": {
      "text/plain": [
       "0.23189896198219623"
      ]
     },
     "execution_count": 12,
     "metadata": {},
     "output_type": "execute_result"
    }
   ],
   "source": [
    "len(skin_data_differ)/len(skin_data)"
   ]
  },
  {
   "cell_type": "markdown",
   "metadata": {},
   "source": [
    "For 23% of the player the two raters gave a different value. Let's see if they gave skin colors that are almost the same or opposite skin colors:"
   ]
  },
  {
   "cell_type": "code",
   "execution_count": 13,
   "metadata": {
    "collapsed": false
   },
   "outputs": [],
   "source": [
    "skin_data['skin_difference'] = skin_data.apply(lambda x: abs(x['rater1'] - x['rater2']), axis=1)"
   ]
  },
  {
   "cell_type": "code",
   "execution_count": 14,
   "metadata": {
    "collapsed": false
   },
   "outputs": [
    {
     "data": {
      "image/png": "[encoded data removed]",
      "text/plain": [
       "<matplotlib.figure.Figure at 0x7faa5be4fbe0>"
      ]
     },
     "metadata": {},
     "output_type": "display_data"
    }
   ],
   "source": [
    "palette = sns.color_palette()\n",
    "sns.countplot(x=\"skin_difference\", data=skin_data);"
   ]
  },
  {
   "cell_type": "markdown",
   "metadata": {},
   "source": [
    "If the two raters differ, it is only by one on the 5-point scale or by 2. We decide to keep the average value of the two raters on a 0 to 8 scale. (so that the average keep all the information)"
   ]
  },
  {
   "cell_type": "code",
   "execution_count": 15,
   "metadata": {
    "collapsed": false
   },
   "outputs": [],
   "source": [
    "skin_data['skin'] = skin_data.apply(lambda x: (x['rater1']+x['rater2'])/2*4, axis=1)"
   ]
  },
  {
   "cell_type": "code",
   "execution_count": 16,
   "metadata": {
    "collapsed": false
   },
   "outputs": [
    {
     "data": {
      "image/png": "[encoded data removed]",
      "text/plain": [
       "<matplotlib.figure.Figure at 0x7faa5be4fe48>"
      ]
     },
     "metadata": {},
     "output_type": "display_data"
    }
   ],
   "source": [
    "sns.countplot(x=\"skin\", data=skin_data, palette=sns.color_palette(\"Greys\", 9));"
   ]
  },
  {
   "cell_type": "markdown",
   "metadata": {},
   "source": [
    "Since we are looking at data from countries with predominantly caucasion populations, it seems reasonable to have a larger white population."
   ]
  },
  {
   "cell_type": "markdown",
   "metadata": {},
   "source": [
    "### Age\n",
    "There are not any missing birthday value. We will have a look at the age distribution."
   ]
  },
  {
   "cell_type": "code",
   "execution_count": 17,
   "metadata": {
    "collapsed": false
   },
   "outputs": [],
   "source": [
    "# The birthday string is converted into a datetime type\n",
    "import datetime\n",
    "skin_data['birthday'] = skin_data.apply(lambda x: datetime.datetime.strptime(x['birthday'], \"%d.%m.%Y\"), axis=1)"
   ]
  },
  {
   "cell_type": "code",
   "execution_count": 18,
   "metadata": {
    "collapsed": false
   },
   "outputs": [
    {
     "data": {
      "text/plain": [
       "0   1983-08-31\n",
       "1   1982-01-08\n",
       "5   1979-11-08\n",
       "6   1985-11-10\n",
       "7   1986-04-04\n",
       "Name: birthday, dtype: datetime64[ns]"
      ]
     },
     "execution_count": 18,
     "metadata": {},
     "output_type": "execute_result"
    }
   ],
   "source": [
    "skin_data['birthday'].head()"
   ]
  },
  {
   "cell_type": "code",
   "execution_count": 19,
   "metadata": {
    "collapsed": false,
    "scrolled": true
   },
   "outputs": [],
   "source": [
    "import datetime as DT\n",
    "now = pd.Timestamp(DT.datetime.now())\n",
    "# We will plot the age in year of the players from their birthday\n",
    "age = skin_data[['birthday']]\n",
    "skin_data['age'] = age.apply(lambda x: int((now - x['birthday']).days/365.25) , axis=1)"
   ]
  },
  {
   "cell_type": "code",
   "execution_count": 20,
   "metadata": {
    "collapsed": false
   },
   "outputs": [
    {
     "data": {
      "image/png": "[encoded data removed]",
      "text/plain": [
       "<matplotlib.figure.Figure at 0x7faa5b9fb710>"
      ]
     },
     "metadata": {},
     "output_type": "display_data"
    }
   ],
   "source": [
    "p = sns.countplot(x=\"age\", data=skin_data)"
   ]
  },
  {
   "cell_type": "markdown",
   "metadata": {},
   "source": [
    "Everything seems fine for the date values. Note that this is the distribution for the data non-aggregated by player. So it is reasonable to assume that older players, who have many more interactions with referees, appear many more times in this countplot than younger players, which is why the mean is surprisingly high."
   ]
  },
  {
   "cell_type": "markdown",
   "metadata": {},
   "source": [
    "### League Country"
   ]
  },
  {
   "cell_type": "code",
   "execution_count": 21,
   "metadata": {
    "collapsed": false
   },
   "outputs": [
    {
     "data": {
      "image/png": "[encoded data removed]",
      "text/plain": [
       "<matplotlib.figure.Figure at 0x7faa53317208>"
      ]
     },
     "metadata": {},
     "output_type": "display_data"
    }
   ],
   "source": [
    "sns.countplot(x=\"leagueCountry\", data=skin_data);"
   ]
  },
  {
   "cell_type": "markdown",
   "metadata": {},
   "source": [
    "### Height"
   ]
  },
  {
   "cell_type": "code",
   "execution_count": 22,
   "metadata": {
    "collapsed": false,
    "scrolled": true
   },
   "outputs": [
    {
     "data": {
      "image/png": "[encoded data removed]",
      "text/plain": [
       "<matplotlib.figure.Figure at 0x7faa5331b7b8>"
      ]
     },
     "metadata": {},
     "output_type": "display_data"
    }
   ],
   "source": [
    "import matplotlib.ticker as ticker\n",
    "f, ax = plt.subplots(figsize=(8,6))\n",
    "heights = skin_data['height'].dropna()\n",
    "plt.hist(heights, bins=20);\n",
    "f.suptitle(\"Height distribution\");"
   ]
  },
  {
   "cell_type": "markdown",
   "metadata": {},
   "source": [
    "There is no outliers and the distribution looks normal."
   ]
  },
  {
   "cell_type": "markdown",
   "metadata": {},
   "source": [
    "### Weight"
   ]
  },
  {
   "cell_type": "code",
   "execution_count": 23,
   "metadata": {
    "collapsed": false
   },
   "outputs": [
    {
     "data": {
      "image/png": "[encoded data removed]",
      "text/plain": [
       "<matplotlib.figure.Figure at 0x7faa5331b668>"
      ]
     },
     "metadata": {},
     "output_type": "display_data"
    }
   ],
   "source": [
    "f, ax = plt.subplots(figsize=(8, 6))\n",
    "plt.hist(skin_data.weight.dropna(), bins=20)\n",
    "f.suptitle(\"Weight distribution\");"
   ]
  },
  {
   "cell_type": "markdown",
   "metadata": {},
   "source": [
    "### Position "
   ]
  },
  {
   "cell_type": "code",
   "execution_count": 24,
   "metadata": {
    "collapsed": false
   },
   "outputs": [
    {
     "data": {
      "image/png": "[encoded data removed]",
      "text/plain": [
       "<matplotlib.figure.Figure at 0x7faa5b6a36d8>"
      ]
     },
     "metadata": {},
     "output_type": "display_data"
    }
   ],
   "source": [
    "pos = sns.countplot(x=\"position\", data=skin_data);\n",
    "plt.setp(pos.get_xticklabels(), rotation=90);"
   ]
  },
  {
   "cell_type": "code",
   "execution_count": 25,
   "metadata": {
    "collapsed": false
   },
   "outputs": [],
   "source": [
    "missing_values = skin_data['position'].isnull().value_counts()"
   ]
  },
  {
   "cell_type": "code",
   "execution_count": 26,
   "metadata": {
    "collapsed": false
   },
   "outputs": [
    {
     "data": {
      "text/plain": [
       "0.072870515627424276"
      ]
     },
     "execution_count": 26,
     "metadata": {},
     "output_type": "execute_result"
    }
   ],
   "source": [
    "missing_values[1]/missing_values[0]"
   ]
  },
  {
   "cell_type": "markdown",
   "metadata": {},
   "source": [
    "7% of the positions are missing. We will replace them by the most by a category `Missing Position`."
   ]
  },
  {
   "cell_type": "markdown",
   "metadata": {},
   "source": [
    "### Referees"
   ]
  },
  {
   "cell_type": "code",
   "execution_count": 27,
   "metadata": {
    "collapsed": false
   },
   "outputs": [
    {
     "name": "stdout",
     "output_type": "stream",
     "text": [
      "There are 2967 different referees.\n"
     ]
    }
   ],
   "source": [
    "print('There are ' + str(len(skin_data['refNum'].value_counts())) + ' different referees.')"
   ]
  },
  {
   "cell_type": "code",
   "execution_count": 28,
   "metadata": {
    "collapsed": false
   },
   "outputs": [
    {
     "name": "stdout",
     "output_type": "stream",
     "text": [
      "Which come from 155 different countries...\n"
     ]
    }
   ],
   "source": [
    "print('Which come from ' + str(len(skin_data['refCountry'].value_counts())) + ' different countries...')"
   ]
  },
  {
   "cell_type": "markdown",
   "metadata": {},
   "source": [
    "### Standardization, Categorical Features Encoding and Replacing Missing Values"
   ]
  },
  {
   "cell_type": "markdown",
   "metadata": {},
   "source": [
    "We transform each feature into a representation that is more suitable for the machine learning methods. Each feature will be **standardized** if it is a float number (remove mean value, scale dividing by standard deviation) using the `StandardScaler()` function from `sklearn`. If there are missing values, they will be replaced by the mean, which is 0 after applying the StandardScaler. The categorical features will be **encoded** using the `LabelEncoder()` function which converts categorical variable into numerical values. The learning models consider continuous values and don't handle categorical features, but we hope RandomForest will be robust again those values. The missing categorical variables are replaced by `Missing Category`. We discard the name of the player, as well as the photoID and the birthday as it is a one to one relationship with the skin color."
   ]
  },
  {
   "cell_type": "code",
   "execution_count": 29,
   "metadata": {
    "collapsed": false
   },
   "outputs": [],
   "source": [
    "from sklearn.preprocessing import LabelEncoder, StandardScaler, Imputer \n",
    "from sklearn.feature_extraction import DictVectorizer\n",
    "\n",
    "# Replacing missing values for categorical data:\n",
    "skin_data['position'] = skin_data['position'].fillna('Missing Position')\n",
    "# For the Alpha_3 there is only one missing value so we will drop it\n",
    "skin_data = skin_data.dropna(subset=['Alpha_3'])\n",
    "\n",
    "# Features to be standardized\n",
    "stand = ['height', 'weight', 'games', 'victories', 'ties', 'defeats', 'goals', 'yellowCards', 'redCards', \n",
    "         'yellowReds', 'age', 'skin', 'skin_difference', 'rater1', 'rater2']\n",
    "# Categorical features to be encoded\n",
    "cat = ['club', 'leagueCountry', 'position']\n",
    "\n",
    "standardized = skin_data.copy()\n",
    "standardized['skin_nonorm'] = standardized['skin']\n",
    "# Encode categories\n",
    "for c in cat:\n",
    "    standardized[c] = LabelEncoder().fit_transform(standardized[c])\n",
    "\n",
    "# The first function fills the missing values and the second one will apply the standardization \n",
    "for s in stand:\n",
    "    standardized[s] = Imputer(strategy='mean', axis=1).fit_transform(standardized[s])[0]\n",
    "    standardized[s] = StandardScaler().fit_transform(standardized[s])\n",
    "    \n",
    "     \n",
    "# Discard names of players and photoID\n",
    "skin_data_dropped = standardized.drop(labels=['playerShort', 'player', 'photoID', 'birthday', 'Alpha_3'], axis=1)"
   ]
  },
  {
   "cell_type": "code",
   "execution_count": 30,
   "metadata": {
    "collapsed": false,
    "scrolled": true
   },
   "outputs": [
    {
     "data": {
      "text/html": [
       "<div>\n",
       "<table border=\"1\" class=\"dataframe\">\n",
       "  <thead>\n",
       "    <tr style=\"text-align: right;\">\n",
       "      <th></th>\n",
       "      <th>club</th>\n",
       "      <th>leagueCountry</th>\n",
       "      <th>height</th>\n",
       "      <th>weight</th>\n",
       "      <th>position</th>\n",
       "      <th>games</th>\n",
       "      <th>victories</th>\n",
       "      <th>ties</th>\n",
       "      <th>defeats</th>\n",
       "      <th>goals</th>\n",
       "      <th>...</th>\n",
       "      <th>meanIAT</th>\n",
       "      <th>nIAT</th>\n",
       "      <th>seIAT</th>\n",
       "      <th>meanExp</th>\n",
       "      <th>nExp</th>\n",
       "      <th>seExp</th>\n",
       "      <th>skin_difference</th>\n",
       "      <th>skin</th>\n",
       "      <th>age</th>\n",
       "      <th>skin_nonorm</th>\n",
       "    </tr>\n",
       "  </thead>\n",
       "  <tbody>\n",
       "    <tr>\n",
       "      <th>0</th>\n",
       "      <td>70</td>\n",
       "      <td>3</td>\n",
       "      <td>-0.753585</td>\n",
       "      <td>-0.609844</td>\n",
       "      <td>0</td>\n",
       "      <td>-0.557169</td>\n",
       "      <td>-0.714417</td>\n",
       "      <td>-0.625217</td>\n",
       "      <td>0.044463</td>\n",
       "      <td>-0.374371</td>\n",
       "      <td>...</td>\n",
       "      <td>0.326391</td>\n",
       "      <td>712.0</td>\n",
       "      <td>0.000564</td>\n",
       "      <td>0.396000</td>\n",
       "      <td>750.0</td>\n",
       "      <td>0.002696</td>\n",
       "      <td>1.800031</td>\n",
       "      <td>0.317661</td>\n",
       "      <td>0.459019</td>\n",
       "      <td>1.5</td>\n",
       "    </tr>\n",
       "    <tr>\n",
       "      <th>1</th>\n",
       "      <td>51</td>\n",
       "      <td>1</td>\n",
       "      <td>-0.459621</td>\n",
       "      <td>0.785575</td>\n",
       "      <td>12</td>\n",
       "      <td>-0.557169</td>\n",
       "      <td>-0.714417</td>\n",
       "      <td>-0.625217</td>\n",
       "      <td>0.044463</td>\n",
       "      <td>-0.374371</td>\n",
       "      <td>...</td>\n",
       "      <td>0.203375</td>\n",
       "      <td>40.0</td>\n",
       "      <td>0.010875</td>\n",
       "      <td>-0.204082</td>\n",
       "      <td>49.0</td>\n",
       "      <td>0.061504</td>\n",
       "      <td>-0.547478</td>\n",
       "      <td>1.617787</td>\n",
       "      <td>0.687089</td>\n",
       "      <td>3.0</td>\n",
       "    </tr>\n",
       "    <tr>\n",
       "      <th>5</th>\n",
       "      <td>34</td>\n",
       "      <td>0</td>\n",
       "      <td>-0.018675</td>\n",
       "      <td>-0.749386</td>\n",
       "      <td>1</td>\n",
       "      <td>-0.557169</td>\n",
       "      <td>-0.714417</td>\n",
       "      <td>-0.625217</td>\n",
       "      <td>0.044463</td>\n",
       "      <td>-0.374371</td>\n",
       "      <td>...</td>\n",
       "      <td>0.325185</td>\n",
       "      <td>127.0</td>\n",
       "      <td>0.003297</td>\n",
       "      <td>0.538462</td>\n",
       "      <td>130.0</td>\n",
       "      <td>0.013752</td>\n",
       "      <td>1.800031</td>\n",
       "      <td>-0.549090</td>\n",
       "      <td>1.371299</td>\n",
       "      <td>0.5</td>\n",
       "    </tr>\n",
       "    <tr>\n",
       "      <th>6</th>\n",
       "      <td>48</td>\n",
       "      <td>0</td>\n",
       "      <td>0.716234</td>\n",
       "      <td>0.506492</td>\n",
       "      <td>6</td>\n",
       "      <td>-0.557169</td>\n",
       "      <td>-0.182707</td>\n",
       "      <td>-0.625217</td>\n",
       "      <td>-0.658021</td>\n",
       "      <td>-0.374371</td>\n",
       "      <td>...</td>\n",
       "      <td>0.325185</td>\n",
       "      <td>127.0</td>\n",
       "      <td>0.003297</td>\n",
       "      <td>0.538462</td>\n",
       "      <td>130.0</td>\n",
       "      <td>0.013752</td>\n",
       "      <td>1.800031</td>\n",
       "      <td>-0.549090</td>\n",
       "      <td>0.002879</td>\n",
       "      <td>0.5</td>\n",
       "    </tr>\n",
       "    <tr>\n",
       "      <th>7</th>\n",
       "      <td>54</td>\n",
       "      <td>0</td>\n",
       "      <td>-0.312639</td>\n",
       "      <td>-1.168011</td>\n",
       "      <td>4</td>\n",
       "      <td>-0.557169</td>\n",
       "      <td>-0.714417</td>\n",
       "      <td>-0.625217</td>\n",
       "      <td>0.044463</td>\n",
       "      <td>-0.374371</td>\n",
       "      <td>...</td>\n",
       "      <td>0.325185</td>\n",
       "      <td>127.0</td>\n",
       "      <td>0.003297</td>\n",
       "      <td>0.538462</td>\n",
       "      <td>130.0</td>\n",
       "      <td>0.013752</td>\n",
       "      <td>-0.547478</td>\n",
       "      <td>2.484538</td>\n",
       "      <td>-0.225191</td>\n",
       "      <td>4.0</td>\n",
       "    </tr>\n",
       "  </tbody>\n",
       "</table>\n",
       "<p>5 rows × 27 columns</p>\n",
       "</div>"
      ],
      "text/plain": [
       "   club  leagueCountry    height    weight  position     games  victories  \\\n",
       "0    70              3 -0.753585 -0.609844         0 -0.557169  -0.714417   \n",
       "1    51              1 -0.459621  0.785575        12 -0.557169  -0.714417   \n",
       "5    34              0 -0.018675 -0.749386         1 -0.557169  -0.714417   \n",
       "6    48              0  0.716234  0.506492         6 -0.557169  -0.182707   \n",
       "7    54              0 -0.312639 -1.168011         4 -0.557169  -0.714417   \n",
       "\n",
       "       ties   defeats     goals     ...        meanIAT   nIAT     seIAT  \\\n",
       "0 -0.625217  0.044463 -0.374371     ...       0.326391  712.0  0.000564   \n",
       "1 -0.625217  0.044463 -0.374371     ...       0.203375   40.0  0.010875   \n",
       "5 -0.625217  0.044463 -0.374371     ...       0.325185  127.0  0.003297   \n",
       "6 -0.625217 -0.658021 -0.374371     ...       0.325185  127.0  0.003297   \n",
       "7 -0.625217  0.044463 -0.374371     ...       0.325185  127.0  0.003297   \n",
       "\n",
       "    meanExp   nExp     seExp  skin_difference      skin       age  skin_nonorm  \n",
       "0  0.396000  750.0  0.002696         1.800031  0.317661  0.459019          1.5  \n",
       "1 -0.204082   49.0  0.061504        -0.547478  1.617787  0.687089          3.0  \n",
       "5  0.538462  130.0  0.013752         1.800031 -0.549090  1.371299          0.5  \n",
       "6  0.538462  130.0  0.013752         1.800031 -0.549090  0.002879          0.5  \n",
       "7  0.538462  130.0  0.013752        -0.547478  2.484538 -0.225191          4.0  \n",
       "\n",
       "[5 rows x 27 columns]"
      ]
     },
     "execution_count": 30,
     "metadata": {},
     "output_type": "execute_result"
    }
   ],
   "source": [
    "skin_data_dropped.head()"
   ]
  },
  {
   "cell_type": "markdown",
   "metadata": {},
   "source": [
    "# 1. Random Forest Skin Color Regressor"
   ]
  },
  {
   "cell_type": "markdown",
   "metadata": {},
   "source": [
    "**We use Random Forest Regressor and Classifier because darkness of skin reflect a continuous value, we talked about it with Catasta on slack**\n",
    "\n",
    "The most important parameters that can affect the accuracy of the random forest regressor are the number of trees in the forest `n_estimators`, the number of features to consider when looking for a best split `max_features`, the maximum depth of the tree `max_depth` and the minimum number of samples required to be at a leaf node `min_samples_leaf`. There are other parameters but we will have a closer look at those ones."
   ]
  },
  {
   "cell_type": "markdown",
   "metadata": {},
   "source": [
    "We seperate the data between the features used for prediction and the target features (skin). We need to drop the `rater1`, `rater2`, `skin` and `skin_difference` values as we want to predict the `skin`."
   ]
  },
  {
   "cell_type": "code",
   "execution_count": 31,
   "metadata": {
    "collapsed": false
   },
   "outputs": [],
   "source": [
    "to_predict = ['rater1', 'rater2', 'skin', 'skin_difference', 'skin_nonorm']\n",
    "data = skin_data_dropped.drop(labels=to_predict, axis=1)\n",
    "features = data.columns\n",
    "\n",
    "# Skin to predict\n",
    "target = grouped.skin_nonorm.apply(lambda x: x/4.0).values.ravel() \n"
   ]
  },
  {
   "cell_type": "markdown",
   "metadata": {},
   "source": [
    "First, all the columns will be used to train the Random Forest Classifier."
   ]
  },
  {
   "cell_type": "markdown",
   "metadata": {},
   "source": [
    "### n_estimators\n",
    "We will test the accuracy of the model for different number of trees. We use 5-folds cross validation to measure the accuracy of the predictive model, we use the mean of the accuracy over the 5 folds to tune the parameters."
   ]
  },
  {
   "cell_type": "code",
   "execution_count": 32,
   "metadata": {
    "collapsed": false
   },
   "outputs": [],
   "source": [
    "from sklearn.metrics import accuracy_score\n",
    "from sklearn import model_selection"
   ]
  },
  {
   "cell_type": "code",
   "execution_count": 33,
   "metadata": {
    "collapsed": false
   },
   "outputs": [],
   "source": [
    "number_trees = [5,10,20,50,100,200]\n",
    "accuracy = []\n",
    "\n",
    "for t in number_trees:\n",
    "    tree = RandomForestRegressor(n_estimators=t)\n",
    "    scores = model_selection.cross_val_score(tree, data, target, cv=5)\n",
    "    accuracy.append(scores.mean())"
   ]
  },
  {
   "cell_type": "code",
   "execution_count": 34,
   "metadata": {
    "collapsed": false
   },
   "outputs": [
    {
     "data": {
      "image/png": "[encoded data removed]",
      "text/plain": [
       "<matplotlib.figure.Figure at 0x7faa5b727a58>"
      ]
     },
     "metadata": {},
     "output_type": "display_data"
    }
   ],
   "source": [
    "plt.plot(number_trees, accuracy);"
   ]
  },
  {
   "cell_type": "markdown",
   "metadata": {},
   "source": [
    "Higher number of trees will avoid overfitting (because the model takes the maximum voting of predictions) and give more stable predictions but it takes the model longer to fit the data."
   ]
  },
  {
   "cell_type": "markdown",
   "metadata": {},
   "source": [
    "However, notice that this accuracy is impossibly high, which makes sense when we consider that each player appears multiple times in the dataset, due to their presence in multiple dyads. So players will be recognised due to their almost unique personal characteristics (e.g. height, weight, age, position, club). "
   ]
  },
  {
   "cell_type": "markdown",
   "metadata": {},
   "source": [
    "### Rethinking the data - aggregation"
   ]
  },
  {
   "cell_type": "markdown",
   "metadata": {},
   "source": [
    "In order to get more reasonable results and train our model to recognise unseen players, we group on each player and aggregate the information."
   ]
  },
  {
   "cell_type": "markdown",
   "metadata": {},
   "source": [
    "We can add some other features on top of the aggregated means of these columns"
   ]
  },
  {
   "cell_type": "code",
   "execution_count": 35,
   "metadata": {
    "collapsed": true
   },
   "outputs": [],
   "source": [
    "# Weighted means of the meanIAT and meanExp measures\n",
    "standardized['weightMeanIAT'] = standardized.meanIAT * standardized.nIAT / standardized.nIAT.sum()\n",
    "standardized['weightMeanExp'] = standardized.meanExp * standardized.nExp / standardized.nExp.sum()\n",
    "unique_count = lambda df: len(df.unique())\n",
    "agg_stderr = lambda df: math.sqrt(np.mean(df**2))"
   ]
  },
  {
   "cell_type": "code",
   "execution_count": 36,
   "metadata": {
    "collapsed": false
   },
   "outputs": [],
   "source": [
    "f = {'skin': 'mean', 'skin_difference': 'mean', 'skin_nonorm': 'mean', 'meanIAT': 'mean', 'meanExp': 'mean', \n",
    "     'weight': 'mean', 'height': 'mean', 'age': 'mean', 'games': 'mean', 'victories': 'mean', 'ties': 'mean', \n",
    "     'defeats': 'mean', 'goals': 'mean', 'yellowCards': 'mean', 'yellowReds': 'mean', 'redCards': 'mean', \n",
    "     'refNum': unique_count, 'refCountry': unique_count, 'seIAT': agg_stderr, 'seExp': agg_stderr, \n",
    "     'weightMeanIAT': 'mean', 'weightMeanExp': 'mean', 'position': 'mean'}"
   ]
  },
  {
   "cell_type": "code",
   "execution_count": 37,
   "metadata": {
    "collapsed": false
   },
   "outputs": [],
   "source": [
    "grouped = standardized.groupby('playerShort').agg(f)"
   ]
  },
  {
   "cell_type": "markdown",
   "metadata": {},
   "source": [
    "Let's split the data into the feature set and the target data.\n",
    "\n",
    "We convert here the skin values to integers in $\\{0,1\\}$, so if we compare it with a classifier, we have a total of 2 classes."
   ]
  },
  {
   "cell_type": "code",
   "execution_count": 92,
   "metadata": {
    "collapsed": false
   },
   "outputs": [],
   "source": [
    "to_predict = ['skin', 'skin_difference', 'skin_nonorm']\n",
    "\n",
    "# Features\n",
    "data = grouped.drop(labels=to_predict, axis=1)\n",
    "features = data.columns\n"
   ]
  },
  {
   "cell_type": "markdown",
   "metadata": {},
   "source": [
    "### Feature correlation matrix"
   ]
  },
  {
   "cell_type": "markdown",
   "metadata": {},
   "source": [
    "Before looking into training and tuning the model, it is interesting to look at the relations between features. To this end, we plotted a feature-correlation matrix."
   ]
  },
  {
   "cell_type": "code",
   "execution_count": 39,
   "metadata": {
    "collapsed": true
   },
   "outputs": [],
   "source": [
    "def correlation_matrix(df, title):\n",
    "    \"\"\"Plot the pairwise correlations in df\"\"\"\n",
    "    sns.set(style=\"white\")\n",
    "    corr = df.corr(method='pearson')\n",
    " \n",
    "    # Generate a mask for the upper triangle \n",
    "    mask = np.zeros_like(corr, dtype=np.bool)\n",
    "    mask[np.triu_indices_from(mask)] = True\n",
    " \n",
    "    # Set up the matplotlib figure \n",
    "    f, ax = plt.subplots(figsize=(11, 9))\n",
    " \n",
    "    # Generate a custom diverging colormap \n",
    "    cmap = sns.diverging_palette(220, 10, as_cmap=True)\n",
    " \n",
    "    # Draw the heatmap with the mask and correct aspect ratio \n",
    "    sns.heatmap(corr, mask=mask, cmap=cmap, vmax=1.0, square=True,\n",
    "                linewidths=.5, cbar_kws={\"shrink\": .8}, ax=ax)\n",
    " \n",
    "    # Rename the labels (movement_activity_i -> mi, stationarity_i -> si) \n",
    "    curr_labels = [item.get_text() for item in ax.get_xticklabels()]\n",
    "    split_labels = [str.split(label, '_') for label in curr_labels]\n",
    "    labels = [lst[0][0]+lst[-1] for lst in split_labels] # shortening the name \n",
    "    ax.set_xticklabels(labels)\n",
    "    ax.set_yticklabels(reversed(labels))\n",
    " \n",
    "    # Set title \n",
    "    f.suptitle(title, fontsize=18)"
   ]
  },
  {
   "cell_type": "code",
   "execution_count": 40,
   "metadata": {
    "collapsed": false
   },
   "outputs": [
    {
     "data": {
      "image/png": "[encoded data removed]",
      "text/plain": [
       "<matplotlib.figure.Figure at 0x7faa5a9ff240>"
      ]
     },
     "metadata": {},
     "output_type": "display_data"
    }
   ],
   "source": [
    "correlation_matrix(data, \"Feature correlation matrix\")"
   ]
  },
  {
   "cell_type": "markdown",
   "metadata": {},
   "source": [
    "Some of the features show an obvious correlation with others (e.g. `games` has a strong positive correlation with `ties`, `victories`, `defeats`). Other than these obvious connections, the correlation matrix doesn't show any surprising correlations."
   ]
  },
  {
   "cell_type": "markdown",
   "metadata": {},
   "source": [
    "### `n_estimators` with aggregated data"
   ]
  },
  {
   "cell_type": "markdown",
   "metadata": {},
   "source": [
    "With the grouping on players and aggregation of the features done, let's recompute the score with varying `n_estimators` parameter for our `RandomForestRegressor`."
   ]
  },
  {
   "cell_type": "code",
   "execution_count": 41,
   "metadata": {
    "collapsed": false
   },
   "outputs": [],
   "source": [
    "number_trees = [1,5,10,20,50,100,200]\n",
    "score = []\n",
    "\n",
    "for t in number_trees:\n",
    "    tree = RandomForestRegressor(n_estimators=t)\n",
    "    scores = model_selection.cross_val_score(tree, data, target, cv=5)\n",
    "    score.append(scores.mean())"
   ]
  },
  {
   "cell_type": "code",
   "execution_count": 42,
   "metadata": {
    "collapsed": false
   },
   "outputs": [
    {
     "data": {
      "image/png": "[encoded data removed]",
      "text/plain": [
       "<matplotlib.figure.Figure at 0x7faa5b6b0400>"
      ]
     },
     "metadata": {},
     "output_type": "display_data"
    }
   ],
   "source": [
    "plt.plot(number_trees, score)\n",
    "plt.suptitle(\"n_estimators\");"
   ]
  },
  {
   "cell_type": "markdown",
   "metadata": {},
   "source": [
    "The negative score can seem alarming at first, but `RandomForestRegressor`'s `score` function computes the score differently than that of a `RandomForestClassifier`, as is explained in the [doc](http://scikit-learn.org/stable/modules/generated/sklearn.ensemble.RandomForestRegressor.html#sklearn.ensemble.RandomForestRegressor.score). It uses the $R^2$ regression score function (aka coefficient of determination). \n",
    "\n",
    "The negative score values indicate that there is a constant model that performs better than ours, with low values of `n_estimators`, which is understandable given the distribution of our data (many more white players than not).\n",
    "\n",
    "From the progression of the accuracy here, we can see that a good value for `n_estimators` is 100."
   ]
  },
  {
   "cell_type": "markdown",
   "metadata": {},
   "source": [
    "### Random Forest accuracy\n",
    "In order to better understand the performance of our Regressor, we can convert the output so that it corresponds to that of a classifier."
   ]
  },
  {
   "cell_type": "code",
   "execution_count": 68,
   "metadata": {
    "collapsed": true
   },
   "outputs": [],
   "source": [
    "def predict_class_from_reg(model, X, y, test):\n",
    "    \"\"\"Returns the predictions of a RandomForestRegressor rounded so as to have classes as output.\"\"\"\n",
    "    model.fit(X, y)\n",
    "    predictions = model.predict(test)\n",
    "    return np.around(predictions)"
   ]
  },
  {
   "cell_type": "code",
   "execution_count": 69,
   "metadata": {
    "collapsed": true
   },
   "outputs": [],
   "source": [
    "def rf_accuracy(model, data, target):\n",
    "    \"\"\"Returns the accuracy of a model over a split.\n",
    "    Rounds the predictions to the \"\"\"\n",
    "    x_train, x_test, y_train, y_test = model_selection.train_test_split(data, target, test_size=0.1, random_state=42)\n",
    "    rounded_pred = predict_class_from_reg(model, x_train, y_train, x_test)\n",
    "    return np.sum(np.equal(rounded_pred, y_test)) / float(len(y_test))"
   ]
  },
  {
   "cell_type": "code",
   "execution_count": 70,
   "metadata": {
    "collapsed": false
   },
   "outputs": [
    {
     "data": {
      "image/png": "[encoded data removed]",
      "text/plain": [
       "<matplotlib.figure.Figure at 0x7faa5bd47a90>"
      ]
     },
     "metadata": {},
     "output_type": "display_data"
    }
   ],
   "source": [
    "number_trees = [5,10,20,50,100,200]\n",
    "accuracy = []\n",
    "\n",
    "for t in number_trees:\n",
    "    tree = RandomForestRegressor(n_estimators=t)\n",
    "    accuracy.append(rf_accuracy(tree, data, target))\n",
    "\n",
    "plt.plot(number_trees, accuracy)\n",
    "plt.suptitle(\"RF accuracy with different n_estimators\");"
   ]
  },
  {
   "cell_type": "markdown",
   "metadata": {},
   "source": [
    "*Note* that this is the result of only one train-test split, so not a viable judge for determining stable and efficient parameters. This is noticeable by running the cell above several times, and we see the shape of the curve change quite a lot. The result of the actual score plotted previously is far more reliable."
   ]
  },
  {
   "cell_type": "markdown",
   "metadata": {},
   "source": [
    "### max_features\n",
    "As default, the number of features to consider when looking for the best split is equal to the square root of the number of features. We will test it with different values between 1 and the number of features."
   ]
  },
  {
   "cell_type": "code",
   "execution_count": 46,
   "metadata": {
    "collapsed": false
   },
   "outputs": [],
   "source": [
    "max_features = range(1,len(features)+1)\n",
    "score = []\n",
    "\n",
    "for m in max_features:\n",
    "    tree = RandomForestRegressor(n_estimators=100, max_features=m)\n",
    "    scores = model_selection.cross_val_score(tree, data, target, cv=10)\n",
    "    score.append(scores.mean())"
   ]
  },
  {
   "cell_type": "code",
   "execution_count": 47,
   "metadata": {
    "collapsed": false
   },
   "outputs": [
    {
     "data": {
      "image/png": "[encoded data removed]",
      "text/plain": [
       "<matplotlib.figure.Figure at 0x7faa5ba11b00>"
      ]
     },
     "metadata": {},
     "output_type": "display_data"
    }
   ],
   "source": [
    "plt.plot(max_features, score);"
   ]
  },
  {
   "cell_type": "markdown",
   "metadata": {},
   "source": [
    "A good and stable choice for max_features seems to be 5.\n"
   ]
  },
  {
   "cell_type": "markdown",
   "metadata": {},
   "source": [
    "### max_depth\n",
    "The maximum depth of the tree. If None, then nodes are expanded until all leaves are pure. We compute the score for several depths, including the default value (indicated by `None`)."
   ]
  },
  {
   "cell_type": "code",
   "execution_count": 48,
   "metadata": {
    "collapsed": false
   },
   "outputs": [],
   "source": [
    "# None included to compute \n",
    "max_depths = [1,5,10,20,50,75]\n",
    "accuracy = []\n",
    "\n",
    "for d in max_depths:\n",
    "    tree = RandomForestRegressor(n_estimators=100, max_features=5, max_depth=d)\n",
    "    scores = model_selection.cross_val_score(tree, data, target, cv=10)\n",
    "    accuracy.append(scores.mean())"
   ]
  },
  {
   "cell_type": "code",
   "execution_count": 49,
   "metadata": {
    "collapsed": false
   },
   "outputs": [],
   "source": [
    "tree = RandomForestRegressor(n_estimators=100, max_features=5, max_depth=None)\n",
    "scores = model_selection.cross_val_score(tree, data, target, cv=10)\n",
    "accuracy.append(scores.mean())"
   ]
  },
  {
   "cell_type": "code",
   "execution_count": 50,
   "metadata": {
    "collapsed": false
   },
   "outputs": [
    {
     "data": {
      "image/png": "[encoded data removed]",
      "text/plain": [
       "<matplotlib.figure.Figure at 0x7faa5b78bdd8>"
      ]
     },
     "metadata": {},
     "output_type": "display_data"
    }
   ],
   "source": [
    "max_depths.append(100) # 100 represents the default value\n",
    "plt.plot(max_depths, accuracy);"
   ]
  },
  {
   "cell_type": "markdown",
   "metadata": {},
   "source": [
    "In our case, there is no overfitting problem with a tree having pure nodes. We will keep the default value."
   ]
  },
  {
   "cell_type": "code",
   "execution_count": 51,
   "metadata": {
    "collapsed": false
   },
   "outputs": [
    {
     "data": {
      "text/plain": [
       "0.24528301886792453"
      ]
     },
     "execution_count": 51,
     "metadata": {},
     "output_type": "execute_result"
    }
   ],
   "source": [
    "rf_accuracy(RandomForestRegressor(n_estimators=100, max_features=5, max_depth=None), data, target)"
   ]
  },
  {
   "cell_type": "markdown",
   "metadata": {},
   "source": [
    "### min_samples_leaf\n",
    "The minimum number of samples required to be at a leaf node."
   ]
  },
  {
   "cell_type": "code",
   "execution_count": 52,
   "metadata": {
    "collapsed": false
   },
   "outputs": [],
   "source": [
    "min_samples = [1,2,3,4,5,10,20]\n",
    "accuracy = []\n",
    "\n",
    "for s in min_samples:\n",
    "    tree = RandomForestRegressor(n_estimators=100, max_features=5, min_samples_leaf=s)\n",
    "    scores = model_selection.cross_val_score(tree, data, target, cv=5)\n",
    "    accuracy.append(scores.mean())"
   ]
  },
  {
   "cell_type": "code",
   "execution_count": 53,
   "metadata": {
    "collapsed": false
   },
   "outputs": [
    {
     "data": {
      "image/png": "[encoded data removed]",
      "text/plain": [
       "<matplotlib.figure.Figure at 0x7faa5b727eb8>"
      ]
     },
     "metadata": {},
     "output_type": "display_data"
    }
   ],
   "source": [
    "plt.plot(min_samples, accuracy);"
   ]
  },
  {
   "cell_type": "markdown",
   "metadata": {},
   "source": [
    "If less than 3 samples are in a leaf the model is overfitting and if more than 3 are in a leaf node it is underfitting."
   ]
  },
  {
   "cell_type": "markdown",
   "metadata": {},
   "source": [
    "### Feature importance of the trained model\n",
    "\n",
    "Now we will have a look at the features sorted by their score in the tree with the tuned parameter we found."
   ]
  },
  {
   "cell_type": "code",
   "execution_count": 54,
   "metadata": {
    "collapsed": true
   },
   "outputs": [],
   "source": [
    "def features_importance_rf(X, y, rf, print_=True, plot=True):\n",
    "    \"\"\"Print and plot the top features importances in X using the rf classifier.\n",
    "    Returns columns names in order of increasing importance\"\"\"\n",
    "    rf.fit(X, y)\n",
    " \n",
    "    importances = rf.feature_importances_\n",
    "    std = np.std([tree.feature_importances_ for tree in rf.estimators_], axis=0)\n",
    "    indices = np.argsort(importances)[::-1]\n",
    " \n",
    "    cols = X.columns\n",
    "    ord_cols = []\n",
    "    # Print the feature ranking \n",
    "    if print_:\n",
    "        print(\"Feature ranking:\")\n",
    " \n",
    "        for f in range(X.shape[1]):\n",
    "            print(\"%d. feature n° %d %s (%f)\" % (f + 1, indices[f], cols[indices[f]], importances[indices[f]]))\n",
    "            ord_cols.append(cols[indices[f]])\n",
    "    else:\n",
    "        for f in range(X.shape[1]):\n",
    "            ord_cols.append(cols[indices[f]])  \n",
    " \n",
    "    # Plot the feature importance \n",
    "    if plot:\n",
    "        plt.subplots(figsize=(8,6))\n",
    "        plt.suptitle(\"Feature importance\", fontsize=18)\n",
    "        plt.bar(range(X.shape[1]), importances[indices],\n",
    "               color=\"r\", yerr=std[indices], align=\"center\")\n",
    "        plt.xticks(range(X.shape[1]), indices)\n",
    "        plt.xlim([-1, X.shape[1]])\n",
    "        plt.show()\n",
    "        \n",
    "    # Compute accuracy\n",
    "    print(\"Accuracy:\", rf_accuracy(rf, X, y))\n",
    " \n",
    "    return ord_cols"
   ]
  },
  {
   "cell_type": "markdown",
   "metadata": {},
   "source": [
    "The red bars in the plot represent the feature importance of the trees and the blue lines are the inter-tree variability."
   ]
  },
  {
   "cell_type": "code",
   "execution_count": 86,
   "metadata": {
    "collapsed": false
   },
   "outputs": [
    {
     "name": "stdout",
     "output_type": "stream",
     "text": [
      "Feature ranking:\n",
      "1. feature n° 17 seExp (0.111192)\n",
      "2. feature n° 10 seIAT (0.099173)\n",
      "3. feature n° 7 meanIAT (0.092432)\n",
      "4. feature n° 12 meanExp (0.086080)\n",
      "5. feature n° 16 refNum (0.052364)\n",
      "6. feature n° 9 victories (0.051633)\n",
      "7. feature n° 8 goals (0.050685)\n",
      "8. feature n° 1 yellowCards (0.047039)\n",
      "9. feature n° 18 games (0.043604)\n",
      "10. feature n° 2 defeats (0.041413)\n",
      "11. feature n° 15 ties (0.041210)\n",
      "12. feature n° 13 refCountry (0.038659)\n",
      "13. feature n° 14 redCards (0.035261)\n",
      "14. feature n° 4 position (0.032489)\n",
      "15. feature n° 5 height (0.032448)\n",
      "16. feature n° 6 age (0.031543)\n",
      "17. feature n° 19 weight (0.030912)\n",
      "18. feature n° 0 weightMeanIAT (0.029564)\n",
      "19. feature n° 11 weightMeanExp (0.027965)\n",
      "20. feature n° 3 yellowReds (0.024335)\n"
     ]
    },
    {
     "data": {
      "image/png": "[encoded data removed]",
      "text/plain": [
       "<matplotlib.figure.Figure at 0x7faa5bded8d0>"
      ]
     },
     "metadata": {},
     "output_type": "display_data"
    },
    {
     "name": "stdout",
     "output_type": "stream",
     "text": [
      "Accuracy: 0.238993710692\n"
     ]
    }
   ],
   "source": [
    "rf = RandomForestRegressor(n_estimators=100, max_features=5, min_samples_leaf=3)\n",
    "sorted_features = features_importance_rf(data, target, rf)"
   ]
  },
  {
   "cell_type": "markdown",
   "metadata": {},
   "source": [
    "The four highest ranked features are the aggregated standard errors and mean scores of the explicit and implicit racism tests. We can also see that these four features have the highest inter-tree variability. \n",
    "\n",
    "Let's see what happens if we remove these top four features."
   ]
  },
  {
   "cell_type": "code",
   "execution_count": 56,
   "metadata": {
    "collapsed": false
   },
   "outputs": [
    {
     "name": "stdout",
     "output_type": "stream",
     "text": [
      "Feature ranking:\n",
      "1. feature n° 8 victories (0.089274)\n",
      "2. feature n° 7 goals (0.080453)\n",
      "3. feature n° 1 yellowCards (0.078587)\n",
      "4. feature n° 10 refCountry (0.077323)\n",
      "5. feature n° 13 refNum (0.076270)\n",
      "6. feature n° 14 games (0.074552)\n",
      "7. feature n° 12 ties (0.071614)\n",
      "8. feature n° 2 defeats (0.067530)\n",
      "9. feature n° 11 redCards (0.058193)\n",
      "10. feature n° 15 weight (0.056369)\n",
      "11. feature n° 5 height (0.055318)\n",
      "12. feature n° 9 weightMeanExp (0.051111)\n",
      "13. feature n° 0 weightMeanIAT (0.042531)\n",
      "14. feature n° 4 position (0.041685)\n",
      "15. feature n° 3 yellowReds (0.040785)\n",
      "16. feature n° 6 age (0.038406)\n"
     ]
    },
    {
     "data": {
      "image/png": "[encoded data removed]",
      "text/plain": [
       "<matplotlib.figure.Figure at 0x7faa5bdc7cc0>"
      ]
     },
     "metadata": {},
     "output_type": "display_data"
    },
    {
     "name": "stdout",
     "output_type": "stream",
     "text": [
      "Accuracy: 0.22641509434\n"
     ]
    }
   ],
   "source": [
    "reduced_data = data.drop(sorted_features[:4], axis=1)\n",
    "rf_red = RandomForestRegressor(n_estimators=100, max_features=5, min_samples_leaf=3)\n",
    "reduced_sorted_features = features_importance_rf(reduced_data, target, rf_red)"
   ]
  },
  {
   "cell_type": "markdown",
   "metadata": {},
   "source": [
    "So by removing the features with highest importance, we get an accuracy of about $16\\%$ instead of $26\\%$. Even though the importance measures (red bars) increased slightly, the order of the feature importances measured seem quite stable."
   ]
  },
  {
   "cell_type": "markdown",
   "metadata": {},
   "source": [
    "### Confusion Matrix\n",
    "\n",
    "With the help of a confusion matrix, we can look at the way our 'classifier' (rounded regressor predictions) labels the OOB objects it receives."
   ]
  },
  {
   "cell_type": "code",
   "execution_count": 57,
   "metadata": {
    "collapsed": true
   },
   "outputs": [],
   "source": [
    "from sklearn.metrics import confusion_matrix\n",
    "import itertools"
   ]
  },
  {
   "cell_type": "code",
   "execution_count": 58,
   "metadata": {
    "collapsed": true
   },
   "outputs": [],
   "source": [
    "def plot_confusion_matrix(cm, classes, title='Confusion matrix', cmap=plt.cm.Blues):\n",
    "    \"\"\"\n",
    "    This function prints and plots the confusion matrix.\n",
    "    Normalization can be applied by setting `normalize=True`.\n",
    "    \"\"\"\n",
    "    plt.imshow(cm, interpolation='nearest', cmap=cmap)\n",
    "    plt.title(title)\n",
    "    plt.colorbar()\n",
    "    tick_marks = np.arange(len(classes))\n",
    "    plt.xticks(tick_marks, classes, rotation=45)\n",
    "    plt.yticks(tick_marks, classes)\n",
    "    np.set_printoptions(precision=2)\n",
    "    \n",
    "    thresh = cm.max() / 2.\n",
    "    for i, j in itertools.product(range(cm.shape[0]), range(cm.shape[1])):\n",
    "        plt.text(j, i, cm[i, j],\n",
    "                 horizontalalignment=\"center\",\n",
    "                 color=\"white\" if cm[i, j] > thresh else \"black\")\n",
    "\n",
    "    plt.tight_layout()\n",
    "    plt.ylabel('True label')\n",
    "    plt.xlabel('Predicted label')"
   ]
  },
  {
   "cell_type": "code",
   "execution_count": 74,
   "metadata": {
    "collapsed": false
   },
   "outputs": [
    {
     "data": {
      "image/png": "[encoded data removed]",
      "text/plain": [
       "<matplotlib.figure.Figure at 0x7faa5aa80630>"
      ]
     },
     "metadata": {},
     "output_type": "display_data"
    }
   ],
   "source": [
    "# Our model with best parameters according to our previous tests\n",
    "rf = RandomForestRegressor(n_estimators=100, max_features=5, min_samples_leaf=3)\n",
    "# Data split \n",
    "x_train, x_test, y_train, y_test = model_selection.train_test_split(data, target, test_size=0.2)\n",
    "predictions = predict_class_from_reg(rf, x_train, y_train, x_test)\n",
    "rounded_y = np.around(y_test)\n",
    "cm = confusion_matrix(rounded_y, predictions)\n",
    "classes = np.unique(rounded_y)\n",
    "plot_confusion_matrix(cm, classes)"
   ]
  },
  {
   "cell_type": "markdown",
   "metadata": {},
   "source": [
    "Our model performs best at predicting players with skin-tone $2.0$ (average rater score of $0.25$ on the original scale). It is also noticeably worse at classifying dark-skinned players than light-skinned ones, which is understandable given the skewed nature of our data (i.e. many more white players present in the set)."
   ]
  },
  {
   "cell_type": "markdown",
   "metadata": {},
   "source": [
    "# Bonus"
   ]
  },
  {
   "cell_type": "code",
   "execution_count": 80,
   "metadata": {
    "collapsed": true
   },
   "outputs": [],
   "source": [
    "def plot_learning_curve(estimator, title, X, y, ylim=None, cv=None, n_jobs=1, train_sizes=np.linspace(.1, 1.0, 5)):\n",
    "    \"\"\"Generate a simple plot of the test and training learning curve.\"\"\"\n",
    "    plt.figure()\n",
    "    plt.title(title)\n",
    "    if ylim is not None:\n",
    "        plt.ylim(*ylim)\n",
    "    plt.xlabel(\"Training examples\")\n",
    "    plt.ylabel(\"Score\")\n",
    "    train_sizes, train_scores, test_scores = model_selection.learning_curve(\n",
    "        estimator, X, y, cv=cv, n_jobs=n_jobs, train_sizes=train_sizes)\n",
    "    train_scores_mean = np.mean(train_scores, axis=1)\n",
    "    train_scores_std = np.std(train_scores, axis=1)\n",
    "    test_scores_mean = np.mean(test_scores, axis=1)\n",
    "    test_scores_std = np.std(test_scores, axis=1)\n",
    "    plt.grid()\n",
    "\n",
    "    plt.fill_between(train_sizes, train_scores_mean - train_scores_std,\n",
    "                     train_scores_mean + train_scores_std, alpha=0.1,\n",
    "                     color=\"r\")\n",
    "    plt.fill_between(train_sizes, test_scores_mean - test_scores_std, \n",
    "                     test_scores_mean + test_scores_std, alpha=0.1, color=\"g\")\n",
    "    plt.plot(train_sizes, train_scores_mean, 'o-', color=\"r\", label=\"Training score\")\n",
    "    plt.plot(train_sizes, test_scores_mean, 'o-', color=\"g\", label=\"Cross-validation score\")\n",
    "\n",
    "    plt.legend(loc=\"best\")\n",
    "    return plt"
   ]
  },
  {
   "cell_type": "code",
   "execution_count": 79,
   "metadata": {
    "collapsed": false
   },
   "outputs": [
    {
     "ename": "JoblibValueError",
     "evalue": "JoblibValueError\n___________________________________________________________________________\nMultiprocessing exception:\n...........................................................................\n/opt/anaconda/lib/python3.5/runpy.py in _run_module_as_main(mod_name='ipykernel.__main__', alter_argv=1)\n    165         sys.exit(msg)\n    166     main_globals = sys.modules[\"__main__\"].__dict__\n    167     if alter_argv:\n    168         sys.argv[0] = mod_spec.origin\n    169     return _run_code(code, main_globals, None,\n--> 170                      \"__main__\", mod_spec)\n        mod_spec = ModuleSpec(name='ipykernel.__main__', loader=<_f...b/python3.5/site-packages/ipykernel/__main__.py')\n    171 \n    172 def run_module(mod_name, init_globals=None,\n    173                run_name=None, alter_sys=False):\n    174     \"\"\"Execute a module's code without importing it\n\n...........................................................................\n/opt/anaconda/lib/python3.5/runpy.py in _run_code(code=<code object <module> at 0x7faa9cd1e1e0, file \"/...3.5/site-packages/ipykernel/__main__.py\", line 1>, run_globals={'__builtins__': <module 'builtins' (built-in)>, '__cached__': '/opt/anaconda/lib/python3.5/site-packages/ipykernel/__pycache__/__main__.cpython-35.pyc', '__doc__': None, '__file__': '/opt/anaconda/lib/python3.5/site-packages/ipykernel/__main__.py', '__loader__': <_frozen_importlib_external.SourceFileLoader object>, '__name__': '__main__', '__package__': 'ipykernel', '__spec__': ModuleSpec(name='ipykernel.__main__', loader=<_f...b/python3.5/site-packages/ipykernel/__main__.py'), 'app': <module 'ipykernel.kernelapp' from '/opt/anacond.../python3.5/site-packages/ipykernel/kernelapp.py'>}, init_globals=None, mod_name='__main__', mod_spec=ModuleSpec(name='ipykernel.__main__', loader=<_f...b/python3.5/site-packages/ipykernel/__main__.py'), pkg_name='ipykernel', script_name=None)\n     80                        __cached__ = cached,\n     81                        __doc__ = None,\n     82                        __loader__ = loader,\n     83                        __package__ = pkg_name,\n     84                        __spec__ = mod_spec)\n---> 85     exec(code, run_globals)\n        code = <code object <module> at 0x7faa9cd1e1e0, file \"/...3.5/site-packages/ipykernel/__main__.py\", line 1>\n        run_globals = {'__builtins__': <module 'builtins' (built-in)>, '__cached__': '/opt/anaconda/lib/python3.5/site-packages/ipykernel/__pycache__/__main__.cpython-35.pyc', '__doc__': None, '__file__': '/opt/anaconda/lib/python3.5/site-packages/ipykernel/__main__.py', '__loader__': <_frozen_importlib_external.SourceFileLoader object>, '__name__': '__main__', '__package__': 'ipykernel', '__spec__': ModuleSpec(name='ipykernel.__main__', loader=<_f...b/python3.5/site-packages/ipykernel/__main__.py'), 'app': <module 'ipykernel.kernelapp' from '/opt/anacond.../python3.5/site-packages/ipykernel/kernelapp.py'>}\n     86     return run_globals\n     87 \n     88 def _run_module_code(code, init_globals=None,\n     89                     mod_name=None, mod_spec=None,\n\n...........................................................................\n/opt/anaconda/lib/python3.5/site-packages/ipykernel/__main__.py in <module>()\n      1 \n      2 \n----> 3 \n      4 if __name__ == '__main__':\n      5     from ipykernel import kernelapp as app\n      6     app.launch_new_instance()\n      7 \n      8 \n      9 \n     10 \n\n...........................................................................\n/opt/anaconda/lib/python3.5/site-packages/traitlets/config/application.py in launch_instance(cls=<class 'ipykernel.kernelapp.IPKernelApp'>, argv=None, **kwargs={})\n    591         \n    592         If a global instance already exists, this reinitializes and starts it\n    593         \"\"\"\n    594         app = cls.instance(**kwargs)\n    595         app.initialize(argv)\n--> 596         app.start()\n        app.start = <bound method IPKernelApp.start of <ipykernel.kernelapp.IPKernelApp object>>\n    597 \n    598 #-----------------------------------------------------------------------------\n    599 # utility functions, for convenience\n    600 #-----------------------------------------------------------------------------\n\n...........................................................................\n/opt/anaconda/lib/python3.5/site-packages/ipykernel/kernelapp.py in start(self=<ipykernel.kernelapp.IPKernelApp object>)\n    437         \n    438         if self.poller is not None:\n    439             self.poller.start()\n    440         self.kernel.start()\n    441         try:\n--> 442             ioloop.IOLoop.instance().start()\n    443         except KeyboardInterrupt:\n    444             pass\n    445 \n    446 launch_new_instance = IPKernelApp.launch_instance\n\n...........................................................................\n/opt/anaconda/lib/python3.5/site-packages/zmq/eventloop/ioloop.py in start(self=<zmq.eventloop.ioloop.ZMQIOLoop object>)\n    157             PollIOLoop.configure(ZMQIOLoop)\n    158         return PollIOLoop.current(*args, **kwargs)\n    159     \n    160     def start(self):\n    161         try:\n--> 162             super(ZMQIOLoop, self).start()\n        self.start = <bound method ZMQIOLoop.start of <zmq.eventloop.ioloop.ZMQIOLoop object>>\n    163         except ZMQError as e:\n    164             if e.errno == ETERM:\n    165                 # quietly return on ETERM\n    166                 pass\n\n...........................................................................\n/opt/anaconda/lib/python3.5/site-packages/tornado/ioloop.py in start(self=<zmq.eventloop.ioloop.ZMQIOLoop object>)\n    878                 self._events.update(event_pairs)\n    879                 while self._events:\n    880                     fd, events = self._events.popitem()\n    881                     try:\n    882                         fd_obj, handler_func = self._handlers[fd]\n--> 883                         handler_func(fd_obj, events)\n        handler_func = <function wrap.<locals>.null_wrapper>\n        fd_obj = <zmq.sugar.socket.Socket object>\n        events = 1\n    884                     except (OSError, IOError) as e:\n    885                         if errno_from_exception(e) == errno.EPIPE:\n    886                             # Happens when the client closes the connection\n    887                             pass\n\n...........................................................................\n/opt/anaconda/lib/python3.5/site-packages/tornado/stack_context.py in null_wrapper(*args=(<zmq.sugar.socket.Socket object>, 1), **kwargs={})\n    270         # Fast path when there are no active contexts.\n    271         def null_wrapper(*args, **kwargs):\n    272             try:\n    273                 current_state = _state.contexts\n    274                 _state.contexts = cap_contexts[0]\n--> 275                 return fn(*args, **kwargs)\n        args = (<zmq.sugar.socket.Socket object>, 1)\n        kwargs = {}\n    276             finally:\n    277                 _state.contexts = current_state\n    278         null_wrapper._wrapped = True\n    279         return null_wrapper\n\n...........................................................................\n/opt/anaconda/lib/python3.5/site-packages/zmq/eventloop/zmqstream.py in _handle_events(self=<zmq.eventloop.zmqstream.ZMQStream object>, fd=<zmq.sugar.socket.Socket object>, events=1)\n    435             # dispatch events:\n    436             if events & IOLoop.ERROR:\n    437                 gen_log.error(\"got POLLERR event on ZMQStream, which doesn't make sense\")\n    438                 return\n    439             if events & IOLoop.READ:\n--> 440                 self._handle_recv()\n        self._handle_recv = <bound method ZMQStream._handle_recv of <zmq.eventloop.zmqstream.ZMQStream object>>\n    441                 if not self.socket:\n    442                     return\n    443             if events & IOLoop.WRITE:\n    444                 self._handle_send()\n\n...........................................................................\n/opt/anaconda/lib/python3.5/site-packages/zmq/eventloop/zmqstream.py in _handle_recv(self=<zmq.eventloop.zmqstream.ZMQStream object>)\n    467                 gen_log.error(\"RECV Error: %s\"%zmq.strerror(e.errno))\n    468         else:\n    469             if self._recv_callback:\n    470                 callback = self._recv_callback\n    471                 # self._recv_callback = None\n--> 472                 self._run_callback(callback, msg)\n        self._run_callback = <bound method ZMQStream._run_callback of <zmq.eventloop.zmqstream.ZMQStream object>>\n        callback = <function wrap.<locals>.null_wrapper>\n        msg = [<zmq.sugar.frame.Frame object>, <zmq.sugar.frame.Frame object>, <zmq.sugar.frame.Frame object>, <zmq.sugar.frame.Frame object>, <zmq.sugar.frame.Frame object>, <zmq.sugar.frame.Frame object>, <zmq.sugar.frame.Frame object>]\n    473                 \n    474         # self.update_state()\n    475         \n    476 \n\n...........................................................................\n/opt/anaconda/lib/python3.5/site-packages/zmq/eventloop/zmqstream.py in _run_callback(self=<zmq.eventloop.zmqstream.ZMQStream object>, callback=<function wrap.<locals>.null_wrapper>, *args=([<zmq.sugar.frame.Frame object>, <zmq.sugar.frame.Frame object>, <zmq.sugar.frame.Frame object>, <zmq.sugar.frame.Frame object>, <zmq.sugar.frame.Frame object>, <zmq.sugar.frame.Frame object>, <zmq.sugar.frame.Frame object>],), **kwargs={})\n    409         close our socket.\"\"\"\n    410         try:\n    411             # Use a NullContext to ensure that all StackContexts are run\n    412             # inside our blanket exception handler rather than outside.\n    413             with stack_context.NullContext():\n--> 414                 callback(*args, **kwargs)\n        callback = <function wrap.<locals>.null_wrapper>\n        args = ([<zmq.sugar.frame.Frame object>, <zmq.sugar.frame.Frame object>, <zmq.sugar.frame.Frame object>, <zmq.sugar.frame.Frame object>, <zmq.sugar.frame.Frame object>, <zmq.sugar.frame.Frame object>, <zmq.sugar.frame.Frame object>],)\n        kwargs = {}\n    415         except:\n    416             gen_log.error(\"Uncaught exception, closing connection.\",\n    417                           exc_info=True)\n    418             # Close the socket on an uncaught exception from a user callback\n\n...........................................................................\n/opt/anaconda/lib/python3.5/site-packages/tornado/stack_context.py in null_wrapper(*args=([<zmq.sugar.frame.Frame object>, <zmq.sugar.frame.Frame object>, <zmq.sugar.frame.Frame object>, <zmq.sugar.frame.Frame object>, <zmq.sugar.frame.Frame object>, <zmq.sugar.frame.Frame object>, <zmq.sugar.frame.Frame object>],), **kwargs={})\n    270         # Fast path when there are no active contexts.\n    271         def null_wrapper(*args, **kwargs):\n    272             try:\n    273                 current_state = _state.contexts\n    274                 _state.contexts = cap_contexts[0]\n--> 275                 return fn(*args, **kwargs)\n        args = ([<zmq.sugar.frame.Frame object>, <zmq.sugar.frame.Frame object>, <zmq.sugar.frame.Frame object>, <zmq.sugar.frame.Frame object>, <zmq.sugar.frame.Frame object>, <zmq.sugar.frame.Frame object>, <zmq.sugar.frame.Frame object>],)\n        kwargs = {}\n    276             finally:\n    277                 _state.contexts = current_state\n    278         null_wrapper._wrapped = True\n    279         return null_wrapper\n\n...........................................................................\n/opt/anaconda/lib/python3.5/site-packages/ipykernel/kernelbase.py in dispatcher(msg=[<zmq.sugar.frame.Frame object>, <zmq.sugar.frame.Frame object>, <zmq.sugar.frame.Frame object>, <zmq.sugar.frame.Frame object>, <zmq.sugar.frame.Frame object>, <zmq.sugar.frame.Frame object>, <zmq.sugar.frame.Frame object>])\n    271         if self.control_stream:\n    272             self.control_stream.on_recv(self.dispatch_control, copy=False)\n    273 \n    274         def make_dispatcher(stream):\n    275             def dispatcher(msg):\n--> 276                 return self.dispatch_shell(stream, msg)\n        msg = [<zmq.sugar.frame.Frame object>, <zmq.sugar.frame.Frame object>, <zmq.sugar.frame.Frame object>, <zmq.sugar.frame.Frame object>, <zmq.sugar.frame.Frame object>, <zmq.sugar.frame.Frame object>, <zmq.sugar.frame.Frame object>]\n    277             return dispatcher\n    278 \n    279         for s in self.shell_streams:\n    280             s.on_recv(make_dispatcher(s), copy=False)\n\n...........................................................................\n/opt/anaconda/lib/python3.5/site-packages/ipykernel/kernelbase.py in dispatch_shell(self=<ipykernel.ipkernel.IPythonKernel object>, stream=<zmq.eventloop.zmqstream.ZMQStream object>, msg={'buffers': [], 'content': {'allow_stdin': True, 'code': 'cv = model_selection.ShuffleSplit(n_splits=100, ...ta, target, \\n                    cv=cv, n_jobs=4)', 'silent': False, 'stop_on_error': True, 'store_history': True, 'user_expressions': {}}, 'header': {'date': '2016-11-22T18:02:08.322189', 'msg_id': '7E6EE65A8CCF4F8FA77B1B5814795F86', 'msg_type': 'execute_request', 'session': '545C61A99B8B4B129C999194C6031CBA', 'username': 'username', 'version': '5.0'}, 'metadata': {}, 'msg_id': '7E6EE65A8CCF4F8FA77B1B5814795F86', 'msg_type': 'execute_request', 'parent_header': {}})\n    223             self.log.error(\"UNKNOWN MESSAGE TYPE: %r\", msg_type)\n    224         else:\n    225             self.log.debug(\"%s: %s\", msg_type, msg)\n    226             self.pre_handler_hook()\n    227             try:\n--> 228                 handler(stream, idents, msg)\n        handler = <bound method Kernel.execute_request of <ipykernel.ipkernel.IPythonKernel object>>\n        stream = <zmq.eventloop.zmqstream.ZMQStream object>\n        idents = [b'545C61A99B8B4B129C999194C6031CBA']\n        msg = {'buffers': [], 'content': {'allow_stdin': True, 'code': 'cv = model_selection.ShuffleSplit(n_splits=100, ...ta, target, \\n                    cv=cv, n_jobs=4)', 'silent': False, 'stop_on_error': True, 'store_history': True, 'user_expressions': {}}, 'header': {'date': '2016-11-22T18:02:08.322189', 'msg_id': '7E6EE65A8CCF4F8FA77B1B5814795F86', 'msg_type': 'execute_request', 'session': '545C61A99B8B4B129C999194C6031CBA', 'username': 'username', 'version': '5.0'}, 'metadata': {}, 'msg_id': '7E6EE65A8CCF4F8FA77B1B5814795F86', 'msg_type': 'execute_request', 'parent_header': {}}\n    229             except Exception:\n    230                 self.log.error(\"Exception in message handler:\", exc_info=True)\n    231             finally:\n    232                 self.post_handler_hook()\n\n...........................................................................\n/opt/anaconda/lib/python3.5/site-packages/ipykernel/kernelbase.py in execute_request(self=<ipykernel.ipkernel.IPythonKernel object>, stream=<zmq.eventloop.zmqstream.ZMQStream object>, ident=[b'545C61A99B8B4B129C999194C6031CBA'], parent={'buffers': [], 'content': {'allow_stdin': True, 'code': 'cv = model_selection.ShuffleSplit(n_splits=100, ...ta, target, \\n                    cv=cv, n_jobs=4)', 'silent': False, 'stop_on_error': True, 'store_history': True, 'user_expressions': {}}, 'header': {'date': '2016-11-22T18:02:08.322189', 'msg_id': '7E6EE65A8CCF4F8FA77B1B5814795F86', 'msg_type': 'execute_request', 'session': '545C61A99B8B4B129C999194C6031CBA', 'username': 'username', 'version': '5.0'}, 'metadata': {}, 'msg_id': '7E6EE65A8CCF4F8FA77B1B5814795F86', 'msg_type': 'execute_request', 'parent_header': {}})\n    386         if not silent:\n    387             self.execution_count += 1\n    388             self._publish_execute_input(code, parent, self.execution_count)\n    389 \n    390         reply_content = self.do_execute(code, silent, store_history,\n--> 391                                         user_expressions, allow_stdin)\n        user_expressions = {}\n        allow_stdin = True\n    392 \n    393         # Flush output before sending the reply.\n    394         sys.stdout.flush()\n    395         sys.stderr.flush()\n\n...........................................................................\n/opt/anaconda/lib/python3.5/site-packages/ipykernel/ipkernel.py in do_execute(self=<ipykernel.ipkernel.IPythonKernel object>, code='cv = model_selection.ShuffleSplit(n_splits=100, ...ta, target, \\n                    cv=cv, n_jobs=4)', silent=False, store_history=True, user_expressions={}, allow_stdin=True)\n    194 \n    195         reply_content = {}\n    196         # FIXME: the shell calls the exception handler itself.\n    197         shell._reply_content = None\n    198         try:\n--> 199             shell.run_cell(code, store_history=store_history, silent=silent)\n        shell.run_cell = <bound method InteractiveShell.run_cell of <ipykernel.zmqshell.ZMQInteractiveShell object>>\n        code = 'cv = model_selection.ShuffleSplit(n_splits=100, ...ta, target, \\n                    cv=cv, n_jobs=4)'\n        store_history = True\n        silent = False\n    200         except:\n    201             status = u'error'\n    202             # FIXME: this code right now isn't being used yet by default,\n    203             # because the run_cell() call above directly fires off exception\n\n...........................................................................\n/opt/anaconda/lib/python3.5/site-packages/IPython/core/interactiveshell.py in run_cell(self=<ipykernel.zmqshell.ZMQInteractiveShell object>, raw_cell='cv = model_selection.ShuffleSplit(n_splits=100, ...ta, target, \\n                    cv=cv, n_jobs=4)', store_history=True, silent=False, shell_futures=True)\n   2718                 self.displayhook.exec_result = result\n   2719 \n   2720                 # Execute the user code\n   2721                 interactivity = \"none\" if silent else self.ast_node_interactivity\n   2722                 self.run_ast_nodes(code_ast.body, cell_name,\n-> 2723                    interactivity=interactivity, compiler=compiler, result=result)\n        interactivity = 'last_expr'\n        compiler = <IPython.core.compilerop.CachingCompiler object>\n   2724 \n   2725                 # Reset this so later displayed values do not modify the\n   2726                 # ExecutionResult\n   2727                 self.displayhook.exec_result = None\n\n...........................................................................\n/opt/anaconda/lib/python3.5/site-packages/IPython/core/interactiveshell.py in run_ast_nodes(self=<ipykernel.zmqshell.ZMQInteractiveShell object>, nodelist=[<_ast.Assign object>, <_ast.Assign object>, <_ast.Assign object>, <_ast.Expr object>], cell_name='<ipython-input-79-7c55b16bf77a>', interactivity='last', compiler=<IPython.core.compilerop.CachingCompiler object>, result=<IPython.core.interactiveshell.ExecutionResult object>)\n   2826                     return True\n   2827 \n   2828             for i, node in enumerate(to_run_interactive):\n   2829                 mod = ast.Interactive([node])\n   2830                 code = compiler(mod, cell_name, \"single\")\n-> 2831                 if self.run_code(code, result):\n        self.run_code = <bound method InteractiveShell.run_code of <ipykernel.zmqshell.ZMQInteractiveShell object>>\n        code = <code object <module> at 0x7faa5bce1540, file \"<ipython-input-79-7c55b16bf77a>\", line 4>\n        result = <IPython.core.interactiveshell.ExecutionResult object>\n   2832                     return True\n   2833 \n   2834             # Flush softspace\n   2835             if softspace(sys.stdout, 0):\n\n...........................................................................\n/opt/anaconda/lib/python3.5/site-packages/IPython/core/interactiveshell.py in run_code(self=<ipykernel.zmqshell.ZMQInteractiveShell object>, code_obj=<code object <module> at 0x7faa5bce1540, file \"<ipython-input-79-7c55b16bf77a>\", line 4>, result=<IPython.core.interactiveshell.ExecutionResult object>)\n   2880         outflag = 1  # happens in more places, so it's easier as default\n   2881         try:\n   2882             try:\n   2883                 self.hooks.pre_run_code_hook()\n   2884                 #rprint('Running code', repr(code_obj)) # dbg\n-> 2885                 exec(code_obj, self.user_global_ns, self.user_ns)\n        code_obj = <code object <module> at 0x7faa5bce1540, file \"<ipython-input-79-7c55b16bf77a>\", line 4>\n        self.user_global_ns = {'DT': <module 'datetime' from '/opt/anaconda/lib/python3.5/datetime.py'>, 'DictVectorizer': <class 'sklearn.feature_extraction.dict_vectorizer.DictVectorizer'>, 'Imputer': <class 'sklearn.preprocessing.imputation.Imputer'>, 'In': ['', \"import pandas as pd\\nimport numpy as np \\nfrom skl...nline')\\npd.options.mode.chained_assignment = None\", \"data = pd.read_csv('CrowdstormingDataJuly1st.csv')\\ndata.ix[:5,:14]\", 'data.ix[:5,14:]', 'data.isnull().sum()', 'filtered = data.dropna()', 'len(filtered)/len(data)', 'len(data[data.rater1.isnull() & (data.rater2.isnull())])/len(data)', \"skin_data = data.dropna(how='all', subset=['rater1','rater2'])\", \"skin_data = skin_data.dropna(how='all', subset=['meanIAT', 'nIAT'])\", 'len(skin_data[skin_data.rater1.isnull() | (skin_data.rater2.isnull())])', 'skin_data_differ = skin_data[skin_data.rater1 != skin_data.rater2]', 'len(skin_data_differ)/len(skin_data)', \"skin_data['skin_difference'] = skin_data.apply(lambda x: abs(x['rater1'] - x['rater2']), axis=1)\", 'palette = sns.color_palette()\\nsns.countplot(x=\"skin_difference\", data=skin_data);', \"skin_data['skin'] = skin_data.apply(lambda x: (x['rater1']+x['rater2'])/2*4, axis=1)\", 'sns.countplot(x=\"skin\", data=skin_data, palette=sns.color_palette(\"Greys\", 9));', '# The birthday string is converted into a dateti...time.strptime(x[\\'birthday\\'], \"%d.%m.%Y\"), axis=1)', \"skin_data['birthday'].head()\", \"import datetime as DT\\nnow = pd.Timestamp(DT.date... int((now - x['birthday']).days/365.25) , axis=1)\", ...], 'LabelEncoder': <class 'sklearn.preprocessing.label.LabelEncoder'>, 'Out': {2:      playerShort         player             club... \n4      0            0  \n5      0            0  , 3:    yellowReds  redCards    photoID  rater1  rate...5   127.0  0.003297  0.538462   130.0  0.013752  , 4: playerShort          0\nplayer               0\ncl...          163\nseExp              163\ndtype: int64, 6: 0.790649738406333, 7: 0.14659517352836443, 10: 0, 12: 0.23189896198219623, 18: 0   1983-08-31\n1   1982-01-08\n5   1979-11-08\n6  ... 1986-04-04\nName: birthday, dtype: datetime64[ns], 26: 0.072870515627424276, 30:    club  leagueCountry    height    weight  posi...8 -0.225191          4.0  \n\n[5 rows x 27 columns], ...}, 'RandomForestClassifier': <class 'sklearn.ensemble.forest.RandomForestClassifier'>, 'RandomForestRegressor': <class 'sklearn.ensemble.forest.RandomForestRegressor'>, 'StandardScaler': <class 'sklearn.preprocessing.data.StandardScaler'>, '_': playerShort\naaron-hughes              1\naaron-hu...-el-kaoutari    1\nName: skin_nonorm, dtype: int64, ...}\n        self.user_ns = {'DT': <module 'datetime' from '/opt/anaconda/lib/python3.5/datetime.py'>, 'DictVectorizer': <class 'sklearn.feature_extraction.dict_vectorizer.DictVectorizer'>, 'Imputer': <class 'sklearn.preprocessing.imputation.Imputer'>, 'In': ['', \"import pandas as pd\\nimport numpy as np \\nfrom skl...nline')\\npd.options.mode.chained_assignment = None\", \"data = pd.read_csv('CrowdstormingDataJuly1st.csv')\\ndata.ix[:5,:14]\", 'data.ix[:5,14:]', 'data.isnull().sum()', 'filtered = data.dropna()', 'len(filtered)/len(data)', 'len(data[data.rater1.isnull() & (data.rater2.isnull())])/len(data)', \"skin_data = data.dropna(how='all', subset=['rater1','rater2'])\", \"skin_data = skin_data.dropna(how='all', subset=['meanIAT', 'nIAT'])\", 'len(skin_data[skin_data.rater1.isnull() | (skin_data.rater2.isnull())])', 'skin_data_differ = skin_data[skin_data.rater1 != skin_data.rater2]', 'len(skin_data_differ)/len(skin_data)', \"skin_data['skin_difference'] = skin_data.apply(lambda x: abs(x['rater1'] - x['rater2']), axis=1)\", 'palette = sns.color_palette()\\nsns.countplot(x=\"skin_difference\", data=skin_data);', \"skin_data['skin'] = skin_data.apply(lambda x: (x['rater1']+x['rater2'])/2*4, axis=1)\", 'sns.countplot(x=\"skin\", data=skin_data, palette=sns.color_palette(\"Greys\", 9));', '# The birthday string is converted into a dateti...time.strptime(x[\\'birthday\\'], \"%d.%m.%Y\"), axis=1)', \"skin_data['birthday'].head()\", \"import datetime as DT\\nnow = pd.Timestamp(DT.date... int((now - x['birthday']).days/365.25) , axis=1)\", ...], 'LabelEncoder': <class 'sklearn.preprocessing.label.LabelEncoder'>, 'Out': {2:      playerShort         player             club... \n4      0            0  \n5      0            0  , 3:    yellowReds  redCards    photoID  rater1  rate...5   127.0  0.003297  0.538462   130.0  0.013752  , 4: playerShort          0\nplayer               0\ncl...          163\nseExp              163\ndtype: int64, 6: 0.790649738406333, 7: 0.14659517352836443, 10: 0, 12: 0.23189896198219623, 18: 0   1983-08-31\n1   1982-01-08\n5   1979-11-08\n6  ... 1986-04-04\nName: birthday, dtype: datetime64[ns], 26: 0.072870515627424276, 30:    club  leagueCountry    height    weight  posi...8 -0.225191          4.0  \n\n[5 rows x 27 columns], ...}, 'RandomForestClassifier': <class 'sklearn.ensemble.forest.RandomForestClassifier'>, 'RandomForestRegressor': <class 'sklearn.ensemble.forest.RandomForestRegressor'>, 'StandardScaler': <class 'sklearn.preprocessing.data.StandardScaler'>, '_': playerShort\naaron-hughes              1\naaron-hu...-el-kaoutari    1\nName: skin_nonorm, dtype: int64, ...}\n   2886             finally:\n   2887                 # Reset our crash handler in place\n   2888                 sys.excepthook = old_excepthook\n   2889         except SystemExit as e:\n\n...........................................................................\n/home/atoll/adaepfl-hw/04 - Applied ML/<ipython-input-79-7c55b16bf77a> in <module>()\n      1 \n      2 cv = model_selection.ShuffleSplit(n_splits=100, test_size=0.2, random_state=0)\n      3 title = \"Learning curve\"\n      4 rf = RandomForestClassifier(n_estimators=100, max_features=5, min_samples_leaf=3)\n----> 5 plot_learning_curve(rf, title, data, target, \n      6                     cv=cv, n_jobs=4)\n      7 \n      8 \n      9 \n     10 \n\n...........................................................................\n/home/atoll/adaepfl-hw/04 - Applied ML/<ipython-input-75-9b5c521f78ac> in plot_learning_curve(estimator=RandomForestClassifier(bootstrap=True, class_wei...te=None,\n            verbose=0, warm_start=False), title='Learning curve', X=                        weightMeanIAT  yellowCar....280347  2.274077e-01  \n\n[1585 rows x 20 columns], y=array([ 0.12,  0.12,  0.25, ...,  0.88,  0.  ,  0.  ]), ylim=None, cv=ShuffleSplit(n_splits=100, random_state=0, test_size=0.2, train_size=None), n_jobs=4, train_sizes=array([ 0.1 ,  0.33,  0.55,  0.78,  1.  ]))\n      5     if ylim is not None:\n      6         plt.ylim(*ylim)\n      7     plt.xlabel(\"Training examples\")\n      8     plt.ylabel(\"Score\")\n      9     train_sizes, train_scores, test_scores = model_selection.learning_curve(\n---> 10         estimator, X, y, cv=cv, n_jobs=n_jobs, train_sizes=train_sizes)\n     11     train_scores_mean = np.mean(train_scores, axis=1)\n     12     train_scores_std = np.std(train_scores, axis=1)\n     13     test_scores_mean = np.mean(test_scores, axis=1)\n     14     test_scores_std = np.std(test_scores, axis=1)\n\n...........................................................................\n/opt/anaconda/lib/python3.5/site-packages/sklearn/model_selection/_validation.py in learning_curve(estimator=RandomForestClassifier(bootstrap=True, class_wei...te=None,\n            verbose=0, warm_start=False), X=                        weightMeanIAT  yellowCar....280347  2.274077e-01  \n\n[1585 rows x 20 columns], y=array([ 0.12,  0.12,  0.25, ...,  0.88,  0.  ,  0.  ]), groups=None, train_sizes=array([ 0.1 ,  0.33,  0.55,  0.78,  1.  ]), cv=ShuffleSplit(n_splits=100, random_state=0, test_size=0.2, train_size=None), scoring=None, exploit_incremental_learning=False, n_jobs=4, pre_dispatch='all', verbose=0)\n    767             scorer, verbose) for train, test in cv_iter)\n    768     else:\n    769         out = parallel(delayed(_fit_and_score)(\n    770             clone(estimator), X, y, scorer, train[:n_train_samples], test,\n    771             verbose, parameters=None, fit_params=None, return_train_score=True)\n--> 772             for train, test in cv_iter\n        cv_iter = [(array([ 215, 1180,   55, ..., 1216,  559,  684]), array([ 944, 1032,  893,  667, 1257, 1236,  182,... 1426,  801,  641,  519,  381,  748,  231,  390])), (array([ 547, 1009, 1472, ...,  407,    5,   55]), array([1094,  641, 1558,  575,  117, 1169,  741,... 1388, 1329, 1421,  769, 1262, 1522,  180, 1298])), (array([  95,  302, 1117, ...,  425, 1316,  824]), array([ 140,  629,  973,  886,  359,  560,  105,...  719,  823,  901,  380,  449, 1242,  556,  464])), (array([1207, 1094,  715, ...,   38,  158, 1302]), array([ 845, 1375,  451,  811, 1440,  875, 1442,...  593,  126, 1498,  404,  572,  888,  354,  528])), (array([1567,  881, 1548, ..., 1387, 1167,  974]), array([1513,  526, 1052,  382,  423, 1403,  883,...  977, 1079,  728,  940,  392,  792,   75, 1235])), (array([1554,  204,  843, ..., 1314,  987, 1419]), array([1177,  530,  682,  242, 1128,    3,  292,... 1473, 1285, 1230,  352, 1507,   33,  751,  462])), (array([1556,  192,   76, ...,  268,  650, 1067]), array([ 486, 1262, 1405, 1253, 1155, 1085,  851,... 1172,  643,  646,  912,  579,  668,  952, 1432])), (array([ 495,  158,   98, ..., 1237,  631,  474]), array([ 193,  959, 1482,  976, 1394, 1050, 1504,... 1293, 1413,  579,  206,  514, 1512,  218,  177])), (array([1431,  394, 1017, ..., 1508,    6, 1383]), array([ 131,  966,  860, 1032,  500,  715, 1284,...  786, 1513,  121, 1144, 1035,  409, 1463, 1582])), (array([1574, 1257,  367, ...,  805,  495,  984]), array([ 424, 1495,  566, 1114, 1118,  643,  459,...  326,  557,  770, 1387, 1414, 1136,   51,  435])), (array([1562,  484, 1457, ...,  355,  534,  808]), array([  16, 1492, 1028, 1134,  960,  123, 1365,...  726,  604, 1001,   18, 1500,  245,  600,  969])), (array([ 248, 1371,  686, ..., 1563, 1568,  890]), array([ 637, 1116,  409,  355,  665,  664,  640,...  709,  763,  841, 1268,   74,   44,  230,  857])), (array([1106,  801,  376, ...,   92,  712, 1074]), array([1235, 1264,   56,  709, 1302, 1149,  681,...  470,   79,  124, 1437,  840, 1568, 1239, 1549])), (array([ 944,  488,  299, ...,  992, 1291, 1387]), array([ 298,  385,  149,  326,  717,  159,  134,...   43,  224,  322, 1523,  990,  384,  200, 1559])), (array([1162,  840,  992, ...,  684, 1395,  368]), array([  51,  397, 1207,  168,  296,  741,  843,...  982, 1554,  983, 1186,  911, 1417, 1195,  765])), (array([ 847, 1081, 1311, ...,  419,  968,  359]), array([ 155, 1225,  408,  535, 1369, 1204, 1223,... 1395,  987, 1067, 1128, 1346,  315, 1082,  951])), (array([ 533, 1131,  911, ...,  729, 1241,  738]), array([ 135,  674,  406,  498,  969, 1202,  951,...   43,  231,  409,  437,   85,   83, 1399,  972])), (array([ 675, 1185, 1240, ..., 1184, 1345,  461]), array([ 585, 1045,  767,  271,  121,  899,  932,... 1142, 1362, 1186,  949,  935,  516, 1563,  866])), (array([1369, 1307,  660, ...,  694, 1303, 1125]), array([ 513,  637, 1222,  561, 1199,  844, 1532,...   61, 1097, 1415,  418, 1450,  985, 1287,  807])), (array([572, 567, 904, ..., 885,  10, 300]), array([ 780,  670, 1133, 1127,  534,  279,  276,...  519,  162,  368, 1408, 1419, 1559,  287,  539])), ...]\n    773             for n_train_samples in train_sizes_abs)\n    774         out = np.array(out)\n    775         n_cv_folds = out.shape[0] // n_unique_ticks\n    776         out = out.reshape(n_cv_folds, n_unique_ticks, 2)\n\n...........................................................................\n/opt/anaconda/lib/python3.5/site-packages/sklearn/externals/joblib/parallel.py in __call__(self=Parallel(n_jobs=4), iterable=<generator object learning_curve.<locals>.<genexpr>>)\n    763             if pre_dispatch == \"all\" or n_jobs == 1:\n    764                 # The iterable was consumed all at once by the above for loop.\n    765                 # No need to wait for async callbacks to trigger to\n    766                 # consumption.\n    767                 self._iterating = False\n--> 768             self.retrieve()\n        self.retrieve = <bound method Parallel.retrieve of Parallel(n_jobs=4)>\n    769             # Make sure that we get a last message telling us we are done\n    770             elapsed_time = time.time() - self._start_time\n    771             self._print('Done %3i out of %3i | elapsed: %s finished',\n    772                         (len(self._output), len(self._output),\n\n---------------------------------------------------------------------------\nSub-process traceback:\n---------------------------------------------------------------------------\nValueError                                         Tue Nov 22 18:02:08 2016\nPID: 2493                            Python 3.5.1: /opt/anaconda/bin/python\n...........................................................................\n/opt/anaconda/lib/python3.5/site-packages/sklearn/externals/joblib/parallel.py in __call__(self=<sklearn.externals.joblib.parallel.BatchedCalls object>)\n    126     def __init__(self, iterator_slice):\n    127         self.items = list(iterator_slice)\n    128         self._size = len(self.items)\n    129 \n    130     def __call__(self):\n--> 131         return [func(*args, **kwargs) for func, args, kwargs in self.items]\n        self.items = [(<function _fit_and_score>, (RandomForestClassifier(bootstrap=True, class_wei...te=None,\n            verbose=0, warm_start=False),                         weightMeanIAT  yellowCar....280347  2.274077e-01  \n\n[1585 rows x 20 columns], array([ 0.12,  0.12,  0.25, ...,  0.88,  0.  ,  0.  ]), <function _passthrough_scorer>, array([ 215, 1180,   55, 1136,  578, 1584,  984,... 198, 1470,\n       1322,  737,  913, 1159,  511]), array([ 944, 1032,  893,  667, 1257, 1236,  182,... 1426,  801,  641,  519,  381,  748,  231,  390]), 0), {'fit_params': None, 'parameters': None, 'return_train_score': True})]\n    132 \n    133     def __len__(self):\n    134         return self._size\n    135 \n\n...........................................................................\n/opt/anaconda/lib/python3.5/site-packages/sklearn/externals/joblib/parallel.py in <listcomp>(.0=<list_iterator object>)\n    126     def __init__(self, iterator_slice):\n    127         self.items = list(iterator_slice)\n    128         self._size = len(self.items)\n    129 \n    130     def __call__(self):\n--> 131         return [func(*args, **kwargs) for func, args, kwargs in self.items]\n        func = <function _fit_and_score>\n        args = (RandomForestClassifier(bootstrap=True, class_wei...te=None,\n            verbose=0, warm_start=False),                         weightMeanIAT  yellowCar....280347  2.274077e-01  \n\n[1585 rows x 20 columns], array([ 0.12,  0.12,  0.25, ...,  0.88,  0.  ,  0.  ]), <function _passthrough_scorer>, array([ 215, 1180,   55, 1136,  578, 1584,  984,... 198, 1470,\n       1322,  737,  913, 1159,  511]), array([ 944, 1032,  893,  667, 1257, 1236,  182,... 1426,  801,  641,  519,  381,  748,  231,  390]), 0)\n        kwargs = {'fit_params': None, 'parameters': None, 'return_train_score': True}\n    132 \n    133     def __len__(self):\n    134         return self._size\n    135 \n\n...........................................................................\n/opt/anaconda/lib/python3.5/site-packages/sklearn/model_selection/_validation.py in _fit_and_score(estimator=RandomForestClassifier(bootstrap=True, class_wei...te=None,\n            verbose=0, warm_start=False), X=                        weightMeanIAT  yellowCar....280347  2.274077e-01  \n\n[1585 rows x 20 columns], y=array([ 0.12,  0.12,  0.25, ...,  0.88,  0.  ,  0.  ]), scorer=<function _passthrough_scorer>, train=array([ 215, 1180,   55, 1136,  578, 1584,  984,... 198, 1470,\n       1322,  737,  913, 1159,  511]), test=array([ 944, 1032,  893,  667, 1257, 1236,  182,... 1426,  801,  641,  519,  381,  748,  231,  390]), verbose=0, parameters=None, fit_params={}, return_train_score=True, return_parameters=False, return_n_test_samples=False, return_times=False, error_score='raise')\n    233 \n    234     try:\n    235         if y_train is None:\n    236             estimator.fit(X_train, **fit_params)\n    237         else:\n--> 238             estimator.fit(X_train, y_train, **fit_params)\n        estimator.fit = <bound method BaseForest.fit of RandomForestClas...e=None,\n            verbose=0, warm_start=False)>\n        X_train =                      weightMeanIAT  yellowCards ...         -6.098438e-01  \n\n[126 rows x 20 columns]\n        y_train = array([ 0.25,  0.25,  0.25,  0.12,  0.  ,  0.  ,... 0.25,  0.25,  0.25,  0.  ,  0.  ,  1.  ,  0.5 ])\n        fit_params = {}\n    239 \n    240     except Exception as e:\n    241         # Note fit time as time until error\n    242         fit_time = time.time() - start_time\n\n...........................................................................\n/opt/anaconda/lib/python3.5/site-packages/sklearn/ensemble/forest.py in fit(self=RandomForestClassifier(bootstrap=True, class_wei...te=None,\n            verbose=0, warm_start=False), X=array([[  3.79e-07,   6.29e-01,   2.67e-01, ...,...   4.41e-01,\n         -6.10e-01]], dtype=float32), y=array([[ 0.25],\n       [ 0.25],\n       [ 0.25],\n...\n       [ 0.  ],\n       [ 1.  ],\n       [ 0.5 ]]), sample_weight=None)\n    266             # [:, np.newaxis] that does not.\n    267             y = np.reshape(y, (-1, 1))\n    268 \n    269         self.n_outputs_ = y.shape[1]\n    270 \n--> 271         y, expanded_class_weight = self._validate_y_class_weight(y)\n        y = array([[ 0.25],\n       [ 0.25],\n       [ 0.25],\n...\n       [ 0.  ],\n       [ 1.  ],\n       [ 0.5 ]])\n        expanded_class_weight = undefined\n        self._validate_y_class_weight = <bound method ForestClassifier._validate_y_class...e=None,\n            verbose=0, warm_start=False)>\n    272 \n    273         if getattr(y, \"dtype\", None) != DOUBLE or not y.flags.contiguous:\n    274             y = np.ascontiguousarray(y, dtype=DOUBLE)\n    275 \n\n...........................................................................\n/opt/anaconda/lib/python3.5/site-packages/sklearn/ensemble/forest.py in _validate_y_class_weight(self=RandomForestClassifier(bootstrap=True, class_wei...te=None,\n            verbose=0, warm_start=False), y=array([[ 0.25],\n       [ 0.25],\n       [ 0.25],\n...\n       [ 0.  ],\n       [ 1.  ],\n       [ 0.5 ]]))\n    452             self.oob_decision_function_ = oob_decision_function\n    453 \n    454         self.oob_score_ = oob_score / self.n_outputs_\n    455 \n    456     def _validate_y_class_weight(self, y):\n--> 457         check_classification_targets(y)\n        y = array([[ 0.25],\n       [ 0.25],\n       [ 0.25],\n...\n       [ 0.  ],\n       [ 1.  ],\n       [ 0.5 ]])\n    458 \n    459         y = np.copy(y)\n    460         expanded_class_weight = None\n    461 \n\n...........................................................................\n/opt/anaconda/lib/python3.5/site-packages/sklearn/utils/multiclass.py in check_classification_targets(y=array([[ 0.25],\n       [ 0.25],\n       [ 0.25],\n...\n       [ 0.  ],\n       [ 1.  ],\n       [ 0.5 ]]))\n    167     y : array-like\n    168     \"\"\"\n    169     y_type = type_of_target(y)\n    170     if y_type not in ['binary', 'multiclass', 'multiclass-multioutput',\n    171             'multilabel-indicator', 'multilabel-sequences']:\n--> 172         raise ValueError(\"Unknown label type: %r\" % y_type)\n        y_type = 'continuous'\n    173 \n    174 \n    175 \n    176 def type_of_target(y):\n\nValueError: Unknown label type: 'continuous'\n___________________________________________________________________________",
     "output_type": "error",
     "traceback": [
      "\u001b[1;31m---------------------------------------------------------------------------\u001b[0m",
      "\u001b[1;31mRemoteTraceback\u001b[0m                           Traceback (most recent call last)",
      "\u001b[1;31mRemoteTraceback\u001b[0m: \n\"\"\"\nTraceback (most recent call last):\n  File \"/opt/anaconda/lib/python3.5/site-packages/sklearn/externals/joblib/_parallel_backends.py\", line 344, in __call__\n    return self.func(*args, **kwargs)\n  File \"/opt/anaconda/lib/python3.5/site-packages/sklearn/externals/joblib/parallel.py\", line 131, in __call__\n    return [func(*args, **kwargs) for func, args, kwargs in self.items]\n  File \"/opt/anaconda/lib/python3.5/site-packages/sklearn/externals/joblib/parallel.py\", line 131, in <listcomp>\n    return [func(*args, **kwargs) for func, args, kwargs in self.items]\n  File \"/opt/anaconda/lib/python3.5/site-packages/sklearn/model_selection/_validation.py\", line 238, in _fit_and_score\n    estimator.fit(X_train, y_train, **fit_params)\n  File \"/opt/anaconda/lib/python3.5/site-packages/sklearn/ensemble/forest.py\", line 271, in fit\n    y, expanded_class_weight = self._validate_y_class_weight(y)\n  File \"/opt/anaconda/lib/python3.5/site-packages/sklearn/ensemble/forest.py\", line 457, in _validate_y_class_weight\n    check_classification_targets(y)\n  File \"/opt/anaconda/lib/python3.5/site-packages/sklearn/utils/multiclass.py\", line 172, in check_classification_targets\n    raise ValueError(\"Unknown label type: %r\" % y_type)\nValueError: Unknown label type: 'continuous'\n\nDuring handling of the above exception, another exception occurred:\n\nTraceback (most recent call last):\n  File \"/opt/anaconda/lib/python3.5/multiprocessing/pool.py\", line 119, in worker\n    result = (True, func(*args, **kwds))\n  File \"/opt/anaconda/lib/python3.5/site-packages/sklearn/externals/joblib/_parallel_backends.py\", line 353, in __call__\n    raise TransportableException(text, e_type)\nsklearn.externals.joblib.my_exceptions.TransportableException: TransportableException\n___________________________________________________________________________\nValueError                                         Tue Nov 22 18:02:08 2016\nPID: 2493                            Python 3.5.1: /opt/anaconda/bin/python\n...........................................................................\n/opt/anaconda/lib/python3.5/site-packages/sklearn/externals/joblib/parallel.py in __call__(self=<sklearn.externals.joblib.parallel.BatchedCalls object>)\n    126     def __init__(self, iterator_slice):\n    127         self.items = list(iterator_slice)\n    128         self._size = len(self.items)\n    129 \n    130     def __call__(self):\n--> 131         return [func(*args, **kwargs) for func, args, kwargs in self.items]\n        self.items = [(<function _fit_and_score>, (RandomForestClassifier(bootstrap=True, class_wei...te=None,\n            verbose=0, warm_start=False),                         weightMeanIAT  yellowCar....280347  2.274077e-01  \n\n[1585 rows x 20 columns], array([ 0.12,  0.12,  0.25, ...,  0.88,  0.  ,  0.  ]), <function _passthrough_scorer>, array([ 215, 1180,   55, 1136,  578, 1584,  984,... 198, 1470,\n       1322,  737,  913, 1159,  511]), array([ 944, 1032,  893,  667, 1257, 1236,  182,... 1426,  801,  641,  519,  381,  748,  231,  390]), 0), {'fit_params': None, 'parameters': None, 'return_train_score': True})]\n    132 \n    133     def __len__(self):\n    134         return self._size\n    135 \n\n...........................................................................\n/opt/anaconda/lib/python3.5/site-packages/sklearn/externals/joblib/parallel.py in <listcomp>(.0=<list_iterator object>)\n    126     def __init__(self, iterator_slice):\n    127         self.items = list(iterator_slice)\n    128         self._size = len(self.items)\n    129 \n    130     def __call__(self):\n--> 131         return [func(*args, **kwargs) for func, args, kwargs in self.items]\n        func = <function _fit_and_score>\n        args = (RandomForestClassifier(bootstrap=True, class_wei...te=None,\n            verbose=0, warm_start=False),                         weightMeanIAT  yellowCar....280347  2.274077e-01  \n\n[1585 rows x 20 columns], array([ 0.12,  0.12,  0.25, ...,  0.88,  0.  ,  0.  ]), <function _passthrough_scorer>, array([ 215, 1180,   55, 1136,  578, 1584,  984,... 198, 1470,\n       1322,  737,  913, 1159,  511]), array([ 944, 1032,  893,  667, 1257, 1236,  182,... 1426,  801,  641,  519,  381,  748,  231,  390]), 0)\n        kwargs = {'fit_params': None, 'parameters': None, 'return_train_score': True}\n    132 \n    133     def __len__(self):\n    134         return self._size\n    135 \n\n...........................................................................\n/opt/anaconda/lib/python3.5/site-packages/sklearn/model_selection/_validation.py in _fit_and_score(estimator=RandomForestClassifier(bootstrap=True, class_wei...te=None,\n            verbose=0, warm_start=False), X=                        weightMeanIAT  yellowCar....280347  2.274077e-01  \n\n[1585 rows x 20 columns], y=array([ 0.12,  0.12,  0.25, ...,  0.88,  0.  ,  0.  ]), scorer=<function _passthrough_scorer>, train=array([ 215, 1180,   55, 1136,  578, 1584,  984,... 198, 1470,\n       1322,  737,  913, 1159,  511]), test=array([ 944, 1032,  893,  667, 1257, 1236,  182,... 1426,  801,  641,  519,  381,  748,  231,  390]), verbose=0, parameters=None, fit_params={}, return_train_score=True, return_parameters=False, return_n_test_samples=False, return_times=False, error_score='raise')\n    233 \n    234     try:\n    235         if y_train is None:\n    236             estimator.fit(X_train, **fit_params)\n    237         else:\n--> 238             estimator.fit(X_train, y_train, **fit_params)\n        estimator.fit = <bound method BaseForest.fit of RandomForestClas...e=None,\n            verbose=0, warm_start=False)>\n        X_train =                      weightMeanIAT  yellowCards ...         -6.098438e-01  \n\n[126 rows x 20 columns]\n        y_train = array([ 0.25,  0.25,  0.25,  0.12,  0.  ,  0.  ,... 0.25,  0.25,  0.25,  0.  ,  0.  ,  1.  ,  0.5 ])\n        fit_params = {}\n    239 \n    240     except Exception as e:\n    241         # Note fit time as time until error\n    242         fit_time = time.time() - start_time\n\n...........................................................................\n/opt/anaconda/lib/python3.5/site-packages/sklearn/ensemble/forest.py in fit(self=RandomForestClassifier(bootstrap=True, class_wei...te=None,\n            verbose=0, warm_start=False), X=array([[  3.79e-07,   6.29e-01,   2.67e-01, ...,...   4.41e-01,\n         -6.10e-01]], dtype=float32), y=array([[ 0.25],\n       [ 0.25],\n       [ 0.25],\n...\n       [ 0.  ],\n       [ 1.  ],\n       [ 0.5 ]]), sample_weight=None)\n    266             # [:, np.newaxis] that does not.\n    267             y = np.reshape(y, (-1, 1))\n    268 \n    269         self.n_outputs_ = y.shape[1]\n    270 \n--> 271         y, expanded_class_weight = self._validate_y_class_weight(y)\n        y = array([[ 0.25],\n       [ 0.25],\n       [ 0.25],\n...\n       [ 0.  ],\n       [ 1.  ],\n       [ 0.5 ]])\n        expanded_class_weight = undefined\n        self._validate_y_class_weight = <bound method ForestClassifier._validate_y_class...e=None,\n            verbose=0, warm_start=False)>\n    272 \n    273         if getattr(y, \"dtype\", None) != DOUBLE or not y.flags.contiguous:\n    274             y = np.ascontiguousarray(y, dtype=DOUBLE)\n    275 \n\n...........................................................................\n/opt/anaconda/lib/python3.5/site-packages/sklearn/ensemble/forest.py in _validate_y_class_weight(self=RandomForestClassifier(bootstrap=True, class_wei...te=None,\n            verbose=0, warm_start=False), y=array([[ 0.25],\n       [ 0.25],\n       [ 0.25],\n...\n       [ 0.  ],\n       [ 1.  ],\n       [ 0.5 ]]))\n    452             self.oob_decision_function_ = oob_decision_function\n    453 \n    454         self.oob_score_ = oob_score / self.n_outputs_\n    455 \n    456     def _validate_y_class_weight(self, y):\n--> 457         check_classification_targets(y)\n        y = array([[ 0.25],\n       [ 0.25],\n       [ 0.25],\n...\n       [ 0.  ],\n       [ 1.  ],\n       [ 0.5 ]])\n    458 \n    459         y = np.copy(y)\n    460         expanded_class_weight = None\n    461 \n\n...........................................................................\n/opt/anaconda/lib/python3.5/site-packages/sklearn/utils/multiclass.py in check_classification_targets(y=array([[ 0.25],\n       [ 0.25],\n       [ 0.25],\n...\n       [ 0.  ],\n       [ 1.  ],\n       [ 0.5 ]]))\n    167     y : array-like\n    168     \"\"\"\n    169     y_type = type_of_target(y)\n    170     if y_type not in ['binary', 'multiclass', 'multiclass-multioutput',\n    171             'multilabel-indicator', 'multilabel-sequences']:\n--> 172         raise ValueError(\"Unknown label type: %r\" % y_type)\n        y_type = 'continuous'\n    173 \n    174 \n    175 \n    176 def type_of_target(y):\n\nValueError: Unknown label type: 'continuous'\n___________________________________________________________________________\n\"\"\"",
      "\nThe above exception was the direct cause of the following exception:\n",
      "\u001b[1;31mTransportableException\u001b[0m                    Traceback (most recent call last)",
      "\u001b[1;32m/opt/anaconda/lib/python3.5/site-packages/sklearn/externals/joblib/parallel.py\u001b[0m in \u001b[0;36mretrieve\u001b[1;34m(self)\u001b[0m\n\u001b[0;32m    681\u001b[0m                 \u001b[1;32mif\u001b[0m \u001b[1;34m'timeout'\u001b[0m \u001b[1;32min\u001b[0m \u001b[0mgetfullargspec\u001b[0m\u001b[1;33m(\u001b[0m\u001b[0mjob\u001b[0m\u001b[1;33m.\u001b[0m\u001b[0mget\u001b[0m\u001b[1;33m)\u001b[0m\u001b[1;33m.\u001b[0m\u001b[0margs\u001b[0m\u001b[1;33m:\u001b[0m\u001b[1;33m\u001b[0m\u001b[0m\n\u001b[1;32m--> 682\u001b[1;33m                     \u001b[0mself\u001b[0m\u001b[1;33m.\u001b[0m\u001b[0m_output\u001b[0m\u001b[1;33m.\u001b[0m\u001b[0mextend\u001b[0m\u001b[1;33m(\u001b[0m\u001b[0mjob\u001b[0m\u001b[1;33m.\u001b[0m\u001b[0mget\u001b[0m\u001b[1;33m(\u001b[0m\u001b[0mtimeout\u001b[0m\u001b[1;33m=\u001b[0m\u001b[0mself\u001b[0m\u001b[1;33m.\u001b[0m\u001b[0mtimeout\u001b[0m\u001b[1;33m)\u001b[0m\u001b[1;33m)\u001b[0m\u001b[1;33m\u001b[0m\u001b[0m\n\u001b[0m\u001b[0;32m    683\u001b[0m                 \u001b[1;32melse\u001b[0m\u001b[1;33m:\u001b[0m\u001b[1;33m\u001b[0m\u001b[0m\n",
      "\u001b[1;32m/opt/anaconda/lib/python3.5/multiprocessing/pool.py\u001b[0m in \u001b[0;36mget\u001b[1;34m(self, timeout)\u001b[0m\n\u001b[0;32m    607\u001b[0m         \u001b[1;32melse\u001b[0m\u001b[1;33m:\u001b[0m\u001b[1;33m\u001b[0m\u001b[0m\n\u001b[1;32m--> 608\u001b[1;33m             \u001b[1;32mraise\u001b[0m \u001b[0mself\u001b[0m\u001b[1;33m.\u001b[0m\u001b[0m_value\u001b[0m\u001b[1;33m\u001b[0m\u001b[0m\n\u001b[0m\u001b[0;32m    609\u001b[0m \u001b[1;33m\u001b[0m\u001b[0m\n",
      "\u001b[1;31mTransportableException\u001b[0m: TransportableException\n___________________________________________________________________________\nValueError                                         Tue Nov 22 18:02:08 2016\nPID: 2493                            Python 3.5.1: /opt/anaconda/bin/python\n...........................................................................\n/opt/anaconda/lib/python3.5/site-packages/sklearn/externals/joblib/parallel.py in __call__(self=<sklearn.externals.joblib.parallel.BatchedCalls object>)\n    126     def __init__(self, iterator_slice):\n    127         self.items = list(iterator_slice)\n    128         self._size = len(self.items)\n    129 \n    130     def __call__(self):\n--> 131         return [func(*args, **kwargs) for func, args, kwargs in self.items]\n        self.items = [(<function _fit_and_score>, (RandomForestClassifier(bootstrap=True, class_wei...te=None,\n            verbose=0, warm_start=False),                         weightMeanIAT  yellowCar....280347  2.274077e-01  \n\n[1585 rows x 20 columns], array([ 0.12,  0.12,  0.25, ...,  0.88,  0.  ,  0.  ]), <function _passthrough_scorer>, array([ 215, 1180,   55, 1136,  578, 1584,  984,... 198, 1470,\n       1322,  737,  913, 1159,  511]), array([ 944, 1032,  893,  667, 1257, 1236,  182,... 1426,  801,  641,  519,  381,  748,  231,  390]), 0), {'fit_params': None, 'parameters': None, 'return_train_score': True})]\n    132 \n    133     def __len__(self):\n    134         return self._size\n    135 \n\n...........................................................................\n/opt/anaconda/lib/python3.5/site-packages/sklearn/externals/joblib/parallel.py in <listcomp>(.0=<list_iterator object>)\n    126     def __init__(self, iterator_slice):\n    127         self.items = list(iterator_slice)\n    128         self._size = len(self.items)\n    129 \n    130     def __call__(self):\n--> 131         return [func(*args, **kwargs) for func, args, kwargs in self.items]\n        func = <function _fit_and_score>\n        args = (RandomForestClassifier(bootstrap=True, class_wei...te=None,\n            verbose=0, warm_start=False),                         weightMeanIAT  yellowCar....280347  2.274077e-01  \n\n[1585 rows x 20 columns], array([ 0.12,  0.12,  0.25, ...,  0.88,  0.  ,  0.  ]), <function _passthrough_scorer>, array([ 215, 1180,   55, 1136,  578, 1584,  984,... 198, 1470,\n       1322,  737,  913, 1159,  511]), array([ 944, 1032,  893,  667, 1257, 1236,  182,... 1426,  801,  641,  519,  381,  748,  231,  390]), 0)\n        kwargs = {'fit_params': None, 'parameters': None, 'return_train_score': True}\n    132 \n    133     def __len__(self):\n    134         return self._size\n    135 \n\n...........................................................................\n/opt/anaconda/lib/python3.5/site-packages/sklearn/model_selection/_validation.py in _fit_and_score(estimator=RandomForestClassifier(bootstrap=True, class_wei...te=None,\n            verbose=0, warm_start=False), X=                        weightMeanIAT  yellowCar....280347  2.274077e-01  \n\n[1585 rows x 20 columns], y=array([ 0.12,  0.12,  0.25, ...,  0.88,  0.  ,  0.  ]), scorer=<function _passthrough_scorer>, train=array([ 215, 1180,   55, 1136,  578, 1584,  984,... 198, 1470,\n       1322,  737,  913, 1159,  511]), test=array([ 944, 1032,  893,  667, 1257, 1236,  182,... 1426,  801,  641,  519,  381,  748,  231,  390]), verbose=0, parameters=None, fit_params={}, return_train_score=True, return_parameters=False, return_n_test_samples=False, return_times=False, error_score='raise')\n    233 \n    234     try:\n    235         if y_train is None:\n    236             estimator.fit(X_train, **fit_params)\n    237         else:\n--> 238             estimator.fit(X_train, y_train, **fit_params)\n        estimator.fit = <bound method BaseForest.fit of RandomForestClas...e=None,\n            verbose=0, warm_start=False)>\n        X_train =                      weightMeanIAT  yellowCards ...         -6.098438e-01  \n\n[126 rows x 20 columns]\n        y_train = array([ 0.25,  0.25,  0.25,  0.12,  0.  ,  0.  ,... 0.25,  0.25,  0.25,  0.  ,  0.  ,  1.  ,  0.5 ])\n        fit_params = {}\n    239 \n    240     except Exception as e:\n    241         # Note fit time as time until error\n    242         fit_time = time.time() - start_time\n\n...........................................................................\n/opt/anaconda/lib/python3.5/site-packages/sklearn/ensemble/forest.py in fit(self=RandomForestClassifier(bootstrap=True, class_wei...te=None,\n            verbose=0, warm_start=False), X=array([[  3.79e-07,   6.29e-01,   2.67e-01, ...,...   4.41e-01,\n         -6.10e-01]], dtype=float32), y=array([[ 0.25],\n       [ 0.25],\n       [ 0.25],\n...\n       [ 0.  ],\n       [ 1.  ],\n       [ 0.5 ]]), sample_weight=None)\n    266             # [:, np.newaxis] that does not.\n    267             y = np.reshape(y, (-1, 1))\n    268 \n    269         self.n_outputs_ = y.shape[1]\n    270 \n--> 271         y, expanded_class_weight = self._validate_y_class_weight(y)\n        y = array([[ 0.25],\n       [ 0.25],\n       [ 0.25],\n...\n       [ 0.  ],\n       [ 1.  ],\n       [ 0.5 ]])\n        expanded_class_weight = undefined\n        self._validate_y_class_weight = <bound method ForestClassifier._validate_y_class...e=None,\n            verbose=0, warm_start=False)>\n    272 \n    273         if getattr(y, \"dtype\", None) != DOUBLE or not y.flags.contiguous:\n    274             y = np.ascontiguousarray(y, dtype=DOUBLE)\n    275 \n\n...........................................................................\n/opt/anaconda/lib/python3.5/site-packages/sklearn/ensemble/forest.py in _validate_y_class_weight(self=RandomForestClassifier(bootstrap=True, class_wei...te=None,\n            verbose=0, warm_start=False), y=array([[ 0.25],\n       [ 0.25],\n       [ 0.25],\n...\n       [ 0.  ],\n       [ 1.  ],\n       [ 0.5 ]]))\n    452             self.oob_decision_function_ = oob_decision_function\n    453 \n    454         self.oob_score_ = oob_score / self.n_outputs_\n    455 \n    456     def _validate_y_class_weight(self, y):\n--> 457         check_classification_targets(y)\n        y = array([[ 0.25],\n       [ 0.25],\n       [ 0.25],\n...\n       [ 0.  ],\n       [ 1.  ],\n       [ 0.5 ]])\n    458 \n    459         y = np.copy(y)\n    460         expanded_class_weight = None\n    461 \n\n...........................................................................\n/opt/anaconda/lib/python3.5/site-packages/sklearn/utils/multiclass.py in check_classification_targets(y=array([[ 0.25],\n       [ 0.25],\n       [ 0.25],\n...\n       [ 0.  ],\n       [ 1.  ],\n       [ 0.5 ]]))\n    167     y : array-like\n    168     \"\"\"\n    169     y_type = type_of_target(y)\n    170     if y_type not in ['binary', 'multiclass', 'multiclass-multioutput',\n    171             'multilabel-indicator', 'multilabel-sequences']:\n--> 172         raise ValueError(\"Unknown label type: %r\" % y_type)\n        y_type = 'continuous'\n    173 \n    174 \n    175 \n    176 def type_of_target(y):\n\nValueError: Unknown label type: 'continuous'\n___________________________________________________________________________",
      "\nDuring handling of the above exception, another exception occurred:\n",
      "\u001b[1;31mJoblibValueError\u001b[0m                          Traceback (most recent call last)",
      "\u001b[1;32m<ipython-input-79-7c55b16bf77a>\u001b[0m in \u001b[0;36m<module>\u001b[1;34m()\u001b[0m\n\u001b[0;32m      3\u001b[0m \u001b[0mrf\u001b[0m \u001b[1;33m=\u001b[0m \u001b[0mRandomForestClassifier\u001b[0m\u001b[1;33m(\u001b[0m\u001b[0mn_estimators\u001b[0m\u001b[1;33m=\u001b[0m\u001b[1;36m100\u001b[0m\u001b[1;33m,\u001b[0m \u001b[0mmax_features\u001b[0m\u001b[1;33m=\u001b[0m\u001b[1;36m5\u001b[0m\u001b[1;33m,\u001b[0m \u001b[0mmin_samples_leaf\u001b[0m\u001b[1;33m=\u001b[0m\u001b[1;36m3\u001b[0m\u001b[1;33m)\u001b[0m\u001b[1;33m\u001b[0m\u001b[0m\n\u001b[0;32m      4\u001b[0m plot_learning_curve(rf, title, data, target, \n\u001b[1;32m----> 5\u001b[1;33m                     cv=cv, n_jobs=4)\n\u001b[0m",
      "\u001b[1;32m<ipython-input-75-9b5c521f78ac>\u001b[0m in \u001b[0;36mplot_learning_curve\u001b[1;34m(estimator, title, X, y, ylim, cv, n_jobs, train_sizes)\u001b[0m\n\u001b[0;32m      8\u001b[0m     \u001b[0mplt\u001b[0m\u001b[1;33m.\u001b[0m\u001b[0mylabel\u001b[0m\u001b[1;33m(\u001b[0m\u001b[1;34m\"Score\"\u001b[0m\u001b[1;33m)\u001b[0m\u001b[1;33m\u001b[0m\u001b[0m\n\u001b[0;32m      9\u001b[0m     train_sizes, train_scores, test_scores = model_selection.learning_curve(\n\u001b[1;32m---> 10\u001b[1;33m         estimator, X, y, cv=cv, n_jobs=n_jobs, train_sizes=train_sizes)\n\u001b[0m\u001b[0;32m     11\u001b[0m     \u001b[0mtrain_scores_mean\u001b[0m \u001b[1;33m=\u001b[0m \u001b[0mnp\u001b[0m\u001b[1;33m.\u001b[0m\u001b[0mmean\u001b[0m\u001b[1;33m(\u001b[0m\u001b[0mtrain_scores\u001b[0m\u001b[1;33m,\u001b[0m \u001b[0maxis\u001b[0m\u001b[1;33m=\u001b[0m\u001b[1;36m1\u001b[0m\u001b[1;33m)\u001b[0m\u001b[1;33m\u001b[0m\u001b[0m\n\u001b[0;32m     12\u001b[0m     \u001b[0mtrain_scores_std\u001b[0m \u001b[1;33m=\u001b[0m \u001b[0mnp\u001b[0m\u001b[1;33m.\u001b[0m\u001b[0mstd\u001b[0m\u001b[1;33m(\u001b[0m\u001b[0mtrain_scores\u001b[0m\u001b[1;33m,\u001b[0m \u001b[0maxis\u001b[0m\u001b[1;33m=\u001b[0m\u001b[1;36m1\u001b[0m\u001b[1;33m)\u001b[0m\u001b[1;33m\u001b[0m\u001b[0m\n",
      "\u001b[1;32m/opt/anaconda/lib/python3.5/site-packages/sklearn/model_selection/_validation.py\u001b[0m in \u001b[0;36mlearning_curve\u001b[1;34m(estimator, X, y, groups, train_sizes, cv, scoring, exploit_incremental_learning, n_jobs, pre_dispatch, verbose)\u001b[0m\n\u001b[0;32m    770\u001b[0m             \u001b[0mclone\u001b[0m\u001b[1;33m(\u001b[0m\u001b[0mestimator\u001b[0m\u001b[1;33m)\u001b[0m\u001b[1;33m,\u001b[0m \u001b[0mX\u001b[0m\u001b[1;33m,\u001b[0m \u001b[0my\u001b[0m\u001b[1;33m,\u001b[0m \u001b[0mscorer\u001b[0m\u001b[1;33m,\u001b[0m \u001b[0mtrain\u001b[0m\u001b[1;33m[\u001b[0m\u001b[1;33m:\u001b[0m\u001b[0mn_train_samples\u001b[0m\u001b[1;33m]\u001b[0m\u001b[1;33m,\u001b[0m \u001b[0mtest\u001b[0m\u001b[1;33m,\u001b[0m\u001b[1;33m\u001b[0m\u001b[0m\n\u001b[0;32m    771\u001b[0m             verbose, parameters=None, fit_params=None, return_train_score=True)\n\u001b[1;32m--> 772\u001b[1;33m             \u001b[1;32mfor\u001b[0m \u001b[0mtrain\u001b[0m\u001b[1;33m,\u001b[0m \u001b[0mtest\u001b[0m \u001b[1;32min\u001b[0m \u001b[0mcv_iter\u001b[0m\u001b[1;33m\u001b[0m\u001b[0m\n\u001b[0m\u001b[0;32m    773\u001b[0m             for n_train_samples in train_sizes_abs)\n\u001b[0;32m    774\u001b[0m         \u001b[0mout\u001b[0m \u001b[1;33m=\u001b[0m \u001b[0mnp\u001b[0m\u001b[1;33m.\u001b[0m\u001b[0marray\u001b[0m\u001b[1;33m(\u001b[0m\u001b[0mout\u001b[0m\u001b[1;33m)\u001b[0m\u001b[1;33m\u001b[0m\u001b[0m\n",
      "\u001b[1;32m/opt/anaconda/lib/python3.5/site-packages/sklearn/externals/joblib/parallel.py\u001b[0m in \u001b[0;36m__call__\u001b[1;34m(self, iterable)\u001b[0m\n\u001b[0;32m    766\u001b[0m                 \u001b[1;31m# consumption.\u001b[0m\u001b[1;33m\u001b[0m\u001b[1;33m\u001b[0m\u001b[0m\n\u001b[0;32m    767\u001b[0m                 \u001b[0mself\u001b[0m\u001b[1;33m.\u001b[0m\u001b[0m_iterating\u001b[0m \u001b[1;33m=\u001b[0m \u001b[1;32mFalse\u001b[0m\u001b[1;33m\u001b[0m\u001b[0m\n\u001b[1;32m--> 768\u001b[1;33m             \u001b[0mself\u001b[0m\u001b[1;33m.\u001b[0m\u001b[0mretrieve\u001b[0m\u001b[1;33m(\u001b[0m\u001b[1;33m)\u001b[0m\u001b[1;33m\u001b[0m\u001b[0m\n\u001b[0m\u001b[0;32m    769\u001b[0m             \u001b[1;31m# Make sure that we get a last message telling us we are done\u001b[0m\u001b[1;33m\u001b[0m\u001b[1;33m\u001b[0m\u001b[0m\n\u001b[0;32m    770\u001b[0m             \u001b[0melapsed_time\u001b[0m \u001b[1;33m=\u001b[0m \u001b[0mtime\u001b[0m\u001b[1;33m.\u001b[0m\u001b[0mtime\u001b[0m\u001b[1;33m(\u001b[0m\u001b[1;33m)\u001b[0m \u001b[1;33m-\u001b[0m \u001b[0mself\u001b[0m\u001b[1;33m.\u001b[0m\u001b[0m_start_time\u001b[0m\u001b[1;33m\u001b[0m\u001b[0m\n",
      "\u001b[1;32m/opt/anaconda/lib/python3.5/site-packages/sklearn/externals/joblib/parallel.py\u001b[0m in \u001b[0;36mretrieve\u001b[1;34m(self)\u001b[0m\n\u001b[0;32m    717\u001b[0m                     \u001b[0mensure_ready\u001b[0m \u001b[1;33m=\u001b[0m \u001b[0mself\u001b[0m\u001b[1;33m.\u001b[0m\u001b[0m_managed_backend\u001b[0m\u001b[1;33m\u001b[0m\u001b[0m\n\u001b[0;32m    718\u001b[0m                     \u001b[0mbackend\u001b[0m\u001b[1;33m.\u001b[0m\u001b[0mabort_everything\u001b[0m\u001b[1;33m(\u001b[0m\u001b[0mensure_ready\u001b[0m\u001b[1;33m=\u001b[0m\u001b[0mensure_ready\u001b[0m\u001b[1;33m)\u001b[0m\u001b[1;33m\u001b[0m\u001b[0m\n\u001b[1;32m--> 719\u001b[1;33m                 \u001b[1;32mraise\u001b[0m \u001b[0mexception\u001b[0m\u001b[1;33m\u001b[0m\u001b[0m\n\u001b[0m\u001b[0;32m    720\u001b[0m \u001b[1;33m\u001b[0m\u001b[0m\n\u001b[0;32m    721\u001b[0m     \u001b[1;32mdef\u001b[0m \u001b[0m__call__\u001b[0m\u001b[1;33m(\u001b[0m\u001b[0mself\u001b[0m\u001b[1;33m,\u001b[0m \u001b[0miterable\u001b[0m\u001b[1;33m)\u001b[0m\u001b[1;33m:\u001b[0m\u001b[1;33m\u001b[0m\u001b[0m\n",
      "\u001b[1;31mJoblibValueError\u001b[0m: JoblibValueError\n___________________________________________________________________________\nMultiprocessing exception:\n...........................................................................\n/opt/anaconda/lib/python3.5/runpy.py in _run_module_as_main(mod_name='ipykernel.__main__', alter_argv=1)\n    165         sys.exit(msg)\n    166     main_globals = sys.modules[\"__main__\"].__dict__\n    167     if alter_argv:\n    168         sys.argv[0] = mod_spec.origin\n    169     return _run_code(code, main_globals, None,\n--> 170                      \"__main__\", mod_spec)\n        mod_spec = ModuleSpec(name='ipykernel.__main__', loader=<_f...b/python3.5/site-packages/ipykernel/__main__.py')\n    171 \n    172 def run_module(mod_name, init_globals=None,\n    173                run_name=None, alter_sys=False):\n    174     \"\"\"Execute a module's code without importing it\n\n...........................................................................\n/opt/anaconda/lib/python3.5/runpy.py in _run_code(code=<code object <module> at 0x7faa9cd1e1e0, file \"/...3.5/site-packages/ipykernel/__main__.py\", line 1>, run_globals={'__builtins__': <module 'builtins' (built-in)>, '__cached__': '/opt/anaconda/lib/python3.5/site-packages/ipykernel/__pycache__/__main__.cpython-35.pyc', '__doc__': None, '__file__': '/opt/anaconda/lib/python3.5/site-packages/ipykernel/__main__.py', '__loader__': <_frozen_importlib_external.SourceFileLoader object>, '__name__': '__main__', '__package__': 'ipykernel', '__spec__': ModuleSpec(name='ipykernel.__main__', loader=<_f...b/python3.5/site-packages/ipykernel/__main__.py'), 'app': <module 'ipykernel.kernelapp' from '/opt/anacond.../python3.5/site-packages/ipykernel/kernelapp.py'>}, init_globals=None, mod_name='__main__', mod_spec=ModuleSpec(name='ipykernel.__main__', loader=<_f...b/python3.5/site-packages/ipykernel/__main__.py'), pkg_name='ipykernel', script_name=None)\n     80                        __cached__ = cached,\n     81                        __doc__ = None,\n     82                        __loader__ = loader,\n     83                        __package__ = pkg_name,\n     84                        __spec__ = mod_spec)\n---> 85     exec(code, run_globals)\n        code = <code object <module> at 0x7faa9cd1e1e0, file \"/...3.5/site-packages/ipykernel/__main__.py\", line 1>\n        run_globals = {'__builtins__': <module 'builtins' (built-in)>, '__cached__': '/opt/anaconda/lib/python3.5/site-packages/ipykernel/__pycache__/__main__.cpython-35.pyc', '__doc__': None, '__file__': '/opt/anaconda/lib/python3.5/site-packages/ipykernel/__main__.py', '__loader__': <_frozen_importlib_external.SourceFileLoader object>, '__name__': '__main__', '__package__': 'ipykernel', '__spec__': ModuleSpec(name='ipykernel.__main__', loader=<_f...b/python3.5/site-packages/ipykernel/__main__.py'), 'app': <module 'ipykernel.kernelapp' from '/opt/anacond.../python3.5/site-packages/ipykernel/kernelapp.py'>}\n     86     return run_globals\n     87 \n     88 def _run_module_code(code, init_globals=None,\n     89                     mod_name=None, mod_spec=None,\n\n...........................................................................\n/opt/anaconda/lib/python3.5/site-packages/ipykernel/__main__.py in <module>()\n      1 \n      2 \n----> 3 \n      4 if __name__ == '__main__':\n      5     from ipykernel import kernelapp as app\n      6     app.launch_new_instance()\n      7 \n      8 \n      9 \n     10 \n\n...........................................................................\n/opt/anaconda/lib/python3.5/site-packages/traitlets/config/application.py in launch_instance(cls=<class 'ipykernel.kernelapp.IPKernelApp'>, argv=None, **kwargs={})\n    591         \n    592         If a global instance already exists, this reinitializes and starts it\n    593         \"\"\"\n    594         app = cls.instance(**kwargs)\n    595         app.initialize(argv)\n--> 596         app.start()\n        app.start = <bound method IPKernelApp.start of <ipykernel.kernelapp.IPKernelApp object>>\n    597 \n    598 #-----------------------------------------------------------------------------\n    599 # utility functions, for convenience\n    600 #-----------------------------------------------------------------------------\n\n...........................................................................\n/opt/anaconda/lib/python3.5/site-packages/ipykernel/kernelapp.py in start(self=<ipykernel.kernelapp.IPKernelApp object>)\n    437         \n    438         if self.poller is not None:\n    439             self.poller.start()\n    440         self.kernel.start()\n    441         try:\n--> 442             ioloop.IOLoop.instance().start()\n    443         except KeyboardInterrupt:\n    444             pass\n    445 \n    446 launch_new_instance = IPKernelApp.launch_instance\n\n...........................................................................\n/opt/anaconda/lib/python3.5/site-packages/zmq/eventloop/ioloop.py in start(self=<zmq.eventloop.ioloop.ZMQIOLoop object>)\n    157             PollIOLoop.configure(ZMQIOLoop)\n    158         return PollIOLoop.current(*args, **kwargs)\n    159     \n    160     def start(self):\n    161         try:\n--> 162             super(ZMQIOLoop, self).start()\n        self.start = <bound method ZMQIOLoop.start of <zmq.eventloop.ioloop.ZMQIOLoop object>>\n    163         except ZMQError as e:\n    164             if e.errno == ETERM:\n    165                 # quietly return on ETERM\n    166                 pass\n\n...........................................................................\n/opt/anaconda/lib/python3.5/site-packages/tornado/ioloop.py in start(self=<zmq.eventloop.ioloop.ZMQIOLoop object>)\n    878                 self._events.update(event_pairs)\n    879                 while self._events:\n    880                     fd, events = self._events.popitem()\n    881                     try:\n    882                         fd_obj, handler_func = self._handlers[fd]\n--> 883                         handler_func(fd_obj, events)\n        handler_func = <function wrap.<locals>.null_wrapper>\n        fd_obj = <zmq.sugar.socket.Socket object>\n        events = 1\n    884                     except (OSError, IOError) as e:\n    885                         if errno_from_exception(e) == errno.EPIPE:\n    886                             # Happens when the client closes the connection\n    887                             pass\n\n...........................................................................\n/opt/anaconda/lib/python3.5/site-packages/tornado/stack_context.py in null_wrapper(*args=(<zmq.sugar.socket.Socket object>, 1), **kwargs={})\n    270         # Fast path when there are no active contexts.\n    271         def null_wrapper(*args, **kwargs):\n    272             try:\n    273                 current_state = _state.contexts\n    274                 _state.contexts = cap_contexts[0]\n--> 275                 return fn(*args, **kwargs)\n        args = (<zmq.sugar.socket.Socket object>, 1)\n        kwargs = {}\n    276             finally:\n    277                 _state.contexts = current_state\n    278         null_wrapper._wrapped = True\n    279         return null_wrapper\n\n...........................................................................\n/opt/anaconda/lib/python3.5/site-packages/zmq/eventloop/zmqstream.py in _handle_events(self=<zmq.eventloop.zmqstream.ZMQStream object>, fd=<zmq.sugar.socket.Socket object>, events=1)\n    435             # dispatch events:\n    436             if events & IOLoop.ERROR:\n    437                 gen_log.error(\"got POLLERR event on ZMQStream, which doesn't make sense\")\n    438                 return\n    439             if events & IOLoop.READ:\n--> 440                 self._handle_recv()\n        self._handle_recv = <bound method ZMQStream._handle_recv of <zmq.eventloop.zmqstream.ZMQStream object>>\n    441                 if not self.socket:\n    442                     return\n    443             if events & IOLoop.WRITE:\n    444                 self._handle_send()\n\n...........................................................................\n/opt/anaconda/lib/python3.5/site-packages/zmq/eventloop/zmqstream.py in _handle_recv(self=<zmq.eventloop.zmqstream.ZMQStream object>)\n    467                 gen_log.error(\"RECV Error: %s\"%zmq.strerror(e.errno))\n    468         else:\n    469             if self._recv_callback:\n    470                 callback = self._recv_callback\n    471                 # self._recv_callback = None\n--> 472                 self._run_callback(callback, msg)\n        self._run_callback = <bound method ZMQStream._run_callback of <zmq.eventloop.zmqstream.ZMQStream object>>\n        callback = <function wrap.<locals>.null_wrapper>\n        msg = [<zmq.sugar.frame.Frame object>, <zmq.sugar.frame.Frame object>, <zmq.sugar.frame.Frame object>, <zmq.sugar.frame.Frame object>, <zmq.sugar.frame.Frame object>, <zmq.sugar.frame.Frame object>, <zmq.sugar.frame.Frame object>]\n    473                 \n    474         # self.update_state()\n    475         \n    476 \n\n...........................................................................\n/opt/anaconda/lib/python3.5/site-packages/zmq/eventloop/zmqstream.py in _run_callback(self=<zmq.eventloop.zmqstream.ZMQStream object>, callback=<function wrap.<locals>.null_wrapper>, *args=([<zmq.sugar.frame.Frame object>, <zmq.sugar.frame.Frame object>, <zmq.sugar.frame.Frame object>, <zmq.sugar.frame.Frame object>, <zmq.sugar.frame.Frame object>, <zmq.sugar.frame.Frame object>, <zmq.sugar.frame.Frame object>],), **kwargs={})\n    409         close our socket.\"\"\"\n    410         try:\n    411             # Use a NullContext to ensure that all StackContexts are run\n    412             # inside our blanket exception handler rather than outside.\n    413             with stack_context.NullContext():\n--> 414                 callback(*args, **kwargs)\n        callback = <function wrap.<locals>.null_wrapper>\n        args = ([<zmq.sugar.frame.Frame object>, <zmq.sugar.frame.Frame object>, <zmq.sugar.frame.Frame object>, <zmq.sugar.frame.Frame object>, <zmq.sugar.frame.Frame object>, <zmq.sugar.frame.Frame object>, <zmq.sugar.frame.Frame object>],)\n        kwargs = {}\n    415         except:\n    416             gen_log.error(\"Uncaught exception, closing connection.\",\n    417                           exc_info=True)\n    418             # Close the socket on an uncaught exception from a user callback\n\n...........................................................................\n/opt/anaconda/lib/python3.5/site-packages/tornado/stack_context.py in null_wrapper(*args=([<zmq.sugar.frame.Frame object>, <zmq.sugar.frame.Frame object>, <zmq.sugar.frame.Frame object>, <zmq.sugar.frame.Frame object>, <zmq.sugar.frame.Frame object>, <zmq.sugar.frame.Frame object>, <zmq.sugar.frame.Frame object>],), **kwargs={})\n    270         # Fast path when there are no active contexts.\n    271         def null_wrapper(*args, **kwargs):\n    272             try:\n    273                 current_state = _state.contexts\n    274                 _state.contexts = cap_contexts[0]\n--> 275                 return fn(*args, **kwargs)\n        args = ([<zmq.sugar.frame.Frame object>, <zmq.sugar.frame.Frame object>, <zmq.sugar.frame.Frame object>, <zmq.sugar.frame.Frame object>, <zmq.sugar.frame.Frame object>, <zmq.sugar.frame.Frame object>, <zmq.sugar.frame.Frame object>],)\n        kwargs = {}\n    276             finally:\n    277                 _state.contexts = current_state\n    278         null_wrapper._wrapped = True\n    279         return null_wrapper\n\n...........................................................................\n/opt/anaconda/lib/python3.5/site-packages/ipykernel/kernelbase.py in dispatcher(msg=[<zmq.sugar.frame.Frame object>, <zmq.sugar.frame.Frame object>, <zmq.sugar.frame.Frame object>, <zmq.sugar.frame.Frame object>, <zmq.sugar.frame.Frame object>, <zmq.sugar.frame.Frame object>, <zmq.sugar.frame.Frame object>])\n    271         if self.control_stream:\n    272             self.control_stream.on_recv(self.dispatch_control, copy=False)\n    273 \n    274         def make_dispatcher(stream):\n    275             def dispatcher(msg):\n--> 276                 return self.dispatch_shell(stream, msg)\n        msg = [<zmq.sugar.frame.Frame object>, <zmq.sugar.frame.Frame object>, <zmq.sugar.frame.Frame object>, <zmq.sugar.frame.Frame object>, <zmq.sugar.frame.Frame object>, <zmq.sugar.frame.Frame object>, <zmq.sugar.frame.Frame object>]\n    277             return dispatcher\n    278 \n    279         for s in self.shell_streams:\n    280             s.on_recv(make_dispatcher(s), copy=False)\n\n...........................................................................\n/opt/anaconda/lib/python3.5/site-packages/ipykernel/kernelbase.py in dispatch_shell(self=<ipykernel.ipkernel.IPythonKernel object>, stream=<zmq.eventloop.zmqstream.ZMQStream object>, msg={'buffers': [], 'content': {'allow_stdin': True, 'code': 'cv = model_selection.ShuffleSplit(n_splits=100, ...ta, target, \\n                    cv=cv, n_jobs=4)', 'silent': False, 'stop_on_error': True, 'store_history': True, 'user_expressions': {}}, 'header': {'date': '2016-11-22T18:02:08.322189', 'msg_id': '7E6EE65A8CCF4F8FA77B1B5814795F86', 'msg_type': 'execute_request', 'session': '545C61A99B8B4B129C999194C6031CBA', 'username': 'username', 'version': '5.0'}, 'metadata': {}, 'msg_id': '7E6EE65A8CCF4F8FA77B1B5814795F86', 'msg_type': 'execute_request', 'parent_header': {}})\n    223             self.log.error(\"UNKNOWN MESSAGE TYPE: %r\", msg_type)\n    224         else:\n    225             self.log.debug(\"%s: %s\", msg_type, msg)\n    226             self.pre_handler_hook()\n    227             try:\n--> 228                 handler(stream, idents, msg)\n        handler = <bound method Kernel.execute_request of <ipykernel.ipkernel.IPythonKernel object>>\n        stream = <zmq.eventloop.zmqstream.ZMQStream object>\n        idents = [b'545C61A99B8B4B129C999194C6031CBA']\n        msg = {'buffers': [], 'content': {'allow_stdin': True, 'code': 'cv = model_selection.ShuffleSplit(n_splits=100, ...ta, target, \\n                    cv=cv, n_jobs=4)', 'silent': False, 'stop_on_error': True, 'store_history': True, 'user_expressions': {}}, 'header': {'date': '2016-11-22T18:02:08.322189', 'msg_id': '7E6EE65A8CCF4F8FA77B1B5814795F86', 'msg_type': 'execute_request', 'session': '545C61A99B8B4B129C999194C6031CBA', 'username': 'username', 'version': '5.0'}, 'metadata': {}, 'msg_id': '7E6EE65A8CCF4F8FA77B1B5814795F86', 'msg_type': 'execute_request', 'parent_header': {}}\n    229             except Exception:\n    230                 self.log.error(\"Exception in message handler:\", exc_info=True)\n    231             finally:\n    232                 self.post_handler_hook()\n\n...........................................................................\n/opt/anaconda/lib/python3.5/site-packages/ipykernel/kernelbase.py in execute_request(self=<ipykernel.ipkernel.IPythonKernel object>, stream=<zmq.eventloop.zmqstream.ZMQStream object>, ident=[b'545C61A99B8B4B129C999194C6031CBA'], parent={'buffers': [], 'content': {'allow_stdin': True, 'code': 'cv = model_selection.ShuffleSplit(n_splits=100, ...ta, target, \\n                    cv=cv, n_jobs=4)', 'silent': False, 'stop_on_error': True, 'store_history': True, 'user_expressions': {}}, 'header': {'date': '2016-11-22T18:02:08.322189', 'msg_id': '7E6EE65A8CCF4F8FA77B1B5814795F86', 'msg_type': 'execute_request', 'session': '545C61A99B8B4B129C999194C6031CBA', 'username': 'username', 'version': '5.0'}, 'metadata': {}, 'msg_id': '7E6EE65A8CCF4F8FA77B1B5814795F86', 'msg_type': 'execute_request', 'parent_header': {}})\n    386         if not silent:\n    387             self.execution_count += 1\n    388             self._publish_execute_input(code, parent, self.execution_count)\n    389 \n    390         reply_content = self.do_execute(code, silent, store_history,\n--> 391                                         user_expressions, allow_stdin)\n        user_expressions = {}\n        allow_stdin = True\n    392 \n    393         # Flush output before sending the reply.\n    394         sys.stdout.flush()\n    395         sys.stderr.flush()\n\n...........................................................................\n/opt/anaconda/lib/python3.5/site-packages/ipykernel/ipkernel.py in do_execute(self=<ipykernel.ipkernel.IPythonKernel object>, code='cv = model_selection.ShuffleSplit(n_splits=100, ...ta, target, \\n                    cv=cv, n_jobs=4)', silent=False, store_history=True, user_expressions={}, allow_stdin=True)\n    194 \n    195         reply_content = {}\n    196         # FIXME: the shell calls the exception handler itself.\n    197         shell._reply_content = None\n    198         try:\n--> 199             shell.run_cell(code, store_history=store_history, silent=silent)\n        shell.run_cell = <bound method InteractiveShell.run_cell of <ipykernel.zmqshell.ZMQInteractiveShell object>>\n        code = 'cv = model_selection.ShuffleSplit(n_splits=100, ...ta, target, \\n                    cv=cv, n_jobs=4)'\n        store_history = True\n        silent = False\n    200         except:\n    201             status = u'error'\n    202             # FIXME: this code right now isn't being used yet by default,\n    203             # because the run_cell() call above directly fires off exception\n\n...........................................................................\n/opt/anaconda/lib/python3.5/site-packages/IPython/core/interactiveshell.py in run_cell(self=<ipykernel.zmqshell.ZMQInteractiveShell object>, raw_cell='cv = model_selection.ShuffleSplit(n_splits=100, ...ta, target, \\n                    cv=cv, n_jobs=4)', store_history=True, silent=False, shell_futures=True)\n   2718                 self.displayhook.exec_result = result\n   2719 \n   2720                 # Execute the user code\n   2721                 interactivity = \"none\" if silent else self.ast_node_interactivity\n   2722                 self.run_ast_nodes(code_ast.body, cell_name,\n-> 2723                    interactivity=interactivity, compiler=compiler, result=result)\n        interactivity = 'last_expr'\n        compiler = <IPython.core.compilerop.CachingCompiler object>\n   2724 \n   2725                 # Reset this so later displayed values do not modify the\n   2726                 # ExecutionResult\n   2727                 self.displayhook.exec_result = None\n\n...........................................................................\n/opt/anaconda/lib/python3.5/site-packages/IPython/core/interactiveshell.py in run_ast_nodes(self=<ipykernel.zmqshell.ZMQInteractiveShell object>, nodelist=[<_ast.Assign object>, <_ast.Assign object>, <_ast.Assign object>, <_ast.Expr object>], cell_name='<ipython-input-79-7c55b16bf77a>', interactivity='last', compiler=<IPython.core.compilerop.CachingCompiler object>, result=<IPython.core.interactiveshell.ExecutionResult object>)\n   2826                     return True\n   2827 \n   2828             for i, node in enumerate(to_run_interactive):\n   2829                 mod = ast.Interactive([node])\n   2830                 code = compiler(mod, cell_name, \"single\")\n-> 2831                 if self.run_code(code, result):\n        self.run_code = <bound method InteractiveShell.run_code of <ipykernel.zmqshell.ZMQInteractiveShell object>>\n        code = <code object <module> at 0x7faa5bce1540, file \"<ipython-input-79-7c55b16bf77a>\", line 4>\n        result = <IPython.core.interactiveshell.ExecutionResult object>\n   2832                     return True\n   2833 \n   2834             # Flush softspace\n   2835             if softspace(sys.stdout, 0):\n\n...........................................................................\n/opt/anaconda/lib/python3.5/site-packages/IPython/core/interactiveshell.py in run_code(self=<ipykernel.zmqshell.ZMQInteractiveShell object>, code_obj=<code object <module> at 0x7faa5bce1540, file \"<ipython-input-79-7c55b16bf77a>\", line 4>, result=<IPython.core.interactiveshell.ExecutionResult object>)\n   2880         outflag = 1  # happens in more places, so it's easier as default\n   2881         try:\n   2882             try:\n   2883                 self.hooks.pre_run_code_hook()\n   2884                 #rprint('Running code', repr(code_obj)) # dbg\n-> 2885                 exec(code_obj, self.user_global_ns, self.user_ns)\n        code_obj = <code object <module> at 0x7faa5bce1540, file \"<ipython-input-79-7c55b16bf77a>\", line 4>\n        self.user_global_ns = {'DT': <module 'datetime' from '/opt/anaconda/lib/python3.5/datetime.py'>, 'DictVectorizer': <class 'sklearn.feature_extraction.dict_vectorizer.DictVectorizer'>, 'Imputer': <class 'sklearn.preprocessing.imputation.Imputer'>, 'In': ['', \"import pandas as pd\\nimport numpy as np \\nfrom skl...nline')\\npd.options.mode.chained_assignment = None\", \"data = pd.read_csv('CrowdstormingDataJuly1st.csv')\\ndata.ix[:5,:14]\", 'data.ix[:5,14:]', 'data.isnull().sum()', 'filtered = data.dropna()', 'len(filtered)/len(data)', 'len(data[data.rater1.isnull() & (data.rater2.isnull())])/len(data)', \"skin_data = data.dropna(how='all', subset=['rater1','rater2'])\", \"skin_data = skin_data.dropna(how='all', subset=['meanIAT', 'nIAT'])\", 'len(skin_data[skin_data.rater1.isnull() | (skin_data.rater2.isnull())])', 'skin_data_differ = skin_data[skin_data.rater1 != skin_data.rater2]', 'len(skin_data_differ)/len(skin_data)', \"skin_data['skin_difference'] = skin_data.apply(lambda x: abs(x['rater1'] - x['rater2']), axis=1)\", 'palette = sns.color_palette()\\nsns.countplot(x=\"skin_difference\", data=skin_data);', \"skin_data['skin'] = skin_data.apply(lambda x: (x['rater1']+x['rater2'])/2*4, axis=1)\", 'sns.countplot(x=\"skin\", data=skin_data, palette=sns.color_palette(\"Greys\", 9));', '# The birthday string is converted into a dateti...time.strptime(x[\\'birthday\\'], \"%d.%m.%Y\"), axis=1)', \"skin_data['birthday'].head()\", \"import datetime as DT\\nnow = pd.Timestamp(DT.date... int((now - x['birthday']).days/365.25) , axis=1)\", ...], 'LabelEncoder': <class 'sklearn.preprocessing.label.LabelEncoder'>, 'Out': {2:      playerShort         player             club... \n4      0            0  \n5      0            0  , 3:    yellowReds  redCards    photoID  rater1  rate...5   127.0  0.003297  0.538462   130.0  0.013752  , 4: playerShort          0\nplayer               0\ncl...          163\nseExp              163\ndtype: int64, 6: 0.790649738406333, 7: 0.14659517352836443, 10: 0, 12: 0.23189896198219623, 18: 0   1983-08-31\n1   1982-01-08\n5   1979-11-08\n6  ... 1986-04-04\nName: birthday, dtype: datetime64[ns], 26: 0.072870515627424276, 30:    club  leagueCountry    height    weight  posi...8 -0.225191          4.0  \n\n[5 rows x 27 columns], ...}, 'RandomForestClassifier': <class 'sklearn.ensemble.forest.RandomForestClassifier'>, 'RandomForestRegressor': <class 'sklearn.ensemble.forest.RandomForestRegressor'>, 'StandardScaler': <class 'sklearn.preprocessing.data.StandardScaler'>, '_': playerShort\naaron-hughes              1\naaron-hu...-el-kaoutari    1\nName: skin_nonorm, dtype: int64, ...}\n        self.user_ns = {'DT': <module 'datetime' from '/opt/anaconda/lib/python3.5/datetime.py'>, 'DictVectorizer': <class 'sklearn.feature_extraction.dict_vectorizer.DictVectorizer'>, 'Imputer': <class 'sklearn.preprocessing.imputation.Imputer'>, 'In': ['', \"import pandas as pd\\nimport numpy as np \\nfrom skl...nline')\\npd.options.mode.chained_assignment = None\", \"data = pd.read_csv('CrowdstormingDataJuly1st.csv')\\ndata.ix[:5,:14]\", 'data.ix[:5,14:]', 'data.isnull().sum()', 'filtered = data.dropna()', 'len(filtered)/len(data)', 'len(data[data.rater1.isnull() & (data.rater2.isnull())])/len(data)', \"skin_data = data.dropna(how='all', subset=['rater1','rater2'])\", \"skin_data = skin_data.dropna(how='all', subset=['meanIAT', 'nIAT'])\", 'len(skin_data[skin_data.rater1.isnull() | (skin_data.rater2.isnull())])', 'skin_data_differ = skin_data[skin_data.rater1 != skin_data.rater2]', 'len(skin_data_differ)/len(skin_data)', \"skin_data['skin_difference'] = skin_data.apply(lambda x: abs(x['rater1'] - x['rater2']), axis=1)\", 'palette = sns.color_palette()\\nsns.countplot(x=\"skin_difference\", data=skin_data);', \"skin_data['skin'] = skin_data.apply(lambda x: (x['rater1']+x['rater2'])/2*4, axis=1)\", 'sns.countplot(x=\"skin\", data=skin_data, palette=sns.color_palette(\"Greys\", 9));', '# The birthday string is converted into a dateti...time.strptime(x[\\'birthday\\'], \"%d.%m.%Y\"), axis=1)', \"skin_data['birthday'].head()\", \"import datetime as DT\\nnow = pd.Timestamp(DT.date... int((now - x['birthday']).days/365.25) , axis=1)\", ...], 'LabelEncoder': <class 'sklearn.preprocessing.label.LabelEncoder'>, 'Out': {2:      playerShort         player             club... \n4      0            0  \n5      0            0  , 3:    yellowReds  redCards    photoID  rater1  rate...5   127.0  0.003297  0.538462   130.0  0.013752  , 4: playerShort          0\nplayer               0\ncl...          163\nseExp              163\ndtype: int64, 6: 0.790649738406333, 7: 0.14659517352836443, 10: 0, 12: 0.23189896198219623, 18: 0   1983-08-31\n1   1982-01-08\n5   1979-11-08\n6  ... 1986-04-04\nName: birthday, dtype: datetime64[ns], 26: 0.072870515627424276, 30:    club  leagueCountry    height    weight  posi...8 -0.225191          4.0  \n\n[5 rows x 27 columns], ...}, 'RandomForestClassifier': <class 'sklearn.ensemble.forest.RandomForestClassifier'>, 'RandomForestRegressor': <class 'sklearn.ensemble.forest.RandomForestRegressor'>, 'StandardScaler': <class 'sklearn.preprocessing.data.StandardScaler'>, '_': playerShort\naaron-hughes              1\naaron-hu...-el-kaoutari    1\nName: skin_nonorm, dtype: int64, ...}\n   2886             finally:\n   2887                 # Reset our crash handler in place\n   2888                 sys.excepthook = old_excepthook\n   2889         except SystemExit as e:\n\n...........................................................................\n/home/atoll/adaepfl-hw/04 - Applied ML/<ipython-input-79-7c55b16bf77a> in <module>()\n      1 \n      2 cv = model_selection.ShuffleSplit(n_splits=100, test_size=0.2, random_state=0)\n      3 title = \"Learning curve\"\n      4 rf = RandomForestClassifier(n_estimators=100, max_features=5, min_samples_leaf=3)\n----> 5 plot_learning_curve(rf, title, data, target, \n      6                     cv=cv, n_jobs=4)\n      7 \n      8 \n      9 \n     10 \n\n...........................................................................\n/home/atoll/adaepfl-hw/04 - Applied ML/<ipython-input-75-9b5c521f78ac> in plot_learning_curve(estimator=RandomForestClassifier(bootstrap=True, class_wei...te=None,\n            verbose=0, warm_start=False), title='Learning curve', X=                        weightMeanIAT  yellowCar....280347  2.274077e-01  \n\n[1585 rows x 20 columns], y=array([ 0.12,  0.12,  0.25, ...,  0.88,  0.  ,  0.  ]), ylim=None, cv=ShuffleSplit(n_splits=100, random_state=0, test_size=0.2, train_size=None), n_jobs=4, train_sizes=array([ 0.1 ,  0.33,  0.55,  0.78,  1.  ]))\n      5     if ylim is not None:\n      6         plt.ylim(*ylim)\n      7     plt.xlabel(\"Training examples\")\n      8     plt.ylabel(\"Score\")\n      9     train_sizes, train_scores, test_scores = model_selection.learning_curve(\n---> 10         estimator, X, y, cv=cv, n_jobs=n_jobs, train_sizes=train_sizes)\n     11     train_scores_mean = np.mean(train_scores, axis=1)\n     12     train_scores_std = np.std(train_scores, axis=1)\n     13     test_scores_mean = np.mean(test_scores, axis=1)\n     14     test_scores_std = np.std(test_scores, axis=1)\n\n...........................................................................\n/opt/anaconda/lib/python3.5/site-packages/sklearn/model_selection/_validation.py in learning_curve(estimator=RandomForestClassifier(bootstrap=True, class_wei...te=None,\n            verbose=0, warm_start=False), X=                        weightMeanIAT  yellowCar....280347  2.274077e-01  \n\n[1585 rows x 20 columns], y=array([ 0.12,  0.12,  0.25, ...,  0.88,  0.  ,  0.  ]), groups=None, train_sizes=array([ 0.1 ,  0.33,  0.55,  0.78,  1.  ]), cv=ShuffleSplit(n_splits=100, random_state=0, test_size=0.2, train_size=None), scoring=None, exploit_incremental_learning=False, n_jobs=4, pre_dispatch='all', verbose=0)\n    767             scorer, verbose) for train, test in cv_iter)\n    768     else:\n    769         out = parallel(delayed(_fit_and_score)(\n    770             clone(estimator), X, y, scorer, train[:n_train_samples], test,\n    771             verbose, parameters=None, fit_params=None, return_train_score=True)\n--> 772             for train, test in cv_iter\n        cv_iter = [(array([ 215, 1180,   55, ..., 1216,  559,  684]), array([ 944, 1032,  893,  667, 1257, 1236,  182,... 1426,  801,  641,  519,  381,  748,  231,  390])), (array([ 547, 1009, 1472, ...,  407,    5,   55]), array([1094,  641, 1558,  575,  117, 1169,  741,... 1388, 1329, 1421,  769, 1262, 1522,  180, 1298])), (array([  95,  302, 1117, ...,  425, 1316,  824]), array([ 140,  629,  973,  886,  359,  560,  105,...  719,  823,  901,  380,  449, 1242,  556,  464])), (array([1207, 1094,  715, ...,   38,  158, 1302]), array([ 845, 1375,  451,  811, 1440,  875, 1442,...  593,  126, 1498,  404,  572,  888,  354,  528])), (array([1567,  881, 1548, ..., 1387, 1167,  974]), array([1513,  526, 1052,  382,  423, 1403,  883,...  977, 1079,  728,  940,  392,  792,   75, 1235])), (array([1554,  204,  843, ..., 1314,  987, 1419]), array([1177,  530,  682,  242, 1128,    3,  292,... 1473, 1285, 1230,  352, 1507,   33,  751,  462])), (array([1556,  192,   76, ...,  268,  650, 1067]), array([ 486, 1262, 1405, 1253, 1155, 1085,  851,... 1172,  643,  646,  912,  579,  668,  952, 1432])), (array([ 495,  158,   98, ..., 1237,  631,  474]), array([ 193,  959, 1482,  976, 1394, 1050, 1504,... 1293, 1413,  579,  206,  514, 1512,  218,  177])), (array([1431,  394, 1017, ..., 1508,    6, 1383]), array([ 131,  966,  860, 1032,  500,  715, 1284,...  786, 1513,  121, 1144, 1035,  409, 1463, 1582])), (array([1574, 1257,  367, ...,  805,  495,  984]), array([ 424, 1495,  566, 1114, 1118,  643,  459,...  326,  557,  770, 1387, 1414, 1136,   51,  435])), (array([1562,  484, 1457, ...,  355,  534,  808]), array([  16, 1492, 1028, 1134,  960,  123, 1365,...  726,  604, 1001,   18, 1500,  245,  600,  969])), (array([ 248, 1371,  686, ..., 1563, 1568,  890]), array([ 637, 1116,  409,  355,  665,  664,  640,...  709,  763,  841, 1268,   74,   44,  230,  857])), (array([1106,  801,  376, ...,   92,  712, 1074]), array([1235, 1264,   56,  709, 1302, 1149,  681,...  470,   79,  124, 1437,  840, 1568, 1239, 1549])), (array([ 944,  488,  299, ...,  992, 1291, 1387]), array([ 298,  385,  149,  326,  717,  159,  134,...   43,  224,  322, 1523,  990,  384,  200, 1559])), (array([1162,  840,  992, ...,  684, 1395,  368]), array([  51,  397, 1207,  168,  296,  741,  843,...  982, 1554,  983, 1186,  911, 1417, 1195,  765])), (array([ 847, 1081, 1311, ...,  419,  968,  359]), array([ 155, 1225,  408,  535, 1369, 1204, 1223,... 1395,  987, 1067, 1128, 1346,  315, 1082,  951])), (array([ 533, 1131,  911, ...,  729, 1241,  738]), array([ 135,  674,  406,  498,  969, 1202,  951,...   43,  231,  409,  437,   85,   83, 1399,  972])), (array([ 675, 1185, 1240, ..., 1184, 1345,  461]), array([ 585, 1045,  767,  271,  121,  899,  932,... 1142, 1362, 1186,  949,  935,  516, 1563,  866])), (array([1369, 1307,  660, ...,  694, 1303, 1125]), array([ 513,  637, 1222,  561, 1199,  844, 1532,...   61, 1097, 1415,  418, 1450,  985, 1287,  807])), (array([572, 567, 904, ..., 885,  10, 300]), array([ 780,  670, 1133, 1127,  534,  279,  276,...  519,  162,  368, 1408, 1419, 1559,  287,  539])), ...]\n    773             for n_train_samples in train_sizes_abs)\n    774         out = np.array(out)\n    775         n_cv_folds = out.shape[0] // n_unique_ticks\n    776         out = out.reshape(n_cv_folds, n_unique_ticks, 2)\n\n...........................................................................\n/opt/anaconda/lib/python3.5/site-packages/sklearn/externals/joblib/parallel.py in __call__(self=Parallel(n_jobs=4), iterable=<generator object learning_curve.<locals>.<genexpr>>)\n    763             if pre_dispatch == \"all\" or n_jobs == 1:\n    764                 # The iterable was consumed all at once by the above for loop.\n    765                 # No need to wait for async callbacks to trigger to\n    766                 # consumption.\n    767                 self._iterating = False\n--> 768             self.retrieve()\n        self.retrieve = <bound method Parallel.retrieve of Parallel(n_jobs=4)>\n    769             # Make sure that we get a last message telling us we are done\n    770             elapsed_time = time.time() - self._start_time\n    771             self._print('Done %3i out of %3i | elapsed: %s finished',\n    772                         (len(self._output), len(self._output),\n\n---------------------------------------------------------------------------\nSub-process traceback:\n---------------------------------------------------------------------------\nValueError                                         Tue Nov 22 18:02:08 2016\nPID: 2493                            Python 3.5.1: /opt/anaconda/bin/python\n...........................................................................\n/opt/anaconda/lib/python3.5/site-packages/sklearn/externals/joblib/parallel.py in __call__(self=<sklearn.externals.joblib.parallel.BatchedCalls object>)\n    126     def __init__(self, iterator_slice):\n    127         self.items = list(iterator_slice)\n    128         self._size = len(self.items)\n    129 \n    130     def __call__(self):\n--> 131         return [func(*args, **kwargs) for func, args, kwargs in self.items]\n        self.items = [(<function _fit_and_score>, (RandomForestClassifier(bootstrap=True, class_wei...te=None,\n            verbose=0, warm_start=False),                         weightMeanIAT  yellowCar....280347  2.274077e-01  \n\n[1585 rows x 20 columns], array([ 0.12,  0.12,  0.25, ...,  0.88,  0.  ,  0.  ]), <function _passthrough_scorer>, array([ 215, 1180,   55, 1136,  578, 1584,  984,... 198, 1470,\n       1322,  737,  913, 1159,  511]), array([ 944, 1032,  893,  667, 1257, 1236,  182,... 1426,  801,  641,  519,  381,  748,  231,  390]), 0), {'fit_params': None, 'parameters': None, 'return_train_score': True})]\n    132 \n    133     def __len__(self):\n    134         return self._size\n    135 \n\n...........................................................................\n/opt/anaconda/lib/python3.5/site-packages/sklearn/externals/joblib/parallel.py in <listcomp>(.0=<list_iterator object>)\n    126     def __init__(self, iterator_slice):\n    127         self.items = list(iterator_slice)\n    128         self._size = len(self.items)\n    129 \n    130     def __call__(self):\n--> 131         return [func(*args, **kwargs) for func, args, kwargs in self.items]\n        func = <function _fit_and_score>\n        args = (RandomForestClassifier(bootstrap=True, class_wei...te=None,\n            verbose=0, warm_start=False),                         weightMeanIAT  yellowCar....280347  2.274077e-01  \n\n[1585 rows x 20 columns], array([ 0.12,  0.12,  0.25, ...,  0.88,  0.  ,  0.  ]), <function _passthrough_scorer>, array([ 215, 1180,   55, 1136,  578, 1584,  984,... 198, 1470,\n       1322,  737,  913, 1159,  511]), array([ 944, 1032,  893,  667, 1257, 1236,  182,... 1426,  801,  641,  519,  381,  748,  231,  390]), 0)\n        kwargs = {'fit_params': None, 'parameters': None, 'return_train_score': True}\n    132 \n    133     def __len__(self):\n    134         return self._size\n    135 \n\n...........................................................................\n/opt/anaconda/lib/python3.5/site-packages/sklearn/model_selection/_validation.py in _fit_and_score(estimator=RandomForestClassifier(bootstrap=True, class_wei...te=None,\n            verbose=0, warm_start=False), X=                        weightMeanIAT  yellowCar....280347  2.274077e-01  \n\n[1585 rows x 20 columns], y=array([ 0.12,  0.12,  0.25, ...,  0.88,  0.  ,  0.  ]), scorer=<function _passthrough_scorer>, train=array([ 215, 1180,   55, 1136,  578, 1584,  984,... 198, 1470,\n       1322,  737,  913, 1159,  511]), test=array([ 944, 1032,  893,  667, 1257, 1236,  182,... 1426,  801,  641,  519,  381,  748,  231,  390]), verbose=0, parameters=None, fit_params={}, return_train_score=True, return_parameters=False, return_n_test_samples=False, return_times=False, error_score='raise')\n    233 \n    234     try:\n    235         if y_train is None:\n    236             estimator.fit(X_train, **fit_params)\n    237         else:\n--> 238             estimator.fit(X_train, y_train, **fit_params)\n        estimator.fit = <bound method BaseForest.fit of RandomForestClas...e=None,\n            verbose=0, warm_start=False)>\n        X_train =                      weightMeanIAT  yellowCards ...         -6.098438e-01  \n\n[126 rows x 20 columns]\n        y_train = array([ 0.25,  0.25,  0.25,  0.12,  0.  ,  0.  ,... 0.25,  0.25,  0.25,  0.  ,  0.  ,  1.  ,  0.5 ])\n        fit_params = {}\n    239 \n    240     except Exception as e:\n    241         # Note fit time as time until error\n    242         fit_time = time.time() - start_time\n\n...........................................................................\n/opt/anaconda/lib/python3.5/site-packages/sklearn/ensemble/forest.py in fit(self=RandomForestClassifier(bootstrap=True, class_wei...te=None,\n            verbose=0, warm_start=False), X=array([[  3.79e-07,   6.29e-01,   2.67e-01, ...,...   4.41e-01,\n         -6.10e-01]], dtype=float32), y=array([[ 0.25],\n       [ 0.25],\n       [ 0.25],\n...\n       [ 0.  ],\n       [ 1.  ],\n       [ 0.5 ]]), sample_weight=None)\n    266             # [:, np.newaxis] that does not.\n    267             y = np.reshape(y, (-1, 1))\n    268 \n    269         self.n_outputs_ = y.shape[1]\n    270 \n--> 271         y, expanded_class_weight = self._validate_y_class_weight(y)\n        y = array([[ 0.25],\n       [ 0.25],\n       [ 0.25],\n...\n       [ 0.  ],\n       [ 1.  ],\n       [ 0.5 ]])\n        expanded_class_weight = undefined\n        self._validate_y_class_weight = <bound method ForestClassifier._validate_y_class...e=None,\n            verbose=0, warm_start=False)>\n    272 \n    273         if getattr(y, \"dtype\", None) != DOUBLE or not y.flags.contiguous:\n    274             y = np.ascontiguousarray(y, dtype=DOUBLE)\n    275 \n\n...........................................................................\n/opt/anaconda/lib/python3.5/site-packages/sklearn/ensemble/forest.py in _validate_y_class_weight(self=RandomForestClassifier(bootstrap=True, class_wei...te=None,\n            verbose=0, warm_start=False), y=array([[ 0.25],\n       [ 0.25],\n       [ 0.25],\n...\n       [ 0.  ],\n       [ 1.  ],\n       [ 0.5 ]]))\n    452             self.oob_decision_function_ = oob_decision_function\n    453 \n    454         self.oob_score_ = oob_score / self.n_outputs_\n    455 \n    456     def _validate_y_class_weight(self, y):\n--> 457         check_classification_targets(y)\n        y = array([[ 0.25],\n       [ 0.25],\n       [ 0.25],\n...\n       [ 0.  ],\n       [ 1.  ],\n       [ 0.5 ]])\n    458 \n    459         y = np.copy(y)\n    460         expanded_class_weight = None\n    461 \n\n...........................................................................\n/opt/anaconda/lib/python3.5/site-packages/sklearn/utils/multiclass.py in check_classification_targets(y=array([[ 0.25],\n       [ 0.25],\n       [ 0.25],\n...\n       [ 0.  ],\n       [ 1.  ],\n       [ 0.5 ]]))\n    167     y : array-like\n    168     \"\"\"\n    169     y_type = type_of_target(y)\n    170     if y_type not in ['binary', 'multiclass', 'multiclass-multioutput',\n    171             'multilabel-indicator', 'multilabel-sequences']:\n--> 172         raise ValueError(\"Unknown label type: %r\" % y_type)\n        y_type = 'continuous'\n    173 \n    174 \n    175 \n    176 def type_of_target(y):\n\nValueError: Unknown label type: 'continuous'\n___________________________________________________________________________"
     ]
    },
    {
     "data": {
      "image/png": "[encoded data removed]",
      "text/plain": [
       "<matplotlib.figure.Figure at 0x7faa5331e208>"
      ]
     },
     "metadata": {},
     "output_type": "display_data"
    }
   ],
   "source": [
    "cv = model_selection.ShuffleSplit(n_splits=100, test_size=0.2, random_state=0)\n",
    "title = \"Learning curve\"\n",
    "rf = RandomForestClassifier(n_estimators=100, max_features=5, min_samples_leaf=3)\n",
    "plot_learning_curve(rf, title, data, target, \n",
    "                    cv=cv, n_jobs=4)"
   ]
  },
  {
   "cell_type": "markdown",
   "metadata": {
    "collapsed": true
   },
   "source": [
    "# 2. Clustering"
   ]
  },
  {
   "cell_type": "markdown",
   "metadata": {},
   "source": [
    "We group the referee informations by player and since we did it already in the last part, we can reuse group."
   ]
  },
  {
   "cell_type": "code",
   "execution_count": 263,
   "metadata": {
    "collapsed": false
   },
   "outputs": [
    {
     "data": {
      "text/html": [
       "<div>\n",
       "<table border=\"1\" class=\"dataframe\">\n",
       "  <thead>\n",
       "    <tr style=\"text-align: right;\">\n",
       "      <th></th>\n",
       "      <th>weightMeanIAT</th>\n",
       "      <th>yellowCards</th>\n",
       "      <th>defeats</th>\n",
       "      <th>yellowReds</th>\n",
       "      <th>position</th>\n",
       "      <th>height</th>\n",
       "      <th>age</th>\n",
       "      <th>meanIAT</th>\n",
       "      <th>skin_nonorm</th>\n",
       "      <th>goals</th>\n",
       "      <th>...</th>\n",
       "      <th>meanExp</th>\n",
       "      <th>refCountry</th>\n",
       "      <th>redCards</th>\n",
       "      <th>ties</th>\n",
       "      <th>refNum</th>\n",
       "      <th>seExp</th>\n",
       "      <th>skin</th>\n",
       "      <th>skin_difference</th>\n",
       "      <th>games</th>\n",
       "      <th>weight</th>\n",
       "    </tr>\n",
       "    <tr>\n",
       "      <th>playerShort</th>\n",
       "      <th></th>\n",
       "      <th></th>\n",
       "      <th></th>\n",
       "      <th></th>\n",
       "      <th></th>\n",
       "      <th></th>\n",
       "      <th></th>\n",
       "      <th></th>\n",
       "      <th></th>\n",
       "      <th></th>\n",
       "      <th></th>\n",
       "      <th></th>\n",
       "      <th></th>\n",
       "      <th></th>\n",
       "      <th></th>\n",
       "      <th></th>\n",
       "      <th></th>\n",
       "      <th></th>\n",
       "      <th></th>\n",
       "      <th></th>\n",
       "      <th></th>\n",
       "    </tr>\n",
       "  </thead>\n",
       "  <tbody>\n",
       "    <tr>\n",
       "      <th>aaron-hughes</th>\n",
       "      <td>2.861858e-06</td>\n",
       "      <td>-0.346780</td>\n",
       "      <td>0.306836</td>\n",
       "      <td>-0.108671</td>\n",
       "      <td>1</td>\n",
       "      <td>-0.018675</td>\n",
       "      <td>1.371299</td>\n",
       "      <td>0.346459</td>\n",
       "      <td>0.5</td>\n",
       "      <td>-0.316979</td>\n",
       "      <td>...</td>\n",
       "      <td>0.494575</td>\n",
       "      <td>37</td>\n",
       "      <td>-0.112016</td>\n",
       "      <td>0.317084</td>\n",
       "      <td>166</td>\n",
       "      <td>0.027536</td>\n",
       "      <td>-0.549090</td>\n",
       "      <td>1.800031</td>\n",
       "      <td>0.263530</td>\n",
       "      <td>-0.749386</td>\n",
       "    </tr>\n",
       "    <tr>\n",
       "      <th>aaron-hunt</th>\n",
       "      <td>3.807995e-06</td>\n",
       "      <td>0.030080</td>\n",
       "      <td>0.207666</td>\n",
       "      <td>-0.108671</td>\n",
       "      <td>0</td>\n",
       "      <td>0.128306</td>\n",
       "      <td>-0.225191</td>\n",
       "      <td>0.348818</td>\n",
       "      <td>0.5</td>\n",
       "      <td>0.288572</td>\n",
       "      <td>...</td>\n",
       "      <td>0.449220</td>\n",
       "      <td>25</td>\n",
       "      <td>-0.023386</td>\n",
       "      <td>0.019149</td>\n",
       "      <td>99</td>\n",
       "      <td>0.002506</td>\n",
       "      <td>-0.549090</td>\n",
       "      <td>1.800031</td>\n",
       "      <td>0.111152</td>\n",
       "      <td>-0.470302</td>\n",
       "    </tr>\n",
       "    <tr>\n",
       "      <th>aaron-lennon</th>\n",
       "      <td>3.081554e-06</td>\n",
       "      <td>-0.353528</td>\n",
       "      <td>0.141837</td>\n",
       "      <td>-0.108671</td>\n",
       "      <td>11</td>\n",
       "      <td>-2.517367</td>\n",
       "      <td>-0.453261</td>\n",
       "      <td>0.345893</td>\n",
       "      <td>1.0</td>\n",
       "      <td>-0.049463</td>\n",
       "      <td>...</td>\n",
       "      <td>0.491482</td>\n",
       "      <td>28</td>\n",
       "      <td>-0.112016</td>\n",
       "      <td>0.214040</td>\n",
       "      <td>101</td>\n",
       "      <td>0.008914</td>\n",
       "      <td>-0.115715</td>\n",
       "      <td>-0.547478</td>\n",
       "      <td>0.302460</td>\n",
       "      <td>-1.865721</td>\n",
       "    </tr>\n",
       "    <tr>\n",
       "      <th>aaron-ramsey</th>\n",
       "      <td>5.548255e-06</td>\n",
       "      <td>-0.123403</td>\n",
       "      <td>-0.198705</td>\n",
       "      <td>-0.108671</td>\n",
       "      <td>3</td>\n",
       "      <td>-0.606603</td>\n",
       "      <td>-1.365542</td>\n",
       "      <td>0.346821</td>\n",
       "      <td>0.0</td>\n",
       "      <td>0.022593</td>\n",
       "      <td>...</td>\n",
       "      <td>0.514693</td>\n",
       "      <td>37</td>\n",
       "      <td>-0.027647</td>\n",
       "      <td>-0.272310</td>\n",
       "      <td>104</td>\n",
       "      <td>0.104541</td>\n",
       "      <td>-0.982466</td>\n",
       "      <td>-0.547478</td>\n",
       "      <td>-0.138411</td>\n",
       "      <td>-0.051676</td>\n",
       "    </tr>\n",
       "    <tr>\n",
       "      <th>abdelhamid-el-kaoutari</th>\n",
       "      <td>4.243206e-07</td>\n",
       "      <td>-0.222989</td>\n",
       "      <td>0.158379</td>\n",
       "      <td>0.864236</td>\n",
       "      <td>1</td>\n",
       "      <td>-0.312639</td>\n",
       "      <td>-1.137472</td>\n",
       "      <td>0.331600</td>\n",
       "      <td>1.0</td>\n",
       "      <td>-0.345761</td>\n",
       "      <td>...</td>\n",
       "      <td>0.335587</td>\n",
       "      <td>11</td>\n",
       "      <td>0.362271</td>\n",
       "      <td>0.319503</td>\n",
       "      <td>37</td>\n",
       "      <td>0.023426</td>\n",
       "      <td>-0.115715</td>\n",
       "      <td>-0.547478</td>\n",
       "      <td>0.099263</td>\n",
       "      <td>-0.470302</td>\n",
       "    </tr>\n",
       "  </tbody>\n",
       "</table>\n",
       "<p>5 rows × 23 columns</p>\n",
       "</div>"
      ],
      "text/plain": [
       "                        weightMeanIAT  yellowCards   defeats  yellowReds  \\\n",
       "playerShort                                                                \n",
       "aaron-hughes             2.861858e-06    -0.346780  0.306836   -0.108671   \n",
       "aaron-hunt               3.807995e-06     0.030080  0.207666   -0.108671   \n",
       "aaron-lennon             3.081554e-06    -0.353528  0.141837   -0.108671   \n",
       "aaron-ramsey             5.548255e-06    -0.123403 -0.198705   -0.108671   \n",
       "abdelhamid-el-kaoutari   4.243206e-07    -0.222989  0.158379    0.864236   \n",
       "\n",
       "                        position    height       age   meanIAT  skin_nonorm  \\\n",
       "playerShort                                                                   \n",
       "aaron-hughes                   1 -0.018675  1.371299  0.346459          0.5   \n",
       "aaron-hunt                     0  0.128306 -0.225191  0.348818          0.5   \n",
       "aaron-lennon                  11 -2.517367 -0.453261  0.345893          1.0   \n",
       "aaron-ramsey                   3 -0.606603 -1.365542  0.346821          0.0   \n",
       "abdelhamid-el-kaoutari         1 -0.312639 -1.137472  0.331600          1.0   \n",
       "\n",
       "                           goals    ...      meanExp  refCountry  redCards  \\\n",
       "playerShort                         ...                                      \n",
       "aaron-hughes           -0.316979    ...     0.494575          37 -0.112016   \n",
       "aaron-hunt              0.288572    ...     0.449220          25 -0.023386   \n",
       "aaron-lennon           -0.049463    ...     0.491482          28 -0.112016   \n",
       "aaron-ramsey            0.022593    ...     0.514693          37 -0.027647   \n",
       "abdelhamid-el-kaoutari -0.345761    ...     0.335587          11  0.362271   \n",
       "\n",
       "                            ties  refNum     seExp      skin  skin_difference  \\\n",
       "playerShort                                                                     \n",
       "aaron-hughes            0.317084     166  0.027536 -0.549090         1.800031   \n",
       "aaron-hunt              0.019149      99  0.002506 -0.549090         1.800031   \n",
       "aaron-lennon            0.214040     101  0.008914 -0.115715        -0.547478   \n",
       "aaron-ramsey           -0.272310     104  0.104541 -0.982466        -0.547478   \n",
       "abdelhamid-el-kaoutari  0.319503      37  0.023426 -0.115715        -0.547478   \n",
       "\n",
       "                           games    weight  \n",
       "playerShort                                 \n",
       "aaron-hughes            0.263530 -0.749386  \n",
       "aaron-hunt              0.111152 -0.470302  \n",
       "aaron-lennon            0.302460 -1.865721  \n",
       "aaron-ramsey           -0.138411 -0.051676  \n",
       "abdelhamid-el-kaoutari  0.099263 -0.470302  \n",
       "\n",
       "[5 rows x 23 columns]"
      ]
     },
     "execution_count": 263,
     "metadata": {},
     "output_type": "execute_result"
    }
   ],
   "source": [
    "grouped.head()"
   ]
  },
  {
   "cell_type": "code",
   "execution_count": 113,
   "metadata": {
    "collapsed": true
   },
   "outputs": [],
   "source": [
    "from sklearn.cluster import KMeans\n",
    "from sklearn.metrics import silhouette_score"
   ]
  },
  {
   "cell_type": "markdown",
   "metadata": {},
   "source": [
    "We now compute the silhouette score and remove iteratively features. We keep track of 2 score, the one by silhouette score of the clusterisation by k-mean and its own labels, and the one corresponding to the proportion of correctly partitionned data along the skin value (accuracy = max(partition_accuracy, 1-partition_accuracy) split at skin value = 2.0)"
   ]
  },
  {
   "cell_type": "code",
   "execution_count": 264,
   "metadata": {
    "collapsed": false
   },
   "outputs": [
    {
     "data": {
      "text/plain": [
       "playerShort\n",
       "aaron-hughes              1\n",
       "aaron-hunt                1\n",
       "aaron-lennon              1\n",
       "aaron-ramsey              1\n",
       "abdelhamid-el-kaoutari    1\n",
       "Name: skin_nonorm, dtype: int64"
      ]
     },
     "execution_count": 264,
     "metadata": {},
     "output_type": "execute_result"
    }
   ],
   "source": [
    "skin_labels = (grouped['skin_nonorm'] < 2.0).astype(int) \n",
    "skin_labels.head()"
   ]
  },
  {
   "cell_type": "markdown",
   "metadata": {},
   "source": [
    "We define the cluster method with the data as parameter"
   ]
  },
  {
   "cell_type": "code",
   "execution_count": 115,
   "metadata": {
    "collapsed": false
   },
   "outputs": [],
   "source": [
    "def cluster(X):\n",
    "    kmeans_model = KMeans(n_clusters=2, random_state=1).fit(X)\n",
    "    labels = kmeans_model.labels_\n",
    "    \n",
    "    silhouette_unsupervised = silhouette_score(X, labels)\n",
    "    np.mean(silhouette_unsupervised)\n",
    "    eq = skin_labels == labels\n",
    "    mean = np.mean(eq)\n",
    "    skin_partition = max(mean, 1-mean)\n",
    "    \n",
    "    return  silhouette_unsupervised, skin_partition"
   ]
  },
  {
   "cell_type": "markdown",
   "metadata": {},
   "source": [
    "The first iterative ablation of the features is done according to the features importance we found in the previous part. It should logically give good results."
   ]
  },
  {
   "cell_type": "code",
   "execution_count": 266,
   "metadata": {
    "collapsed": false
   },
   "outputs": [
    {
     "name": "stdout",
     "output_type": "stream",
     "text": [
      "0.530481692863 0.569085173502 ['seExp', 'seIAT', 'meanIAT', 'meanExp', 'refNum', 'victories', 'goals', 'yellowCards', 'games', 'defeats', 'ties', 'refCountry', 'redCards', 'position', 'height', 'age', 'weight', 'weightMeanIAT', 'weightMeanExp', 'yellowReds']\n",
      "REMOVED FEATURE:  yellowReds\n",
      "\n",
      "\n",
      "0.530500302178 0.569085173502 ['seExp', 'seIAT', 'meanIAT', 'meanExp', 'refNum', 'victories', 'goals', 'yellowCards', 'games', 'defeats', 'ties', 'refCountry', 'redCards', 'position', 'height', 'age', 'weight', 'weightMeanIAT', 'weightMeanExp']\n",
      "REMOVED FEATURE:  weightMeanExp\n",
      "\n",
      "\n",
      "0.530500302178 0.569085173502 ['seExp', 'seIAT', 'meanIAT', 'meanExp', 'refNum', 'victories', 'goals', 'yellowCards', 'games', 'defeats', 'ties', 'refCountry', 'redCards', 'position', 'height', 'age', 'weight', 'weightMeanIAT']\n",
      "REMOVED FEATURE:  weightMeanIAT\n",
      "\n",
      "\n",
      "0.530500302178 0.569085173502 ['seExp', 'seIAT', 'meanIAT', 'meanExp', 'refNum', 'victories', 'goals', 'yellowCards', 'games', 'defeats', 'ties', 'refCountry', 'redCards', 'position', 'height', 'age', 'weight']\n",
      "REMOVED FEATURE:  weight\n",
      "\n",
      "\n",
      "0.531173160647 0.569085173502 ['seExp', 'seIAT', 'meanIAT', 'meanExp', 'refNum', 'victories', 'goals', 'yellowCards', 'games', 'defeats', 'ties', 'refCountry', 'redCards', 'position', 'height', 'age']\n",
      "REMOVED FEATURE:  age\n",
      "\n",
      "\n",
      "0.531756276916 0.569085173502 ['seExp', 'seIAT', 'meanIAT', 'meanExp', 'refNum', 'victories', 'goals', 'yellowCards', 'games', 'defeats', 'ties', 'refCountry', 'redCards', 'position', 'height']\n",
      "REMOVED FEATURE:  height\n",
      "\n",
      "\n",
      "0.532472283986 0.569085173502 ['seExp', 'seIAT', 'meanIAT', 'meanExp', 'refNum', 'victories', 'goals', 'yellowCards', 'games', 'defeats', 'ties', 'refCountry', 'redCards', 'position']\n",
      "REMOVED FEATURE:  position\n",
      "\n",
      "\n",
      "0.541373603164 0.569085173502 ['seExp', 'seIAT', 'meanIAT', 'meanExp', 'refNum', 'victories', 'goals', 'yellowCards', 'games', 'defeats', 'ties', 'refCountry', 'redCards']\n",
      "REMOVED FEATURE:  redCards\n",
      "\n",
      "\n",
      "0.541395239518 0.569085173502 ['seExp', 'seIAT', 'meanIAT', 'meanExp', 'refNum', 'victories', 'goals', 'yellowCards', 'games', 'defeats', 'ties', 'refCountry']\n",
      "REMOVED FEATURE:  refCountry\n",
      "\n",
      "\n",
      "0.572681286246 0.557728706625 ['seExp', 'seIAT', 'meanIAT', 'meanExp', 'refNum', 'victories', 'goals', 'yellowCards', 'games', 'defeats', 'ties']\n",
      "REMOVED FEATURE:  ties\n",
      "\n",
      "\n",
      "0.572822595037 0.557728706625 ['seExp', 'seIAT', 'meanIAT', 'meanExp', 'refNum', 'victories', 'goals', 'yellowCards', 'games', 'defeats']\n",
      "REMOVED FEATURE:  defeats\n",
      "\n",
      "\n",
      "0.572998949619 0.557728706625 ['seExp', 'seIAT', 'meanIAT', 'meanExp', 'refNum', 'victories', 'goals', 'yellowCards', 'games']\n",
      "REMOVED FEATURE:  games\n",
      "\n",
      "\n",
      "0.573180923881 0.557728706625 ['seExp', 'seIAT', 'meanIAT', 'meanExp', 'refNum', 'victories', 'goals', 'yellowCards']\n",
      "REMOVED FEATURE:  yellowCards\n",
      "\n",
      "\n",
      "0.573431858962 0.557728706625 ['seExp', 'seIAT', 'meanIAT', 'meanExp', 'refNum', 'victories', 'goals']\n",
      "REMOVED FEATURE:  goals\n",
      "\n",
      "\n",
      "0.573738630968 0.557728706625 ['seExp', 'seIAT', 'meanIAT', 'meanExp', 'refNum', 'victories']\n",
      "REMOVED FEATURE:  victories\n",
      "\n",
      "\n",
      "0.573917623245 0.557728706625 ['seExp', 'seIAT', 'meanIAT', 'meanExp', 'refNum']\n",
      "REMOVED FEATURE:  refNum\n",
      "\n",
      "\n",
      "0.5833204725 0.533123028391 ['seExp', 'seIAT', 'meanIAT', 'meanExp']\n",
      "REMOVED FEATURE:  meanExp\n",
      "\n",
      "\n",
      "0.643129663736 0.778548895899 ['seExp', 'seIAT', 'meanIAT']\n",
      "REMOVED FEATURE:  meanIAT\n",
      "\n",
      "\n",
      "0.817535920844 0.773501577287 ['seExp', 'seIAT']\n",
      "REMOVED FEATURE:  seIAT\n",
      "\n",
      "\n",
      "0.819587579463 0.771608832808 ['seExp']\n",
      "REMOVED FEATURE:  seExp\n",
      "\n",
      "\n"
     ]
    }
   ],
   "source": [
    "silhouettes_unsupervised = []\n",
    "skin_partitions = []\n",
    "feature_number = []\n",
    "\n",
    "columns = sorted_features\n",
    "#We always drop skin_nonorm. It was only used for labeling before standardization\n",
    "for i in range(len(columns)):\n",
    "    silhouette_unsupervised, skin_partitionning = cluster(grouped[columns])\n",
    "    \n",
    "    silhouettes_unsupervised.append(silhouette_unsupervised)\n",
    "    skin_partitions.append(skin_partitionning )\n",
    "    \n",
    "    feature_number.append(len(columns))\n",
    "    print(silhouette_unsupervised, skin_partitionning, columns)\n",
    "    print(\"REMOVED FEATURE: \", columns[-1])\n",
    "    print()\n",
    "    print()\n",
    "    columns = columns[:-1]"
   ]
  },
  {
   "cell_type": "code",
   "execution_count": 267,
   "metadata": {
    "collapsed": false
   },
   "outputs": [
    {
     "data": {
      "image/png": "[encoded data removed]",
      "text/plain": [
       "<matplotlib.figure.Figure at 0x7faa5bc49588>"
      ]
     },
     "metadata": {},
     "output_type": "display_data"
    }
   ],
   "source": [
    "plt.plot(feature_number, silhouettes_unsupervised, label='silhouette');\n",
    "plt.plot(feature_number, skin_partitions, label='partition');\n",
    "plt.xlabel('Number of features');\n",
    "plt.legend();"
   ]
  },
  {
   "cell_type": "markdown",
   "metadata": {},
   "source": [
    "We can see that the silhouette goes up as the number of features go down (easier to cluster). \n",
    "We could think that ['seExp', 'seIAT', 'meanIAT', 'meanExp'] give good enough silhouette and partition scores."
   ]
  },
  {
   "cell_type": "code",
   "execution_count": 280,
   "metadata": {
    "collapsed": false
   },
   "outputs": [
    {
     "name": "stdout",
     "output_type": "stream",
     "text": [
      "1    1200\n",
      "0     385\n",
      "Name: skin_nonorm, dtype: int64\n"
     ]
    },
    {
     "data": {
      "text/plain": [
       "0.7570977917981072"
      ]
     },
     "execution_count": 280,
     "metadata": {},
     "output_type": "execute_result"
    }
   ],
   "source": [
    "print(skin_labels.value_counts())\n",
    "1200/(1200+385)"
   ]
  },
  {
   "cell_type": "markdown",
   "metadata": {},
   "source": [
    "But we notice that just outputing everything under 1 category would result in a 75% accuracy, which is only a bit less than the best paritionning accuracy achieved here. Way less spectacular.\n",
    "\n",
    "Now let's take another approach and instead of removing features iteratively based on the feature importance found in the previous part, we're gonna remove the feature such that it maximizes the silhouette score at the next iteration"
   ]
  },
  {
   "cell_type": "code",
   "execution_count": 281,
   "metadata": {
    "collapsed": false
   },
   "outputs": [
    {
     "name": "stdout",
     "output_type": "stream",
     "text": [
      "0.530481692863 0.569085173502 ['seExp', 'seIAT', 'meanIAT', 'meanExp', 'refNum', 'victories', 'goals', 'yellowCards', 'games', 'defeats', 'ties', 'refCountry', 'redCards', 'position', 'height', 'age', 'weight', 'weightMeanIAT', 'weightMeanExp', 'yellowReds']\n",
      "REMOVED FEATURE:  11 refCountry\n",
      "\n",
      "\n",
      "0.554783519573 0.557728706625 ['seExp', 'seIAT', 'meanIAT', 'meanExp', 'refNum', 'victories', 'goals', 'yellowCards', 'games', 'defeats', 'ties', 'redCards', 'position', 'height', 'age', 'weight', 'weightMeanIAT', 'weightMeanExp', 'yellowReds']\n",
      "REMOVED FEATURE:  12 position\n",
      "\n",
      "\n",
      "0.568202609457 0.557728706625 ['seExp', 'seIAT', 'meanIAT', 'meanExp', 'refNum', 'victories', 'goals', 'yellowCards', 'games', 'defeats', 'ties', 'redCards', 'height', 'age', 'weight', 'weightMeanIAT', 'weightMeanExp', 'yellowReds']\n",
      "REMOVED FEATURE:  12 height\n",
      "\n",
      "\n",
      "0.569604038994 0.557728706625 ['seExp', 'seIAT', 'meanIAT', 'meanExp', 'refNum', 'victories', 'goals', 'yellowCards', 'games', 'defeats', 'ties', 'redCards', 'age', 'weight', 'weightMeanIAT', 'weightMeanExp', 'yellowReds']\n",
      "REMOVED FEATURE:  13 weight\n",
      "\n",
      "\n",
      "0.571161650902 0.557728706625 ['seExp', 'seIAT', 'meanIAT', 'meanExp', 'refNum', 'victories', 'goals', 'yellowCards', 'games', 'defeats', 'ties', 'redCards', 'age', 'weightMeanIAT', 'weightMeanExp', 'yellowReds']\n",
      "REMOVED FEATURE:  12 age\n",
      "\n",
      "\n",
      "0.572587114145 0.557728706625 ['seExp', 'seIAT', 'meanIAT', 'meanExp', 'refNum', 'victories', 'goals', 'yellowCards', 'games', 'defeats', 'ties', 'redCards', 'weightMeanIAT', 'weightMeanExp', 'yellowReds']\n",
      "REMOVED FEATURE:  6 goals\n",
      "\n",
      "\n",
      "0.572851211565 0.557728706625 ['seExp', 'seIAT', 'meanIAT', 'meanExp', 'refNum', 'victories', 'yellowCards', 'games', 'defeats', 'ties', 'redCards', 'weightMeanIAT', 'weightMeanExp', 'yellowReds']\n",
      "REMOVED FEATURE:  6 yellowCards\n",
      "\n",
      "\n",
      "0.57307622555 0.557728706625 ['seExp', 'seIAT', 'meanIAT', 'meanExp', 'refNum', 'victories', 'games', 'defeats', 'ties', 'redCards', 'weightMeanIAT', 'weightMeanExp', 'yellowReds']\n",
      "REMOVED FEATURE:  7 defeats\n",
      "\n",
      "\n",
      "0.573257420914 0.557728706625 ['seExp', 'seIAT', 'meanIAT', 'meanExp', 'refNum', 'victories', 'games', 'ties', 'redCards', 'weightMeanIAT', 'weightMeanExp', 'yellowReds']\n",
      "REMOVED FEATURE:  6 games\n",
      "\n",
      "\n",
      "0.573442680048 0.557728706625 ['seExp', 'seIAT', 'meanIAT', 'meanExp', 'refNum', 'victories', 'ties', 'redCards', 'weightMeanIAT', 'weightMeanExp', 'yellowReds']\n",
      "REMOVED FEATURE:  6 ties\n",
      "\n",
      "\n",
      "0.573614812916 0.557728706625 ['seExp', 'seIAT', 'meanIAT', 'meanExp', 'refNum', 'victories', 'redCards', 'weightMeanIAT', 'weightMeanExp', 'yellowReds']\n",
      "REMOVED FEATURE:  5 victories\n",
      "\n",
      "\n",
      "0.573772973877 0.557728706625 ['seExp', 'seIAT', 'meanIAT', 'meanExp', 'refNum', 'redCards', 'weightMeanIAT', 'weightMeanExp', 'yellowReds']\n",
      "REMOVED FEATURE:  8 yellowReds\n",
      "\n",
      "\n",
      "0.57384204924 0.557728706625 ['seExp', 'seIAT', 'meanIAT', 'meanExp', 'refNum', 'redCards', 'weightMeanIAT', 'weightMeanExp']\n",
      "REMOVED FEATURE:  5 redCards\n",
      "\n",
      "\n",
      "0.573917623244 0.557728706625 ['seExp', 'seIAT', 'meanIAT', 'meanExp', 'refNum', 'weightMeanIAT', 'weightMeanExp']\n",
      "REMOVED FEATURE:  4 refNum\n",
      "\n",
      "\n",
      "0.583320464957 0.533123028391 ['seExp', 'seIAT', 'meanIAT', 'meanExp', 'weightMeanIAT', 'weightMeanExp']\n",
      "REMOVED FEATURE:  3 meanExp\n",
      "\n",
      "\n",
      "0.643129620904 0.778548895899 ['seExp', 'seIAT', 'meanIAT', 'weightMeanIAT', 'weightMeanExp']\n",
      "REMOVED FEATURE:  2 meanIAT\n",
      "\n",
      "\n",
      "0.817535465052 0.773501577287 ['seExp', 'seIAT', 'weightMeanIAT', 'weightMeanExp']\n",
      "REMOVED FEATURE:  0 seExp\n",
      "\n",
      "\n",
      "0.868011267004 0.752050473186 ['seIAT', 'weightMeanIAT', 'weightMeanExp']\n",
      "REMOVED FEATURE:  0 seIAT\n",
      "\n",
      "\n",
      "0.904598876547 0.756466876972 ['weightMeanIAT', 'weightMeanExp']\n",
      "REMOVED FEATURE:  0 weightMeanIAT\n",
      "\n",
      "\n",
      "0.903255729891 0.755835962145 ['weightMeanExp']\n"
     ]
    }
   ],
   "source": [
    "\n",
    "silhouettes_unsupervised = []\n",
    "skin_partitions = []\n",
    "feature_number = []\n",
    "\n",
    "columns = sorted_features\n",
    "\n",
    "#We always drop skin_nonorm. It was only used for labeling before standardization\n",
    "for i in range(len(columns)):\n",
    "    silhouette_unsupervised, skin_partitionning = cluster(grouped[columns])\n",
    "    \n",
    "    silhouettes_unsupervised.append(silhouette_unsupervised)\n",
    "    skin_partitions.append(skin_partitionning )\n",
    "    \n",
    "\n",
    "    feature_number.append(len(columns))\n",
    "    print(silhouette_unsupervised, skin_partitionning, columns)\n",
    "    \n",
    "    if len(columns) == 1:\n",
    "        break;\n",
    "    \n",
    "    max_silhouette = 0\n",
    "    j = -1\n",
    "    \n",
    "    for i in range(len(columns)):\n",
    "        hole_columns = columns[:i] + columns[i+1:]\n",
    "        silhouette, _ = cluster(grouped[hole_columns]) \n",
    "        if silhouette > max_silhouette:\n",
    "            j = i\n",
    "            max_silhouette = silhouette\n",
    "            \n",
    "\n",
    "    print(\"REMOVED FEATURE: \", j, columns[j])\n",
    "    print()\n",
    "    print()\n",
    "    columns = columns[:j] + columns[j+1:]"
   ]
  },
  {
   "cell_type": "code",
   "execution_count": 282,
   "metadata": {
    "collapsed": false
   },
   "outputs": [
    {
     "data": {
      "image/png": "[encoded data removed]",
      "text/plain": [
       "<matplotlib.figure.Figure at 0x7faa5bc2c4e0>"
      ]
     },
     "metadata": {},
     "output_type": "display_data"
    }
   ],
   "source": [
    "plt.plot(feature_number, silhouettes_unsupervised, label='silhouette');\n",
    "plt.plot(feature_number, skin_partitions, label='partition');\n",
    "plt.xlabel('Number of features');\n",
    "plt.legend();"
   ]
  },
  {
   "cell_type": "markdown",
   "metadata": {},
   "source": [
    "Silhouette reach a higher score but accuracy stays the same. We can conclude that clusterisation doesn't reveal any significative correlation with Skin color. \n",
    "\n",
    "\n",
    "Let's now try by adding the skin feature for sanity check if there is now a clear partition."
   ]
  },
  {
   "cell_type": "code",
   "execution_count": 283,
   "metadata": {
    "collapsed": false
   },
   "outputs": [
    {
     "name": "stdout",
     "output_type": "stream",
     "text": [
      "0.529075383878 0.569085173502 ['skin', 'skin_difference', 'seExp', 'seIAT', 'meanIAT', 'meanExp', 'refNum', 'victories', 'goals', 'yellowCards', 'games', 'defeats', 'ties', 'refCountry', 'redCards', 'position', 'height', 'age', 'weight', 'weightMeanIAT', 'weightMeanExp', 'yellowReds']\n",
      "REMOVED FEATURE:  yellowReds\n",
      "\n",
      "\n",
      "0.529093535491 0.569085173502 ['skin', 'skin_difference', 'seExp', 'seIAT', 'meanIAT', 'meanExp', 'refNum', 'victories', 'goals', 'yellowCards', 'games', 'defeats', 'ties', 'refCountry', 'redCards', 'position', 'height', 'age', 'weight', 'weightMeanIAT', 'weightMeanExp']\n",
      "REMOVED FEATURE:  weightMeanExp\n",
      "\n",
      "\n",
      "0.529093535491 0.569085173502 ['skin', 'skin_difference', 'seExp', 'seIAT', 'meanIAT', 'meanExp', 'refNum', 'victories', 'goals', 'yellowCards', 'games', 'defeats', 'ties', 'refCountry', 'redCards', 'position', 'height', 'age', 'weight', 'weightMeanIAT']\n",
      "REMOVED FEATURE:  weightMeanIAT\n",
      "\n",
      "\n",
      "0.529093535491 0.569085173502 ['skin', 'skin_difference', 'seExp', 'seIAT', 'meanIAT', 'meanExp', 'refNum', 'victories', 'goals', 'yellowCards', 'games', 'defeats', 'ties', 'refCountry', 'redCards', 'position', 'height', 'age', 'weight']\n",
      "REMOVED FEATURE:  weight\n",
      "\n",
      "\n",
      "0.529750501244 0.569085173502 ['skin', 'skin_difference', 'seExp', 'seIAT', 'meanIAT', 'meanExp', 'refNum', 'victories', 'goals', 'yellowCards', 'games', 'defeats', 'ties', 'refCountry', 'redCards', 'position', 'height', 'age']\n",
      "REMOVED FEATURE:  age\n",
      "\n",
      "\n",
      "0.53031843146 0.569085173502 ['skin', 'skin_difference', 'seExp', 'seIAT', 'meanIAT', 'meanExp', 'refNum', 'victories', 'goals', 'yellowCards', 'games', 'defeats', 'ties', 'refCountry', 'redCards', 'position', 'height']\n",
      "REMOVED FEATURE:  height\n",
      "\n",
      "\n",
      "0.531014463865 0.569085173502 ['skin', 'skin_difference', 'seExp', 'seIAT', 'meanIAT', 'meanExp', 'refNum', 'victories', 'goals', 'yellowCards', 'games', 'defeats', 'ties', 'refCountry', 'redCards', 'position']\n",
      "REMOVED FEATURE:  position\n",
      "\n",
      "\n",
      "0.539671298157 0.569085173502 ['skin', 'skin_difference', 'seExp', 'seIAT', 'meanIAT', 'meanExp', 'refNum', 'victories', 'goals', 'yellowCards', 'games', 'defeats', 'ties', 'refCountry', 'redCards']\n",
      "REMOVED FEATURE:  redCards\n",
      "\n",
      "\n",
      "0.539691600877 0.569085173502 ['skin', 'skin_difference', 'seExp', 'seIAT', 'meanIAT', 'meanExp', 'refNum', 'victories', 'goals', 'yellowCards', 'games', 'defeats', 'ties', 'refCountry']\n",
      "REMOVED FEATURE:  refCountry\n",
      "\n",
      "\n",
      "0.569344341002 0.557728706625 ['skin', 'skin_difference', 'seExp', 'seIAT', 'meanIAT', 'meanExp', 'refNum', 'victories', 'goals', 'yellowCards', 'games', 'defeats', 'ties']\n",
      "REMOVED FEATURE:  ties\n",
      "\n",
      "\n",
      "0.569462791831 0.557728706625 ['skin', 'skin_difference', 'seExp', 'seIAT', 'meanIAT', 'meanExp', 'refNum', 'victories', 'goals', 'yellowCards', 'games', 'defeats']\n",
      "REMOVED FEATURE:  defeats\n",
      "\n",
      "\n",
      "0.569607990772 0.557728706625 ['skin', 'skin_difference', 'seExp', 'seIAT', 'meanIAT', 'meanExp', 'refNum', 'victories', 'goals', 'yellowCards', 'games']\n",
      "REMOVED FEATURE:  games\n",
      "\n",
      "\n",
      "0.569754302515 0.557728706625 ['skin', 'skin_difference', 'seExp', 'seIAT', 'meanIAT', 'meanExp', 'refNum', 'victories', 'goals', 'yellowCards']\n",
      "REMOVED FEATURE:  yellowCards\n",
      "\n",
      "\n",
      "0.569950245691 0.557728706625 ['skin', 'skin_difference', 'seExp', 'seIAT', 'meanIAT', 'meanExp', 'refNum', 'victories', 'goals']\n",
      "REMOVED FEATURE:  goals\n",
      "\n",
      "\n",
      "0.570178309409 0.557728706625 ['skin', 'skin_difference', 'seExp', 'seIAT', 'meanIAT', 'meanExp', 'refNum', 'victories']\n",
      "REMOVED FEATURE:  victories\n",
      "\n",
      "\n",
      "0.570292324176 0.557728706625 ['skin', 'skin_difference', 'seExp', 'seIAT', 'meanIAT', 'meanExp', 'refNum']\n",
      "REMOVED FEATURE:  refNum\n",
      "\n",
      "\n",
      "0.611584095338 0.610094637224 ['skin', 'skin_difference', 'seExp', 'seIAT', 'meanIAT', 'meanExp']\n",
      "REMOVED FEATURE:  meanExp\n",
      "\n",
      "\n",
      "0.623534998814 0.610094637224 ['skin', 'skin_difference', 'seExp', 'seIAT', 'meanIAT']\n",
      "REMOVED FEATURE:  meanIAT\n",
      "\n",
      "\n",
      "0.624811073367 0.610094637224 ['skin', 'skin_difference', 'seExp', 'seIAT']\n",
      "REMOVED FEATURE:  seIAT\n",
      "\n",
      "\n",
      "0.624856569665 0.610094637224 ['skin', 'skin_difference', 'seExp']\n",
      "REMOVED FEATURE:  seExp\n",
      "\n",
      "\n",
      "0.62617222499 0.610094637224 ['skin', 'skin_difference']\n",
      "REMOVED FEATURE:  skin_difference\n",
      "\n",
      "\n",
      "0.717701546897 1.0 ['skin']\n",
      "REMOVED FEATURE:  skin\n",
      "\n",
      "\n"
     ]
    }
   ],
   "source": [
    "silhouettes_unsupervised = []\n",
    "skin_partitions = []\n",
    "feature_number = []\n",
    "\n",
    "columns = ['skin', 'skin_difference'] + sorted_features\n",
    "#We always drop skin_nonorm. It was only used for labeling before standardization\n",
    "for i in range(len(columns)):\n",
    "    silhouette_unsupervised, skin_partitionning = cluster(grouped[columns])\n",
    "    \n",
    "    silhouettes_unsupervised.append(silhouette_unsupervised)\n",
    "    skin_partitions.append(skin_partitionning )\n",
    "    \n",
    "    feature_number.append(len(columns))\n",
    "    print(silhouette_unsupervised, skin_partitionning, columns)\n",
    "    print(\"REMOVED FEATURE: \", columns[-1])\n",
    "    print()\n",
    "    print()\n",
    "    columns = columns[:-1]"
   ]
  },
  {
   "cell_type": "code",
   "execution_count": 261,
   "metadata": {
    "collapsed": false
   },
   "outputs": [
    {
     "data": {
      "image/png": "[encoded data removed]",
      "text/plain": [
       "<matplotlib.figure.Figure at 0x7faa5abe2828>"
      ]
     },
     "metadata": {},
     "output_type": "display_data"
    }
   ],
   "source": [
    "plt.plot(feature_number, silhouettes_unsupervised, label='silhouette');\n",
    "plt.plot(feature_number, skin_partitions, label='partition');\n",
    "plt.xlabel('Number of features');\n",
    "plt.legend();"
   ]
  },
  {
   "cell_type": "markdown",
   "metadata": {},
   "source": [
    "Surprisingly, the paritition doesn't improve significatively until we only keep the skin related features. Then it achieves not so surprisingly a perfect partition.\n",
    "\n",
    "Let's now try to have some visualisation of the effect of clusterisation based on the two relevant features:\n",
    "['seExp', 'seIAT']"
   ]
  },
  {
   "cell_type": "code",
   "execution_count": 286,
   "metadata": {
    "collapsed": false
   },
   "outputs": [
    {
     "data": {
      "image/png": "[encoded data removed]",
      "text/plain": [
       "<matplotlib.figure.Figure at 0x7faa5786f940>"
      ]
     },
     "metadata": {},
     "output_type": "display_data"
    },
    {
     "data": {
      "image/png": "[encoded data removed]",
      "text/plain": [
       "<matplotlib.figure.Figure at 0x7faa5bc4d048>"
      ]
     },
     "metadata": {},
     "output_type": "display_data"
    }
   ],
   "source": [
    "import numpy as np\n",
    "import matplotlib.pyplot as plt\n",
    "from mpl_toolkits.mplot3d import Axes3D\n",
    "\n",
    "\n",
    "X = grouped[['seExp', 'seIAT']]\n",
    "kmeans_model = KMeans(n_clusters=2, random_state=1).fit(X)\n",
    "labels = kmeans_model.labels_\n",
    "\n",
    "skin_labels_nd = skin_labels.as_matrix()\n",
    "\n",
    "Xnd = X.as_matrix()\n",
    "\n",
    "x1 = Xnd[labels == 0, 0]\n",
    "y1 = Xnd[labels == 0, 1]\n",
    "x2 = Xnd[labels == 1, 0]\n",
    "y2 = Xnd[labels == 1, 1]\n",
    "\n",
    "plt.figure()\n",
    "plt.scatter(x1, y1, color='navy', alpha=.8, label='0')\n",
    "plt.scatter(x2, y2, color='red', alpha=.8, label='0')\n",
    "plt.legend(loc='best', shadow=False, scatterpoints=1)\n",
    "plt.title('KMeans labels')\n",
    "\n",
    "\n",
    "x1 = Xnd[skin_labels_nd == 0, 0]\n",
    "y1 = Xnd[skin_labels_nd == 0, 1]\n",
    "x2 = Xnd[skin_labels_nd == 1, 0]\n",
    "y2 = Xnd[skin_labels_nd == 1, 1]\n",
    "\n",
    "plt.figure()\n",
    "plt.scatter(x1, y1, color='navy', alpha=.8, label='0')\n",
    "plt.scatter(x2, y2, color='red', alpha=.8, label='1')\n",
    "plt.legend(loc='best', shadow=False, scatterpoints=1)\n",
    "plt.title('True labels')\n",
    "plt.show()\n"
   ]
  },
  {
   "cell_type": "code",
   "execution_count": null,
   "metadata": {
    "collapsed": true
   },
   "outputs": [],
   "source": [
    "We can notice that there seems to be a pattern"
   ]
  }
 ],
 "metadata": {
  "anaconda-cloud": {},
  "kernelspec": {
   "display_name": "Python [Root]",
   "language": "python",
   "name": "Python [Root]"
  },
  "language_info": {
   "codemirror_mode": {
    "name": "ipython",
    "version": 3
   },
   "file_extension": ".py",
   "mimetype": "text/x-python",
   "name": "python",
   "nbconvert_exporter": "python",
   "pygments_lexer": "ipython3",
   "version": "3.5.1"
  }
 },
 "nbformat": 4,
 "nbformat_minor": 0
}
