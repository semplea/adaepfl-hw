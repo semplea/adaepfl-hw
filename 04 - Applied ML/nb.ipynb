{
 "cells": [
  {
   "cell_type": "code",
   "execution_count": 1,
   "metadata": {
    "collapsed": false
   },
   "outputs": [],
   "source": [
    "import pandas as pd\n",
    "import numpy as np \n",
    "from sklearn.ensemble import RandomForestRegressor, RandomForestClassifier\n",
    "import matplotlib.pyplot as plt \n",
    "import seaborn as sns\n",
    "import warnings\n",
    "import math\n",
    "warnings.filterwarnings('ignore')\n",
    "%matplotlib inline\n",
    "pd.options.mode.chained_assignment = None"
   ]
  },
  {
   "cell_type": "markdown",
   "metadata": {},
   "source": [
    "# Applied Machine Learning\n",
    "In this assignment we will explore a dataset about soccer players and referees, focusing predictions and clustering essentially on the players' skin color."
   ]
  },
  {
   "cell_type": "markdown",
   "metadata": {},
   "source": [
    "## Preprocessing"
   ]
  },
  {
   "cell_type": "markdown",
   "metadata": {},
   "source": [
    "Let's have a look at the data:"
   ]
  },
  {
   "cell_type": "code",
   "execution_count": 2,
   "metadata": {
    "collapsed": false
   },
   "outputs": [
    {
     "data": {
      "text/html": [
       "<div>\n",
       "<table border=\"1\" class=\"dataframe\">\n",
       "  <thead>\n",
       "    <tr style=\"text-align: right;\">\n",
       "      <th></th>\n",
       "      <th>playerShort</th>\n",
       "      <th>player</th>\n",
       "      <th>club</th>\n",
       "      <th>leagueCountry</th>\n",
       "      <th>birthday</th>\n",
       "      <th>height</th>\n",
       "      <th>weight</th>\n",
       "      <th>position</th>\n",
       "      <th>games</th>\n",
       "      <th>victories</th>\n",
       "      <th>ties</th>\n",
       "      <th>defeats</th>\n",
       "      <th>goals</th>\n",
       "      <th>yellowCards</th>\n",
       "    </tr>\n",
       "  </thead>\n",
       "  <tbody>\n",
       "    <tr>\n",
       "      <th>0</th>\n",
       "      <td>lucas-wilchez</td>\n",
       "      <td>Lucas Wilchez</td>\n",
       "      <td>Real Zaragoza</td>\n",
       "      <td>Spain</td>\n",
       "      <td>31.08.1983</td>\n",
       "      <td>177.0</td>\n",
       "      <td>72.0</td>\n",
       "      <td>Attacking Midfielder</td>\n",
       "      <td>1</td>\n",
       "      <td>0</td>\n",
       "      <td>0</td>\n",
       "      <td>1</td>\n",
       "      <td>0</td>\n",
       "      <td>0</td>\n",
       "    </tr>\n",
       "    <tr>\n",
       "      <th>1</th>\n",
       "      <td>john-utaka</td>\n",
       "      <td>John Utaka</td>\n",
       "      <td>Montpellier HSC</td>\n",
       "      <td>France</td>\n",
       "      <td>08.01.1982</td>\n",
       "      <td>179.0</td>\n",
       "      <td>82.0</td>\n",
       "      <td>Right Winger</td>\n",
       "      <td>1</td>\n",
       "      <td>0</td>\n",
       "      <td>0</td>\n",
       "      <td>1</td>\n",
       "      <td>0</td>\n",
       "      <td>1</td>\n",
       "    </tr>\n",
       "    <tr>\n",
       "      <th>2</th>\n",
       "      <td>abdon-prats</td>\n",
       "      <td>Abdón Prats</td>\n",
       "      <td>RCD Mallorca</td>\n",
       "      <td>Spain</td>\n",
       "      <td>17.12.1992</td>\n",
       "      <td>181.0</td>\n",
       "      <td>79.0</td>\n",
       "      <td>NaN</td>\n",
       "      <td>1</td>\n",
       "      <td>0</td>\n",
       "      <td>1</td>\n",
       "      <td>0</td>\n",
       "      <td>0</td>\n",
       "      <td>1</td>\n",
       "    </tr>\n",
       "    <tr>\n",
       "      <th>3</th>\n",
       "      <td>pablo-mari</td>\n",
       "      <td>Pablo Marí</td>\n",
       "      <td>RCD Mallorca</td>\n",
       "      <td>Spain</td>\n",
       "      <td>31.08.1993</td>\n",
       "      <td>191.0</td>\n",
       "      <td>87.0</td>\n",
       "      <td>Center Back</td>\n",
       "      <td>1</td>\n",
       "      <td>1</td>\n",
       "      <td>0</td>\n",
       "      <td>0</td>\n",
       "      <td>0</td>\n",
       "      <td>0</td>\n",
       "    </tr>\n",
       "    <tr>\n",
       "      <th>4</th>\n",
       "      <td>ruben-pena</td>\n",
       "      <td>Rubén Peña</td>\n",
       "      <td>Real Valladolid</td>\n",
       "      <td>Spain</td>\n",
       "      <td>18.07.1991</td>\n",
       "      <td>172.0</td>\n",
       "      <td>70.0</td>\n",
       "      <td>Right Midfielder</td>\n",
       "      <td>1</td>\n",
       "      <td>1</td>\n",
       "      <td>0</td>\n",
       "      <td>0</td>\n",
       "      <td>0</td>\n",
       "      <td>0</td>\n",
       "    </tr>\n",
       "    <tr>\n",
       "      <th>5</th>\n",
       "      <td>aaron-hughes</td>\n",
       "      <td>Aaron Hughes</td>\n",
       "      <td>Fulham FC</td>\n",
       "      <td>England</td>\n",
       "      <td>08.11.1979</td>\n",
       "      <td>182.0</td>\n",
       "      <td>71.0</td>\n",
       "      <td>Center Back</td>\n",
       "      <td>1</td>\n",
       "      <td>0</td>\n",
       "      <td>0</td>\n",
       "      <td>1</td>\n",
       "      <td>0</td>\n",
       "      <td>0</td>\n",
       "    </tr>\n",
       "  </tbody>\n",
       "</table>\n",
       "</div>"
      ],
      "text/plain": [
       "     playerShort         player             club leagueCountry    birthday  \\\n",
       "0  lucas-wilchez  Lucas Wilchez    Real Zaragoza         Spain  31.08.1983   \n",
       "1     john-utaka     John Utaka  Montpellier HSC        France  08.01.1982   \n",
       "2    abdon-prats    Abdón Prats     RCD Mallorca         Spain  17.12.1992   \n",
       "3     pablo-mari     Pablo Marí     RCD Mallorca         Spain  31.08.1993   \n",
       "4     ruben-pena     Rubén Peña  Real Valladolid         Spain  18.07.1991   \n",
       "5   aaron-hughes   Aaron Hughes        Fulham FC       England  08.11.1979   \n",
       "\n",
       "   height  weight              position  games  victories  ties  defeats  \\\n",
       "0   177.0    72.0  Attacking Midfielder      1          0     0        1   \n",
       "1   179.0    82.0          Right Winger      1          0     0        1   \n",
       "2   181.0    79.0                   NaN      1          0     1        0   \n",
       "3   191.0    87.0           Center Back      1          1     0        0   \n",
       "4   172.0    70.0      Right Midfielder      1          1     0        0   \n",
       "5   182.0    71.0           Center Back      1          0     0        1   \n",
       "\n",
       "   goals  yellowCards  \n",
       "0      0            0  \n",
       "1      0            1  \n",
       "2      0            1  \n",
       "3      0            0  \n",
       "4      0            0  \n",
       "5      0            0  "
      ]
     },
     "execution_count": 2,
     "metadata": {},
     "output_type": "execute_result"
    }
   ],
   "source": [
    "data = pd.read_csv('CrowdstormingDataJuly1st.csv')\n",
    "data.ix[:5,:14]"
   ]
  },
  {
   "cell_type": "code",
   "execution_count": 3,
   "metadata": {
    "collapsed": false
   },
   "outputs": [
    {
     "data": {
      "text/html": [
       "<div>\n",
       "<table border=\"1\" class=\"dataframe\">\n",
       "  <thead>\n",
       "    <tr style=\"text-align: right;\">\n",
       "      <th></th>\n",
       "      <th>yellowReds</th>\n",
       "      <th>redCards</th>\n",
       "      <th>photoID</th>\n",
       "      <th>rater1</th>\n",
       "      <th>rater2</th>\n",
       "      <th>refNum</th>\n",
       "      <th>refCountry</th>\n",
       "      <th>Alpha_3</th>\n",
       "      <th>meanIAT</th>\n",
       "      <th>nIAT</th>\n",
       "      <th>seIAT</th>\n",
       "      <th>meanExp</th>\n",
       "      <th>nExp</th>\n",
       "      <th>seExp</th>\n",
       "    </tr>\n",
       "  </thead>\n",
       "  <tbody>\n",
       "    <tr>\n",
       "      <th>0</th>\n",
       "      <td>0</td>\n",
       "      <td>0</td>\n",
       "      <td>95212.jpg</td>\n",
       "      <td>0.25</td>\n",
       "      <td>0.50</td>\n",
       "      <td>1</td>\n",
       "      <td>1</td>\n",
       "      <td>GRC</td>\n",
       "      <td>0.326391</td>\n",
       "      <td>712.0</td>\n",
       "      <td>0.000564</td>\n",
       "      <td>0.396000</td>\n",
       "      <td>750.0</td>\n",
       "      <td>0.002696</td>\n",
       "    </tr>\n",
       "    <tr>\n",
       "      <th>1</th>\n",
       "      <td>0</td>\n",
       "      <td>0</td>\n",
       "      <td>1663.jpg</td>\n",
       "      <td>0.75</td>\n",
       "      <td>0.75</td>\n",
       "      <td>2</td>\n",
       "      <td>2</td>\n",
       "      <td>ZMB</td>\n",
       "      <td>0.203375</td>\n",
       "      <td>40.0</td>\n",
       "      <td>0.010875</td>\n",
       "      <td>-0.204082</td>\n",
       "      <td>49.0</td>\n",
       "      <td>0.061504</td>\n",
       "    </tr>\n",
       "    <tr>\n",
       "      <th>2</th>\n",
       "      <td>0</td>\n",
       "      <td>0</td>\n",
       "      <td>NaN</td>\n",
       "      <td>NaN</td>\n",
       "      <td>NaN</td>\n",
       "      <td>3</td>\n",
       "      <td>3</td>\n",
       "      <td>ESP</td>\n",
       "      <td>0.369894</td>\n",
       "      <td>1785.0</td>\n",
       "      <td>0.000229</td>\n",
       "      <td>0.588297</td>\n",
       "      <td>1897.0</td>\n",
       "      <td>0.001002</td>\n",
       "    </tr>\n",
       "    <tr>\n",
       "      <th>3</th>\n",
       "      <td>0</td>\n",
       "      <td>0</td>\n",
       "      <td>NaN</td>\n",
       "      <td>NaN</td>\n",
       "      <td>NaN</td>\n",
       "      <td>3</td>\n",
       "      <td>3</td>\n",
       "      <td>ESP</td>\n",
       "      <td>0.369894</td>\n",
       "      <td>1785.0</td>\n",
       "      <td>0.000229</td>\n",
       "      <td>0.588297</td>\n",
       "      <td>1897.0</td>\n",
       "      <td>0.001002</td>\n",
       "    </tr>\n",
       "    <tr>\n",
       "      <th>4</th>\n",
       "      <td>0</td>\n",
       "      <td>0</td>\n",
       "      <td>NaN</td>\n",
       "      <td>NaN</td>\n",
       "      <td>NaN</td>\n",
       "      <td>3</td>\n",
       "      <td>3</td>\n",
       "      <td>ESP</td>\n",
       "      <td>0.369894</td>\n",
       "      <td>1785.0</td>\n",
       "      <td>0.000229</td>\n",
       "      <td>0.588297</td>\n",
       "      <td>1897.0</td>\n",
       "      <td>0.001002</td>\n",
       "    </tr>\n",
       "    <tr>\n",
       "      <th>5</th>\n",
       "      <td>0</td>\n",
       "      <td>0</td>\n",
       "      <td>3868.jpg</td>\n",
       "      <td>0.25</td>\n",
       "      <td>0.00</td>\n",
       "      <td>4</td>\n",
       "      <td>4</td>\n",
       "      <td>LUX</td>\n",
       "      <td>0.325185</td>\n",
       "      <td>127.0</td>\n",
       "      <td>0.003297</td>\n",
       "      <td>0.538462</td>\n",
       "      <td>130.0</td>\n",
       "      <td>0.013752</td>\n",
       "    </tr>\n",
       "  </tbody>\n",
       "</table>\n",
       "</div>"
      ],
      "text/plain": [
       "   yellowReds  redCards    photoID  rater1  rater2  refNum  refCountry  \\\n",
       "0           0         0  95212.jpg    0.25    0.50       1           1   \n",
       "1           0         0   1663.jpg    0.75    0.75       2           2   \n",
       "2           0         0        NaN     NaN     NaN       3           3   \n",
       "3           0         0        NaN     NaN     NaN       3           3   \n",
       "4           0         0        NaN     NaN     NaN       3           3   \n",
       "5           0         0   3868.jpg    0.25    0.00       4           4   \n",
       "\n",
       "  Alpha_3   meanIAT    nIAT     seIAT   meanExp    nExp     seExp  \n",
       "0     GRC  0.326391   712.0  0.000564  0.396000   750.0  0.002696  \n",
       "1     ZMB  0.203375    40.0  0.010875 -0.204082    49.0  0.061504  \n",
       "2     ESP  0.369894  1785.0  0.000229  0.588297  1897.0  0.001002  \n",
       "3     ESP  0.369894  1785.0  0.000229  0.588297  1897.0  0.001002  \n",
       "4     ESP  0.369894  1785.0  0.000229  0.588297  1897.0  0.001002  \n",
       "5     LUX  0.325185   127.0  0.003297  0.538462   130.0  0.013752  "
      ]
     },
     "execution_count": 3,
     "metadata": {},
     "output_type": "execute_result"
    }
   ],
   "source": [
    "data.ix[:5,14:]"
   ]
  },
  {
   "cell_type": "markdown",
   "metadata": {},
   "source": [
    "### NaN values"
   ]
  },
  {
   "cell_type": "code",
   "execution_count": 4,
   "metadata": {
    "collapsed": false
   },
   "outputs": [
    {
     "data": {
      "text/plain": [
       "playerShort          0\n",
       "player               0\n",
       "club                 0\n",
       "leagueCountry        0\n",
       "birthday             0\n",
       "height             263\n",
       "weight            2243\n",
       "position         17726\n",
       "games                0\n",
       "victories            0\n",
       "ties                 0\n",
       "defeats              0\n",
       "goals                0\n",
       "yellowCards          0\n",
       "yellowReds           0\n",
       "redCards             0\n",
       "photoID          21407\n",
       "rater1           21407\n",
       "rater2           21407\n",
       "refNum               0\n",
       "refCountry           0\n",
       "Alpha_3              1\n",
       "meanIAT            163\n",
       "nIAT               163\n",
       "seIAT              163\n",
       "meanExp            163\n",
       "nExp               163\n",
       "seExp              163\n",
       "dtype: int64"
      ]
     },
     "execution_count": 4,
     "metadata": {},
     "output_type": "execute_result"
    }
   ],
   "source": [
    "data.isnull().sum()"
   ]
  },
  {
   "cell_type": "code",
   "execution_count": 5,
   "metadata": {
    "collapsed": true
   },
   "outputs": [],
   "source": [
    "filtered = data.dropna()"
   ]
  },
  {
   "cell_type": "code",
   "execution_count": 6,
   "metadata": {
    "collapsed": false
   },
   "outputs": [
    {
     "data": {
      "text/plain": [
       "0.790649738406333"
      ]
     },
     "execution_count": 6,
     "metadata": {},
     "output_type": "execute_result"
    }
   ],
   "source": [
    "len(filtered)/len(data)"
   ]
  },
  {
   "cell_type": "markdown",
   "metadata": {},
   "source": [
    "If we would decide to simply discard all the NaN values, we would keep only 21% of the DataSet. We are mainly interested in the skin color of each player so we will have a closer look at the `rater1` and `rater2` skin rating columns."
   ]
  },
  {
   "cell_type": "markdown",
   "metadata": {},
   "source": [
    "### Skin Color"
   ]
  },
  {
   "cell_type": "code",
   "execution_count": 7,
   "metadata": {
    "collapsed": false
   },
   "outputs": [
    {
     "data": {
      "text/plain": [
       "0.14659517352836443"
      ]
     },
     "execution_count": 7,
     "metadata": {},
     "output_type": "execute_result"
    }
   ],
   "source": [
    "len(data[data.rater1.isnull() & (data.rater2.isnull())])/len(data)"
   ]
  },
  {
   "cell_type": "markdown",
   "metadata": {},
   "source": [
    "15% of the dataset will be discarded as it doesn't give any information about the skin color."
   ]
  },
  {
   "cell_type": "code",
   "execution_count": 8,
   "metadata": {
    "collapsed": false
   },
   "outputs": [],
   "source": [
    "skin_data = data.dropna(how='all', subset=['rater1','rater2'])"
   ]
  },
  {
   "cell_type": "markdown",
   "metadata": {},
   "source": [
    "We will also drop the cell with missing IAT or Exp score as there are only 152"
   ]
  },
  {
   "cell_type": "code",
   "execution_count": 9,
   "metadata": {
    "collapsed": true
   },
   "outputs": [],
   "source": [
    "skin_data = skin_data.dropna(how='all', subset=['meanIAT', 'nIAT'])"
   ]
  },
  {
   "cell_type": "code",
   "execution_count": 10,
   "metadata": {
    "collapsed": false
   },
   "outputs": [
    {
     "data": {
      "text/plain": [
       "0"
      ]
     },
     "execution_count": 10,
     "metadata": {},
     "output_type": "execute_result"
    }
   ],
   "source": [
    "len(skin_data[skin_data.rater1.isnull() | (skin_data.rater2.isnull())])"
   ]
  },
  {
   "cell_type": "markdown",
   "metadata": {},
   "source": [
    "We can observe that there were always values for both `rater1` and `rater2` or not any values. Let's have a look at the data for which the raters gave a different skin color."
   ]
  },
  {
   "cell_type": "code",
   "execution_count": 11,
   "metadata": {
    "collapsed": true
   },
   "outputs": [],
   "source": [
    "skin_data_differ = skin_data[skin_data.rater1 != skin_data.rater2]"
   ]
  },
  {
   "cell_type": "code",
   "execution_count": 12,
   "metadata": {
    "collapsed": false
   },
   "outputs": [
    {
     "data": {
      "text/plain": [
       "0.23189896198219623"
      ]
     },
     "execution_count": 12,
     "metadata": {},
     "output_type": "execute_result"
    }
   ],
   "source": [
    "len(skin_data_differ)/len(skin_data)"
   ]
  },
  {
   "cell_type": "markdown",
   "metadata": {},
   "source": [
    "For 23% of the player the two raters gave a different value. Let's see if they gave skin colors that are almost the same or opposite skin colors:"
   ]
  },
  {
   "cell_type": "code",
   "execution_count": 13,
   "metadata": {
    "collapsed": false
   },
   "outputs": [],
   "source": [
    "skin_data['skin_difference'] = skin_data.apply(lambda x: abs(x['rater1'] - x['rater2']), axis=1)"
   ]
  },
  {
   "cell_type": "code",
   "execution_count": 14,
   "metadata": {
    "collapsed": false
   },
   "outputs": [
    {
     "data": {
      "image/png": "[encoded data removed]",
      "text/plain": [
       "<matplotlib.figure.Figure at 0x7f5ed465b828>"
      ]
     },
     "metadata": {},
     "output_type": "display_data"
    }
   ],
   "source": [
    "palette = sns.color_palette()\n",
    "sns.countplot(x=\"skin_difference\", data=skin_data);"
   ]
  },
  {
   "cell_type": "markdown",
   "metadata": {},
   "source": [
    "If the two raters differ, it is only by one on the 5-point scale or by 2. We decide to keep the average value of the two raters on a 0 to 8 scale. (so that the average keep all the information)"
   ]
  },
  {
   "cell_type": "code",
   "execution_count": 15,
   "metadata": {
    "collapsed": false
   },
   "outputs": [],
   "source": [
    "skin_data['skin'] = skin_data.apply(lambda x: (x['rater1']+x['rater2'])/2*4, axis=1)"
   ]
  },
  {
   "cell_type": "code",
   "execution_count": 16,
   "metadata": {
    "collapsed": false
   },
   "outputs": [
    {
     "data": {
      "image/png": "[encoded data removed]",
      "text/plain": [
       "<matplotlib.figure.Figure at 0x7f5ed465bef0>"
      ]
     },
     "metadata": {},
     "output_type": "display_data"
    }
   ],
   "source": [
    "sns.countplot(x=\"skin\", data=skin_data, palette=sns.color_palette(\"Greys\", 9));"
   ]
  },
  {
   "cell_type": "markdown",
   "metadata": {},
   "source": [
    "Since we are looking at data from countries with predominantly caucasion populations, it seems reasonable to have a larger white population."
   ]
  },
  {
   "cell_type": "markdown",
   "metadata": {},
   "source": [
    "### Age\n",
    "There are not any missing birthday value. We will have a look at the age distribution."
   ]
  },
  {
   "cell_type": "code",
   "execution_count": 17,
   "metadata": {
    "collapsed": false
   },
   "outputs": [],
   "source": [
    "# The birthday string is converted into a datetime type\n",
    "import datetime\n",
    "skin_data['birthday'] = skin_data.apply(lambda x: datetime.datetime.strptime(x['birthday'], \"%d.%m.%Y\"), axis=1)"
   ]
  },
  {
   "cell_type": "code",
   "execution_count": 18,
   "metadata": {
    "collapsed": false
   },
   "outputs": [
    {
     "data": {
      "text/plain": [
       "0   1983-08-31\n",
       "1   1982-01-08\n",
       "5   1979-11-08\n",
       "6   1985-11-10\n",
       "7   1986-04-04\n",
       "Name: birthday, dtype: datetime64[ns]"
      ]
     },
     "execution_count": 18,
     "metadata": {},
     "output_type": "execute_result"
    }
   ],
   "source": [
    "skin_data['birthday'].head()"
   ]
  },
  {
   "cell_type": "code",
   "execution_count": 19,
   "metadata": {
    "collapsed": false,
    "scrolled": true
   },
   "outputs": [],
   "source": [
    "import datetime as DT\n",
    "now = pd.Timestamp(DT.datetime.now())\n",
    "# We will plot the age in year of the players from their birthday\n",
    "age = skin_data[['birthday']]\n",
    "skin_data['age'] = age.apply(lambda x: int((now - x['birthday']).days/365.25) , axis=1)"
   ]
  },
  {
   "cell_type": "code",
   "execution_count": 20,
   "metadata": {
    "collapsed": false
   },
   "outputs": [
    {
     "data": {
      "image/png": "[encoded data removed]",
      "text/plain": [
       "<matplotlib.figure.Figure at 0x7f5ecbfa0a58>"
      ]
     },
     "metadata": {},
     "output_type": "display_data"
    }
   ],
   "source": [
    "p = sns.countplot(x=\"age\", data=skin_data)"
   ]
  },
  {
   "cell_type": "markdown",
   "metadata": {},
   "source": [
    "Everything seems fine for the date values. Note that this is the distribution for the data non-aggregated by player. So it is reasonable to assume that older players, who have many more interactions with referees, appear many more times in this countplot than younger players, which is why the mean is surprisingly high."
   ]
  },
  {
   "cell_type": "markdown",
   "metadata": {},
   "source": [
    "### League Country"
   ]
  },
  {
   "cell_type": "code",
   "execution_count": 21,
   "metadata": {
    "collapsed": false
   },
   "outputs": [
    {
     "data": {
      "image/png": "[encoded data removed]",
      "text/plain": [
       "<matplotlib.figure.Figure at 0x7f5ecb8cc160>"
      ]
     },
     "metadata": {},
     "output_type": "display_data"
    }
   ],
   "source": [
    "sns.countplot(x=\"leagueCountry\", data=skin_data);"
   ]
  },
  {
   "cell_type": "markdown",
   "metadata": {},
   "source": [
    "### Height"
   ]
  },
  {
   "cell_type": "code",
   "execution_count": 22,
   "metadata": {
    "collapsed": false,
    "scrolled": true
   },
   "outputs": [
    {
     "data": {
      "image/png": "[encoded data removed]",
      "text/plain": [
       "<matplotlib.figure.Figure at 0x7f5ed38e5080>"
      ]
     },
     "metadata": {},
     "output_type": "display_data"
    }
   ],
   "source": [
    "import matplotlib.ticker as ticker\n",
    "f, ax = plt.subplots(figsize=(8,6))\n",
    "heights = skin_data['height'].dropna()\n",
    "plt.hist(heights, bins=20);\n",
    "f.suptitle(\"Height distribution\");"
   ]
  },
  {
   "cell_type": "markdown",
   "metadata": {},
   "source": [
    "There is no outliers and the distribution looks normal."
   ]
  },
  {
   "cell_type": "markdown",
   "metadata": {},
   "source": [
    "### Weight"
   ]
  },
  {
   "cell_type": "code",
   "execution_count": 23,
   "metadata": {
    "collapsed": false
   },
   "outputs": [
    {
     "data": {
      "image/png": "[encoded data removed]",
      "text/plain": [
       "<matplotlib.figure.Figure at 0x7f5ece90dc50>"
      ]
     },
     "metadata": {},
     "output_type": "display_data"
    }
   ],
   "source": [
    "f, ax = plt.subplots(figsize=(8, 6))\n",
    "plt.hist(skin_data.weight.dropna(), bins=20)\n",
    "f.suptitle(\"Weight distribution\");"
   ]
  },
  {
   "cell_type": "markdown",
   "metadata": {},
   "source": [
    "### Position "
   ]
  },
  {
   "cell_type": "code",
   "execution_count": 24,
   "metadata": {
    "collapsed": false
   },
   "outputs": [
    {
     "data": {
      "image/png": "[encoded data removed]",
      "text/plain": [
       "<matplotlib.figure.Figure at 0x7f5ed3824b00>"
      ]
     },
     "metadata": {},
     "output_type": "display_data"
    }
   ],
   "source": [
    "pos = sns.countplot(x=\"position\", data=skin_data);\n",
    "plt.setp(pos.get_xticklabels(), rotation=90);"
   ]
  },
  {
   "cell_type": "code",
   "execution_count": 25,
   "metadata": {
    "collapsed": false
   },
   "outputs": [],
   "source": [
    "missing_values = skin_data['position'].isnull().value_counts()"
   ]
  },
  {
   "cell_type": "code",
   "execution_count": 26,
   "metadata": {
    "collapsed": false
   },
   "outputs": [
    {
     "data": {
      "text/plain": [
       "0.072870515627424276"
      ]
     },
     "execution_count": 26,
     "metadata": {},
     "output_type": "execute_result"
    }
   ],
   "source": [
    "missing_values[1]/missing_values[0]"
   ]
  },
  {
   "cell_type": "markdown",
   "metadata": {},
   "source": [
    "7% of the positions are missing. We will replace them by the most by a category `Missing Position`."
   ]
  },
  {
   "cell_type": "markdown",
   "metadata": {},
   "source": [
    "### Referees"
   ]
  },
  {
   "cell_type": "code",
   "execution_count": 27,
   "metadata": {
    "collapsed": false
   },
   "outputs": [
    {
     "name": "stdout",
     "output_type": "stream",
     "text": [
      "There are 2967 different referees.\n"
     ]
    }
   ],
   "source": [
    "print('There are ' + str(len(skin_data['refNum'].value_counts())) + ' different referees.')"
   ]
  },
  {
   "cell_type": "code",
   "execution_count": 28,
   "metadata": {
    "collapsed": false
   },
   "outputs": [
    {
     "name": "stdout",
     "output_type": "stream",
     "text": [
      "Which come from 155 different countries...\n"
     ]
    }
   ],
   "source": [
    "print('Which come from ' + str(len(skin_data['refCountry'].value_counts())) + ' different countries...')"
   ]
  },
  {
   "cell_type": "markdown",
   "metadata": {},
   "source": [
    "### Standardization, Categorical Features Encoding and Replacing Missing Values"
   ]
  },
  {
   "cell_type": "markdown",
   "metadata": {},
   "source": [
    "We transform each feature into a representation that is more suitable for the machine learning methods. Each feature will be **standardized** if it is a float number (remove mean value, scale dividing by standard deviation) using the `StandardScaler()` function from `sklearn`. If there are missing values, they will be replaced by the mean, which is 0 after applying the StandardScaler. The categorical features will be **encoded** using the `LabelEncoder()` function which converts categorical variable into numerical values. The learning models consider continuous values and don't handle categorical features, but we hope RandomForest will be robust again those values. The missing categorical variables are replaced by `Missing Category`. We discard the name of the player, as well as the photoID and the birthday as it is a one to one relationship with the skin color."
   ]
  },
  {
   "cell_type": "code",
   "execution_count": 29,
   "metadata": {
    "collapsed": false
   },
   "outputs": [],
   "source": [
    "from sklearn.preprocessing import LabelEncoder, StandardScaler, Imputer \n",
    "from sklearn.feature_extraction import DictVectorizer\n",
    "\n",
    "# Replacing missing values for categorical data:\n",
    "skin_data['position'] = skin_data['position'].fillna('Missing Position')\n",
    "# For the Alpha_3 there is only one missing value so we will drop it\n",
    "skin_data = skin_data.dropna(subset=['Alpha_3'])\n",
    "\n",
    "# Features to be standardized\n",
    "stand = ['height', 'weight', 'games', 'victories', 'ties', 'defeats', 'goals', 'yellowCards', 'redCards', \n",
    "         'yellowReds', 'age', 'skin', 'skin_difference', 'rater1', 'rater2']\n",
    "# Categorical features to be encoded\n",
    "cat = ['club', 'leagueCountry', 'position']\n",
    "\n",
    "standardized = skin_data.copy()\n",
    "standardized['skin_nonorm'] = standardized['skin']\n",
    "# Encode categories\n",
    "for c in cat:\n",
    "    standardized[c] = LabelEncoder().fit_transform(standardized[c])\n",
    "\n",
    "# The first function fills the missing values and the second one will apply the standardization \n",
    "for s in stand:\n",
    "    standardized[s] = Imputer(strategy='mean', axis=1).fit_transform(standardized[s])[0]\n",
    "    standardized[s] = StandardScaler().fit_transform(standardized[s])\n",
    "    \n",
    "     \n",
    "# Discard names of players and photoID\n",
    "skin_data_dropped = standardized.drop(labels=['playerShort', 'player', 'photoID', 'birthday', 'Alpha_3'], axis=1)"
   ]
  },
  {
   "cell_type": "code",
   "execution_count": 30,
   "metadata": {
    "collapsed": false,
    "scrolled": true
   },
   "outputs": [
    {
     "data": {
      "text/html": [
       "<div>\n",
       "<table border=\"1\" class=\"dataframe\">\n",
       "  <thead>\n",
       "    <tr style=\"text-align: right;\">\n",
       "      <th></th>\n",
       "      <th>club</th>\n",
       "      <th>leagueCountry</th>\n",
       "      <th>height</th>\n",
       "      <th>weight</th>\n",
       "      <th>position</th>\n",
       "      <th>games</th>\n",
       "      <th>victories</th>\n",
       "      <th>ties</th>\n",
       "      <th>defeats</th>\n",
       "      <th>goals</th>\n",
       "      <th>...</th>\n",
       "      <th>meanIAT</th>\n",
       "      <th>nIAT</th>\n",
       "      <th>seIAT</th>\n",
       "      <th>meanExp</th>\n",
       "      <th>nExp</th>\n",
       "      <th>seExp</th>\n",
       "      <th>skin_difference</th>\n",
       "      <th>skin</th>\n",
       "      <th>age</th>\n",
       "      <th>skin_nonorm</th>\n",
       "    </tr>\n",
       "  </thead>\n",
       "  <tbody>\n",
       "    <tr>\n",
       "      <th>0</th>\n",
       "      <td>70</td>\n",
       "      <td>3</td>\n",
       "      <td>-0.753585</td>\n",
       "      <td>-0.609844</td>\n",
       "      <td>0</td>\n",
       "      <td>-0.557169</td>\n",
       "      <td>-0.714417</td>\n",
       "      <td>-0.625217</td>\n",
       "      <td>0.044463</td>\n",
       "      <td>-0.374371</td>\n",
       "      <td>...</td>\n",
       "      <td>0.326391</td>\n",
       "      <td>712.0</td>\n",
       "      <td>0.000564</td>\n",
       "      <td>0.396000</td>\n",
       "      <td>750.0</td>\n",
       "      <td>0.002696</td>\n",
       "      <td>1.800031</td>\n",
       "      <td>0.317661</td>\n",
       "      <td>0.459019</td>\n",
       "      <td>1.5</td>\n",
       "    </tr>\n",
       "    <tr>\n",
       "      <th>1</th>\n",
       "      <td>51</td>\n",
       "      <td>1</td>\n",
       "      <td>-0.459621</td>\n",
       "      <td>0.785575</td>\n",
       "      <td>12</td>\n",
       "      <td>-0.557169</td>\n",
       "      <td>-0.714417</td>\n",
       "      <td>-0.625217</td>\n",
       "      <td>0.044463</td>\n",
       "      <td>-0.374371</td>\n",
       "      <td>...</td>\n",
       "      <td>0.203375</td>\n",
       "      <td>40.0</td>\n",
       "      <td>0.010875</td>\n",
       "      <td>-0.204082</td>\n",
       "      <td>49.0</td>\n",
       "      <td>0.061504</td>\n",
       "      <td>-0.547478</td>\n",
       "      <td>1.617787</td>\n",
       "      <td>0.687089</td>\n",
       "      <td>3.0</td>\n",
       "    </tr>\n",
       "    <tr>\n",
       "      <th>5</th>\n",
       "      <td>34</td>\n",
       "      <td>0</td>\n",
       "      <td>-0.018675</td>\n",
       "      <td>-0.749386</td>\n",
       "      <td>1</td>\n",
       "      <td>-0.557169</td>\n",
       "      <td>-0.714417</td>\n",
       "      <td>-0.625217</td>\n",
       "      <td>0.044463</td>\n",
       "      <td>-0.374371</td>\n",
       "      <td>...</td>\n",
       "      <td>0.325185</td>\n",
       "      <td>127.0</td>\n",
       "      <td>0.003297</td>\n",
       "      <td>0.538462</td>\n",
       "      <td>130.0</td>\n",
       "      <td>0.013752</td>\n",
       "      <td>1.800031</td>\n",
       "      <td>-0.549090</td>\n",
       "      <td>1.371299</td>\n",
       "      <td>0.5</td>\n",
       "    </tr>\n",
       "    <tr>\n",
       "      <th>6</th>\n",
       "      <td>48</td>\n",
       "      <td>0</td>\n",
       "      <td>0.716234</td>\n",
       "      <td>0.506492</td>\n",
       "      <td>6</td>\n",
       "      <td>-0.557169</td>\n",
       "      <td>-0.182707</td>\n",
       "      <td>-0.625217</td>\n",
       "      <td>-0.658021</td>\n",
       "      <td>-0.374371</td>\n",
       "      <td>...</td>\n",
       "      <td>0.325185</td>\n",
       "      <td>127.0</td>\n",
       "      <td>0.003297</td>\n",
       "      <td>0.538462</td>\n",
       "      <td>130.0</td>\n",
       "      <td>0.013752</td>\n",
       "      <td>1.800031</td>\n",
       "      <td>-0.549090</td>\n",
       "      <td>0.002879</td>\n",
       "      <td>0.5</td>\n",
       "    </tr>\n",
       "    <tr>\n",
       "      <th>7</th>\n",
       "      <td>54</td>\n",
       "      <td>0</td>\n",
       "      <td>-0.312639</td>\n",
       "      <td>-1.168011</td>\n",
       "      <td>4</td>\n",
       "      <td>-0.557169</td>\n",
       "      <td>-0.714417</td>\n",
       "      <td>-0.625217</td>\n",
       "      <td>0.044463</td>\n",
       "      <td>-0.374371</td>\n",
       "      <td>...</td>\n",
       "      <td>0.325185</td>\n",
       "      <td>127.0</td>\n",
       "      <td>0.003297</td>\n",
       "      <td>0.538462</td>\n",
       "      <td>130.0</td>\n",
       "      <td>0.013752</td>\n",
       "      <td>-0.547478</td>\n",
       "      <td>2.484538</td>\n",
       "      <td>-0.225191</td>\n",
       "      <td>4.0</td>\n",
       "    </tr>\n",
       "  </tbody>\n",
       "</table>\n",
       "<p>5 rows × 27 columns</p>\n",
       "</div>"
      ],
      "text/plain": [
       "   club  leagueCountry    height    weight  position     games  victories  \\\n",
       "0    70              3 -0.753585 -0.609844         0 -0.557169  -0.714417   \n",
       "1    51              1 -0.459621  0.785575        12 -0.557169  -0.714417   \n",
       "5    34              0 -0.018675 -0.749386         1 -0.557169  -0.714417   \n",
       "6    48              0  0.716234  0.506492         6 -0.557169  -0.182707   \n",
       "7    54              0 -0.312639 -1.168011         4 -0.557169  -0.714417   \n",
       "\n",
       "       ties   defeats     goals     ...        meanIAT   nIAT     seIAT  \\\n",
       "0 -0.625217  0.044463 -0.374371     ...       0.326391  712.0  0.000564   \n",
       "1 -0.625217  0.044463 -0.374371     ...       0.203375   40.0  0.010875   \n",
       "5 -0.625217  0.044463 -0.374371     ...       0.325185  127.0  0.003297   \n",
       "6 -0.625217 -0.658021 -0.374371     ...       0.325185  127.0  0.003297   \n",
       "7 -0.625217  0.044463 -0.374371     ...       0.325185  127.0  0.003297   \n",
       "\n",
       "    meanExp   nExp     seExp  skin_difference      skin       age  skin_nonorm  \n",
       "0  0.396000  750.0  0.002696         1.800031  0.317661  0.459019          1.5  \n",
       "1 -0.204082   49.0  0.061504        -0.547478  1.617787  0.687089          3.0  \n",
       "5  0.538462  130.0  0.013752         1.800031 -0.549090  1.371299          0.5  \n",
       "6  0.538462  130.0  0.013752         1.800031 -0.549090  0.002879          0.5  \n",
       "7  0.538462  130.0  0.013752        -0.547478  2.484538 -0.225191          4.0  \n",
       "\n",
       "[5 rows x 27 columns]"
      ]
     },
     "execution_count": 30,
     "metadata": {},
     "output_type": "execute_result"
    }
   ],
   "source": [
    "skin_data_dropped.head()"
   ]
  },
  {
   "cell_type": "markdown",
   "metadata": {},
   "source": [
    "# 1. Random Forest Skin Color Regressor"
   ]
  },
  {
   "cell_type": "markdown",
   "metadata": {},
   "source": [
    "**We use Random Forest Regressor and Classifier because darkness of skin reflect a continuous value, we talked about it with Catasta on slack**\n",
    "\n",
    "The most important parameters that can affect the accuracy of the random forest regressor are the number of trees in the forest `n_estimators`, the number of features to consider when looking for a best split `max_features`, the maximum depth of the tree `max_depth` and the minimum number of samples required to be at a leaf node `min_samples_leaf`. There are other parameters but we will have a closer look at those ones."
   ]
  },
  {
   "cell_type": "markdown",
   "metadata": {},
   "source": [
    "We seperate the data between the features used for prediction and the target features (skin). We need to drop the `rater1`, `rater2`, `skin` and `skin_difference` values as we want to predict the `skin`."
   ]
  },
  {
   "cell_type": "code",
   "execution_count": 31,
   "metadata": {
    "collapsed": false
   },
   "outputs": [],
   "source": [
    "to_predict = ['rater1', 'rater2', 'skin', 'skin_difference', 'skin_nonorm']\n",
    "data = skin_data_dropped.drop(labels=to_predict, axis=1)\n",
    "features = data.columns\n",
    "# Skin to predict\n",
    "# skin_nonorm is transformed to integer values, which is useful for later tasks\n",
    "target = skin_data_dropped.skin_nonorm.apply(lambda x: x*2).values.ravel() \n"
   ]
  },
  {
   "cell_type": "markdown",
   "metadata": {},
   "source": [
    "First, all the columns will be used to train the Random Forest Classifier."
   ]
  },
  {
   "cell_type": "markdown",
   "metadata": {},
   "source": [
    "### n_estimators\n",
    "We will test the accuracy of the model for different number of trees. We use 5-folds cross validation to measure the accuracy of the predictive model, we use the mean of the accuracy over the 5 folds to tune the parameters."
   ]
  },
  {
   "cell_type": "code",
   "execution_count": 32,
   "metadata": {
    "collapsed": false
   },
   "outputs": [],
   "source": [
    "from sklearn.metrics import accuracy_score\n",
    "from sklearn import model_selection"
   ]
  },
  {
   "cell_type": "code",
   "execution_count": 33,
   "metadata": {
    "collapsed": false
   },
   "outputs": [],
   "source": [
    "number_trees = [5,10,20,50,100,200]\n",
    "accuracy = []\n",
    "\n",
    "for t in number_trees:\n",
    "    tree = RandomForestRegressor(n_estimators=t)\n",
    "    scores = model_selection.cross_val_score(tree, data, target, cv=5)\n",
    "    accuracy.append(scores.mean())"
   ]
  },
  {
   "cell_type": "code",
   "execution_count": 34,
   "metadata": {
    "collapsed": false
   },
   "outputs": [
    {
     "data": {
      "image/png": "[encoded data removed]",
      "text/plain": [
       "<matplotlib.figure.Figure at 0x7f5ed3824ac8>"
      ]
     },
     "metadata": {},
     "output_type": "display_data"
    }
   ],
   "source": [
    "plt.plot(number_trees, accuracy);"
   ]
  },
  {
   "cell_type": "markdown",
   "metadata": {},
   "source": [
    "Higher number of trees will avoid overfitting (because the model takes the maximum voting of predictions) and give more stable predictions but it takes the model longer to fit the data."
   ]
  },
  {
   "cell_type": "markdown",
   "metadata": {},
   "source": [
    "However, notice that this accuracy is impossibly high, which makes sense when we consider that each player appears multiple times in the dataset, due to their presence in multiple dyads. So players will be recognised due to their almost unique personal characteristics (e.g. height, weight, age, position, club). "
   ]
  },
  {
   "cell_type": "markdown",
   "metadata": {},
   "source": [
    "### Rethinking the data - aggregation"
   ]
  },
  {
   "cell_type": "markdown",
   "metadata": {},
   "source": [
    "In order to get more reasonable results and train our model to recognise unseen players, we group on each player and aggregate the information."
   ]
  },
  {
   "cell_type": "markdown",
   "metadata": {},
   "source": [
    "We can add some other features on top of the aggregated means of these columns"
   ]
  },
  {
   "cell_type": "code",
   "execution_count": 35,
   "metadata": {
    "collapsed": true
   },
   "outputs": [],
   "source": [
    "# Weighted means of the meanIAT and meanExp measures\n",
    "standardized['weightMeanIAT'] = standardized.meanIAT * standardized.nIAT / standardized.nIAT.sum()\n",
    "standardized['weightMeanExp'] = standardized.meanExp * standardized.nExp / standardized.nExp.sum()\n",
    "unique_count = lambda df: len(df.unique())\n",
    "agg_stderr = lambda df: math.sqrt(np.mean(df**2))"
   ]
  },
  {
   "cell_type": "code",
   "execution_count": 36,
   "metadata": {
    "collapsed": false
   },
   "outputs": [],
   "source": [
    "f = {'skin': 'mean', 'skin_difference': 'mean', 'skin_nonorm': 'mean', 'meanIAT': 'mean', 'meanExp': 'mean', \n",
    "     'weight': 'mean', 'height': 'mean', 'age': 'mean', 'games': 'mean', 'victories': 'mean', 'ties': 'mean', \n",
    "     'defeats': 'mean', 'goals': 'mean', 'yellowCards': 'mean', 'yellowReds': 'mean', 'redCards': 'mean', \n",
    "     'refNum': unique_count, 'refCountry': unique_count, 'seIAT': agg_stderr, 'seExp': agg_stderr, \n",
    "     'weightMeanIAT': 'mean', 'weightMeanExp': 'mean', 'position': 'mean'}"
   ]
  },
  {
   "cell_type": "code",
   "execution_count": 37,
   "metadata": {
    "collapsed": false
   },
   "outputs": [],
   "source": [
    "grouped = standardized.groupby('playerShort').agg(f)"
   ]
  },
  {
   "cell_type": "markdown",
   "metadata": {},
   "source": [
    "Let's split the data into the feature set and the target data.\n",
    "\n",
    "We convert here the skin values to integers in $[0..8]$, so if we compare it with a classifier, we have a total of 9 classes."
   ]
  },
  {
   "cell_type": "code",
   "execution_count": 38,
   "metadata": {
    "collapsed": false
   },
   "outputs": [],
   "source": [
    "to_predict = ['skin', 'skin_difference', 'skin_nonorm']\n",
    "# Skin to predict\n",
    "target = grouped.skin_nonorm.apply(lambda x: x*2).values.ravel() \n",
    "\n",
    "# Features\n",
    "data = grouped.drop(labels=to_predict, axis=1)\n",
    "features = data.columns\n"
   ]
  },
  {
   "cell_type": "markdown",
   "metadata": {},
   "source": [
    "### Feature correlation matrix"
   ]
  },
  {
   "cell_type": "markdown",
   "metadata": {},
   "source": [
    "Before looking into training and tuning the model, it is interesting to look at the relations between features. To this end, we plotted a feature-correlation matrix."
   ]
  },
  {
   "cell_type": "code",
   "execution_count": 39,
   "metadata": {
    "collapsed": true
   },
   "outputs": [],
   "source": [
    "def correlation_matrix(df, title):\n",
    "    \"\"\"Plot the pairwise correlations in df\"\"\"\n",
    "    sns.set(style=\"white\")\n",
    "    corr = df.corr(method='pearson')\n",
    " \n",
    "    # Generate a mask for the upper triangle \n",
    "    mask = np.zeros_like(corr, dtype=np.bool)\n",
    "    mask[np.triu_indices_from(mask)] = True\n",
    " \n",
    "    # Set up the matplotlib figure \n",
    "    f, ax = plt.subplots(figsize=(11, 9))\n",
    " \n",
    "    # Generate a custom diverging colormap \n",
    "    cmap = sns.diverging_palette(220, 10, as_cmap=True)\n",
    " \n",
    "    # Draw the heatmap with the mask and correct aspect ratio \n",
    "    sns.heatmap(corr, mask=mask, cmap=cmap, vmax=1.0, square=True,\n",
    "                linewidths=.5, cbar_kws={\"shrink\": .8}, ax=ax)\n",
    " \n",
    "    # Rename the labels (movement_activity_i -> mi, stationarity_i -> si) \n",
    "    curr_labels = [item.get_text() for item in ax.get_xticklabels()]\n",
    "    split_labels = [str.split(label, '_') for label in curr_labels]\n",
    "    labels = [lst[0][0]+lst[-1] for lst in split_labels] # shortening the name \n",
    "    ax.set_xticklabels(labels)\n",
    "    ax.set_yticklabels(reversed(labels))\n",
    " \n",
    "    # Set title \n",
    "    f.suptitle(title, fontsize=18)"
   ]
  },
  {
   "cell_type": "code",
   "execution_count": 40,
   "metadata": {
    "collapsed": false
   },
   "outputs": [
    {
     "data": {
      "image/png": "[encoded data removed]",
      "text/plain": [
       "<matplotlib.figure.Figure at 0x7f5edc290860>"
      ]
     },
     "metadata": {},
     "output_type": "display_data"
    }
   ],
   "source": [
    "correlation_matrix(data, \"Feature correlation matrix\")"
   ]
  },
  {
   "cell_type": "markdown",
   "metadata": {},
   "source": [
    "Some of the features show an obvious correlation with others (e.g. `games` has a strong positive correlation with `ties`, `victories`, `defeats`). Other than these obvious connections, the correlation matrix doesn't show any surprising correlations."
   ]
  },
  {
   "cell_type": "markdown",
   "metadata": {},
   "source": [
    "### `n_estimators` with aggregated data"
   ]
  },
  {
   "cell_type": "markdown",
   "metadata": {},
   "source": [
    "With the grouping on players and aggregation of the features done, let's recompute the score with varying `n_estimators` parameter for our `RandomForestRegressor`."
   ]
  },
  {
   "cell_type": "code",
   "execution_count": 41,
   "metadata": {
    "collapsed": false
   },
   "outputs": [],
   "source": [
    "number_trees = [1,5,10,20,50,100,200]\n",
    "score = []\n",
    "\n",
    "for t in number_trees:\n",
    "    tree = RandomForestRegressor(n_estimators=t)\n",
    "    scores = model_selection.cross_val_score(tree, data, target, cv=5)\n",
    "    score.append(scores.mean())"
   ]
  },
  {
   "cell_type": "code",
   "execution_count": 42,
   "metadata": {
    "collapsed": false
   },
   "outputs": [
    {
     "data": {
      "image/png": "[encoded data removed]",
      "text/plain": [
       "<matplotlib.figure.Figure at 0x7f5ed04c1978>"
      ]
     },
     "metadata": {},
     "output_type": "display_data"
    }
   ],
   "source": [
    "plt.plot(number_trees, score)\n",
    "plt.suptitle(\"n_estimators\");"
   ]
  },
  {
   "cell_type": "markdown",
   "metadata": {},
   "source": [
    "The negative score can seem alarming at first, but `RandomForestRegressor`'s `score` function computes the score differently than that of a `RandomForestClassifier`, as is explained in the [doc](http://scikit-learn.org/stable/modules/generated/sklearn.ensemble.RandomForestRegressor.html#sklearn.ensemble.RandomForestRegressor.score). It uses the $R^2$ regression score function (aka coefficient of determination). \n",
    "\n",
    "The negative score values indicate that there is a constant model that performs better than ours, with low values of `n_estimators`, which is understandable given the distribution of our data (many more white players than not).\n",
    "\n",
    "From the progression of the accuracy here, we can see that a good value for `n_estimators` is 100."
   ]
  },
  {
   "cell_type": "markdown",
   "metadata": {},
   "source": [
    "### Random Forest accuracy\n",
    "In order to better understand the performance of our Regressor, we can convert the output so that it corresponds to that of a classifier."
   ]
  },
  {
   "cell_type": "code",
   "execution_count": 43,
   "metadata": {
    "collapsed": true
   },
   "outputs": [],
   "source": [
    "def predict_class_from_reg(model, X, y, test):\n",
    "    \"\"\"Returns the predictions of a RandomForestRegressor rounded so as to have classes as output.\"\"\"\n",
    "    model.fit(X, y)\n",
    "    predictions = model.predict(test)\n",
    "    return np.around(predictions)"
   ]
  },
  {
   "cell_type": "code",
   "execution_count": 44,
   "metadata": {
    "collapsed": true
   },
   "outputs": [],
   "source": [
    "def rf_accuracy(model, data, target):\n",
    "    \"\"\"Returns the accuracy of a model over a split.\n",
    "    Rounds the predictions to the \"\"\"\n",
    "    x_train, x_test, y_train, y_test = model_selection.train_test_split(data, target, test_size=0.1, random_state=42)\n",
    "    rounded_pred = predict_class_from_reg(model, x_train, y_train, x_test)\n",
    "    return np.sum(np.equal(rounded_pred, y_test)) / float(len(y_test))"
   ]
  },
  {
   "cell_type": "code",
   "execution_count": 47,
   "metadata": {
    "collapsed": false
   },
   "outputs": [
    {
     "data": {
      "image/png": "[encoded data removed]",
      "text/plain": [
       "<matplotlib.figure.Figure at 0x7f5ed38c6eb8>"
      ]
     },
     "metadata": {},
     "output_type": "display_data"
    }
   ],
   "source": [
    "number_trees = [5,10,20,50,100,200]\n",
    "accuracy = []\n",
    "\n",
    "for t in number_trees:\n",
    "    tree = RandomForestRegressor(n_estimators=t)\n",
    "    accuracy.append(rf_accuracy(tree, data, target))\n",
    "\n",
    "plt.plot(number_trees, accuracy)\n",
    "plt.suptitle(\"RF accuracy with different n_estimators\");"
   ]
  },
  {
   "cell_type": "markdown",
   "metadata": {},
   "source": [
    "*Note* that this is the result of only one train-test split, so not a viable judge for determining stable and efficient parameters. This is noticeable by running the cell above several times, and we see the shape of the curve change quite a lot. The result of the actual score plotted previously is far more reliable."
   ]
  },
  {
   "cell_type": "markdown",
   "metadata": {},
   "source": [
    "### max_features\n",
    "As default, the number of features to consider when looking for the best split is equal to the square root of the number of features. We will test it with different values between 1 and the number of features."
   ]
  },
  {
   "cell_type": "code",
   "execution_count": 67,
   "metadata": {
    "collapsed": false
   },
   "outputs": [],
   "source": [
    "max_features = range(1,len(features)+1)\n",
    "score = []\n",
    "\n",
    "for m in max_features:\n",
    "    tree = RandomForestRegressor(n_estimators=100, max_features=m)\n",
    "    scores = model_selection.cross_val_score(tree, data, target, cv=10)\n",
    "    score.append(scores.mean())"
   ]
  },
  {
   "cell_type": "code",
   "execution_count": 68,
   "metadata": {
    "collapsed": false
   },
   "outputs": [
    {
     "data": {
      "image/png": "[encoded data removed]",
      "text/plain": [
       "<matplotlib.figure.Figure at 0x7f5ed36712e8>"
      ]
     },
     "metadata": {},
     "output_type": "display_data"
    }
   ],
   "source": [
    "plt.plot(max_features, score);"
   ]
  },
  {
   "cell_type": "markdown",
   "metadata": {},
   "source": [
    "A good and stable choice for max_features seems to be 5.\n"
   ]
  },
  {
   "cell_type": "markdown",
   "metadata": {},
   "source": [
    "### max_depth\n",
    "The maximum depth of the tree. If None, then nodes are expanded until all leaves are pure. We compute the score for several depths, including the default value (indicated by `None`)."
   ]
  },
  {
   "cell_type": "code",
   "execution_count": 50,
   "metadata": {
    "collapsed": false
   },
   "outputs": [],
   "source": [
    "# None included to compute \n",
    "max_depths = [1,5,10,20,50,75]\n",
    "accuracy = []\n",
    "\n",
    "for d in max_depths:\n",
    "    tree = RandomForestRegressor(n_estimators=100, max_features=5, max_depth=d)\n",
    "    scores = model_selection.cross_val_score(tree, data, target, cv=10)\n",
    "    accuracy.append(scores.mean())"
   ]
  },
  {
   "cell_type": "code",
   "execution_count": 51,
   "metadata": {
    "collapsed": false
   },
   "outputs": [],
   "source": [
    "tree = RandomForestRegressor(n_estimators=100, max_features=5, max_depth=None)\n",
    "scores = model_selection.cross_val_score(tree, data, target, cv=10)\n",
    "accuracy.append(scores.mean())"
   ]
  },
  {
   "cell_type": "code",
   "execution_count": 52,
   "metadata": {
    "collapsed": false
   },
   "outputs": [
    {
     "data": {
      "image/png": "[encoded data removed]",
      "text/plain": [
       "<matplotlib.figure.Figure at 0x7f5ed4a59048>"
      ]
     },
     "metadata": {},
     "output_type": "display_data"
    }
   ],
   "source": [
    "max_depths.append(100) # 100 represents the default value\n",
    "plt.plot(max_depths, accuracy);"
   ]
  },
  {
   "cell_type": "markdown",
   "metadata": {},
   "source": [
    "In our case, there is no overfitting problem with a tree having pure nodes. We will keep the default value."
   ]
  },
  {
   "cell_type": "code",
   "execution_count": 53,
   "metadata": {
    "collapsed": false
   },
   "outputs": [
    {
     "data": {
      "text/plain": [
       "0.28930817610062892"
      ]
     },
     "execution_count": 53,
     "metadata": {},
     "output_type": "execute_result"
    }
   ],
   "source": [
    "rf_accuracy(RandomForestRegressor(n_estimators=100, max_features=5, max_depth=None), data, target)"
   ]
  },
  {
   "cell_type": "markdown",
   "metadata": {},
   "source": [
    "### min_samples_leaf\n",
    "The minimum number of samples required to be at a leaf node."
   ]
  },
  {
   "cell_type": "code",
   "execution_count": 58,
   "metadata": {
    "collapsed": false
   },
   "outputs": [],
   "source": [
    "min_samples = [1,2,3,4,5,10,20]\n",
    "accuracy = []\n",
    "\n",
    "for s in min_samples:\n",
    "    tree = RandomForestRegressor(n_estimators=100, max_features=5, min_samples_leaf=s)\n",
    "    scores = model_selection.cross_val_score(tree, data, target, cv=5)\n",
    "    accuracy.append(scores.mean())"
   ]
  },
  {
   "cell_type": "code",
   "execution_count": 59,
   "metadata": {
    "collapsed": false
   },
   "outputs": [
    {
     "data": {
      "image/png": "[encoded data removed]",
      "text/plain": [
       "<matplotlib.figure.Figure at 0x7f5ed4a98e80>"
      ]
     },
     "metadata": {},
     "output_type": "display_data"
    }
   ],
   "source": [
    "plt.plot(min_samples, accuracy);"
   ]
  },
  {
   "cell_type": "markdown",
   "metadata": {},
   "source": [
    "If less than 3 samples are in a leaf the model is overfitting and if more than 3 are in a leaf node it is underfitting."
   ]
  },
  {
   "cell_type": "code",
   "execution_count": 60,
   "metadata": {
    "collapsed": false
   },
   "outputs": [
    {
     "data": {
      "image/png": "[encoded data removed]",
      "text/plain": [
       "<matplotlib.figure.Figure at 0x7f5ed4a987b8>"
      ]
     },
     "metadata": {},
     "output_type": "display_data"
    }
   ],
   "source": [
    "accuracy = []\n",
    "\n",
    "for t in min_samples:\n",
    "    tree = RandomForestRegressor(n_estimators=100, max_features=5, min_samples_leaf=s)\n",
    "    accuracy.append(rf_accuracy(tree, data, target))\n",
    "\n",
    "plt.plot(min_samples, accuracy)\n",
    "plt.suptitle(\"RF accuracy with different min_samples_leaf\");"
   ]
  },
  {
   "cell_type": "markdown",
   "metadata": {},
   "source": [
    "### Feature importance of the trained model\n",
    "\n",
    "Now we will have a look at the features sorted by their score in the tree with the tuned parameter we found."
   ]
  },
  {
   "cell_type": "code",
   "execution_count": 61,
   "metadata": {
    "collapsed": true
   },
   "outputs": [],
   "source": [
    "def features_importance_rf(X, y, rf, print_=True, plot=True):\n",
    "    \"\"\"Print and plot the top features importances in X using the rf classifier.\n",
    "    Returns columns names in order of increasing importance\"\"\"\n",
    "    rf.fit(X, y)\n",
    " \n",
    "    importances = rf.feature_importances_\n",
    "    std = np.std([tree.feature_importances_ for tree in rf.estimators_], axis=0)\n",
    "    indices = np.argsort(importances)[::-1]\n",
    " \n",
    "    cols = X.columns\n",
    "    ord_cols = []\n",
    "    # Print the feature ranking \n",
    "    if print_:\n",
    "        print(\"Feature ranking:\")\n",
    " \n",
    "        for f in range(X.shape[1]):\n",
    "            print(\"%d. feature n° %d %s (%f)\" % (f + 1, indices[f], cols[indices[f]], importances[indices[f]]))\n",
    "            ord_cols.append(cols[indices[f]])\n",
    "    else:\n",
    "        for f in range(X.shape[1]):\n",
    "            ord_cols.append(cols[indices[f]])  \n",
    " \n",
    "    # Plot the feature importance \n",
    "    if plot:\n",
    "        plt.subplots(figsize=(8,6))\n",
    "        plt.suptitle(\"Feature importance\", fontsize=18)\n",
    "        plt.bar(range(X.shape[1]), importances[indices],\n",
    "               color=\"r\", yerr=std[indices], align=\"center\")\n",
    "        plt.xticks(range(X.shape[1]), indices)\n",
    "        plt.xlim([-1, X.shape[1]])\n",
    "        plt.show()\n",
    "        \n",
    "    # Compute accuracy\n",
    "    print(\"Accuracy:\", rf_accuracy(rf, X, y))\n",
    " \n",
    "    return ord_cols"
   ]
  },
  {
   "cell_type": "markdown",
   "metadata": {},
   "source": [
    "The red bars in the plot represent the feature importance of the trees and the blue lines are the inter-tree variability."
   ]
  },
  {
   "cell_type": "code",
   "execution_count": 62,
   "metadata": {
    "collapsed": false
   },
   "outputs": [
    {
     "name": "stdout",
     "output_type": "stream",
     "text": [
      "Feature ranking:\n",
      "1. feature n° 5 seExp (0.110862)\n",
      "2. feature n° 8 meanExp (0.095803)\n",
      "3. feature n° 1 meanIAT (0.094742)\n",
      "4. feature n° 9 seIAT (0.090608)\n",
      "5. feature n° 13 victories (0.054685)\n",
      "6. feature n° 17 refNum (0.051728)\n",
      "7. feature n° 4 goals (0.047240)\n",
      "8. feature n° 14 yellowCards (0.044607)\n",
      "9. feature n° 7 ties (0.042985)\n",
      "10. feature n° 18 games (0.041582)\n",
      "11. feature n° 12 defeats (0.038720)\n",
      "12. feature n° 0 redCards (0.037084)\n",
      "13. feature n° 10 refCountry (0.036833)\n",
      "14. feature n° 16 height (0.034029)\n",
      "15. feature n° 15 position (0.033343)\n",
      "16. feature n° 2 age (0.032929)\n",
      "17. feature n° 3 weight (0.030328)\n",
      "18. feature n° 19 weightMeanIAT (0.029239)\n",
      "19. feature n° 11 weightMeanExp (0.028919)\n",
      "20. feature n° 6 yellowReds (0.023734)\n"
     ]
    },
    {
     "data": {
      "image/png": "[encoded data removed]",
      "text/plain": [
       "<matplotlib.figure.Figure at 0x7f5ed49fab70>"
      ]
     },
     "metadata": {},
     "output_type": "display_data"
    },
    {
     "name": "stdout",
     "output_type": "stream",
     "text": [
      "Accuracy: 0.270440251572\n"
     ]
    }
   ],
   "source": [
    "rf = RandomForestRegressor(n_estimators=100, max_features=5, min_samples_leaf=3)\n",
    "out = features_importance_rf(data, target, rf)"
   ]
  },
  {
   "cell_type": "markdown",
   "metadata": {},
   "source": [
    "The four highest ranked features are the aggregated standard errors and mean scores of the explicit and implicit racism tests. We can also see that these four features have the highest inter-tree variability. \n",
    "\n",
    "Let's see what happens if we remove these top four features."
   ]
  },
  {
   "cell_type": "code",
   "execution_count": 63,
   "metadata": {
    "collapsed": false
   },
   "outputs": [
    {
     "name": "stdout",
     "output_type": "stream",
     "text": [
      "Feature ranking:\n",
      "1. feature n° 9 victories (0.090273)\n",
      "2. feature n° 10 yellowCards (0.083894)\n",
      "3. feature n° 3 goals (0.082003)\n",
      "4. feature n° 6 refCountry (0.080861)\n",
      "5. feature n° 13 refNum (0.079662)\n",
      "6. feature n° 14 games (0.072551)\n",
      "7. feature n° 8 defeats (0.067460)\n",
      "8. feature n° 5 ties (0.066681)\n",
      "9. feature n° 0 redCards (0.055092)\n",
      "10. feature n° 12 height (0.054696)\n",
      "11. feature n° 2 weight (0.054524)\n",
      "12. feature n° 7 weightMeanExp (0.046270)\n",
      "13. feature n° 11 position (0.043336)\n",
      "14. feature n° 1 age (0.041942)\n",
      "15. feature n° 15 weightMeanIAT (0.040990)\n",
      "16. feature n° 4 yellowReds (0.039764)\n"
     ]
    },
    {
     "data": {
      "image/png": "[encoded data removed]",
      "text/plain": [
       "<matplotlib.figure.Figure at 0x7f5ed388c4a8>"
      ]
     },
     "metadata": {},
     "output_type": "display_data"
    },
    {
     "name": "stdout",
     "output_type": "stream",
     "text": [
      "Accuracy: 0.220125786164\n"
     ]
    }
   ],
   "source": [
    "reduced_data = data.drop(out[:4], axis=1)\n",
    "rf_red = RandomForestRegressor(n_estimators=100, max_features=5, min_samples_leaf=3)\n",
    "red_out = features_importance_rf(reduced_data, target, rf_red)"
   ]
  },
  {
   "cell_type": "markdown",
   "metadata": {},
   "source": [
    "So by removing the features with highest importance, we get an accuracy of about $16\\%$ instead of $26\\%$. Even though the importance measures (red bars) increased slightly, the order of the feature importances measured seem quite stable."
   ]
  },
  {
   "cell_type": "markdown",
   "metadata": {},
   "source": [
    "### Confusion Matrix\n",
    "\n",
    "With the help of a confusion matrix, we can look at the way our 'classifier' (rounded regressor predictions) labels the OOB objects it receives."
   ]
  },
  {
   "cell_type": "code",
   "execution_count": 64,
   "metadata": {
    "collapsed": true
   },
   "outputs": [],
   "source": [
    "from sklearn.metrics import confusion_matrix\n",
    "import itertools"
   ]
  },
  {
   "cell_type": "code",
   "execution_count": 65,
   "metadata": {
    "collapsed": true
   },
   "outputs": [],
   "source": [
    "def plot_confusion_matrix(cm, classes, title='Confusion matrix', cmap=plt.cm.Blues):\n",
    "    \"\"\"\n",
    "    This function prints and plots the confusion matrix.\n",
    "    Normalization can be applied by setting `normalize=True`.\n",
    "    \"\"\"\n",
    "    plt.imshow(cm, interpolation='nearest', cmap=cmap)\n",
    "    plt.title(title)\n",
    "    plt.colorbar()\n",
    "    tick_marks = np.arange(len(classes))\n",
    "    plt.xticks(tick_marks, classes, rotation=45)\n",
    "    plt.yticks(tick_marks, classes)\n",
    "    np.set_printoptions(precision=2)\n",
    "    \n",
    "    thresh = cm.max() / 2.\n",
    "    for i, j in itertools.product(range(cm.shape[0]), range(cm.shape[1])):\n",
    "        plt.text(j, i, cm[i, j],\n",
    "                 horizontalalignment=\"center\",\n",
    "                 color=\"white\" if cm[i, j] > thresh else \"black\")\n",
    "\n",
    "    plt.tight_layout()\n",
    "    plt.ylabel('True label')\n",
    "    plt.xlabel('Predicted label')"
   ]
  },
  {
   "cell_type": "code",
   "execution_count": 66,
   "metadata": {
    "collapsed": false
   },
   "outputs": [
    {
     "data": {
      "image/png": "[encoded data removed]",
      "text/plain": [
       "<matplotlib.figure.Figure at 0x7f5f12db7eb8>"
      ]
     },
     "metadata": {},
     "output_type": "display_data"
    }
   ],
   "source": [
    "# Our model with best parameters according to our previous tests\n",
    "rf = RandomForestRegressor(n_estimators=100, max_features=5, min_samples_leaf=3)\n",
    "# Data split \n",
    "x_train, x_test, y_train, y_test = model_selection.train_test_split(data, target, test_size=0.2)\n",
    "predictions = predict_class_from_reg(rf, x_train, y_train, x_test)\n",
    "cm = confusion_matrix(y_test, predictions)\n",
    "classes = np.unique(y_test)\n",
    "plot_confusion_matrix(cm, classes)"
   ]
  },
  {
   "cell_type": "markdown",
   "metadata": {},
   "source": [
    "Our model performs best at predicting players with skin-tone $2.0$ (average rater score of $0.25$ on the original scale). It is also noticeably worse at classifying dark-skinned players than light-skinned ones, which is understandable given the skewed nature of our data (i.e. many more white players present in the set)."
   ]
  },
  {
   "cell_type": "markdown",
   "metadata": {},
   "source": [
    "# Bonus"
   ]
  },
  {
   "cell_type": "code",
   "execution_count": 78,
   "metadata": {
    "collapsed": true
   },
   "outputs": [],
   "source": [
    "def plot_learning_curve(estimator, title, X, y, ylim=None, cv=None, n_jobs=1, train_sizes=np.linspace(.1, 1.0, 5)):\n",
    "    \"\"\"Generate a simple plot of the test and training learning curve.\"\"\"\n",
    "    plt.figure()\n",
    "    plt.title(title)\n",
    "    if ylim is not None:\n",
    "        plt.ylim(*ylim)\n",
    "    plt.xlabel(\"Training examples\")\n",
    "    plt.ylabel(\"Score\")\n",
    "    train_sizes, train_scores, test_scores = model_selection.learning_curve(\n",
    "        estimator, X, y, cv=cv, n_jobs=n_jobs, train_sizes=train_sizes)\n",
    "    train_scores_mean = np.mean(train_scores, axis=1)\n",
    "    train_scores_std = np.std(train_scores, axis=1)\n",
    "    test_scores_mean = np.mean(test_scores, axis=1)\n",
    "    test_scores_std = np.std(test_scores, axis=1)\n",
    "    plt.grid()\n",
    "\n",
    "    plt.fill_between(train_sizes, train_scores_mean - train_scores_std,\n",
    "                     train_scores_mean + train_scores_std, alpha=0.1,\n",
    "                     color=\"r\")\n",
    "    plt.fill_between(train_sizes, test_scores_mean - test_scores_std, \n",
    "                     test_scores_mean + test_scores_std, alpha=0.1, color=\"g\")\n",
    "    plt.plot(train_sizes, train_scores_mean, 'o-', color=\"r\", label=\"Training score\")\n",
    "    plt.plot(train_sizes, test_scores_mean, 'o-', color=\"g\", label=\"Cross-validation score\")\n",
    "\n",
    "    plt.legend(loc=\"best\")\n",
    "    return plt"
   ]
  },
  {
   "cell_type": "code",
   "execution_count": 84,
   "metadata": {
    "collapsed": false
   },
   "outputs": [
    {
     "data": {
      "text/plain": [
       "<module 'matplotlib.pyplot' from '/home/alexis/Applications/anaconda3/lib/python3.5/site-packages/matplotlib/pyplot.py'>"
      ]
     },
     "execution_count": 84,
     "metadata": {},
     "output_type": "execute_result"
    },
    {
     "data": {
      "image/png": "[encoded data removed]",
      "text/plain": [
       "<matplotlib.figure.Figure at 0x7f5ed481ca58>"
      ]
     },
     "metadata": {},
     "output_type": "display_data"
    }
   ],
   "source": [
    "cv = model_selection.ShuffleSplit(n_splits=100, test_size=0.2, random_state=0)\n",
    "title = \"Learning curve\"\n",
    "rf = RandomForestClassifier(n_estimators=100, max_features=5, min_samples_leaf=3)\n",
    "plot_learning_curve(rf, title, data, target, \n",
    "                    cv=cv, n_jobs=4)"
   ]
  },
  {
   "cell_type": "markdown",
   "metadata": {
    "collapsed": true
   },
   "source": [
    "# 2. Clustering"
   ]
  },
  {
   "cell_type": "markdown",
   "metadata": {},
   "source": [
    "We group the referee informations by player and only keep the columns that are relevant, the order is useful because it will be the one used when iteratively removing features"
   ]
  },
  {
   "cell_type": "code",
   "execution_count": 136,
   "metadata": {
    "collapsed": false
   },
   "outputs": [
    {
     "data": {
      "text/html": [
       "<div>\n",
       "<table border=\"1\" class=\"dataframe\">\n",
       "  <thead>\n",
       "    <tr style=\"text-align: right;\">\n",
       "      <th></th>\n",
       "      <th>skin</th>\n",
       "      <th>skin_difference</th>\n",
       "      <th>meanIAT</th>\n",
       "      <th>meanExp</th>\n",
       "      <th>weight</th>\n",
       "      <th>height</th>\n",
       "      <th>games</th>\n",
       "      <th>victories</th>\n",
       "      <th>ties</th>\n",
       "      <th>defeats</th>\n",
       "      <th>goals</th>\n",
       "      <th>yellowCards</th>\n",
       "      <th>yellowReds</th>\n",
       "      <th>redCards</th>\n",
       "      <th>skin_nonorm</th>\n",
       "    </tr>\n",
       "    <tr>\n",
       "      <th>playerShort</th>\n",
       "      <th></th>\n",
       "      <th></th>\n",
       "      <th></th>\n",
       "      <th></th>\n",
       "      <th></th>\n",
       "      <th></th>\n",
       "      <th></th>\n",
       "      <th></th>\n",
       "      <th></th>\n",
       "      <th></th>\n",
       "      <th></th>\n",
       "      <th></th>\n",
       "      <th></th>\n",
       "      <th></th>\n",
       "      <th></th>\n",
       "    </tr>\n",
       "  </thead>\n",
       "  <tbody>\n",
       "    <tr>\n",
       "      <th>aaron-hughes</th>\n",
       "      <td>-0.549090</td>\n",
       "      <td>1.800031</td>\n",
       "      <td>0.346459</td>\n",
       "      <td>0.494575</td>\n",
       "      <td>-0.749386</td>\n",
       "      <td>-0.018675</td>\n",
       "      <td>0.263530</td>\n",
       "      <td>0.076741</td>\n",
       "      <td>0.317084</td>\n",
       "      <td>0.306836</td>\n",
       "      <td>-0.316979</td>\n",
       "      <td>-0.346780</td>\n",
       "      <td>-0.108671</td>\n",
       "      <td>-0.112016</td>\n",
       "      <td>0.5</td>\n",
       "    </tr>\n",
       "    <tr>\n",
       "      <th>aaron-hunt</th>\n",
       "      <td>-0.549090</td>\n",
       "      <td>1.800031</td>\n",
       "      <td>0.348818</td>\n",
       "      <td>0.449220</td>\n",
       "      <td>-0.470302</td>\n",
       "      <td>0.128306</td>\n",
       "      <td>0.111152</td>\n",
       "      <td>0.042866</td>\n",
       "      <td>0.019149</td>\n",
       "      <td>0.207666</td>\n",
       "      <td>0.288572</td>\n",
       "      <td>0.030080</td>\n",
       "      <td>-0.108671</td>\n",
       "      <td>-0.023386</td>\n",
       "      <td>0.5</td>\n",
       "    </tr>\n",
       "    <tr>\n",
       "      <th>aaron-lennon</th>\n",
       "      <td>-0.115715</td>\n",
       "      <td>-0.547478</td>\n",
       "      <td>0.345893</td>\n",
       "      <td>0.491482</td>\n",
       "      <td>-1.865721</td>\n",
       "      <td>-2.517367</td>\n",
       "      <td>0.302460</td>\n",
       "      <td>0.338473</td>\n",
       "      <td>0.214040</td>\n",
       "      <td>0.141837</td>\n",
       "      <td>-0.049463</td>\n",
       "      <td>-0.353528</td>\n",
       "      <td>-0.108671</td>\n",
       "      <td>-0.112016</td>\n",
       "      <td>1.0</td>\n",
       "    </tr>\n",
       "    <tr>\n",
       "      <th>aaron-ramsey</th>\n",
       "      <td>-0.982466</td>\n",
       "      <td>-0.547478</td>\n",
       "      <td>0.346821</td>\n",
       "      <td>0.514693</td>\n",
       "      <td>-0.051676</td>\n",
       "      <td>-0.606603</td>\n",
       "      <td>-0.138411</td>\n",
       "      <td>0.052472</td>\n",
       "      <td>-0.272310</td>\n",
       "      <td>-0.198705</td>\n",
       "      <td>0.022593</td>\n",
       "      <td>-0.123403</td>\n",
       "      <td>-0.108671</td>\n",
       "      <td>-0.027647</td>\n",
       "      <td>0.0</td>\n",
       "    </tr>\n",
       "    <tr>\n",
       "      <th>abdelhamid-el-kaoutari</th>\n",
       "      <td>-0.115715</td>\n",
       "      <td>-0.547478</td>\n",
       "      <td>0.331600</td>\n",
       "      <td>0.335587</td>\n",
       "      <td>-0.470302</td>\n",
       "      <td>-0.312639</td>\n",
       "      <td>0.099263</td>\n",
       "      <td>-0.125225</td>\n",
       "      <td>0.319503</td>\n",
       "      <td>0.158379</td>\n",
       "      <td>-0.345761</td>\n",
       "      <td>-0.222989</td>\n",
       "      <td>0.864236</td>\n",
       "      <td>0.362271</td>\n",
       "      <td>1.0</td>\n",
       "    </tr>\n",
       "  </tbody>\n",
       "</table>\n",
       "</div>"
      ],
      "text/plain": [
       "                            skin  skin_difference   meanIAT   meanExp  \\\n",
       "playerShort                                                             \n",
       "aaron-hughes           -0.549090         1.800031  0.346459  0.494575   \n",
       "aaron-hunt             -0.549090         1.800031  0.348818  0.449220   \n",
       "aaron-lennon           -0.115715        -0.547478  0.345893  0.491482   \n",
       "aaron-ramsey           -0.982466        -0.547478  0.346821  0.514693   \n",
       "abdelhamid-el-kaoutari -0.115715        -0.547478  0.331600  0.335587   \n",
       "\n",
       "                          weight    height     games  victories      ties  \\\n",
       "playerShort                                                                 \n",
       "aaron-hughes           -0.749386 -0.018675  0.263530   0.076741  0.317084   \n",
       "aaron-hunt             -0.470302  0.128306  0.111152   0.042866  0.019149   \n",
       "aaron-lennon           -1.865721 -2.517367  0.302460   0.338473  0.214040   \n",
       "aaron-ramsey           -0.051676 -0.606603 -0.138411   0.052472 -0.272310   \n",
       "abdelhamid-el-kaoutari -0.470302 -0.312639  0.099263  -0.125225  0.319503   \n",
       "\n",
       "                         defeats     goals  yellowCards  yellowReds  redCards  \\\n",
       "playerShort                                                                     \n",
       "aaron-hughes            0.306836 -0.316979    -0.346780   -0.108671 -0.112016   \n",
       "aaron-hunt              0.207666  0.288572     0.030080   -0.108671 -0.023386   \n",
       "aaron-lennon            0.141837 -0.049463    -0.353528   -0.108671 -0.112016   \n",
       "aaron-ramsey           -0.198705  0.022593    -0.123403   -0.108671 -0.027647   \n",
       "abdelhamid-el-kaoutari  0.158379 -0.345761    -0.222989    0.864236  0.362271   \n",
       "\n",
       "                        skin_nonorm  \n",
       "playerShort                          \n",
       "aaron-hughes                    0.5  \n",
       "aaron-hunt                      0.5  \n",
       "aaron-lennon                    1.0  \n",
       "aaron-ramsey                    0.0  \n",
       "abdelhamid-el-kaoutari          1.0  "
      ]
     },
     "execution_count": 136,
     "metadata": {},
     "output_type": "execute_result"
    }
   ],
   "source": [
    "grouped.head()"
   ]
  },
  {
   "cell_type": "code",
   "execution_count": 137,
   "metadata": {
    "collapsed": true
   },
   "outputs": [],
   "source": [
    "from sklearn.cluster import KMeans\n",
    "from sklearn.metrics import silhouette_score"
   ]
  },
  {
   "cell_type": "markdown",
   "metadata": {},
   "source": [
    "We now compute the silhouette score and remove iteratively features. We keep track of 2 score, the one by silhouette score of the clusterisation by k-mean and its own labels, and the one corresponding to the proportion of partitionned data along the skin value (split at skin value = 2.0)"
   ]
  },
  {
   "cell_type": "code",
   "execution_count": 138,
   "metadata": {
    "collapsed": false
   },
   "outputs": [
    {
     "data": {
      "text/plain": [
       "playerShort\n",
       "aaron-hughes              1\n",
       "aaron-hunt                1\n",
       "aaron-lennon              1\n",
       "aaron-ramsey              1\n",
       "abdelhamid-el-kaoutari    1\n",
       "Name: skin_nonorm, dtype: int64"
      ]
     },
     "execution_count": 138,
     "metadata": {},
     "output_type": "execute_result"
    }
   ],
   "source": [
    "skin_labels = (grouped['skin_nonorm'] < 2.0).astype(int) \n",
    "skin_labels.head()"
   ]
  },
  {
   "cell_type": "code",
   "execution_count": 150,
   "metadata": {
    "collapsed": false
   },
   "outputs": [],
   "source": [
    "def cluster(X):\n",
    "    kmeans_model = KMeans(n_clusters=2, random_state=1).fit(X)\n",
    "    labels = kmeans_model.labels_\n",
    "    \n",
    "    silhouette_unsupervised = silhouette_score(X, labels)\n",
    "    np.mean(silhouette_unsupervised)\n",
    "    eq = skin_labels == labels\n",
    "    mean = np.mean(eq)\n",
    "    skin_partition = max(mean, 1-mean)\n",
    "    \n",
    "    return  silhouette_unsupervised, skin_partition"
   ]
  },
  {
   "cell_type": "markdown",
   "metadata": {},
   "source": [
    "We do two iterative feature removing. One with the skin features included and one without. The aim is to find if we can cluster the skin information without having it as a feature."
   ]
  },
  {
   "cell_type": "code",
   "execution_count": 168,
   "metadata": {
    "collapsed": false
   },
   "outputs": [
    {
     "name": "stdout",
     "output_type": "stream",
     "text": [
      "0.347652515645 0.509779179811 ['weight', 'height', 'games', 'victories', 'ties', 'defeats', 'goals', 'yellowCards', 'yellowReds', 'redCards']\n",
      "0.350943096869 0.509779179811 ['weight', 'height', 'games', 'victories', 'ties', 'defeats', 'goals', 'yellowCards', 'yellowReds']\n",
      "0.354696417852 0.509779179811 ['weight', 'height', 'games', 'victories', 'ties', 'defeats', 'goals', 'yellowCards']\n",
      "0.371015245425 0.509148264984 ['weight', 'height', 'games', 'victories', 'ties', 'defeats', 'goals']\n",
      "0.394023015198 0.511041009464 ['weight', 'height', 'games', 'victories', 'ties', 'defeats']\n",
      "0.409970101111 0.51167192429 ['weight', 'height', 'games', 'victories', 'ties']\n",
      "0.425129269071 0.51167192429 ['weight', 'height', 'games', 'victories']\n",
      "0.443469374991 0.51167192429 ['weight', 'height', 'games']\n",
      "0.475079984684 0.51167192429 ['weight', 'height']\n",
      "0.55352283463 0.502208201893 ['weight']\n"
     ]
    }
   ],
   "source": [
    "silhouettes_unsupervised = []\n",
    "skin_partitions = []\n",
    "feature_number = []\n",
    "\n",
    "#We always drop skin_nonorm. It was only used for labeling before standardization\n",
    "for i in range(len(filtered_col)-1, 5, -1):\n",
    "    columns = filtered_col[5:i]\n",
    "    silhouette_unsupervised, skin_partitionning = cluster(grouped[columns])\n",
    "    \n",
    "    silhouettes_unsupervised.append(silhouette_unsupervised)\n",
    "    skin_partitions.append(skin_partitionning )\n",
    "    print(silhouette_unsupervised, skin_partitionning, columns)\n",
    "    feature_number.append(i-1)"
   ]
  },
  {
   "cell_type": "code",
   "execution_count": 169,
   "metadata": {
    "collapsed": false
   },
   "outputs": [
    {
     "name": "stdout",
     "output_type": "stream",
     "text": [
      "[0.3476525156453048, 0.35094309686938324, 0.35469641785175876, 0.37101524542498959, 0.39402301519815797, 0.40997010111071602, 0.42512926907133169, 0.44346937499130695, 0.47507998468394014, 0.55352283462984642]\n",
      "[0.50977917981072551, 0.50977917981072551, 0.50977917981072551, 0.50914826498422716, 0.51104100946372233, 0.51167192429022079, 0.51167192429022079, 0.51167192429022079, 0.51167192429022079, 0.50220820189274451]\n"
     ]
    }
   ],
   "source": [
    "print(silhouettes_unsupervised)\n",
    "print(skin_partitions)"
   ]
  },
  {
   "cell_type": "code",
   "execution_count": 170,
   "metadata": {
    "collapsed": false
   },
   "outputs": [
    {
     "data": {
      "image/png": "[encoded data removed]",
      "text/plain": [
       "<matplotlib.figure.Figure at 0x7f2f60dd00f0>"
      ]
     },
     "metadata": {},
     "output_type": "display_data"
    }
   ],
   "source": [
    "plt.plot(feature_number, silhouettes_unsupervised, label='silhouette');\n",
    "plt.plot(feature_number, skin_partitions, label='partition');\n",
    "plt.xlabel('Number of features');\n",
    "plt.legend();"
   ]
  },
  {
   "cell_type": "markdown",
   "metadata": {},
   "source": [
    "We can see that the silhouette goes up as the number of features go down (easier to cluster) but it doesn't improve the paritition along skin color. Clusterisation doesn't reveal any correlation with Skin color. \n",
    "\n",
    "\n",
    "Let's now try by adding the skin feature to check if there is now a distinction"
   ]
  },
  {
   "cell_type": "code",
   "execution_count": 171,
   "metadata": {
    "collapsed": false
   },
   "outputs": [
    {
     "name": "stdout",
     "output_type": "stream",
     "text": [
      "0.220936710261 0.558359621451 ['skin', 'skin_difference', 'meanIAT', 'meanExp', 'weight', 'height', 'games', 'victories', 'ties', 'defeats', 'goals', 'yellowCards', 'yellowReds', 'redCards']\n",
      "0.222183058978 0.556466876972 ['skin', 'skin_difference', 'meanIAT', 'meanExp', 'weight', 'height', 'games', 'victories', 'ties', 'defeats', 'goals', 'yellowCards', 'yellowReds']\n",
      "0.223634526471 0.556466876972 ['skin', 'skin_difference', 'meanIAT', 'meanExp', 'weight', 'height', 'games', 'victories', 'ties', 'defeats', 'goals', 'yellowCards']\n",
      "0.229909739671 0.557728706625 ['skin', 'skin_difference', 'meanIAT', 'meanExp', 'weight', 'height', 'games', 'victories', 'ties', 'defeats', 'goals']\n",
      "0.238405175875 0.554574132492 ['skin', 'skin_difference', 'meanIAT', 'meanExp', 'weight', 'height', 'games', 'victories', 'ties', 'defeats']\n",
      "0.244138560099 0.553943217666 ['skin', 'skin_difference', 'meanIAT', 'meanExp', 'weight', 'height', 'games', 'victories', 'ties']\n",
      "0.249305642858 0.552681388013 ['skin', 'skin_difference', 'meanIAT', 'meanExp', 'weight', 'height', 'games', 'victories']\n",
      "0.255323641552 0.552681388013 ['skin', 'skin_difference', 'meanIAT', 'meanExp', 'weight', 'height', 'games']\n",
      "0.264120213332 0.548264984227 ['skin', 'skin_difference', 'meanIAT', 'meanExp', 'weight', 'height']\n",
      "0.426826909413 0.610094637224 ['skin', 'skin_difference', 'meanIAT', 'meanExp', 'weight']\n",
      "0.61196277468 0.610094637224 ['skin', 'skin_difference', 'meanIAT', 'meanExp']\n",
      "0.624390856113 0.610094637224 ['skin', 'skin_difference', 'meanIAT']\n",
      "0.62617222499 0.610094637224 ['skin', 'skin_difference']\n",
      "0.717701546897 1.0 ['skin']\n"
     ]
    }
   ],
   "source": [
    "silhouettes_unsupervised = []\n",
    "skin_partitions = []\n",
    "feature_number = []\n",
    "\n",
    "for i in range(len(filtered_col)-1, 1, -1):\n",
    "    columns = filtered_col[1:i]\n",
    "    silhouette_unsupervised, skin_partitionning = cluster(grouped[columns])\n",
    "    \n",
    "    silhouettes_unsupervised.append(silhouette_unsupervised)\n",
    "    skin_partitions.append(skin_partitionning )\n",
    "    print(silhouette_unsupervised, skin_partitionning, columns)\n",
    "    feature_number.append(i-1)"
   ]
  },
  {
   "cell_type": "code",
   "execution_count": 172,
   "metadata": {
    "collapsed": false
   },
   "outputs": [
    {
     "data": {
      "image/png": "[encoded data removed]",
      "text/plain": [
       "<matplotlib.figure.Figure at 0x7f2f60dd0f98>"
      ]
     },
     "metadata": {},
     "output_type": "display_data"
    }
   ],
   "source": [
    "plt.plot(feature_number, silhouettes_unsupervised, label='silhouette');\n",
    "plt.plot(feature_number, skin_partitions, label='partition');\n",
    "plt.xlabel('Number of features');\n",
    "plt.legend();"
   ]
  },
  {
   "cell_type": "markdown",
   "metadata": {},
   "source": [
    "We can that the silhouette go down and of that the partitionning along skin improve with skin feature (not so surprising) but more surprisingly with skin_difference too."
   ]
  },
  {
   "cell_type": "code",
   "execution_count": null,
   "metadata": {
    "collapsed": true
   },
   "outputs": [],
   "source": []
  }
 ],
 "metadata": {
  "anaconda-cloud": {},
  "kernelspec": {
   "display_name": "Python [Root]",
   "language": "python",
   "name": "Python [Root]"
  },
  "language_info": {
   "codemirror_mode": {
    "name": "ipython",
    "version": 3
   },
   "file_extension": ".py",
   "mimetype": "text/x-python",
   "name": "python",
   "nbconvert_exporter": "python",
   "pygments_lexer": "ipython3",
   "version": "3.5.2"
  }
 },
 "nbformat": 4,
 "nbformat_minor": 0
}
