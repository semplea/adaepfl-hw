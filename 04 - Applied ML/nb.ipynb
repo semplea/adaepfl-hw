{
 "cells": [
  {
   "cell_type": "code",
   "execution_count": 1,
   "metadata": {
    "collapsed": false
   },
   "outputs": [],
   "source": [
    "import pandas as pd\n",
    "import numpy as np \n",
    "from sklearn.ensemble import RandomForestRegressor\n",
    "import matplotlib.pyplot as plt \n",
    "import seaborn as sns\n",
    "import warnings\n",
    "import math\n",
    "warnings.filterwarnings('ignore')\n",
    "%matplotlib inline\n",
    "pd.options.mode.chained_assignment = None"
   ]
  },
  {
   "cell_type": "markdown",
   "metadata": {},
   "source": [
    "# Applied Machine Learning\n",
    "In this assignment we will explore a dataset about soccer players and referees, focusing predictions and clustering essentially on the players' skin color."
   ]
  },
  {
   "cell_type": "markdown",
   "metadata": {},
   "source": [
    "## Preprocessing"
   ]
  },
  {
   "cell_type": "markdown",
   "metadata": {},
   "source": [
    "Let's have a look at the data:"
   ]
  },
  {
   "cell_type": "code",
   "execution_count": 2,
   "metadata": {
    "collapsed": false
   },
   "outputs": [
    {
     "data": {
      "text/html": [
       "<div>\n",
       "<table border=\"1\" class=\"dataframe\">\n",
       "  <thead>\n",
       "    <tr style=\"text-align: right;\">\n",
       "      <th></th>\n",
       "      <th>playerShort</th>\n",
       "      <th>player</th>\n",
       "      <th>club</th>\n",
       "      <th>leagueCountry</th>\n",
       "      <th>birthday</th>\n",
       "      <th>height</th>\n",
       "      <th>weight</th>\n",
       "      <th>position</th>\n",
       "      <th>games</th>\n",
       "      <th>victories</th>\n",
       "      <th>ties</th>\n",
       "      <th>defeats</th>\n",
       "      <th>goals</th>\n",
       "      <th>yellowCards</th>\n",
       "    </tr>\n",
       "  </thead>\n",
       "  <tbody>\n",
       "    <tr>\n",
       "      <th>0</th>\n",
       "      <td>lucas-wilchez</td>\n",
       "      <td>Lucas Wilchez</td>\n",
       "      <td>Real Zaragoza</td>\n",
       "      <td>Spain</td>\n",
       "      <td>31.08.1983</td>\n",
       "      <td>177.0</td>\n",
       "      <td>72.0</td>\n",
       "      <td>Attacking Midfielder</td>\n",
       "      <td>1</td>\n",
       "      <td>0</td>\n",
       "      <td>0</td>\n",
       "      <td>1</td>\n",
       "      <td>0</td>\n",
       "      <td>0</td>\n",
       "    </tr>\n",
       "    <tr>\n",
       "      <th>1</th>\n",
       "      <td>john-utaka</td>\n",
       "      <td>John Utaka</td>\n",
       "      <td>Montpellier HSC</td>\n",
       "      <td>France</td>\n",
       "      <td>08.01.1982</td>\n",
       "      <td>179.0</td>\n",
       "      <td>82.0</td>\n",
       "      <td>Right Winger</td>\n",
       "      <td>1</td>\n",
       "      <td>0</td>\n",
       "      <td>0</td>\n",
       "      <td>1</td>\n",
       "      <td>0</td>\n",
       "      <td>1</td>\n",
       "    </tr>\n",
       "    <tr>\n",
       "      <th>2</th>\n",
       "      <td>abdon-prats</td>\n",
       "      <td>Abdón Prats</td>\n",
       "      <td>RCD Mallorca</td>\n",
       "      <td>Spain</td>\n",
       "      <td>17.12.1992</td>\n",
       "      <td>181.0</td>\n",
       "      <td>79.0</td>\n",
       "      <td>NaN</td>\n",
       "      <td>1</td>\n",
       "      <td>0</td>\n",
       "      <td>1</td>\n",
       "      <td>0</td>\n",
       "      <td>0</td>\n",
       "      <td>1</td>\n",
       "    </tr>\n",
       "    <tr>\n",
       "      <th>3</th>\n",
       "      <td>pablo-mari</td>\n",
       "      <td>Pablo Marí</td>\n",
       "      <td>RCD Mallorca</td>\n",
       "      <td>Spain</td>\n",
       "      <td>31.08.1993</td>\n",
       "      <td>191.0</td>\n",
       "      <td>87.0</td>\n",
       "      <td>Center Back</td>\n",
       "      <td>1</td>\n",
       "      <td>1</td>\n",
       "      <td>0</td>\n",
       "      <td>0</td>\n",
       "      <td>0</td>\n",
       "      <td>0</td>\n",
       "    </tr>\n",
       "    <tr>\n",
       "      <th>4</th>\n",
       "      <td>ruben-pena</td>\n",
       "      <td>Rubén Peña</td>\n",
       "      <td>Real Valladolid</td>\n",
       "      <td>Spain</td>\n",
       "      <td>18.07.1991</td>\n",
       "      <td>172.0</td>\n",
       "      <td>70.0</td>\n",
       "      <td>Right Midfielder</td>\n",
       "      <td>1</td>\n",
       "      <td>1</td>\n",
       "      <td>0</td>\n",
       "      <td>0</td>\n",
       "      <td>0</td>\n",
       "      <td>0</td>\n",
       "    </tr>\n",
       "    <tr>\n",
       "      <th>5</th>\n",
       "      <td>aaron-hughes</td>\n",
       "      <td>Aaron Hughes</td>\n",
       "      <td>Fulham FC</td>\n",
       "      <td>England</td>\n",
       "      <td>08.11.1979</td>\n",
       "      <td>182.0</td>\n",
       "      <td>71.0</td>\n",
       "      <td>Center Back</td>\n",
       "      <td>1</td>\n",
       "      <td>0</td>\n",
       "      <td>0</td>\n",
       "      <td>1</td>\n",
       "      <td>0</td>\n",
       "      <td>0</td>\n",
       "    </tr>\n",
       "  </tbody>\n",
       "</table>\n",
       "</div>"
      ],
      "text/plain": [
       "     playerShort         player             club leagueCountry    birthday  \\\n",
       "0  lucas-wilchez  Lucas Wilchez    Real Zaragoza         Spain  31.08.1983   \n",
       "1     john-utaka     John Utaka  Montpellier HSC        France  08.01.1982   \n",
       "2    abdon-prats    Abdón Prats     RCD Mallorca         Spain  17.12.1992   \n",
       "3     pablo-mari     Pablo Marí     RCD Mallorca         Spain  31.08.1993   \n",
       "4     ruben-pena     Rubén Peña  Real Valladolid         Spain  18.07.1991   \n",
       "5   aaron-hughes   Aaron Hughes        Fulham FC       England  08.11.1979   \n",
       "\n",
       "   height  weight              position  games  victories  ties  defeats  \\\n",
       "0   177.0    72.0  Attacking Midfielder      1          0     0        1   \n",
       "1   179.0    82.0          Right Winger      1          0     0        1   \n",
       "2   181.0    79.0                   NaN      1          0     1        0   \n",
       "3   191.0    87.0           Center Back      1          1     0        0   \n",
       "4   172.0    70.0      Right Midfielder      1          1     0        0   \n",
       "5   182.0    71.0           Center Back      1          0     0        1   \n",
       "\n",
       "   goals  yellowCards  \n",
       "0      0            0  \n",
       "1      0            1  \n",
       "2      0            1  \n",
       "3      0            0  \n",
       "4      0            0  \n",
       "5      0            0  "
      ]
     },
     "execution_count": 2,
     "metadata": {},
     "output_type": "execute_result"
    }
   ],
   "source": [
    "data = pd.read_csv('CrowdstormingDataJuly1st.csv')\n",
    "data.ix[:5,:14]"
   ]
  },
  {
   "cell_type": "code",
   "execution_count": 3,
   "metadata": {
    "collapsed": false
   },
   "outputs": [
    {
     "data": {
      "text/html": [
       "<div>\n",
       "<table border=\"1\" class=\"dataframe\">\n",
       "  <thead>\n",
       "    <tr style=\"text-align: right;\">\n",
       "      <th></th>\n",
       "      <th>yellowReds</th>\n",
       "      <th>redCards</th>\n",
       "      <th>photoID</th>\n",
       "      <th>rater1</th>\n",
       "      <th>rater2</th>\n",
       "      <th>refNum</th>\n",
       "      <th>refCountry</th>\n",
       "      <th>Alpha_3</th>\n",
       "      <th>meanIAT</th>\n",
       "      <th>nIAT</th>\n",
       "      <th>seIAT</th>\n",
       "      <th>meanExp</th>\n",
       "      <th>nExp</th>\n",
       "      <th>seExp</th>\n",
       "    </tr>\n",
       "  </thead>\n",
       "  <tbody>\n",
       "    <tr>\n",
       "      <th>0</th>\n",
       "      <td>0</td>\n",
       "      <td>0</td>\n",
       "      <td>95212.jpg</td>\n",
       "      <td>0.25</td>\n",
       "      <td>0.50</td>\n",
       "      <td>1</td>\n",
       "      <td>1</td>\n",
       "      <td>GRC</td>\n",
       "      <td>0.326391</td>\n",
       "      <td>712.0</td>\n",
       "      <td>0.000564</td>\n",
       "      <td>0.396000</td>\n",
       "      <td>750.0</td>\n",
       "      <td>0.002696</td>\n",
       "    </tr>\n",
       "    <tr>\n",
       "      <th>1</th>\n",
       "      <td>0</td>\n",
       "      <td>0</td>\n",
       "      <td>1663.jpg</td>\n",
       "      <td>0.75</td>\n",
       "      <td>0.75</td>\n",
       "      <td>2</td>\n",
       "      <td>2</td>\n",
       "      <td>ZMB</td>\n",
       "      <td>0.203375</td>\n",
       "      <td>40.0</td>\n",
       "      <td>0.010875</td>\n",
       "      <td>-0.204082</td>\n",
       "      <td>49.0</td>\n",
       "      <td>0.061504</td>\n",
       "    </tr>\n",
       "    <tr>\n",
       "      <th>2</th>\n",
       "      <td>0</td>\n",
       "      <td>0</td>\n",
       "      <td>NaN</td>\n",
       "      <td>NaN</td>\n",
       "      <td>NaN</td>\n",
       "      <td>3</td>\n",
       "      <td>3</td>\n",
       "      <td>ESP</td>\n",
       "      <td>0.369894</td>\n",
       "      <td>1785.0</td>\n",
       "      <td>0.000229</td>\n",
       "      <td>0.588297</td>\n",
       "      <td>1897.0</td>\n",
       "      <td>0.001002</td>\n",
       "    </tr>\n",
       "    <tr>\n",
       "      <th>3</th>\n",
       "      <td>0</td>\n",
       "      <td>0</td>\n",
       "      <td>NaN</td>\n",
       "      <td>NaN</td>\n",
       "      <td>NaN</td>\n",
       "      <td>3</td>\n",
       "      <td>3</td>\n",
       "      <td>ESP</td>\n",
       "      <td>0.369894</td>\n",
       "      <td>1785.0</td>\n",
       "      <td>0.000229</td>\n",
       "      <td>0.588297</td>\n",
       "      <td>1897.0</td>\n",
       "      <td>0.001002</td>\n",
       "    </tr>\n",
       "    <tr>\n",
       "      <th>4</th>\n",
       "      <td>0</td>\n",
       "      <td>0</td>\n",
       "      <td>NaN</td>\n",
       "      <td>NaN</td>\n",
       "      <td>NaN</td>\n",
       "      <td>3</td>\n",
       "      <td>3</td>\n",
       "      <td>ESP</td>\n",
       "      <td>0.369894</td>\n",
       "      <td>1785.0</td>\n",
       "      <td>0.000229</td>\n",
       "      <td>0.588297</td>\n",
       "      <td>1897.0</td>\n",
       "      <td>0.001002</td>\n",
       "    </tr>\n",
       "    <tr>\n",
       "      <th>5</th>\n",
       "      <td>0</td>\n",
       "      <td>0</td>\n",
       "      <td>3868.jpg</td>\n",
       "      <td>0.25</td>\n",
       "      <td>0.00</td>\n",
       "      <td>4</td>\n",
       "      <td>4</td>\n",
       "      <td>LUX</td>\n",
       "      <td>0.325185</td>\n",
       "      <td>127.0</td>\n",
       "      <td>0.003297</td>\n",
       "      <td>0.538462</td>\n",
       "      <td>130.0</td>\n",
       "      <td>0.013752</td>\n",
       "    </tr>\n",
       "  </tbody>\n",
       "</table>\n",
       "</div>"
      ],
      "text/plain": [
       "   yellowReds  redCards    photoID  rater1  rater2  refNum  refCountry  \\\n",
       "0           0         0  95212.jpg    0.25    0.50       1           1   \n",
       "1           0         0   1663.jpg    0.75    0.75       2           2   \n",
       "2           0         0        NaN     NaN     NaN       3           3   \n",
       "3           0         0        NaN     NaN     NaN       3           3   \n",
       "4           0         0        NaN     NaN     NaN       3           3   \n",
       "5           0         0   3868.jpg    0.25    0.00       4           4   \n",
       "\n",
       "  Alpha_3   meanIAT    nIAT     seIAT   meanExp    nExp     seExp  \n",
       "0     GRC  0.326391   712.0  0.000564  0.396000   750.0  0.002696  \n",
       "1     ZMB  0.203375    40.0  0.010875 -0.204082    49.0  0.061504  \n",
       "2     ESP  0.369894  1785.0  0.000229  0.588297  1897.0  0.001002  \n",
       "3     ESP  0.369894  1785.0  0.000229  0.588297  1897.0  0.001002  \n",
       "4     ESP  0.369894  1785.0  0.000229  0.588297  1897.0  0.001002  \n",
       "5     LUX  0.325185   127.0  0.003297  0.538462   130.0  0.013752  "
      ]
     },
     "execution_count": 3,
     "metadata": {},
     "output_type": "execute_result"
    }
   ],
   "source": [
    "data.ix[:5,14:]"
   ]
  },
  {
   "cell_type": "markdown",
   "metadata": {},
   "source": [
    "### NaN values"
   ]
  },
  {
   "cell_type": "code",
   "execution_count": 4,
   "metadata": {
    "collapsed": false
   },
   "outputs": [
    {
     "data": {
      "text/plain": [
       "playerShort          0\n",
       "player               0\n",
       "club                 0\n",
       "leagueCountry        0\n",
       "birthday             0\n",
       "height             263\n",
       "weight            2243\n",
       "position         17726\n",
       "games                0\n",
       "victories            0\n",
       "ties                 0\n",
       "defeats              0\n",
       "goals                0\n",
       "yellowCards          0\n",
       "yellowReds           0\n",
       "redCards             0\n",
       "photoID          21407\n",
       "rater1           21407\n",
       "rater2           21407\n",
       "refNum               0\n",
       "refCountry           0\n",
       "Alpha_3              1\n",
       "meanIAT            163\n",
       "nIAT               163\n",
       "seIAT              163\n",
       "meanExp            163\n",
       "nExp               163\n",
       "seExp              163\n",
       "dtype: int64"
      ]
     },
     "execution_count": 4,
     "metadata": {},
     "output_type": "execute_result"
    }
   ],
   "source": [
    "data.isnull().sum()"
   ]
  },
  {
   "cell_type": "code",
   "execution_count": 5,
   "metadata": {
    "collapsed": true
   },
   "outputs": [],
   "source": [
    "filtered = data.dropna()"
   ]
  },
  {
   "cell_type": "code",
   "execution_count": 6,
   "metadata": {
    "collapsed": false
   },
   "outputs": [
    {
     "data": {
      "text/plain": [
       "0.790649738406333"
      ]
     },
     "execution_count": 6,
     "metadata": {},
     "output_type": "execute_result"
    }
   ],
   "source": [
    "len(filtered)/len(data)"
   ]
  },
  {
   "cell_type": "markdown",
   "metadata": {},
   "source": [
    "If we would decide to simply discard all the NaN values, we would keep only 21% of the DataSet. We are mainly interested in the skin color of each player so we will have a closer look at the `rater1` and `rater2` skin rating columns."
   ]
  },
  {
   "cell_type": "markdown",
   "metadata": {},
   "source": [
    "### Skin Color"
   ]
  },
  {
   "cell_type": "code",
   "execution_count": 7,
   "metadata": {
    "collapsed": false
   },
   "outputs": [
    {
     "data": {
      "text/plain": [
       "0.14659517352836443"
      ]
     },
     "execution_count": 7,
     "metadata": {},
     "output_type": "execute_result"
    }
   ],
   "source": [
    "len(data[data.rater1.isnull() & (data.rater2.isnull())])/len(data)"
   ]
  },
  {
   "cell_type": "markdown",
   "metadata": {},
   "source": [
    "15% of the dataset will be discarded as it doesn't give any information about the skin color."
   ]
  },
  {
   "cell_type": "code",
   "execution_count": 8,
   "metadata": {
    "collapsed": false
   },
   "outputs": [],
   "source": [
    "skin_data = data.dropna(how='all', subset=['rater1','rater2'])"
   ]
  },
  {
   "cell_type": "markdown",
   "metadata": {},
   "source": [
    "We will also drop the cell with missing IAT or Exp score as there are only 152"
   ]
  },
  {
   "cell_type": "code",
   "execution_count": 9,
   "metadata": {
    "collapsed": true
   },
   "outputs": [],
   "source": [
    "skin_data = skin_data.dropna(how='all', subset=['meanIAT', 'nIAT'])"
   ]
  },
  {
   "cell_type": "code",
   "execution_count": 10,
   "metadata": {
    "collapsed": false
   },
   "outputs": [
    {
     "data": {
      "text/plain": [
       "0"
      ]
     },
     "execution_count": 10,
     "metadata": {},
     "output_type": "execute_result"
    }
   ],
   "source": [
    "len(skin_data[skin_data.rater1.isnull() | (skin_data.rater2.isnull())])"
   ]
  },
  {
   "cell_type": "markdown",
   "metadata": {},
   "source": [
    "We can observe that there were always values for both `rater1` and `rater2` or not any values. Let's have a look at the data for which the raters gave a different skin color."
   ]
  },
  {
   "cell_type": "code",
   "execution_count": 11,
   "metadata": {
    "collapsed": true
   },
   "outputs": [],
   "source": [
    "skin_data_differ = skin_data[skin_data.rater1 != skin_data.rater2]"
   ]
  },
  {
   "cell_type": "code",
   "execution_count": 12,
   "metadata": {
    "collapsed": false
   },
   "outputs": [
    {
     "data": {
      "text/plain": [
       "0.23189896198219623"
      ]
     },
     "execution_count": 12,
     "metadata": {},
     "output_type": "execute_result"
    }
   ],
   "source": [
    "len(skin_data_differ)/len(skin_data)"
   ]
  },
  {
   "cell_type": "markdown",
   "metadata": {},
   "source": [
    "For 23% of the player the two raters gave a different value. Let's see if they gave skin colors that are almost the same or opposite skin colors:"
   ]
  },
  {
   "cell_type": "code",
   "execution_count": 13,
   "metadata": {
    "collapsed": false
   },
   "outputs": [],
   "source": [
    "skin_data['skin_difference'] = skin_data.apply(lambda x: abs(x['rater1'] - x['rater2']), axis=1)"
   ]
  },
  {
   "cell_type": "code",
   "execution_count": 14,
   "metadata": {
    "collapsed": false
   },
   "outputs": [
    {
     "data": {
      "image/png": "[encoded data removed]",
      "text/plain": [
       "<matplotlib.figure.Figure at 0x7f2f9c1ede10>"
      ]
     },
     "metadata": {},
     "output_type": "display_data"
    }
   ],
   "source": [
    "palette = sns.color_palette()\n",
    "sns.countplot(x=\"skin_difference\", data=skin_data);"
   ]
  },
  {
   "cell_type": "markdown",
   "metadata": {},
   "source": [
    "If the two raters differ, it is only by one on the 5-point scale or by 2. We decide to keep the average value of the two raters on a 0 to 8 scale. (so that the average keep all the information)"
   ]
  },
  {
   "cell_type": "code",
   "execution_count": 15,
   "metadata": {
    "collapsed": false
   },
   "outputs": [],
   "source": [
    "skin_data['skin'] = skin_data.apply(lambda x: (x['rater1']+x['rater2'])/2*4, axis=1)"
   ]
  },
  {
   "cell_type": "code",
   "execution_count": 16,
   "metadata": {
    "collapsed": false
   },
   "outputs": [
    {
     "data": {
      "image/png": "[encoded data removed]",
      "text/plain": [
       "<matplotlib.figure.Figure at 0x7f2f62a7b160>"
      ]
     },
     "metadata": {},
     "output_type": "display_data"
    }
   ],
   "source": [
    "sns.countplot(x=\"skin\", data=skin_data, palette=sns.color_palette(\"Greys\", 9));"
   ]
  },
  {
   "cell_type": "markdown",
   "metadata": {},
   "source": [
    "We can observe that the raters are probably not that accurate as the data is skewed."
   ]
  },
  {
   "cell_type": "markdown",
   "metadata": {},
   "source": [
    "### Age\n",
    "There are not any missing birthday value. We will have a look at the age distribution."
   ]
  },
  {
   "cell_type": "code",
   "execution_count": 17,
   "metadata": {
    "collapsed": false
   },
   "outputs": [],
   "source": [
    "# The birthday string is converted into a datetime type\n",
    "import datetime\n",
    "skin_data['birthday'] = skin_data.apply(lambda x: datetime.datetime.strptime(x['birthday'], \"%d.%m.%Y\"), axis=1)"
   ]
  },
  {
   "cell_type": "code",
   "execution_count": 18,
   "metadata": {
    "collapsed": false
   },
   "outputs": [
    {
     "data": {
      "text/plain": [
       "0   1983-08-31\n",
       "1   1982-01-08\n",
       "5   1979-11-08\n",
       "6   1985-11-10\n",
       "7   1986-04-04\n",
       "Name: birthday, dtype: datetime64[ns]"
      ]
     },
     "execution_count": 18,
     "metadata": {},
     "output_type": "execute_result"
    }
   ],
   "source": [
    "skin_data['birthday'].head()"
   ]
  },
  {
   "cell_type": "code",
   "execution_count": 19,
   "metadata": {
    "collapsed": false,
    "scrolled": true
   },
   "outputs": [],
   "source": [
    "import datetime as DT\n",
    "now = pd.Timestamp(DT.datetime.now())\n",
    "# We will plot the age in year of the players from their birthday\n",
    "age = skin_data[['birthday']]\n",
    "age['age'] = age.apply(lambda x: int((now - x['birthday']).days/365.25) , axis=1)"
   ]
  },
  {
   "cell_type": "code",
   "execution_count": 20,
   "metadata": {
    "collapsed": false
   },
   "outputs": [
    {
     "data": {
      "image/png": "[encoded data removed]",
      "text/plain": [
       "<matplotlib.figure.Figure at 0x7f2f62800630>"
      ]
     },
     "metadata": {},
     "output_type": "display_data"
    }
   ],
   "source": [
    "p = sns.countplot(x=\"age\", data=age)"
   ]
  },
  {
   "cell_type": "markdown",
   "metadata": {},
   "source": [
    "Everything seems fine for the date values."
   ]
  },
  {
   "cell_type": "markdown",
   "metadata": {},
   "source": [
    "### League Country"
   ]
  },
  {
   "cell_type": "code",
   "execution_count": 21,
   "metadata": {
    "collapsed": false
   },
   "outputs": [
    {
     "data": {
      "image/png": "[encoded data removed]",
      "text/plain": [
       "<matplotlib.figure.Figure at 0x7f2f5a32a390>"
      ]
     },
     "metadata": {},
     "output_type": "display_data"
    }
   ],
   "source": [
    "sns.countplot(x=\"leagueCountry\", data=skin_data);"
   ]
  },
  {
   "cell_type": "markdown",
   "metadata": {},
   "source": [
    "### Height"
   ]
  },
  {
   "cell_type": "code",
   "execution_count": 22,
   "metadata": {
    "collapsed": false,
    "scrolled": true
   },
   "outputs": [
    {
     "data": {
      "image/png": "[encoded data removed]",
      "text/plain": [
       "<matplotlib.figure.Figure at 0x7f2f5a3212b0>"
      ]
     },
     "metadata": {},
     "output_type": "display_data"
    }
   ],
   "source": [
    "import matplotlib.ticker as ticker\n",
    "heights = skin_data[['height']]\n",
    "h = sns.countplot(x=\"height\", data=heights)\n",
    "h.xaxis.set_major_locator(ticker.MultipleLocator(5))"
   ]
  },
  {
   "cell_type": "markdown",
   "metadata": {},
   "source": [
    "There is no outliers and the distribution looks normal."
   ]
  },
  {
   "cell_type": "markdown",
   "metadata": {},
   "source": [
    "### Weight"
   ]
  },
  {
   "cell_type": "code",
   "execution_count": 23,
   "metadata": {
    "collapsed": false
   },
   "outputs": [
    {
     "data": {
      "image/png": "[encoded data removed]",
      "text/plain": [
       "<matplotlib.figure.Figure at 0x7f2f61b2c588>"
      ]
     },
     "metadata": {},
     "output_type": "display_data"
    }
   ],
   "source": [
    "w = sns.countplot(x=\"weight\", data=skin_data)\n",
    "w.xaxis.set_major_locator(ticker.MultipleLocator(5))"
   ]
  },
  {
   "cell_type": "markdown",
   "metadata": {},
   "source": [
    "### Position "
   ]
  },
  {
   "cell_type": "code",
   "execution_count": 24,
   "metadata": {
    "collapsed": false
   },
   "outputs": [
    {
     "data": {
      "image/png": "[encoded data removed]",
      "text/plain": [
       "<matplotlib.figure.Figure at 0x7f2f619de438>"
      ]
     },
     "metadata": {},
     "output_type": "display_data"
    }
   ],
   "source": [
    "pos = sns.countplot(x=\"position\", data=skin_data);\n",
    "plt.setp(pos.get_xticklabels(), rotation=90);"
   ]
  },
  {
   "cell_type": "code",
   "execution_count": 25,
   "metadata": {
    "collapsed": false
   },
   "outputs": [],
   "source": [
    "missing_values = skin_data['position'].isnull().value_counts()"
   ]
  },
  {
   "cell_type": "code",
   "execution_count": 26,
   "metadata": {
    "collapsed": false
   },
   "outputs": [
    {
     "data": {
      "text/plain": [
       "0.072870515627424276"
      ]
     },
     "execution_count": 26,
     "metadata": {},
     "output_type": "execute_result"
    }
   ],
   "source": [
    "missing_values[1]/missing_values[0]"
   ]
  },
  {
   "cell_type": "markdown",
   "metadata": {},
   "source": [
    "7% of the positions are missing. We will replace them by the most by a category `Missing Position`."
   ]
  },
  {
   "cell_type": "markdown",
   "metadata": {},
   "source": [
    "### Referees"
   ]
  },
  {
   "cell_type": "code",
   "execution_count": 27,
   "metadata": {
    "collapsed": false
   },
   "outputs": [
    {
     "name": "stdout",
     "output_type": "stream",
     "text": [
      "There are 2967 different referees.\n"
     ]
    }
   ],
   "source": [
    "print('There are ' + str(len(skin_data['refNum'].value_counts())) + ' different referees.')"
   ]
  },
  {
   "cell_type": "code",
   "execution_count": 28,
   "metadata": {
    "collapsed": false
   },
   "outputs": [
    {
     "name": "stdout",
     "output_type": "stream",
     "text": [
      "Which come from 155 different countries...\n"
     ]
    }
   ],
   "source": [
    "print('Which come from ' + str(len(skin_data['refCountry'].value_counts())) + ' different countries...')"
   ]
  },
  {
   "cell_type": "markdown",
   "metadata": {},
   "source": [
    "### Standardization, Categorical Features Encoding and Replacing Missing Values"
   ]
  },
  {
   "cell_type": "markdown",
   "metadata": {},
   "source": [
    "We transform each feature into a representation that is more suitable for the machine learning methods. Each feature will be **standardized** if it is a float number (remove mean value, scale dividing by standard deviation) using the `StandardScaler()` function from `sklearn`. If there are missing values, they will be replaced by the mean, which is 0 after applying the StandardScaler. The categorical features will be **encoded** using the `LabelEncoder()` function which converts categorical variable into numerical values. The learning models consider continuous values and don't handle categorical features, but we hope RandomForest will be robust again those values. The missing categorical variables are replaced by `Missing Category`. We discard the name of the player, as well as the photoID and the birthday as it is a one to one relationship with the skin color."
   ]
  },
  {
   "cell_type": "code",
   "execution_count": 101,
   "metadata": {
    "collapsed": false
   },
   "outputs": [],
   "source": [
    "from sklearn.preprocessing import LabelEncoder, StandardScaler, Imputer \n",
    "from sklearn.feature_extraction import DictVectorizer\n",
    "\n",
    "# Replacing missing values for categorical data:\n",
    "skin_data['position'] = skin_data['position'].fillna('Missing Position')\n",
    "# For the Alpha_3 there is only one missing value so we will drop it\n",
    "skin_data = skin_data.dropna(subset=['Alpha_3'])\n",
    "\n",
    "# Features to be standardized\n",
    "stand = ['height', 'weight', 'games', 'victories', 'ties', 'defeats', 'goals', 'yellowCards', 'redCards', 'yellowReds', 'skin', 'skin_difference', 'rater1', 'rater2']\n",
    "# Categorical features to be encoded\n",
    "cat = ['club', 'leagueCountry', 'position', 'Alpha_3']\n",
    "\n",
    "standardized = skin_data.copy()\n",
    "standardized['skin_nonorm'] = standardized['skin']\n",
    "# Encode categories\n",
    "for c in cat:\n",
    "    standardized[c] = LabelEncoder().fit_transform(standardized[c])\n",
    "\n",
    "# The first function fills the missing values and the second one will apply the standardization \n",
    "for s in stand:\n",
    "    standardized[s] = Imputer(strategy='mean', axis=1).fit_transform(standardized[s])[0]\n",
    "    standardized[s] = StandardScaler().fit_transform(standardized[s])\n",
    "    \n",
    "    \n",
    "    \n",
    "# Discard names of players and photoID\n",
    "skin_data_dropped = standardized.drop(labels=['playerShort','player', 'photoID','birthday'], axis=1)"
   ]
  },
  {
   "cell_type": "code",
   "execution_count": 102,
   "metadata": {
    "collapsed": false,
    "scrolled": true
   },
   "outputs": [
    {
     "data": {
      "text/html": [
       "<div>\n",
       "<table border=\"1\" class=\"dataframe\">\n",
       "  <thead>\n",
       "    <tr style=\"text-align: right;\">\n",
       "      <th></th>\n",
       "      <th>club</th>\n",
       "      <th>leagueCountry</th>\n",
       "      <th>height</th>\n",
       "      <th>weight</th>\n",
       "      <th>position</th>\n",
       "      <th>games</th>\n",
       "      <th>victories</th>\n",
       "      <th>ties</th>\n",
       "      <th>defeats</th>\n",
       "      <th>goals</th>\n",
       "      <th>...</th>\n",
       "      <th>Alpha_3</th>\n",
       "      <th>meanIAT</th>\n",
       "      <th>nIAT</th>\n",
       "      <th>seIAT</th>\n",
       "      <th>meanExp</th>\n",
       "      <th>nExp</th>\n",
       "      <th>seExp</th>\n",
       "      <th>skin_difference</th>\n",
       "      <th>skin</th>\n",
       "      <th>skin_nonorm</th>\n",
       "    </tr>\n",
       "  </thead>\n",
       "  <tbody>\n",
       "    <tr>\n",
       "      <th>0</th>\n",
       "      <td>70</td>\n",
       "      <td>3</td>\n",
       "      <td>-0.753585</td>\n",
       "      <td>-0.609844</td>\n",
       "      <td>0</td>\n",
       "      <td>-0.557169</td>\n",
       "      <td>-0.714417</td>\n",
       "      <td>-0.625217</td>\n",
       "      <td>0.044463</td>\n",
       "      <td>-0.374371</td>\n",
       "      <td>...</td>\n",
       "      <td>59</td>\n",
       "      <td>0.326391</td>\n",
       "      <td>712.0</td>\n",
       "      <td>0.000564</td>\n",
       "      <td>0.396000</td>\n",
       "      <td>750.0</td>\n",
       "      <td>0.002696</td>\n",
       "      <td>1.800031</td>\n",
       "      <td>0.317661</td>\n",
       "      <td>1.5</td>\n",
       "    </tr>\n",
       "    <tr>\n",
       "      <th>1</th>\n",
       "      <td>51</td>\n",
       "      <td>1</td>\n",
       "      <td>-0.459621</td>\n",
       "      <td>0.785575</td>\n",
       "      <td>12</td>\n",
       "      <td>-0.557169</td>\n",
       "      <td>-0.714417</td>\n",
       "      <td>-0.625217</td>\n",
       "      <td>0.044463</td>\n",
       "      <td>-0.374371</td>\n",
       "      <td>...</td>\n",
       "      <td>153</td>\n",
       "      <td>0.203375</td>\n",
       "      <td>40.0</td>\n",
       "      <td>0.010875</td>\n",
       "      <td>-0.204082</td>\n",
       "      <td>49.0</td>\n",
       "      <td>0.061504</td>\n",
       "      <td>-0.547478</td>\n",
       "      <td>1.617787</td>\n",
       "      <td>3.0</td>\n",
       "    </tr>\n",
       "    <tr>\n",
       "      <th>5</th>\n",
       "      <td>34</td>\n",
       "      <td>0</td>\n",
       "      <td>-0.018675</td>\n",
       "      <td>-0.749386</td>\n",
       "      <td>1</td>\n",
       "      <td>-0.557169</td>\n",
       "      <td>-0.714417</td>\n",
       "      <td>-0.625217</td>\n",
       "      <td>0.044463</td>\n",
       "      <td>-0.374371</td>\n",
       "      <td>...</td>\n",
       "      <td>87</td>\n",
       "      <td>0.325185</td>\n",
       "      <td>127.0</td>\n",
       "      <td>0.003297</td>\n",
       "      <td>0.538462</td>\n",
       "      <td>130.0</td>\n",
       "      <td>0.013752</td>\n",
       "      <td>1.800031</td>\n",
       "      <td>-0.549090</td>\n",
       "      <td>0.5</td>\n",
       "    </tr>\n",
       "    <tr>\n",
       "      <th>6</th>\n",
       "      <td>48</td>\n",
       "      <td>0</td>\n",
       "      <td>0.716234</td>\n",
       "      <td>0.506492</td>\n",
       "      <td>6</td>\n",
       "      <td>-0.557169</td>\n",
       "      <td>-0.182707</td>\n",
       "      <td>-0.625217</td>\n",
       "      <td>-0.658021</td>\n",
       "      <td>-0.374371</td>\n",
       "      <td>...</td>\n",
       "      <td>87</td>\n",
       "      <td>0.325185</td>\n",
       "      <td>127.0</td>\n",
       "      <td>0.003297</td>\n",
       "      <td>0.538462</td>\n",
       "      <td>130.0</td>\n",
       "      <td>0.013752</td>\n",
       "      <td>1.800031</td>\n",
       "      <td>-0.549090</td>\n",
       "      <td>0.5</td>\n",
       "    </tr>\n",
       "    <tr>\n",
       "      <th>7</th>\n",
       "      <td>54</td>\n",
       "      <td>0</td>\n",
       "      <td>-0.312639</td>\n",
       "      <td>-1.168011</td>\n",
       "      <td>4</td>\n",
       "      <td>-0.557169</td>\n",
       "      <td>-0.714417</td>\n",
       "      <td>-0.625217</td>\n",
       "      <td>0.044463</td>\n",
       "      <td>-0.374371</td>\n",
       "      <td>...</td>\n",
       "      <td>87</td>\n",
       "      <td>0.325185</td>\n",
       "      <td>127.0</td>\n",
       "      <td>0.003297</td>\n",
       "      <td>0.538462</td>\n",
       "      <td>130.0</td>\n",
       "      <td>0.013752</td>\n",
       "      <td>-0.547478</td>\n",
       "      <td>2.484538</td>\n",
       "      <td>4.0</td>\n",
       "    </tr>\n",
       "  </tbody>\n",
       "</table>\n",
       "<p>5 rows × 27 columns</p>\n",
       "</div>"
      ],
      "text/plain": [
       "   club  leagueCountry    height    weight  position     games  victories  \\\n",
       "0    70              3 -0.753585 -0.609844         0 -0.557169  -0.714417   \n",
       "1    51              1 -0.459621  0.785575        12 -0.557169  -0.714417   \n",
       "5    34              0 -0.018675 -0.749386         1 -0.557169  -0.714417   \n",
       "6    48              0  0.716234  0.506492         6 -0.557169  -0.182707   \n",
       "7    54              0 -0.312639 -1.168011         4 -0.557169  -0.714417   \n",
       "\n",
       "       ties   defeats     goals     ...       Alpha_3   meanIAT   nIAT  \\\n",
       "0 -0.625217  0.044463 -0.374371     ...            59  0.326391  712.0   \n",
       "1 -0.625217  0.044463 -0.374371     ...           153  0.203375   40.0   \n",
       "5 -0.625217  0.044463 -0.374371     ...            87  0.325185  127.0   \n",
       "6 -0.625217 -0.658021 -0.374371     ...            87  0.325185  127.0   \n",
       "7 -0.625217  0.044463 -0.374371     ...            87  0.325185  127.0   \n",
       "\n",
       "      seIAT   meanExp   nExp     seExp  skin_difference      skin  skin_nonorm  \n",
       "0  0.000564  0.396000  750.0  0.002696         1.800031  0.317661          1.5  \n",
       "1  0.010875 -0.204082   49.0  0.061504        -0.547478  1.617787          3.0  \n",
       "5  0.003297  0.538462  130.0  0.013752         1.800031 -0.549090          0.5  \n",
       "6  0.003297  0.538462  130.0  0.013752         1.800031 -0.549090          0.5  \n",
       "7  0.003297  0.538462  130.0  0.013752        -0.547478  2.484538          4.0  \n",
       "\n",
       "[5 rows x 27 columns]"
      ]
     },
     "execution_count": 102,
     "metadata": {},
     "output_type": "execute_result"
    }
   ],
   "source": [
    "skin_data_dropped.head()"
   ]
  },
  {
   "cell_type": "markdown",
   "metadata": {},
   "source": [
    "# 1. Random Forest Skin Color Regressor"
   ]
  },
  {
   "cell_type": "markdown",
   "metadata": {},
   "source": [
    "**We use Random Forest Regressor and Classifier because darkness of skin reflect a continuous value, we talked about it with Catasta on slack**\n",
    "\n",
    "The most important parameters that can affect the accuracy of the random forest regressor are the number of trees in the forest `n_estimators`, the number of features to consider when looking for a best split `max_features`, the maximum depth of the tree `max_depth` and the minimum number of samples required to be at a leaf node `min_samples_leaf`. There are other parameters but we will have a closer look at those ones."
   ]
  },
  {
   "cell_type": "markdown",
   "metadata": {},
   "source": [
    "We seperate the data between the features used for prediction and the target features (skin). We need to drop the `rater1`, `rater2`, `skin` and `skin_difference` values as we want to predict the `skin`."
   ]
  },
  {
   "cell_type": "code",
   "execution_count": 31,
   "metadata": {
    "collapsed": false
   },
   "outputs": [],
   "source": [
    "to_predict = ['rater1', 'rater2', 'skin', 'skin_difference']\n",
    "data = skin_data_dropped.drop(labels=to_predict, axis=1)\n",
    "features = data.columns\n",
    "# Skin to predict\n",
    "target = skin_data_dropped['skin'].values.ravel()"
   ]
  },
  {
   "cell_type": "markdown",
   "metadata": {},
   "source": [
    "First, all the columns will be used to train the Random Forest Classifier."
   ]
  },
  {
   "cell_type": "markdown",
   "metadata": {},
   "source": [
    "### n_estimators\n",
    "We will test the accuracy of the model for different number of trees. We use 5-folds cross validation to measure the accuracy of the predictive model, we use the mean of the accuracy over the 5 folds to tune the parameters."
   ]
  },
  {
   "cell_type": "code",
   "execution_count": 32,
   "metadata": {
    "collapsed": false
   },
   "outputs": [],
   "source": [
    "from sklearn.metrics import accuracy_score\n",
    "from sklearn import cross_validation"
   ]
  },
  {
   "cell_type": "code",
   "execution_count": 33,
   "metadata": {
    "collapsed": false
   },
   "outputs": [],
   "source": [
    "number_trees = [5,10,20,50,100,200]\n",
    "accuracy = []\n",
    "\n",
    "for t in number_trees:\n",
    "    tree = RandomForestRegressor(n_estimators=t)\n",
    "    scores = cross_validation.cross_val_score(tree, data, target, cv=5)\n",
    "    accuracy.append(scores.mean())"
   ]
  },
  {
   "cell_type": "code",
   "execution_count": 34,
   "metadata": {
    "collapsed": false
   },
   "outputs": [
    {
     "data": {
      "image/png": "[encoded data removed]",
      "text/plain": [
       "<matplotlib.figure.Figure at 0x7f2f61a2e160>"
      ]
     },
     "metadata": {},
     "output_type": "display_data"
    }
   ],
   "source": [
    "plt.plot(number_trees, accuracy);"
   ]
  },
  {
   "cell_type": "markdown",
   "metadata": {},
   "source": [
    "Higher number of trees will avoid overfitting (because the model takes the maximum voting of predictions) and give more stable predictions but it makes the code run slower. We decide to keep 100 trees."
   ]
  },
  {
   "cell_type": "markdown",
   "metadata": {},
   "source": [
    "### max_features\n",
    "As default, the number of features to consider when looking for the best split is equal to the square root of the number of features. We will test it with different values between 1 and the number of features."
   ]
  },
  {
   "cell_type": "code",
   "execution_count": 35,
   "metadata": {
    "collapsed": false
   },
   "outputs": [],
   "source": [
    "max_features = range(1,len(features)+1,2)\n",
    "accuracy = []\n",
    "\n",
    "for m in max_features:\n",
    "    tree = RandomForestRegressor(n_estimators=100, max_features=m)\n",
    "    scores = cross_validation.cross_val_score(tree, data, target, cv=5)\n",
    "    accuracy.append(scores.mean())"
   ]
  },
  {
   "cell_type": "code",
   "execution_count": 36,
   "metadata": {
    "collapsed": false
   },
   "outputs": [
    {
     "data": {
      "image/png": "[encoded data removed]",
      "text/plain": [
       "<matplotlib.figure.Figure at 0x7f2f5a3446a0>"
      ]
     },
     "metadata": {},
     "output_type": "display_data"
    }
   ],
   "source": [
    "plt.plot(max_features, accuracy);"
   ]
  },
  {
   "cell_type": "markdown",
   "metadata": {},
   "source": [
    "Increasing max_features improves the performance of the model (at each node now we have a higher number of options). However it increases the speed of algorithm. We choose to take `max_features`=5.\n",
    "\n"
   ]
  },
  {
   "cell_type": "markdown",
   "metadata": {},
   "source": [
    "### max_depth\n",
    "The maximum depth of the tree. If None, then nodes are expanded until all leaves are pure."
   ]
  },
  {
   "cell_type": "code",
   "execution_count": 37,
   "metadata": {
    "collapsed": true
   },
   "outputs": [],
   "source": [
    "max_depths = [1,5,10,50]\n",
    "accuracy = []\n",
    "\n",
    "for d in max_depths:\n",
    "    tree = RandomForestRegressor(n_estimators=100, max_features=5, max_depth=d)\n",
    "    scores = cross_validation.cross_val_score(tree, data, target, cv=5)\n",
    "    accuracy.append(scores.mean())"
   ]
  },
  {
   "cell_type": "code",
   "execution_count": 39,
   "metadata": {
    "collapsed": false
   },
   "outputs": [],
   "source": [
    "#We compute as well with the default value\n",
    "tree = RandomForestRegressor(n_estimators=100, max_features=5, max_depth=None)\n",
    "scores = cross_validation.cross_val_score(tree, data, target, cv=5)\n",
    "accuracy.append(scores.mean())"
   ]
  },
  {
   "cell_type": "code",
   "execution_count": 40,
   "metadata": {
    "collapsed": false
   },
   "outputs": [
    {
     "data": {
      "image/png": "[encoded data removed]",
      "text/plain": [
       "<matplotlib.figure.Figure at 0x7f2f5cdb8cc0>"
      ]
     },
     "metadata": {},
     "output_type": "display_data"
    }
   ],
   "source": [
    "max_depths.append(100) # it will simple represent the default value\n",
    "plt.plot(max_depths, accuracy);"
   ]
  },
  {
   "cell_type": "markdown",
   "metadata": {},
   "source": [
    "In our case, there is no overfitting problem with a tree having pure nodes. We will keep the default value."
   ]
  },
  {
   "cell_type": "markdown",
   "metadata": {},
   "source": [
    "### min_samples_leaf\n",
    "The minimum number of samples required to be at a leaf node (we will give it in percentage)"
   ]
  },
  {
   "cell_type": "code",
   "execution_count": 41,
   "metadata": {
    "collapsed": true
   },
   "outputs": [],
   "source": [
    "min_samples = [0.01,0.02,0.05,0.1]\n",
    "accuracy = []\n",
    "\n",
    "for s in min_samples:\n",
    "    tree = RandomForestRegressor(n_estimators=100, max_features=5, min_samples_leaf=s)\n",
    "    scores = cross_validation.cross_val_score(tree, data, target, cv=5)\n",
    "    accuracy.append(scores.mean())"
   ]
  },
  {
   "cell_type": "code",
   "execution_count": 42,
   "metadata": {
    "collapsed": false
   },
   "outputs": [
    {
     "data": {
      "image/png": "[encoded data removed]",
      "text/plain": [
       "<matplotlib.figure.Figure at 0x7f2f62e65e48>"
      ]
     },
     "metadata": {},
     "output_type": "display_data"
    }
   ],
   "source": [
    "plt.plot(min_samples, accuracy);"
   ]
  },
  {
   "cell_type": "markdown",
   "metadata": {},
   "source": [
    "If less than 0.02% are in a leaf the model is overfitting and if more than 0.02% are in a leaf node it is underfitting."
   ]
  },
  {
   "cell_type": "markdown",
   "metadata": {},
   "source": [
    "### feature\\_importances\\_\n",
    "Now we will have a look at the feature sorted by their score in the tree with the tuned parameter we found."
   ]
  },
  {
   "cell_type": "code",
   "execution_count": 44,
   "metadata": {
    "collapsed": false
   },
   "outputs": [],
   "source": [
    "tree = RandomForestRegressor(n_estimators=100, max_features=5).fit(data, target)"
   ]
  },
  {
   "cell_type": "code",
   "execution_count": 45,
   "metadata": {
    "collapsed": false
   },
   "outputs": [
    {
     "data": {
      "text/plain": [
       "[(0.20039999999999999, 'weight'),\n",
       " (0.19400000000000001, 'club'),\n",
       " (0.18959999999999999, 'height'),\n",
       " (0.1484, 'position'),\n",
       " (0.057599999999999998, 'leagueCountry'),\n",
       " (0.031, 'refNum'),\n",
       " (0.0189, 'meanExp'),\n",
       " (0.016899999999999998, 'games'),\n",
       " (0.016500000000000001, 'meanIAT'),\n",
       " (0.0147, 'victories'),\n",
       " (0.0124, 'Alpha_3'),\n",
       " (0.011900000000000001, 'refCountry'),\n",
       " (0.0118, 'goals'),\n",
       " (0.011599999999999999, 'defeats'),\n",
       " (0.0115, 'nIAT'),\n",
       " (0.0109, 'seIAT'),\n",
       " (0.0106, 'seExp'),\n",
       " (0.0104, 'nExp'),\n",
       " (0.0099000000000000008, 'ties'),\n",
       " (0.0091999999999999998, 'yellowCards'),\n",
       " (0.0011000000000000001, 'redCards'),\n",
       " (0.00089999999999999998, 'yellowReds')]"
      ]
     },
     "execution_count": 45,
     "metadata": {},
     "output_type": "execute_result"
    }
   ],
   "source": [
    "sorted(zip(map(lambda x: round(x, 4), tree.feature_importances_), features), reverse=True)"
   ]
  },
  {
   "cell_type": "markdown",
   "metadata": {},
   "source": [
    "The `weight`, `club`, `height`, `position` and `leagueCountry` features are the ones adding the more information about the skin color. "
   ]
  },
  {
   "cell_type": "markdown",
   "metadata": {},
   "source": [
    "We will try to train the tree only with those features to see if their importance order changes."
   ]
  },
  {
   "cell_type": "code",
   "execution_count": 47,
   "metadata": {
    "collapsed": false
   },
   "outputs": [],
   "source": [
    "reduced_features = ['club','height','weight','position', 'leagueCountry']\n",
    "tree = RandomForestRegressor(n_estimators=100, max_features=5).fit(data[reduced_features], target)"
   ]
  },
  {
   "cell_type": "code",
   "execution_count": 48,
   "metadata": {
    "collapsed": false
   },
   "outputs": [
    {
     "data": {
      "text/plain": [
       "[(0.27610000000000001, 'height'),\n",
       " (0.2442, 'leagueCountry'),\n",
       " (0.21870000000000001, 'club'),\n",
       " (0.19500000000000001, 'weight'),\n",
       " (0.066100000000000006, 'position')]"
      ]
     },
     "execution_count": 48,
     "metadata": {},
     "output_type": "execute_result"
    }
   ],
   "source": [
    "sorted(zip(map(lambda x: round(x, 4), tree.feature_importances_), features), reverse=True)"
   ]
  },
  {
   "cell_type": "markdown",
   "metadata": {},
   "source": [
    "It is interesting to see that the order of the features changes, the `leagueCountry` is now the feature adding the most information about the skin color even if it was in the last position in the previous tree classifier. "
   ]
  },
  {
   "cell_type": "markdown",
   "metadata": {
    "collapsed": true
   },
   "source": [
    "# 2. Clustering"
   ]
  },
  {
   "cell_type": "markdown",
   "metadata": {},
   "source": [
    "We group the referee informations by player and only keep the columns that are relevant, the order is useful because it will be the one used when iteratively removing features"
   ]
  },
  {
   "cell_type": "code",
   "execution_count": 134,
   "metadata": {
    "collapsed": false
   },
   "outputs": [],
   "source": [
    "filtered_col = ['playerShort', 'skin', 'skin_difference', 'meanIAT', 'meanExp', 'weight', 'height', 'games', 'victories', 'ties', 'defeats', 'goals',\n",
    "                'yellowCards', 'yellowReds', 'redCards', 'skin_nonorm']\n",
    "filtered = standardized[filtered_col]\n",
    "grouped = filtered.groupby('playerShort').mean()"
   ]
  },
  {
   "cell_type": "code",
   "execution_count": 135,
   "metadata": {
    "collapsed": false
   },
   "outputs": [
    {
     "data": {
      "text/plain": [
       "skin               0\n",
       "skin_difference    0\n",
       "meanIAT            0\n",
       "meanExp            0\n",
       "weight             0\n",
       "height             0\n",
       "games              0\n",
       "victories          0\n",
       "ties               0\n",
       "defeats            0\n",
       "goals              0\n",
       "yellowCards        0\n",
       "yellowReds         0\n",
       "redCards           0\n",
       "skin_nonorm        0\n",
       "dtype: int64"
      ]
     },
     "execution_count": 135,
     "metadata": {},
     "output_type": "execute_result"
    }
   ],
   "source": [
    "grouped.isnull().sum()"
   ]
  },
  {
   "cell_type": "markdown",
   "metadata": {},
   "source": [
    "We see that there is not much null values, we simply drop them."
   ]
  },
  {
   "cell_type": "code",
   "execution_count": 136,
   "metadata": {
    "collapsed": false
   },
   "outputs": [
    {
     "data": {
      "text/html": [
       "<div>\n",
       "<table border=\"1\" class=\"dataframe\">\n",
       "  <thead>\n",
       "    <tr style=\"text-align: right;\">\n",
       "      <th></th>\n",
       "      <th>skin</th>\n",
       "      <th>skin_difference</th>\n",
       "      <th>meanIAT</th>\n",
       "      <th>meanExp</th>\n",
       "      <th>weight</th>\n",
       "      <th>height</th>\n",
       "      <th>games</th>\n",
       "      <th>victories</th>\n",
       "      <th>ties</th>\n",
       "      <th>defeats</th>\n",
       "      <th>goals</th>\n",
       "      <th>yellowCards</th>\n",
       "      <th>yellowReds</th>\n",
       "      <th>redCards</th>\n",
       "      <th>skin_nonorm</th>\n",
       "    </tr>\n",
       "    <tr>\n",
       "      <th>playerShort</th>\n",
       "      <th></th>\n",
       "      <th></th>\n",
       "      <th></th>\n",
       "      <th></th>\n",
       "      <th></th>\n",
       "      <th></th>\n",
       "      <th></th>\n",
       "      <th></th>\n",
       "      <th></th>\n",
       "      <th></th>\n",
       "      <th></th>\n",
       "      <th></th>\n",
       "      <th></th>\n",
       "      <th></th>\n",
       "      <th></th>\n",
       "    </tr>\n",
       "  </thead>\n",
       "  <tbody>\n",
       "    <tr>\n",
       "      <th>aaron-hughes</th>\n",
       "      <td>-0.549090</td>\n",
       "      <td>1.800031</td>\n",
       "      <td>0.346459</td>\n",
       "      <td>0.494575</td>\n",
       "      <td>-0.749386</td>\n",
       "      <td>-0.018675</td>\n",
       "      <td>0.263530</td>\n",
       "      <td>0.076741</td>\n",
       "      <td>0.317084</td>\n",
       "      <td>0.306836</td>\n",
       "      <td>-0.316979</td>\n",
       "      <td>-0.346780</td>\n",
       "      <td>-0.108671</td>\n",
       "      <td>-0.112016</td>\n",
       "      <td>0.5</td>\n",
       "    </tr>\n",
       "    <tr>\n",
       "      <th>aaron-hunt</th>\n",
       "      <td>-0.549090</td>\n",
       "      <td>1.800031</td>\n",
       "      <td>0.348818</td>\n",
       "      <td>0.449220</td>\n",
       "      <td>-0.470302</td>\n",
       "      <td>0.128306</td>\n",
       "      <td>0.111152</td>\n",
       "      <td>0.042866</td>\n",
       "      <td>0.019149</td>\n",
       "      <td>0.207666</td>\n",
       "      <td>0.288572</td>\n",
       "      <td>0.030080</td>\n",
       "      <td>-0.108671</td>\n",
       "      <td>-0.023386</td>\n",
       "      <td>0.5</td>\n",
       "    </tr>\n",
       "    <tr>\n",
       "      <th>aaron-lennon</th>\n",
       "      <td>-0.115715</td>\n",
       "      <td>-0.547478</td>\n",
       "      <td>0.345893</td>\n",
       "      <td>0.491482</td>\n",
       "      <td>-1.865721</td>\n",
       "      <td>-2.517367</td>\n",
       "      <td>0.302460</td>\n",
       "      <td>0.338473</td>\n",
       "      <td>0.214040</td>\n",
       "      <td>0.141837</td>\n",
       "      <td>-0.049463</td>\n",
       "      <td>-0.353528</td>\n",
       "      <td>-0.108671</td>\n",
       "      <td>-0.112016</td>\n",
       "      <td>1.0</td>\n",
       "    </tr>\n",
       "    <tr>\n",
       "      <th>aaron-ramsey</th>\n",
       "      <td>-0.982466</td>\n",
       "      <td>-0.547478</td>\n",
       "      <td>0.346821</td>\n",
       "      <td>0.514693</td>\n",
       "      <td>-0.051676</td>\n",
       "      <td>-0.606603</td>\n",
       "      <td>-0.138411</td>\n",
       "      <td>0.052472</td>\n",
       "      <td>-0.272310</td>\n",
       "      <td>-0.198705</td>\n",
       "      <td>0.022593</td>\n",
       "      <td>-0.123403</td>\n",
       "      <td>-0.108671</td>\n",
       "      <td>-0.027647</td>\n",
       "      <td>0.0</td>\n",
       "    </tr>\n",
       "    <tr>\n",
       "      <th>abdelhamid-el-kaoutari</th>\n",
       "      <td>-0.115715</td>\n",
       "      <td>-0.547478</td>\n",
       "      <td>0.331600</td>\n",
       "      <td>0.335587</td>\n",
       "      <td>-0.470302</td>\n",
       "      <td>-0.312639</td>\n",
       "      <td>0.099263</td>\n",
       "      <td>-0.125225</td>\n",
       "      <td>0.319503</td>\n",
       "      <td>0.158379</td>\n",
       "      <td>-0.345761</td>\n",
       "      <td>-0.222989</td>\n",
       "      <td>0.864236</td>\n",
       "      <td>0.362271</td>\n",
       "      <td>1.0</td>\n",
       "    </tr>\n",
       "  </tbody>\n",
       "</table>\n",
       "</div>"
      ],
      "text/plain": [
       "                            skin  skin_difference   meanIAT   meanExp  \\\n",
       "playerShort                                                             \n",
       "aaron-hughes           -0.549090         1.800031  0.346459  0.494575   \n",
       "aaron-hunt             -0.549090         1.800031  0.348818  0.449220   \n",
       "aaron-lennon           -0.115715        -0.547478  0.345893  0.491482   \n",
       "aaron-ramsey           -0.982466        -0.547478  0.346821  0.514693   \n",
       "abdelhamid-el-kaoutari -0.115715        -0.547478  0.331600  0.335587   \n",
       "\n",
       "                          weight    height     games  victories      ties  \\\n",
       "playerShort                                                                 \n",
       "aaron-hughes           -0.749386 -0.018675  0.263530   0.076741  0.317084   \n",
       "aaron-hunt             -0.470302  0.128306  0.111152   0.042866  0.019149   \n",
       "aaron-lennon           -1.865721 -2.517367  0.302460   0.338473  0.214040   \n",
       "aaron-ramsey           -0.051676 -0.606603 -0.138411   0.052472 -0.272310   \n",
       "abdelhamid-el-kaoutari -0.470302 -0.312639  0.099263  -0.125225  0.319503   \n",
       "\n",
       "                         defeats     goals  yellowCards  yellowReds  redCards  \\\n",
       "playerShort                                                                     \n",
       "aaron-hughes            0.306836 -0.316979    -0.346780   -0.108671 -0.112016   \n",
       "aaron-hunt              0.207666  0.288572     0.030080   -0.108671 -0.023386   \n",
       "aaron-lennon            0.141837 -0.049463    -0.353528   -0.108671 -0.112016   \n",
       "aaron-ramsey           -0.198705  0.022593    -0.123403   -0.108671 -0.027647   \n",
       "abdelhamid-el-kaoutari  0.158379 -0.345761    -0.222989    0.864236  0.362271   \n",
       "\n",
       "                        skin_nonorm  \n",
       "playerShort                          \n",
       "aaron-hughes                    0.5  \n",
       "aaron-hunt                      0.5  \n",
       "aaron-lennon                    1.0  \n",
       "aaron-ramsey                    0.0  \n",
       "abdelhamid-el-kaoutari          1.0  "
      ]
     },
     "execution_count": 136,
     "metadata": {},
     "output_type": "execute_result"
    }
   ],
   "source": [
    "grouped = grouped.dropna()\n",
    "grouped.head()"
   ]
  },
  {
   "cell_type": "code",
   "execution_count": 137,
   "metadata": {
    "collapsed": true
   },
   "outputs": [],
   "source": [
    "from sklearn.cluster import KMeans\n",
    "from sklearn.metrics import silhouette_score"
   ]
  },
  {
   "cell_type": "markdown",
   "metadata": {},
   "source": [
    "We now compute the silhouette score and remove iteratively features. We keep track of 2 score, the one by silhouette score of the clusterisation by k-mean and its own labels, and the one corresponding to the proportion of partitionned data along the skin value (split at skin value = 2.0)"
   ]
  },
  {
   "cell_type": "code",
   "execution_count": 138,
   "metadata": {
    "collapsed": false
   },
   "outputs": [
    {
     "data": {
      "text/plain": [
       "playerShort\n",
       "aaron-hughes              1\n",
       "aaron-hunt                1\n",
       "aaron-lennon              1\n",
       "aaron-ramsey              1\n",
       "abdelhamid-el-kaoutari    1\n",
       "Name: skin_nonorm, dtype: int64"
      ]
     },
     "execution_count": 138,
     "metadata": {},
     "output_type": "execute_result"
    }
   ],
   "source": [
    "skin_labels = (grouped['skin_nonorm'] < 2.0).astype(int) \n",
    "skin_labels.head()"
   ]
  },
  {
   "cell_type": "code",
   "execution_count": 150,
   "metadata": {
    "collapsed": false
   },
   "outputs": [],
   "source": [
    "\n",
    "\n",
    "def cluster(X):\n",
    "    kmeans_model = KMeans(n_clusters=2, random_state=1).fit(X)\n",
    "    labels = kmeans_model.labels_\n",
    "    \n",
    "    silhouette_unsupervised = silhouette_score(X, labels)\n",
    "    np.mean(silhouette_unsupervised)\n",
    "    eq = skin_labels == labels\n",
    "    mean = np.mean(eq)\n",
    "    skin_partition = max(mean, 1-mean)\n",
    "    \n",
    "    return  silhouette_unsupervised, skin_partition"
   ]
  },
  {
   "cell_type": "markdown",
   "metadata": {},
   "source": [
    "We do two iterative feature removing. One with the skin features included and one without. The aim is to find if we can cluster the skin information without having it as a feature."
   ]
  },
  {
   "cell_type": "code",
   "execution_count": 168,
   "metadata": {
    "collapsed": false
   },
   "outputs": [
    {
     "name": "stdout",
     "output_type": "stream",
     "text": [
      "0.347652515645 0.509779179811 ['weight', 'height', 'games', 'victories', 'ties', 'defeats', 'goals', 'yellowCards', 'yellowReds', 'redCards']\n",
      "0.350943096869 0.509779179811 ['weight', 'height', 'games', 'victories', 'ties', 'defeats', 'goals', 'yellowCards', 'yellowReds']\n",
      "0.354696417852 0.509779179811 ['weight', 'height', 'games', 'victories', 'ties', 'defeats', 'goals', 'yellowCards']\n",
      "0.371015245425 0.509148264984 ['weight', 'height', 'games', 'victories', 'ties', 'defeats', 'goals']\n",
      "0.394023015198 0.511041009464 ['weight', 'height', 'games', 'victories', 'ties', 'defeats']\n",
      "0.409970101111 0.51167192429 ['weight', 'height', 'games', 'victories', 'ties']\n",
      "0.425129269071 0.51167192429 ['weight', 'height', 'games', 'victories']\n",
      "0.443469374991 0.51167192429 ['weight', 'height', 'games']\n",
      "0.475079984684 0.51167192429 ['weight', 'height']\n",
      "0.55352283463 0.502208201893 ['weight']\n"
     ]
    }
   ],
   "source": [
    "silhouettes_unsupervised = []\n",
    "skin_partitions = []\n",
    "feature_number = []\n",
    "\n",
    "#We always drop skin_nonorm. It was only used for labeling before standardization\n",
    "for i in range(len(filtered_col)-1, 5, -1):\n",
    "    columns = filtered_col[5:i]\n",
    "    silhouette_unsupervised, skin_partitionning = cluster(grouped[columns])\n",
    "    \n",
    "    silhouettes_unsupervised.append(silhouette_unsupervised)\n",
    "    skin_partitions.append(skin_partitionning )\n",
    "    print(silhouette_unsupervised, skin_partitionning, columns)\n",
    "    feature_number.append(i-1)"
   ]
  },
  {
   "cell_type": "code",
   "execution_count": 169,
   "metadata": {
    "collapsed": false
   },
   "outputs": [
    {
     "name": "stdout",
     "output_type": "stream",
     "text": [
      "[0.3476525156453048, 0.35094309686938324, 0.35469641785175876, 0.37101524542498959, 0.39402301519815797, 0.40997010111071602, 0.42512926907133169, 0.44346937499130695, 0.47507998468394014, 0.55352283462984642]\n",
      "[0.50977917981072551, 0.50977917981072551, 0.50977917981072551, 0.50914826498422716, 0.51104100946372233, 0.51167192429022079, 0.51167192429022079, 0.51167192429022079, 0.51167192429022079, 0.50220820189274451]\n"
     ]
    }
   ],
   "source": [
    "print(silhouettes_unsupervised)\n",
    "print(skin_partitions)"
   ]
  },
  {
   "cell_type": "code",
   "execution_count": 170,
   "metadata": {
    "collapsed": false
   },
   "outputs": [
    {
     "data": {
      "image/png": "[encoded data removed]",
      "text/plain": [
       "<matplotlib.figure.Figure at 0x7f2f60dd00f0>"
      ]
     },
     "metadata": {},
     "output_type": "display_data"
    }
   ],
   "source": [
    "plt.plot(feature_number, silhouettes_unsupervised, label='silhouette');\n",
    "plt.plot(feature_number, skin_partitions, label='partition');\n",
    "plt.xlabel('Number of features');\n",
    "plt.legend();"
   ]
  },
  {
   "cell_type": "markdown",
   "metadata": {},
   "source": [
    "We can see that the silhouette goes up as the number of features go down (easier to cluster) but it doesn't improve the paritition along skin color. Clusterisation doesn't reveal any correlation with Skin color. \n",
    "\n",
    "\n",
    "Let's now try by adding the skin feature to check if there is now a distinction"
   ]
  },
  {
   "cell_type": "code",
   "execution_count": 171,
   "metadata": {
    "collapsed": false
   },
   "outputs": [
    {
     "name": "stdout",
     "output_type": "stream",
     "text": [
      "0.220936710261 0.558359621451 ['skin', 'skin_difference', 'meanIAT', 'meanExp', 'weight', 'height', 'games', 'victories', 'ties', 'defeats', 'goals', 'yellowCards', 'yellowReds', 'redCards']\n",
      "0.222183058978 0.556466876972 ['skin', 'skin_difference', 'meanIAT', 'meanExp', 'weight', 'height', 'games', 'victories', 'ties', 'defeats', 'goals', 'yellowCards', 'yellowReds']\n",
      "0.223634526471 0.556466876972 ['skin', 'skin_difference', 'meanIAT', 'meanExp', 'weight', 'height', 'games', 'victories', 'ties', 'defeats', 'goals', 'yellowCards']\n",
      "0.229909739671 0.557728706625 ['skin', 'skin_difference', 'meanIAT', 'meanExp', 'weight', 'height', 'games', 'victories', 'ties', 'defeats', 'goals']\n",
      "0.238405175875 0.554574132492 ['skin', 'skin_difference', 'meanIAT', 'meanExp', 'weight', 'height', 'games', 'victories', 'ties', 'defeats']\n",
      "0.244138560099 0.553943217666 ['skin', 'skin_difference', 'meanIAT', 'meanExp', 'weight', 'height', 'games', 'victories', 'ties']\n",
      "0.249305642858 0.552681388013 ['skin', 'skin_difference', 'meanIAT', 'meanExp', 'weight', 'height', 'games', 'victories']\n",
      "0.255323641552 0.552681388013 ['skin', 'skin_difference', 'meanIAT', 'meanExp', 'weight', 'height', 'games']\n",
      "0.264120213332 0.548264984227 ['skin', 'skin_difference', 'meanIAT', 'meanExp', 'weight', 'height']\n",
      "0.426826909413 0.610094637224 ['skin', 'skin_difference', 'meanIAT', 'meanExp', 'weight']\n",
      "0.61196277468 0.610094637224 ['skin', 'skin_difference', 'meanIAT', 'meanExp']\n",
      "0.624390856113 0.610094637224 ['skin', 'skin_difference', 'meanIAT']\n",
      "0.62617222499 0.610094637224 ['skin', 'skin_difference']\n",
      "0.717701546897 1.0 ['skin']\n"
     ]
    }
   ],
   "source": [
    "silhouettes_unsupervised = []\n",
    "skin_partitions = []\n",
    "feature_number = []\n",
    "\n",
    "for i in range(len(filtered_col)-1, 1, -1):\n",
    "    columns = filtered_col[1:i]\n",
    "    silhouette_unsupervised, skin_partitionning = cluster(grouped[columns])\n",
    "    \n",
    "    silhouettes_unsupervised.append(silhouette_unsupervised)\n",
    "    skin_partitions.append(skin_partitionning )\n",
    "    print(silhouette_unsupervised, skin_partitionning, columns)\n",
    "    feature_number.append(i-1)"
   ]
  },
  {
   "cell_type": "code",
   "execution_count": 172,
   "metadata": {
    "collapsed": false
   },
   "outputs": [
    {
     "data": {
      "image/png": "[encoded data removed]",
      "text/plain": [
       "<matplotlib.figure.Figure at 0x7f2f60dd0f98>"
      ]
     },
     "metadata": {},
     "output_type": "display_data"
    }
   ],
   "source": [
    "plt.plot(feature_number, silhouettes_unsupervised, label='silhouette');\n",
    "plt.plot(feature_number, skin_partitions, label='partition');\n",
    "plt.xlabel('Number of features');\n",
    "plt.legend();"
   ]
  },
  {
   "cell_type": "code",
   "execution_count": null,
   "metadata": {
    "collapsed": true
   },
   "outputs": [],
   "source": [
    "We can that the silhouette go down and of that the partitionning along skin improve with skin fea but more surprisingly with skin_difference too."
   ]
  },
  {
   "cell_type": "code",
   "execution_count": null,
   "metadata": {
    "collapsed": true
   },
   "outputs": [],
   "source": []
  }
 ],
 "metadata": {
  "anaconda-cloud": {},
  "kernelspec": {
   "display_name": "Python [Root]",
   "language": "python",
   "name": "Python [Root]"
  },
  "language_info": {
   "codemirror_mode": {
    "name": "ipython",
    "version": 3
   },
   "file_extension": ".py",
   "mimetype": "text/x-python",
   "name": "python",
   "nbconvert_exporter": "python",
   "pygments_lexer": "ipython3",
   "version": "3.5.1"
  }
 },
 "nbformat": 4,
 "nbformat_minor": 0
}
