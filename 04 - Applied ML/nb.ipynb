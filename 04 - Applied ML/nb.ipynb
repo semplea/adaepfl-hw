{
 "cells": [
  {
   "cell_type": "code",
   "execution_count": 96,
   "metadata": {
    "collapsed": false
   },
   "outputs": [],
   "source": [
    "import pandas as pd\n",
    "import numpy as np \n",
    "from sklearn.ensemble import RandomForestClassifier\n",
    "import matplotlib.pyplot as plt \n",
    "import seaborn as sns\n",
    "import warnings\n",
    "import math\n",
    "warnings.filterwarnings('ignore')\n",
    "%matplotlib inline\n",
    "pd.options.mode.chained_assignment = None"
   ]
  },
  {
   "cell_type": "markdown",
   "metadata": {},
   "source": [
    "# Applied Machine Learning\n",
    "In this assignment we will explore a dataset about soccer players and referees, focusing predictions and clustering essentially on the players' skin color."
   ]
  },
  {
   "cell_type": "markdown",
   "metadata": {},
   "source": [
    "## Preprocessing"
   ]
  },
  {
   "cell_type": "markdown",
   "metadata": {},
   "source": [
    "Let's have a look at the data:"
   ]
  },
  {
   "cell_type": "code",
   "execution_count": 97,
   "metadata": {
    "collapsed": false
   },
   "outputs": [
    {
     "data": {
      "text/html": [
       "<div>\n",
       "<table border=\"1\" class=\"dataframe\">\n",
       "  <thead>\n",
       "    <tr style=\"text-align: right;\">\n",
       "      <th></th>\n",
       "      <th>playerShort</th>\n",
       "      <th>player</th>\n",
       "      <th>club</th>\n",
       "      <th>leagueCountry</th>\n",
       "      <th>birthday</th>\n",
       "      <th>height</th>\n",
       "      <th>weight</th>\n",
       "      <th>position</th>\n",
       "      <th>games</th>\n",
       "      <th>victories</th>\n",
       "      <th>ties</th>\n",
       "      <th>defeats</th>\n",
       "      <th>goals</th>\n",
       "      <th>yellowCards</th>\n",
       "    </tr>\n",
       "  </thead>\n",
       "  <tbody>\n",
       "    <tr>\n",
       "      <th>0</th>\n",
       "      <td>lucas-wilchez</td>\n",
       "      <td>Lucas Wilchez</td>\n",
       "      <td>Real Zaragoza</td>\n",
       "      <td>Spain</td>\n",
       "      <td>31.08.1983</td>\n",
       "      <td>177.0</td>\n",
       "      <td>72.0</td>\n",
       "      <td>Attacking Midfielder</td>\n",
       "      <td>1</td>\n",
       "      <td>0</td>\n",
       "      <td>0</td>\n",
       "      <td>1</td>\n",
       "      <td>0</td>\n",
       "      <td>0</td>\n",
       "    </tr>\n",
       "    <tr>\n",
       "      <th>1</th>\n",
       "      <td>john-utaka</td>\n",
       "      <td>John Utaka</td>\n",
       "      <td>Montpellier HSC</td>\n",
       "      <td>France</td>\n",
       "      <td>08.01.1982</td>\n",
       "      <td>179.0</td>\n",
       "      <td>82.0</td>\n",
       "      <td>Right Winger</td>\n",
       "      <td>1</td>\n",
       "      <td>0</td>\n",
       "      <td>0</td>\n",
       "      <td>1</td>\n",
       "      <td>0</td>\n",
       "      <td>1</td>\n",
       "    </tr>\n",
       "    <tr>\n",
       "      <th>2</th>\n",
       "      <td>abdon-prats</td>\n",
       "      <td>Abdón Prats</td>\n",
       "      <td>RCD Mallorca</td>\n",
       "      <td>Spain</td>\n",
       "      <td>17.12.1992</td>\n",
       "      <td>181.0</td>\n",
       "      <td>79.0</td>\n",
       "      <td>NaN</td>\n",
       "      <td>1</td>\n",
       "      <td>0</td>\n",
       "      <td>1</td>\n",
       "      <td>0</td>\n",
       "      <td>0</td>\n",
       "      <td>1</td>\n",
       "    </tr>\n",
       "    <tr>\n",
       "      <th>3</th>\n",
       "      <td>pablo-mari</td>\n",
       "      <td>Pablo Marí</td>\n",
       "      <td>RCD Mallorca</td>\n",
       "      <td>Spain</td>\n",
       "      <td>31.08.1993</td>\n",
       "      <td>191.0</td>\n",
       "      <td>87.0</td>\n",
       "      <td>Center Back</td>\n",
       "      <td>1</td>\n",
       "      <td>1</td>\n",
       "      <td>0</td>\n",
       "      <td>0</td>\n",
       "      <td>0</td>\n",
       "      <td>0</td>\n",
       "    </tr>\n",
       "    <tr>\n",
       "      <th>4</th>\n",
       "      <td>ruben-pena</td>\n",
       "      <td>Rubén Peña</td>\n",
       "      <td>Real Valladolid</td>\n",
       "      <td>Spain</td>\n",
       "      <td>18.07.1991</td>\n",
       "      <td>172.0</td>\n",
       "      <td>70.0</td>\n",
       "      <td>Right Midfielder</td>\n",
       "      <td>1</td>\n",
       "      <td>1</td>\n",
       "      <td>0</td>\n",
       "      <td>0</td>\n",
       "      <td>0</td>\n",
       "      <td>0</td>\n",
       "    </tr>\n",
       "    <tr>\n",
       "      <th>5</th>\n",
       "      <td>aaron-hughes</td>\n",
       "      <td>Aaron Hughes</td>\n",
       "      <td>Fulham FC</td>\n",
       "      <td>England</td>\n",
       "      <td>08.11.1979</td>\n",
       "      <td>182.0</td>\n",
       "      <td>71.0</td>\n",
       "      <td>Center Back</td>\n",
       "      <td>1</td>\n",
       "      <td>0</td>\n",
       "      <td>0</td>\n",
       "      <td>1</td>\n",
       "      <td>0</td>\n",
       "      <td>0</td>\n",
       "    </tr>\n",
       "  </tbody>\n",
       "</table>\n",
       "</div>"
      ],
      "text/plain": [
       "     playerShort         player             club leagueCountry    birthday  \\\n",
       "0  lucas-wilchez  Lucas Wilchez    Real Zaragoza         Spain  31.08.1983   \n",
       "1     john-utaka     John Utaka  Montpellier HSC        France  08.01.1982   \n",
       "2    abdon-prats    Abdón Prats     RCD Mallorca         Spain  17.12.1992   \n",
       "3     pablo-mari     Pablo Marí     RCD Mallorca         Spain  31.08.1993   \n",
       "4     ruben-pena     Rubén Peña  Real Valladolid         Spain  18.07.1991   \n",
       "5   aaron-hughes   Aaron Hughes        Fulham FC       England  08.11.1979   \n",
       "\n",
       "   height  weight              position  games  victories  ties  defeats  \\\n",
       "0   177.0    72.0  Attacking Midfielder      1          0     0        1   \n",
       "1   179.0    82.0          Right Winger      1          0     0        1   \n",
       "2   181.0    79.0                   NaN      1          0     1        0   \n",
       "3   191.0    87.0           Center Back      1          1     0        0   \n",
       "4   172.0    70.0      Right Midfielder      1          1     0        0   \n",
       "5   182.0    71.0           Center Back      1          0     0        1   \n",
       "\n",
       "   goals  yellowCards  \n",
       "0      0            0  \n",
       "1      0            1  \n",
       "2      0            1  \n",
       "3      0            0  \n",
       "4      0            0  \n",
       "5      0            0  "
      ]
     },
     "execution_count": 97,
     "metadata": {},
     "output_type": "execute_result"
    }
   ],
   "source": [
    "data = pd.read_csv('CrowdstormingDataJuly1st.csv')\n",
    "data.ix[:5,:14]"
   ]
  },
  {
   "cell_type": "code",
   "execution_count": 98,
   "metadata": {
    "collapsed": false
   },
   "outputs": [
    {
     "data": {
      "text/html": [
       "<div>\n",
       "<table border=\"1\" class=\"dataframe\">\n",
       "  <thead>\n",
       "    <tr style=\"text-align: right;\">\n",
       "      <th></th>\n",
       "      <th>redCards</th>\n",
       "      <th>photoID</th>\n",
       "      <th>rater1</th>\n",
       "      <th>rater2</th>\n",
       "      <th>refNum</th>\n",
       "      <th>refCountry</th>\n",
       "      <th>Alpha_3</th>\n",
       "      <th>meanIAT</th>\n",
       "      <th>nIAT</th>\n",
       "      <th>seIAT</th>\n",
       "      <th>meanExp</th>\n",
       "      <th>nExp</th>\n",
       "      <th>seExp</th>\n",
       "    </tr>\n",
       "  </thead>\n",
       "  <tbody>\n",
       "    <tr>\n",
       "      <th>0</th>\n",
       "      <td>0</td>\n",
       "      <td>95212.jpg</td>\n",
       "      <td>0.25</td>\n",
       "      <td>0.50</td>\n",
       "      <td>1</td>\n",
       "      <td>1</td>\n",
       "      <td>GRC</td>\n",
       "      <td>0.326391</td>\n",
       "      <td>712.0</td>\n",
       "      <td>0.000564</td>\n",
       "      <td>0.396000</td>\n",
       "      <td>750.0</td>\n",
       "      <td>0.002696</td>\n",
       "    </tr>\n",
       "    <tr>\n",
       "      <th>1</th>\n",
       "      <td>0</td>\n",
       "      <td>1663.jpg</td>\n",
       "      <td>0.75</td>\n",
       "      <td>0.75</td>\n",
       "      <td>2</td>\n",
       "      <td>2</td>\n",
       "      <td>ZMB</td>\n",
       "      <td>0.203375</td>\n",
       "      <td>40.0</td>\n",
       "      <td>0.010875</td>\n",
       "      <td>-0.204082</td>\n",
       "      <td>49.0</td>\n",
       "      <td>0.061504</td>\n",
       "    </tr>\n",
       "    <tr>\n",
       "      <th>2</th>\n",
       "      <td>0</td>\n",
       "      <td>NaN</td>\n",
       "      <td>NaN</td>\n",
       "      <td>NaN</td>\n",
       "      <td>3</td>\n",
       "      <td>3</td>\n",
       "      <td>ESP</td>\n",
       "      <td>0.369894</td>\n",
       "      <td>1785.0</td>\n",
       "      <td>0.000229</td>\n",
       "      <td>0.588297</td>\n",
       "      <td>1897.0</td>\n",
       "      <td>0.001002</td>\n",
       "    </tr>\n",
       "    <tr>\n",
       "      <th>3</th>\n",
       "      <td>0</td>\n",
       "      <td>NaN</td>\n",
       "      <td>NaN</td>\n",
       "      <td>NaN</td>\n",
       "      <td>3</td>\n",
       "      <td>3</td>\n",
       "      <td>ESP</td>\n",
       "      <td>0.369894</td>\n",
       "      <td>1785.0</td>\n",
       "      <td>0.000229</td>\n",
       "      <td>0.588297</td>\n",
       "      <td>1897.0</td>\n",
       "      <td>0.001002</td>\n",
       "    </tr>\n",
       "    <tr>\n",
       "      <th>4</th>\n",
       "      <td>0</td>\n",
       "      <td>NaN</td>\n",
       "      <td>NaN</td>\n",
       "      <td>NaN</td>\n",
       "      <td>3</td>\n",
       "      <td>3</td>\n",
       "      <td>ESP</td>\n",
       "      <td>0.369894</td>\n",
       "      <td>1785.0</td>\n",
       "      <td>0.000229</td>\n",
       "      <td>0.588297</td>\n",
       "      <td>1897.0</td>\n",
       "      <td>0.001002</td>\n",
       "    </tr>\n",
       "    <tr>\n",
       "      <th>5</th>\n",
       "      <td>0</td>\n",
       "      <td>3868.jpg</td>\n",
       "      <td>0.25</td>\n",
       "      <td>0.00</td>\n",
       "      <td>4</td>\n",
       "      <td>4</td>\n",
       "      <td>LUX</td>\n",
       "      <td>0.325185</td>\n",
       "      <td>127.0</td>\n",
       "      <td>0.003297</td>\n",
       "      <td>0.538462</td>\n",
       "      <td>130.0</td>\n",
       "      <td>0.013752</td>\n",
       "    </tr>\n",
       "  </tbody>\n",
       "</table>\n",
       "</div>"
      ],
      "text/plain": [
       "   redCards    photoID  rater1  rater2  refNum  refCountry Alpha_3   meanIAT  \\\n",
       "0         0  95212.jpg    0.25    0.50       1           1     GRC  0.326391   \n",
       "1         0   1663.jpg    0.75    0.75       2           2     ZMB  0.203375   \n",
       "2         0        NaN     NaN     NaN       3           3     ESP  0.369894   \n",
       "3         0        NaN     NaN     NaN       3           3     ESP  0.369894   \n",
       "4         0        NaN     NaN     NaN       3           3     ESP  0.369894   \n",
       "5         0   3868.jpg    0.25    0.00       4           4     LUX  0.325185   \n",
       "\n",
       "     nIAT     seIAT   meanExp    nExp     seExp  \n",
       "0   712.0  0.000564  0.396000   750.0  0.002696  \n",
       "1    40.0  0.010875 -0.204082    49.0  0.061504  \n",
       "2  1785.0  0.000229  0.588297  1897.0  0.001002  \n",
       "3  1785.0  0.000229  0.588297  1897.0  0.001002  \n",
       "4  1785.0  0.000229  0.588297  1897.0  0.001002  \n",
       "5   127.0  0.003297  0.538462   130.0  0.013752  "
      ]
     },
     "execution_count": 98,
     "metadata": {},
     "output_type": "execute_result"
    }
   ],
   "source": [
    "data.ix[:5,15:]"
   ]
  },
  {
   "cell_type": "markdown",
   "metadata": {},
   "source": [
    "### NaN values"
   ]
  },
  {
   "cell_type": "code",
   "execution_count": 99,
   "metadata": {
    "collapsed": false
   },
   "outputs": [
    {
     "data": {
      "text/plain": [
       "playerShort          0\n",
       "player               0\n",
       "club                 0\n",
       "leagueCountry        0\n",
       "birthday             0\n",
       "height             263\n",
       "weight            2243\n",
       "position         17726\n",
       "games                0\n",
       "victories            0\n",
       "ties                 0\n",
       "defeats              0\n",
       "goals                0\n",
       "yellowCards          0\n",
       "yellowReds           0\n",
       "redCards             0\n",
       "photoID          21407\n",
       "rater1           21407\n",
       "rater2           21407\n",
       "refNum               0\n",
       "refCountry           0\n",
       "Alpha_3              1\n",
       "meanIAT            163\n",
       "nIAT               163\n",
       "seIAT              163\n",
       "meanExp            163\n",
       "nExp               163\n",
       "seExp              163\n",
       "dtype: int64"
      ]
     },
     "execution_count": 99,
     "metadata": {},
     "output_type": "execute_result"
    }
   ],
   "source": [
    "data.isnull().sum()"
   ]
  },
  {
   "cell_type": "code",
   "execution_count": 100,
   "metadata": {
    "collapsed": true
   },
   "outputs": [],
   "source": [
    "filtered = data.dropna()"
   ]
  },
  {
   "cell_type": "code",
   "execution_count": 101,
   "metadata": {
    "collapsed": false
   },
   "outputs": [
    {
     "data": {
      "text/plain": [
       "0.790649738406333"
      ]
     },
     "execution_count": 101,
     "metadata": {},
     "output_type": "execute_result"
    }
   ],
   "source": [
    "len(filtered)/len(data)"
   ]
  },
  {
   "cell_type": "markdown",
   "metadata": {},
   "source": [
    "If we would decide to simply discard all the NaN values, we would keep only 21% of the DataSet. We are mainly interested in the skin color of each player so we will have a closer look at the `rater1` and `rater2` skin rating columns."
   ]
  },
  {
   "cell_type": "markdown",
   "metadata": {},
   "source": [
    "### Skin Color"
   ]
  },
  {
   "cell_type": "code",
   "execution_count": 102,
   "metadata": {
    "collapsed": false
   },
   "outputs": [
    {
     "data": {
      "text/plain": [
       "0.14659517352836443"
      ]
     },
     "execution_count": 102,
     "metadata": {},
     "output_type": "execute_result"
    }
   ],
   "source": [
    "len(data[data.rater1.isnull() & (data.rater2.isnull())])/len(data)"
   ]
  },
  {
   "cell_type": "markdown",
   "metadata": {},
   "source": [
    "15% of the dataset will be discarded as it doesn't give any information about the skin color."
   ]
  },
  {
   "cell_type": "code",
   "execution_count": 103,
   "metadata": {
    "collapsed": false
   },
   "outputs": [],
   "source": [
    "skin_data = data.dropna(how='all', subset=['rater1','rater2'])"
   ]
  },
  {
   "cell_type": "code",
   "execution_count": 104,
   "metadata": {
    "collapsed": false
   },
   "outputs": [
    {
     "data": {
      "text/plain": [
       "0"
      ]
     },
     "execution_count": 104,
     "metadata": {},
     "output_type": "execute_result"
    }
   ],
   "source": [
    "len(skin_data[skin_data.rater1.isnull() | (skin_data.rater2.isnull())])"
   ]
  },
  {
   "cell_type": "markdown",
   "metadata": {},
   "source": [
    "We can observe that there were always values for both `rater1` and `rater2` or not any values. Let's have a look at the data for which the raters gave a different skin color."
   ]
  },
  {
   "cell_type": "code",
   "execution_count": 105,
   "metadata": {
    "collapsed": true
   },
   "outputs": [],
   "source": [
    "skin_data_differ = skin_data[skin_data.rater1 != skin_data.rater2]"
   ]
  },
  {
   "cell_type": "code",
   "execution_count": 106,
   "metadata": {
    "collapsed": false
   },
   "outputs": [
    {
     "data": {
      "text/plain": [
       "0.23195930059941744"
      ]
     },
     "execution_count": 106,
     "metadata": {},
     "output_type": "execute_result"
    }
   ],
   "source": [
    "len(skin_data_differ)/len(skin_data)"
   ]
  },
  {
   "cell_type": "markdown",
   "metadata": {},
   "source": [
    "For 23% of the player the two raters gave a different value. Let's see if they gave skin colors that are almost the same or opposite skin colors:"
   ]
  },
  {
   "cell_type": "code",
   "execution_count": 107,
   "metadata": {
    "collapsed": false
   },
   "outputs": [],
   "source": [
    "skin_data['skin_difference'] = skin_data.apply(lambda x: abs(x['rater1'] - x['rater2']), axis=1)"
   ]
  },
  {
   "cell_type": "code",
   "execution_count": 108,
   "metadata": {
    "collapsed": false
   },
   "outputs": [
    {
     "data": {
      "image/png": "[encoded data removed]",
      "text/plain": [
       "<matplotlib.figure.Figure at 0x7f8475b39e10>"
      ]
     },
     "metadata": {},
     "output_type": "display_data"
    }
   ],
   "source": [
    "palette = sns.color_palette()\n",
    "sns.countplot(x=\"skin_difference\", data=skin_data, color=palette[0]);"
   ]
  },
  {
   "cell_type": "markdown",
   "metadata": {},
   "source": [
    "If the two raters differ, it is only by one on the 5-point scale or by 2. We decide to keep the average value of the two raters on a 0 to 4 scale."
   ]
  },
  {
   "cell_type": "code",
   "execution_count": 109,
   "metadata": {
    "collapsed": true
   },
   "outputs": [],
   "source": [
    "skin_data['skin'] = skin_data.apply(lambda x: round((x['rater1']+x['rater2'])/2*4), axis=1)"
   ]
  },
  {
   "cell_type": "code",
   "execution_count": 110,
   "metadata": {
    "collapsed": false
   },
   "outputs": [
    {
     "data": {
      "image/png": "[encoded data removed]",
      "text/plain": [
       "<matplotlib.figure.Figure at 0x7f847a40de10>"
      ]
     },
     "metadata": {},
     "output_type": "display_data"
    }
   ],
   "source": [
    "sns.countplot(x=\"skin\", data=skin_data, color=palette[0]);"
   ]
  },
  {
   "cell_type": "markdown",
   "metadata": {},
   "source": [
    "We can observe that the raters are probably not that accurate as the data is skewed."
   ]
  },
  {
   "cell_type": "markdown",
   "metadata": {},
   "source": [
    "### Birthday\n",
    "There are not any missing birthday value. We will have a look at the distribution."
   ]
  },
  {
   "cell_type": "code",
   "execution_count": 111,
   "metadata": {
    "collapsed": false
   },
   "outputs": [],
   "source": [
    "# The birthday string is converted into a datetime type\n",
    "import datetime\n",
    "skin_data['birthday'] = skin_data.apply(lambda x: datetime.datetime.strptime(x['birthday'], \"%d.%m.%Y\"), axis=1)"
   ]
  },
  {
   "cell_type": "code",
   "execution_count": 112,
   "metadata": {
    "collapsed": false
   },
   "outputs": [
    {
     "data": {
      "text/plain": [
       "0   1983-08-31\n",
       "1   1982-01-08\n",
       "5   1979-11-08\n",
       "6   1985-11-10\n",
       "7   1986-04-04\n",
       "Name: birthday, dtype: datetime64[ns]"
      ]
     },
     "execution_count": 112,
     "metadata": {},
     "output_type": "execute_result"
    }
   ],
   "source": [
    "skin_data['birthday'].head()"
   ]
  },
  {
   "cell_type": "code",
   "execution_count": 113,
   "metadata": {
    "collapsed": false,
    "scrolled": true
   },
   "outputs": [],
   "source": [
    "# We will plot number of birthdays per month:\n",
    "birthdays = pd.DataFrame()\n",
    "birthdays['birthday'] = skin_data.apply(lambda x: (x['birthday'] - np.timedelta64(x['birthday'].day-1,'D')), axis=1)"
   ]
  },
  {
   "cell_type": "code",
   "execution_count": 114,
   "metadata": {
    "collapsed": false
   },
   "outputs": [
    {
     "data": {
      "image/png": "[encoded data removed]",
      "text/plain": [
       "<matplotlib.figure.Figure at 0x7f8479e8e710>"
      ]
     },
     "metadata": {},
     "output_type": "display_data"
    }
   ],
   "source": [
    "p = sns.countplot(x=\"birthday\", data=birthdays, color=palette[0])\n",
    "plt.setp(p.get_xticklabels(), rotation=90)\n",
    "p.set(xticks=np.arange(1,244,20));"
   ]
  },
  {
   "cell_type": "markdown",
   "metadata": {},
   "source": [
    "Everything seems fine for the date values."
   ]
  },
  {
   "cell_type": "markdown",
   "metadata": {},
   "source": [
    "### League Country"
   ]
  },
  {
   "cell_type": "code",
   "execution_count": 115,
   "metadata": {
    "collapsed": false
   },
   "outputs": [
    {
     "data": {
      "image/png": "[encoded data removed]",
      "text/plain": [
       "<matplotlib.figure.Figure at 0x7f84791485f8>"
      ]
     },
     "metadata": {},
     "output_type": "display_data"
    }
   ],
   "source": [
    "sns.countplot(x=\"leagueCountry\", data=skin_data, color=palette[0]);"
   ]
  },
  {
   "cell_type": "markdown",
   "metadata": {},
   "source": [
    "### Height"
   ]
  },
  {
   "cell_type": "code",
   "execution_count": 116,
   "metadata": {
    "collapsed": false,
    "scrolled": true
   },
   "outputs": [
    {
     "data": {
      "image/png": "[encoded data removed]",
      "text/plain": [
       "<matplotlib.figure.Figure at 0x7f8476306240>"
      ]
     },
     "metadata": {},
     "output_type": "display_data"
    }
   ],
   "source": [
    "h = sns.countplot(x=\"height\", data=skin_data, color=palette[0])\n",
    "plt.setp(h.get_xticklabels(), rotation=90)\n",
    "h.set(xticks=np.arange(1,48,5));"
   ]
  },
  {
   "cell_type": "markdown",
   "metadata": {},
   "source": [
    "There is no outliers and the distribution looks normal."
   ]
  },
  {
   "cell_type": "markdown",
   "metadata": {},
   "source": [
    "### Weight"
   ]
  },
  {
   "cell_type": "code",
   "execution_count": 117,
   "metadata": {
    "collapsed": false
   },
   "outputs": [
    {
     "data": {
      "image/png": "[encoded data removed]",
      "text/plain": [
       "<matplotlib.figure.Figure at 0x7f84763259e8>"
      ]
     },
     "metadata": {},
     "output_type": "display_data"
    }
   ],
   "source": [
    "w = sns.countplot(x=\"weight\", data=skin_data, color=palette[0])\n",
    "plt.setp(w.get_xticklabels(), rotation=90);\n",
    "#w.set(xticks=np.arange(1,50,5));"
   ]
  },
  {
   "cell_type": "markdown",
   "metadata": {},
   "source": [
    "### Position "
   ]
  },
  {
   "cell_type": "code",
   "execution_count": 118,
   "metadata": {
    "collapsed": false
   },
   "outputs": [
    {
     "data": {
      "image/png": "[encoded data removed]",
      "text/plain": [
       "<matplotlib.figure.Figure at 0x7f8476c3c860>"
      ]
     },
     "metadata": {},
     "output_type": "display_data"
    }
   ],
   "source": [
    "pos = sns.countplot(x=\"position\", data=skin_data, color=palette[0]);\n",
    "plt.setp(pos.get_xticklabels(), rotation=90);"
   ]
  },
  {
   "cell_type": "code",
   "execution_count": 119,
   "metadata": {
    "collapsed": false
   },
   "outputs": [],
   "source": [
    "missing_values = skin_data['position'].isnull().value_counts()"
   ]
  },
  {
   "cell_type": "code",
   "execution_count": 120,
   "metadata": {
    "collapsed": false
   },
   "outputs": [
    {
     "data": {
      "text/plain": [
       "0.072839187327823685"
      ]
     },
     "execution_count": 120,
     "metadata": {},
     "output_type": "execute_result"
    }
   ],
   "source": [
    "missing_values[1]/missing_values[0]"
   ]
  },
  {
   "cell_type": "markdown",
   "metadata": {},
   "source": [
    "7% of the positions are missing. We will replace them by the most by a category `Missing Position`."
   ]
  },
  {
   "cell_type": "markdown",
   "metadata": {},
   "source": [
    "### Referees"
   ]
  },
  {
   "cell_type": "code",
   "execution_count": 121,
   "metadata": {
    "collapsed": false
   },
   "outputs": [
    {
     "name": "stdout",
     "output_type": "stream",
     "text": [
      "There are 2978 different referees.\n"
     ]
    }
   ],
   "source": [
    "print('There are ' + str(len(skin_data['refNum'].value_counts())) + ' different referees.')"
   ]
  },
  {
   "cell_type": "code",
   "execution_count": 122,
   "metadata": {
    "collapsed": false
   },
   "outputs": [
    {
     "name": "stdout",
     "output_type": "stream",
     "text": [
      "Which come from 160 different countries...\n"
     ]
    }
   ],
   "source": [
    "print('Which come from ' + str(len(skin_data['refCountry'].value_counts())) + ' different countries...')"
   ]
  },
  {
   "cell_type": "markdown",
   "metadata": {},
   "source": [
    "### Standardization, Categorical Features Encoding and Replacing Missing Values"
   ]
  },
  {
   "cell_type": "markdown",
   "metadata": {},
   "source": [
    "We transform each feature into a representation that is more suitable for the machine learning methods. Each feature will be **standardized** if it is a float number (remove mean value, scale dividing by standard deviation) using the `StandardScaler()` function from `sklearn`. If there are missing values, they will be replaced by the mean, which is 0 after applying the StandardScaler. The categorical features will be **encoded** using the `LabelEncoder()` function which converts categorical variable into numerical values. The learning models consider continuous values and don't handle categorical features, but we hope RandomForest will be robust again those values. The missing categorical variables are replaced by `Missing Category`. We discard the name of the player, as well as the photoID and the birthday as it is a one to one relationship with the skin color."
   ]
  },
  {
   "cell_type": "code",
   "execution_count": 123,
   "metadata": {
    "collapsed": false
   },
   "outputs": [],
   "source": [
    "from sklearn.preprocessing import LabelEncoder, StandardScaler, Imputer \n",
    "from sklearn.feature_extraction import DictVectorizer\n",
    "\n",
    "# Replacing missing values for categorical data:\n",
    "skin_data['position'] = skin_data['position'].fillna('Missing Position')\n",
    "# For the Alpha_3 there is only one missing value so we will drop it\n",
    "skin_data = skin_data.dropna(subset=['Alpha_3'])\n",
    "\n",
    "# Features to be standardized\n",
    "stand = ['height', 'weight', 'games', 'victories', 'ties', 'defeats', 'goals', 'yellowCards', 'redCards', 'yellowReds', 'meanIAT','seIAT','meanExp','seExp']\n",
    "# Categorical features to be encoded\n",
    "cat = ['club', 'leagueCountry', 'position', 'Alpha_3']\n",
    "\n",
    "# Encode categories\n",
    "for c in cat:\n",
    "    skin_data[c] = LabelEncoder().fit_transform(skin_data[c])\n",
    "\n",
    "# The first function fills the missing values and the second one will apply the standardization \n",
    "for s in stand:\n",
    "    skin_data[s] = Imputer(strategy='mean', axis=1).fit_transform(skin_data[s])[0]\n",
    "    skin_data[s] = StandardScaler().fit_transform(skin_data[s])\n",
    "    \n",
    "# Discard names of players and photoID\n",
    "skin_data_dropped = skin_data.drop(labels=['playerShort','player', 'photoID','birthday'], axis=1)"
   ]
  },
  {
   "cell_type": "code",
   "execution_count": 124,
   "metadata": {
    "collapsed": false,
    "scrolled": true
   },
   "outputs": [
    {
     "data": {
      "text/html": [
       "<div>\n",
       "<table border=\"1\" class=\"dataframe\">\n",
       "  <thead>\n",
       "    <tr style=\"text-align: right;\">\n",
       "      <th></th>\n",
       "      <th>playerShort</th>\n",
       "      <th>player</th>\n",
       "      <th>club</th>\n",
       "      <th>leagueCountry</th>\n",
       "      <th>birthday</th>\n",
       "      <th>height</th>\n",
       "      <th>weight</th>\n",
       "      <th>position</th>\n",
       "      <th>games</th>\n",
       "      <th>victories</th>\n",
       "      <th>...</th>\n",
       "      <th>refCountry</th>\n",
       "      <th>Alpha_3</th>\n",
       "      <th>meanIAT</th>\n",
       "      <th>nIAT</th>\n",
       "      <th>seIAT</th>\n",
       "      <th>meanExp</th>\n",
       "      <th>nExp</th>\n",
       "      <th>seExp</th>\n",
       "      <th>skin_difference</th>\n",
       "      <th>skin</th>\n",
       "    </tr>\n",
       "  </thead>\n",
       "  <tbody>\n",
       "    <tr>\n",
       "      <th>0</th>\n",
       "      <td>lucas-wilchez</td>\n",
       "      <td>Lucas Wilchez</td>\n",
       "      <td>70</td>\n",
       "      <td>3</td>\n",
       "      <td>1983-08-31</td>\n",
       "      <td>-0.753342</td>\n",
       "      <td>-0.609486</td>\n",
       "      <td>0</td>\n",
       "      <td>-0.556813</td>\n",
       "      <td>-0.714223</td>\n",
       "      <td>...</td>\n",
       "      <td>1</td>\n",
       "      <td>60</td>\n",
       "      <td>-0.677683</td>\n",
       "      <td>712.0</td>\n",
       "      <td>-0.013506</td>\n",
       "      <td>-0.309476</td>\n",
       "      <td>750.0</td>\n",
       "      <td>-0.014768</td>\n",
       "      <td>0.25</td>\n",
       "      <td>2</td>\n",
       "    </tr>\n",
       "    <tr>\n",
       "      <th>1</th>\n",
       "      <td>john-utaka</td>\n",
       "      <td>John Utaka</td>\n",
       "      <td>51</td>\n",
       "      <td>1</td>\n",
       "      <td>1982-01-08</td>\n",
       "      <td>-0.459377</td>\n",
       "      <td>0.785829</td>\n",
       "      <td>12</td>\n",
       "      <td>-0.556813</td>\n",
       "      <td>-0.714223</td>\n",
       "      <td>...</td>\n",
       "      <td>2</td>\n",
       "      <td>157</td>\n",
       "      <td>-4.513948</td>\n",
       "      <td>40.0</td>\n",
       "      <td>2.140990</td>\n",
       "      <td>-3.048676</td>\n",
       "      <td>49.0</td>\n",
       "      <td>2.969357</td>\n",
       "      <td>0.00</td>\n",
       "      <td>3</td>\n",
       "    </tr>\n",
       "    <tr>\n",
       "      <th>5</th>\n",
       "      <td>aaron-hughes</td>\n",
       "      <td>Aaron Hughes</td>\n",
       "      <td>34</td>\n",
       "      <td>0</td>\n",
       "      <td>1979-11-08</td>\n",
       "      <td>-0.018431</td>\n",
       "      <td>-0.749017</td>\n",
       "      <td>1</td>\n",
       "      <td>-0.556813</td>\n",
       "      <td>-0.714223</td>\n",
       "      <td>...</td>\n",
       "      <td>4</td>\n",
       "      <td>88</td>\n",
       "      <td>-0.715302</td>\n",
       "      <td>127.0</td>\n",
       "      <td>0.557507</td>\n",
       "      <td>0.340820</td>\n",
       "      <td>130.0</td>\n",
       "      <td>0.546239</td>\n",
       "      <td>0.25</td>\n",
       "      <td>0</td>\n",
       "    </tr>\n",
       "    <tr>\n",
       "      <th>6</th>\n",
       "      <td>aleksandar-kolarov</td>\n",
       "      <td>Aleksandar Kolarov</td>\n",
       "      <td>48</td>\n",
       "      <td>0</td>\n",
       "      <td>1985-11-10</td>\n",
       "      <td>0.716480</td>\n",
       "      <td>0.506766</td>\n",
       "      <td>6</td>\n",
       "      <td>-0.556813</td>\n",
       "      <td>-0.182282</td>\n",
       "      <td>...</td>\n",
       "      <td>4</td>\n",
       "      <td>88</td>\n",
       "      <td>-0.715302</td>\n",
       "      <td>127.0</td>\n",
       "      <td>0.557507</td>\n",
       "      <td>0.340820</td>\n",
       "      <td>130.0</td>\n",
       "      <td>0.546239</td>\n",
       "      <td>0.25</td>\n",
       "      <td>0</td>\n",
       "    </tr>\n",
       "    <tr>\n",
       "      <th>7</th>\n",
       "      <td>alexander-tettey</td>\n",
       "      <td>Alexander Tettey</td>\n",
       "      <td>54</td>\n",
       "      <td>0</td>\n",
       "      <td>1986-04-04</td>\n",
       "      <td>-0.312395</td>\n",
       "      <td>-1.167612</td>\n",
       "      <td>4</td>\n",
       "      <td>-0.556813</td>\n",
       "      <td>-0.714223</td>\n",
       "      <td>...</td>\n",
       "      <td>4</td>\n",
       "      <td>88</td>\n",
       "      <td>-0.715302</td>\n",
       "      <td>127.0</td>\n",
       "      <td>0.557507</td>\n",
       "      <td>0.340820</td>\n",
       "      <td>130.0</td>\n",
       "      <td>0.546239</td>\n",
       "      <td>0.00</td>\n",
       "      <td>4</td>\n",
       "    </tr>\n",
       "  </tbody>\n",
       "</table>\n",
       "<p>5 rows × 30 columns</p>\n",
       "</div>"
      ],
      "text/plain": [
       "          playerShort              player  club  leagueCountry   birthday  \\\n",
       "0       lucas-wilchez       Lucas Wilchez    70              3 1983-08-31   \n",
       "1          john-utaka          John Utaka    51              1 1982-01-08   \n",
       "5        aaron-hughes        Aaron Hughes    34              0 1979-11-08   \n",
       "6  aleksandar-kolarov  Aleksandar Kolarov    48              0 1985-11-10   \n",
       "7    alexander-tettey    Alexander Tettey    54              0 1986-04-04   \n",
       "\n",
       "     height    weight  position     games  victories  ...   refCountry  \\\n",
       "0 -0.753342 -0.609486         0 -0.556813  -0.714223  ...            1   \n",
       "1 -0.459377  0.785829        12 -0.556813  -0.714223  ...            2   \n",
       "5 -0.018431 -0.749017         1 -0.556813  -0.714223  ...            4   \n",
       "6  0.716480  0.506766         6 -0.556813  -0.182282  ...            4   \n",
       "7 -0.312395 -1.167612         4 -0.556813  -0.714223  ...            4   \n",
       "\n",
       "   Alpha_3   meanIAT   nIAT     seIAT   meanExp   nExp     seExp  \\\n",
       "0       60 -0.677683  712.0 -0.013506 -0.309476  750.0 -0.014768   \n",
       "1      157 -4.513948   40.0  2.140990 -3.048676   49.0  2.969357   \n",
       "5       88 -0.715302  127.0  0.557507  0.340820  130.0  0.546239   \n",
       "6       88 -0.715302  127.0  0.557507  0.340820  130.0  0.546239   \n",
       "7       88 -0.715302  127.0  0.557507  0.340820  130.0  0.546239   \n",
       "\n",
       "   skin_difference  skin  \n",
       "0             0.25     2  \n",
       "1             0.00     3  \n",
       "5             0.25     0  \n",
       "6             0.25     0  \n",
       "7             0.00     4  \n",
       "\n",
       "[5 rows x 30 columns]"
      ]
     },
     "execution_count": 124,
     "metadata": {},
     "output_type": "execute_result"
    }
   ],
   "source": [
    "skin_data.head()"
   ]
  },
  {
   "cell_type": "markdown",
   "metadata": {},
   "source": [
    "# 1. Random Forest Skin Color Classifier"
   ]
  },
  {
   "cell_type": "markdown",
   "metadata": {},
   "source": [
    "The most important parameters that can affect the accuracy of the random forest classifier are the number of trees in the forest `n_estimators`, the number of features to consider when looking for a best split `max_features`, the maximum depth of the tree `max_depth` and the minimum number of samples required to be at a leaf node `min_samples_leaf`. There are other parameters but we will have a closer look at those ones."
   ]
  },
  {
   "cell_type": "markdown",
   "metadata": {},
   "source": [
    "We seperate the data between the features used for prediction and the target features (skin). We need to drop the `rater1`, `rater2`, `skin` and `skin_difference` values as we want to predict the `skin`."
   ]
  },
  {
   "cell_type": "code",
   "execution_count": 125,
   "metadata": {
    "collapsed": false
   },
   "outputs": [],
   "source": [
    "to_predict = ['rater1', 'rater2', 'skin', 'skin_difference']\n",
    "data = skin_data_dropped.drop(labels=to_predict, axis=1)\n",
    "features = data.columns\n",
    "# Skin to predict\n",
    "target = skin_data_dropped['skin'].values.ravel()"
   ]
  },
  {
   "cell_type": "markdown",
   "metadata": {},
   "source": [
    "First, all the columns will be used to train the Random Forest Classifier."
   ]
  },
  {
   "cell_type": "markdown",
   "metadata": {},
   "source": [
    "### n_estimators\n",
    "We will test the accuracy of the model for different number of trees. We use 5-folds cross validation to measure the accuracy of the predictive model, we use the mean of the accuracy over the 5 folds to tune the parameters."
   ]
  },
  {
   "cell_type": "code",
   "execution_count": 31,
   "metadata": {
    "collapsed": false
   },
   "outputs": [],
   "source": [
    "from sklearn.metrics import accuracy_score\n",
    "from sklearn import cross_validation"
   ]
  },
  {
   "cell_type": "code",
   "execution_count": 32,
   "metadata": {
    "collapsed": false
   },
   "outputs": [],
   "source": [
    "number_trees = [5,10,20,50,100,200]\n",
    "accuracy = []\n",
    "\n",
    "for t in number_trees:\n",
    "    tree = RandomForestClassifier(n_estimators=t)\n",
    "    scores = cross_validation.cross_val_score(tree, data, target, cv=5)\n",
    "    accuracy.append(scores.mean())"
   ]
  },
  {
   "cell_type": "code",
   "execution_count": 33,
   "metadata": {
    "collapsed": false
   },
   "outputs": [
    {
     "data": {
      "image/png": "[encoded data removed]",
      "text/plain": [
       "<matplotlib.figure.Figure at 0x117bcfd68>"
      ]
     },
     "metadata": {},
     "output_type": "display_data"
    }
   ],
   "source": [
    "plt.plot(number_trees, accuracy);"
   ]
  },
  {
   "cell_type": "markdown",
   "metadata": {},
   "source": [
    "Higher number of trees will avoid overfitting (because the model takes the maximum voting of predictions) and give more stable predictions but it makes the code run slower. We decide to keep 100 trees."
   ]
  },
  {
   "cell_type": "markdown",
   "metadata": {},
   "source": [
    "### max_features\n",
    "As default, the number of features to consider when looking for the best split is equal to the square root of the number of features. We will test it with different values between 1 and the number of features."
   ]
  },
  {
   "cell_type": "code",
   "execution_count": 34,
   "metadata": {
    "collapsed": true
   },
   "outputs": [],
   "source": [
    "max_features = range(1,len(features)+1,2)\n",
    "accuracy = []\n",
    "\n",
    "for m in max_features:\n",
    "    tree = RandomForestClassifier(n_estimators=100, max_features=m)\n",
    "    scores = cross_validation.cross_val_score(tree, data, target, cv=5)\n",
    "    accuracy.append(scores.mean())"
   ]
  },
  {
   "cell_type": "code",
   "execution_count": 36,
   "metadata": {
    "collapsed": false
   },
   "outputs": [
    {
     "data": {
      "image/png": "[encoded data removed]",
      "text/plain": [
       "<matplotlib.figure.Figure at 0x11aac6048>"
      ]
     },
     "metadata": {},
     "output_type": "display_data"
    }
   ],
   "source": [
    "plt.plot(max_features, accuracy);"
   ]
  },
  {
   "cell_type": "markdown",
   "metadata": {},
   "source": [
    "Increasing max_features improves the performance of the model (at each node now we have a higher number of options). However it increases the speed of algorithm. We choose to take `max_features`=5.\n",
    "\n"
   ]
  },
  {
   "cell_type": "markdown",
   "metadata": {},
   "source": [
    "### max_depth\n",
    "The maximum depth of the tree. If None, then nodes are expanded until all leaves are pure."
   ]
  },
  {
   "cell_type": "code",
   "execution_count": 37,
   "metadata": {
    "collapsed": true
   },
   "outputs": [],
   "source": [
    "max_depths = [1,5,10,50]\n",
    "accuracy = []\n",
    "\n",
    "for d in max_depths:\n",
    "    tree = RandomForestClassifier(n_estimators=100, max_features=5, max_depth=d)\n",
    "    scores = cross_validation.cross_val_score(tree, data, target, cv=5)\n",
    "    accuracy.append(scores.mean())"
   ]
  },
  {
   "cell_type": "code",
   "execution_count": 38,
   "metadata": {
    "collapsed": true
   },
   "outputs": [],
   "source": [
    "#We compute as well with the default value\n",
    "tree = RandomForestClassifier(n_estimators=100, max_features=5, max_depth=None)\n",
    "scores = cross_validation.cross_val_score(tree, data, target, cv=5)\n",
    "accuracy.append(scores.mean())"
   ]
  },
  {
   "cell_type": "code",
   "execution_count": 39,
   "metadata": {
    "collapsed": false
   },
   "outputs": [
    {
     "data": {
      "image/png": "[encoded data removed]",
      "text/plain": [
       "<matplotlib.figure.Figure at 0x11a8bab70>"
      ]
     },
     "metadata": {},
     "output_type": "display_data"
    }
   ],
   "source": [
    "max_depths.append(100) # it will simple represent the default value\n",
    "plt.plot(max_depths, accuracy);"
   ]
  },
  {
   "cell_type": "markdown",
   "metadata": {},
   "source": [
    "In our case, there is no overfitting problem with a tree having pure nodes. We will keep the default value."
   ]
  },
  {
   "cell_type": "markdown",
   "metadata": {},
   "source": [
    "### min_samples_leaf\n",
    "The minimum number of samples required to be at a leaf node (we will give it in percentage)"
   ]
  },
  {
   "cell_type": "code",
   "execution_count": 40,
   "metadata": {
    "collapsed": true
   },
   "outputs": [],
   "source": [
    "min_samples = [0.01,0.02,0.05,0.1]\n",
    "accuracy = []\n",
    "\n",
    "for s in min_samples:\n",
    "    tree = RandomForestClassifier(n_estimators=100, max_features=5, min_samples_leaf=s)\n",
    "    scores = cross_validation.cross_val_score(tree, data, target, cv=5)\n",
    "    accuracy.append(scores.mean())"
   ]
  },
  {
   "cell_type": "code",
   "execution_count": 41,
   "metadata": {
    "collapsed": false
   },
   "outputs": [
    {
     "data": {
      "image/png": "[encoded data removed]",
      "text/plain": [
       "<matplotlib.figure.Figure at 0x11ae2acc0>"
      ]
     },
     "metadata": {},
     "output_type": "display_data"
    }
   ],
   "source": [
    "plt.plot(min_samples, accuracy);"
   ]
  },
  {
   "cell_type": "markdown",
   "metadata": {},
   "source": [
    "If less than 0.02% are in a leaf the model is overfitting and if more than 0.02% are in a leaf node it is underfitting."
   ]
  },
  {
   "cell_type": "markdown",
   "metadata": {},
   "source": [
    "### feature\\_importances\\_\n",
    "Now we will have a look at the feature sorted by their score in the tree with the tuned parameter we found."
   ]
  },
  {
   "cell_type": "code",
   "execution_count": 42,
   "metadata": {
    "collapsed": false
   },
   "outputs": [],
   "source": [
    "tree = RandomForestClassifier(n_estimators=100, max_features=5).fit(data, target)"
   ]
  },
  {
   "cell_type": "code",
   "execution_count": 43,
   "metadata": {
    "collapsed": false
   },
   "outputs": [
    {
     "data": {
      "text/plain": [
       "[(0.21249999999999999, 'weight'),\n",
       " (0.21060000000000001, 'club'),\n",
       " (0.2029, 'height'),\n",
       " (0.15210000000000001, 'position'),\n",
       " (0.040399999999999998, 'leagueCountry'),\n",
       " (0.0292, 'refNum'),\n",
       " (0.0178, 'games'),\n",
       " (0.0154, 'victories'),\n",
       " (0.0121, 'defeats'),\n",
       " (0.0111, 'meanExp'),\n",
       " (0.010999999999999999, 'goals'),\n",
       " (0.0103, 'refCountry'),\n",
       " (0.0101, 'ties'),\n",
       " (0.0095999999999999992, 'yellowCards'),\n",
       " (0.0094999999999999998, 'Alpha_3'),\n",
       " (0.0094000000000000004, 'meanIAT'),\n",
       " (0.0091999999999999998, 'seIAT'),\n",
       " (0.0086999999999999994, 'nIAT'),\n",
       " (0.0085000000000000006, 'seExp'),\n",
       " (0.0082000000000000007, 'nExp'),\n",
       " (0.00089999999999999998, 'redCards'),\n",
       " (0.00080000000000000004, 'yellowReds')]"
      ]
     },
     "execution_count": 43,
     "metadata": {},
     "output_type": "execute_result"
    }
   ],
   "source": [
    "sorted(zip(map(lambda x: round(x, 4), tree.feature_importances_), features), reverse=True)"
   ]
  },
  {
   "cell_type": "markdown",
   "metadata": {},
   "source": [
    "The `weight`, `club`, `height`, `position` and `leagueCountry` features are the ones adding the more information about the skin color. "
   ]
  },
  {
   "cell_type": "markdown",
   "metadata": {},
   "source": [
    "We will try to train the tree only with those features to see if their importance order changes."
   ]
  },
  {
   "cell_type": "code",
   "execution_count": 44,
   "metadata": {
    "collapsed": true
   },
   "outputs": [],
   "source": [
    "reduced_features = ['club','height','weight','position', 'leagueCountry']\n",
    "tree = RandomForestClassifier(n_estimators=100, max_features=5).fit(data[reduced_features], target)"
   ]
  },
  {
   "cell_type": "code",
   "execution_count": 45,
   "metadata": {
    "collapsed": false
   },
   "outputs": [
    {
     "data": {
      "text/plain": [
       "[(0.27829999999999999, 'leagueCountry'),\n",
       " (0.27179999999999999, 'height'),\n",
       " (0.24340000000000001, 'club'),\n",
       " (0.18010000000000001, 'weight'),\n",
       " (0.0264, 'position')]"
      ]
     },
     "execution_count": 45,
     "metadata": {},
     "output_type": "execute_result"
    }
   ],
   "source": [
    "sorted(zip(map(lambda x: round(x, 4), tree.feature_importances_), features), reverse=True)"
   ]
  },
  {
   "cell_type": "markdown",
   "metadata": {},
   "source": [
    "It is interesting to see that the order of the features changes, the `leagueCountry` is now the feature adding the most information about the skin color even if it was in the last position in the previous tree classifier. "
   ]
  },
  {
   "cell_type": "markdown",
   "metadata": {
    "collapsed": true
   },
   "source": [
    "# 2. Clustering"
   ]
  },
  {
   "cell_type": "code",
   "execution_count": 128,
   "metadata": {
    "collapsed": false
   },
   "outputs": [
    {
     "data": {
      "text/plain": [
       "Index(['playerShort', 'player', 'club', 'leagueCountry', 'birthday', 'height',\n",
       "       'weight', 'position', 'games', 'victories', 'ties', 'defeats', 'goals',\n",
       "       'yellowCards', 'yellowReds', 'redCards', 'photoID', 'rater1', 'rater2',\n",
       "       'refNum', 'refCountry', 'Alpha_3', 'meanIAT', 'nIAT', 'seIAT',\n",
       "       'meanExp', 'nExp', 'seExp', 'skin_difference', 'skin', 'weightMeanIAT',\n",
       "       'weightMeanExp'],\n",
       "      dtype='object')"
      ]
     },
     "execution_count": 128,
     "metadata": {},
     "output_type": "execute_result"
    }
   ],
   "source": [
    "grouped = skin_data.groupby('playerShort')"
   ]
  },
  {
   "cell_type": "markdown",
   "metadata": {},
   "source": [
    "- Weighted mean for the two mean scores. \n",
    "- for stderr measures first square to get variance, then compute mean of variances, then squareroot to get stderr again. "
   ]
  },
  {
   "cell_type": "code",
   "execution_count": 129,
   "metadata": {
    "collapsed": false
   },
   "outputs": [],
   "source": [
    "skin_data['weightMeanIAT'] = skin_data.meanIAT * skin_data.nIAT / skin_data.nIAT.sum()\n",
    "skin_data['weightMeanExp'] = skin_data.meanExp * skin_data.nExp / skin_data.nExp.sum()\n",
    "unique_count = lambda df: len(df.unique())\n",
    "agg_stderr = lambda df: math.sqrt(np.mean(df**2))"
   ]
  },
  {
   "cell_type": "markdown",
   "metadata": {},
   "source": [
    "`nIAT` and `nExp` probably aren't necessary anymore"
   ]
  },
  {
   "cell_type": "code",
   "execution_count": 131,
   "metadata": {
    "collapsed": false
   },
   "outputs": [],
   "source": [
    "f = {'redCards': ['mean', 'sum'], 'yellowCards': ['mean', 'sum'], 'yellowReds': ['mean', 'sum'],\n",
    "     'refNum': unique_count, 'refCountry': unique_count, 'meanIAT': 'mean', 'meanExp': 'mean', 'seIAT': agg_stderr,\n",
    "    'seExp': agg_stderr, 'nIAT': 'sum', 'nExp': 'sum'}\n",
    "\n",
    "agg_grouped = grouped.agg(f)"
   ]
  },
  {
   "cell_type": "code",
   "execution_count": 132,
   "metadata": {
    "collapsed": false
   },
   "outputs": [
    {
     "data": {
      "text/html": [
       "<div>\n",
       "<table border=\"1\" class=\"dataframe\">\n",
       "  <thead>\n",
       "    <tr>\n",
       "      <th></th>\n",
       "      <th>meanIAT</th>\n",
       "      <th>nIAT</th>\n",
       "      <th colspan=\"2\" halign=\"left\">yellowCards</th>\n",
       "      <th colspan=\"2\" halign=\"left\">redCards</th>\n",
       "      <th>refCountry</th>\n",
       "      <th>refNum</th>\n",
       "      <th colspan=\"2\" halign=\"left\">yellowReds</th>\n",
       "      <th>meanExp</th>\n",
       "      <th>seIAT</th>\n",
       "      <th>seExp</th>\n",
       "      <th>nExp</th>\n",
       "    </tr>\n",
       "    <tr>\n",
       "      <th></th>\n",
       "      <th>mean</th>\n",
       "      <th>sum</th>\n",
       "      <th>mean</th>\n",
       "      <th>sum</th>\n",
       "      <th>mean</th>\n",
       "      <th>sum</th>\n",
       "      <th>&lt;lambda&gt;</th>\n",
       "      <th>&lt;lambda&gt;</th>\n",
       "      <th>mean</th>\n",
       "      <th>sum</th>\n",
       "      <th>mean</th>\n",
       "      <th>&lt;lambda&gt;</th>\n",
       "      <th>&lt;lambda&gt;</th>\n",
       "      <th>sum</th>\n",
       "    </tr>\n",
       "    <tr>\n",
       "      <th>playerShort</th>\n",
       "      <th></th>\n",
       "      <th></th>\n",
       "      <th></th>\n",
       "      <th></th>\n",
       "      <th></th>\n",
       "      <th></th>\n",
       "      <th></th>\n",
       "      <th></th>\n",
       "      <th></th>\n",
       "      <th></th>\n",
       "      <th></th>\n",
       "      <th></th>\n",
       "      <th></th>\n",
       "      <th></th>\n",
       "    </tr>\n",
       "  </thead>\n",
       "  <tbody>\n",
       "    <tr>\n",
       "      <th>aaron-hughes</th>\n",
       "      <td>-0.051875</td>\n",
       "      <td>3271886.0</td>\n",
       "      <td>-0.346517</td>\n",
       "      <td>-57.521792</td>\n",
       "      <td>-0.111946</td>\n",
       "      <td>-18.583099</td>\n",
       "      <td>37</td>\n",
       "      <td>166</td>\n",
       "      <td>-0.108604</td>\n",
       "      <td>-18.028277</td>\n",
       "      <td>0.140490</td>\n",
       "      <td>0.679242</td>\n",
       "      <td>1.383048</td>\n",
       "      <td>3425788.0</td>\n",
       "    </tr>\n",
       "    <tr>\n",
       "      <th>aaron-hunt</th>\n",
       "      <td>0.021697</td>\n",
       "      <td>2584325.0</td>\n",
       "      <td>0.030510</td>\n",
       "      <td>3.020536</td>\n",
       "      <td>-0.023264</td>\n",
       "      <td>-2.303108</td>\n",
       "      <td>25</td>\n",
       "      <td>99</td>\n",
       "      <td>-0.108604</td>\n",
       "      <td>-10.751804</td>\n",
       "      <td>-0.066541</td>\n",
       "      <td>0.134552</td>\n",
       "      <td>0.154519</td>\n",
       "      <td>2659581.0</td>\n",
       "    </tr>\n",
       "    <tr>\n",
       "      <th>aaron-lennon</th>\n",
       "      <td>-0.069532</td>\n",
       "      <td>2144721.0</td>\n",
       "      <td>-0.353268</td>\n",
       "      <td>-35.680047</td>\n",
       "      <td>-0.111946</td>\n",
       "      <td>-11.306585</td>\n",
       "      <td>28</td>\n",
       "      <td>101</td>\n",
       "      <td>-0.108604</td>\n",
       "      <td>-10.969012</td>\n",
       "      <td>0.126371</td>\n",
       "      <td>0.259384</td>\n",
       "      <td>0.443087</td>\n",
       "      <td>2246113.0</td>\n",
       "    </tr>\n",
       "    <tr>\n",
       "      <th>aaron-ramsey</th>\n",
       "      <td>-0.040581</td>\n",
       "      <td>3981726.0</td>\n",
       "      <td>-0.123041</td>\n",
       "      <td>-12.796250</td>\n",
       "      <td>-0.027527</td>\n",
       "      <td>-2.862840</td>\n",
       "      <td>37</td>\n",
       "      <td>104</td>\n",
       "      <td>-0.108604</td>\n",
       "      <td>-11.294824</td>\n",
       "      <td>0.232325</td>\n",
       "      <td>5.860834</td>\n",
       "      <td>5.287312</td>\n",
       "      <td>4130878.0</td>\n",
       "    </tr>\n",
       "    <tr>\n",
       "      <th>abdelhamid-el-kaoutari</th>\n",
       "      <td>-0.515270</td>\n",
       "      <td>104797.0</td>\n",
       "      <td>-0.222670</td>\n",
       "      <td>-8.238808</td>\n",
       "      <td>0.362626</td>\n",
       "      <td>13.417151</td>\n",
       "      <td>11</td>\n",
       "      <td>37</td>\n",
       "      <td>0.864890</td>\n",
       "      <td>32.000918</td>\n",
       "      <td>-0.585243</td>\n",
       "      <td>1.293641</td>\n",
       "      <td>1.163850</td>\n",
       "      <td>109292.0</td>\n",
       "    </tr>\n",
       "    <tr>\n",
       "      <th>abdou-traore_2</th>\n",
       "      <td>-0.874543</td>\n",
       "      <td>189994.0</td>\n",
       "      <td>-0.167065</td>\n",
       "      <td>-7.016715</td>\n",
       "      <td>-0.111946</td>\n",
       "      <td>-4.701748</td>\n",
       "      <td>13</td>\n",
       "      <td>42</td>\n",
       "      <td>0.105796</td>\n",
       "      <td>4.443446</td>\n",
       "      <td>-0.763380</td>\n",
       "      <td>2.513942</td>\n",
       "      <td>1.458362</td>\n",
       "      <td>199139.0</td>\n",
       "    </tr>\n",
       "    <tr>\n",
       "      <th>abdoulaye-diallo_2</th>\n",
       "      <td>-0.202627</td>\n",
       "      <td>52934.0</td>\n",
       "      <td>-0.485819</td>\n",
       "      <td>-9.716384</td>\n",
       "      <td>-0.111946</td>\n",
       "      <td>-2.238928</td>\n",
       "      <td>5</td>\n",
       "      <td>20</td>\n",
       "      <td>-0.108604</td>\n",
       "      <td>-2.172082</td>\n",
       "      <td>-0.287481</td>\n",
       "      <td>0.098577</td>\n",
       "      <td>0.117702</td>\n",
       "      <td>55250.0</td>\n",
       "    </tr>\n",
       "    <tr>\n",
       "      <th>abdoulaye-keita_2</th>\n",
       "      <td>0.227117</td>\n",
       "      <td>3456.0</td>\n",
       "      <td>-0.485819</td>\n",
       "      <td>-0.971638</td>\n",
       "      <td>-0.111946</td>\n",
       "      <td>-0.223893</td>\n",
       "      <td>2</td>\n",
       "      <td>2</td>\n",
       "      <td>-0.108604</td>\n",
       "      <td>-0.217208</td>\n",
       "      <td>-0.212588</td>\n",
       "      <td>0.071729</td>\n",
       "      <td>0.086173</td>\n",
       "      <td>3617.0</td>\n",
       "    </tr>\n",
       "    <tr>\n",
       "      <th>abdoulwhaid-sissoko</th>\n",
       "      <td>0.001736</td>\n",
       "      <td>138331.0</td>\n",
       "      <td>-0.029421</td>\n",
       "      <td>-1.647556</td>\n",
       "      <td>0.201610</td>\n",
       "      <td>11.290170</td>\n",
       "      <td>3</td>\n",
       "      <td>56</td>\n",
       "      <td>-0.108604</td>\n",
       "      <td>-6.081828</td>\n",
       "      <td>-0.155963</td>\n",
       "      <td>0.094021</td>\n",
       "      <td>0.114340</td>\n",
       "      <td>145220.0</td>\n",
       "    </tr>\n",
       "    <tr>\n",
       "      <th>abdul-rahman-baba</th>\n",
       "      <td>-0.188673</td>\n",
       "      <td>184400.0</td>\n",
       "      <td>-0.350590</td>\n",
       "      <td>-9.465930</td>\n",
       "      <td>0.213223</td>\n",
       "      <td>5.757031</td>\n",
       "      <td>7</td>\n",
       "      <td>27</td>\n",
       "      <td>-0.108604</td>\n",
       "      <td>-2.932310</td>\n",
       "      <td>-0.468928</td>\n",
       "      <td>0.121772</td>\n",
       "      <td>0.151991</td>\n",
       "      <td>190059.0</td>\n",
       "    </tr>\n",
       "    <tr>\n",
       "      <th>abdul-razak</th>\n",
       "      <td>0.200928</td>\n",
       "      <td>840540.0</td>\n",
       "      <td>-0.412058</td>\n",
       "      <td>-13.597908</td>\n",
       "      <td>-0.111946</td>\n",
       "      <td>-3.694231</td>\n",
       "      <td>10</td>\n",
       "      <td>33</td>\n",
       "      <td>-0.108604</td>\n",
       "      <td>-3.583935</td>\n",
       "      <td>0.331446</td>\n",
       "      <td>0.997785</td>\n",
       "      <td>1.687666</td>\n",
       "      <td>879359.0</td>\n",
       "    </tr>\n",
       "    <tr>\n",
       "      <th>abel-aguilar</th>\n",
       "      <td>0.344926</td>\n",
       "      <td>2319585.0</td>\n",
       "      <td>0.288675</td>\n",
       "      <td>31.754282</td>\n",
       "      <td>0.047682</td>\n",
       "      <td>5.245065</td>\n",
       "      <td>22</td>\n",
       "      <td>110</td>\n",
       "      <td>0.136982</td>\n",
       "      <td>15.068003</td>\n",
       "      <td>0.389403</td>\n",
       "      <td>0.331773</td>\n",
       "      <td>0.482926</td>\n",
       "      <td>2389319.0</td>\n",
       "    </tr>\n",
       "    <tr>\n",
       "      <th>abelaziz-barrada</th>\n",
       "      <td>-0.205236</td>\n",
       "      <td>84581.0</td>\n",
       "      <td>-0.142545</td>\n",
       "      <td>-5.559258</td>\n",
       "      <td>0.113171</td>\n",
       "      <td>4.413675</td>\n",
       "      <td>18</td>\n",
       "      <td>39</td>\n",
       "      <td>0.122289</td>\n",
       "      <td>4.769258</td>\n",
       "      <td>-0.294699</td>\n",
       "      <td>1.794764</td>\n",
       "      <td>2.393720</td>\n",
       "      <td>88948.0</td>\n",
       "    </tr>\n",
       "    <tr>\n",
       "      <th>abou-diaby</th>\n",
       "      <td>-0.349774</td>\n",
       "      <td>1273170.0</td>\n",
       "      <td>-0.036442</td>\n",
       "      <td>-2.368741</td>\n",
       "      <td>0.158195</td>\n",
       "      <td>10.282652</td>\n",
       "      <td>21</td>\n",
       "      <td>65</td>\n",
       "      <td>-0.108604</td>\n",
       "      <td>-7.059265</td>\n",
       "      <td>-0.186834</td>\n",
       "      <td>0.518194</td>\n",
       "      <td>0.631429</td>\n",
       "      <td>1333335.0</td>\n",
       "    </tr>\n",
       "    <tr>\n",
       "      <th>adam-bodzek</th>\n",
       "      <td>-0.358453</td>\n",
       "      <td>433944.0</td>\n",
       "      <td>0.948576</td>\n",
       "      <td>53.120267</td>\n",
       "      <td>-0.111946</td>\n",
       "      <td>-6.268997</td>\n",
       "      <td>1</td>\n",
       "      <td>56</td>\n",
       "      <td>0.052196</td>\n",
       "      <td>2.922989</td>\n",
       "      <td>-0.583510</td>\n",
       "      <td>0.119984</td>\n",
       "      <td>0.140177</td>\n",
       "      <td>446544.0</td>\n",
       "    </tr>\n",
       "    <tr>\n",
       "      <th>adam-campbell</th>\n",
       "      <td>-0.463920</td>\n",
       "      <td>550269.0</td>\n",
       "      <td>-0.414227</td>\n",
       "      <td>-7.041863</td>\n",
       "      <td>-0.111946</td>\n",
       "      <td>-1.903088</td>\n",
       "      <td>7</td>\n",
       "      <td>17</td>\n",
       "      <td>-0.108604</td>\n",
       "      <td>-1.846269</td>\n",
       "      <td>-0.336963</td>\n",
       "      <td>0.119478</td>\n",
       "      <td>0.146672</td>\n",
       "      <td>576229.0</td>\n",
       "    </tr>\n",
       "    <tr>\n",
       "      <th>adam-federici</th>\n",
       "      <td>-0.557351</td>\n",
       "      <td>7146937.0</td>\n",
       "      <td>-0.425717</td>\n",
       "      <td>-34.483103</td>\n",
       "      <td>-0.111946</td>\n",
       "      <td>-9.067657</td>\n",
       "      <td>10</td>\n",
       "      <td>81</td>\n",
       "      <td>-0.108604</td>\n",
       "      <td>-8.796930</td>\n",
       "      <td>-0.381793</td>\n",
       "      <td>0.273822</td>\n",
       "      <td>0.483246</td>\n",
       "      <td>7406135.0</td>\n",
       "    </tr>\n",
       "    <tr>\n",
       "      <th>adam-hlousek</th>\n",
       "      <td>0.519203</td>\n",
       "      <td>328608.0</td>\n",
       "      <td>-0.059847</td>\n",
       "      <td>-3.590833</td>\n",
       "      <td>-0.111946</td>\n",
       "      <td>-6.716783</td>\n",
       "      <td>17</td>\n",
       "      <td>60</td>\n",
       "      <td>-0.108604</td>\n",
       "      <td>-6.516245</td>\n",
       "      <td>0.158568</td>\n",
       "      <td>0.130326</td>\n",
       "      <td>0.155188</td>\n",
       "      <td>339954.0</td>\n",
       "    </tr>\n",
       "    <tr>\n",
       "      <th>adam-johnson</th>\n",
       "      <td>-0.290535</td>\n",
       "      <td>2654381.0</td>\n",
       "      <td>-0.208011</td>\n",
       "      <td>-19.137047</td>\n",
       "      <td>-0.111946</td>\n",
       "      <td>-10.299067</td>\n",
       "      <td>22</td>\n",
       "      <td>92</td>\n",
       "      <td>-0.108604</td>\n",
       "      <td>-9.991575</td>\n",
       "      <td>-0.205416</td>\n",
       "      <td>0.129962</td>\n",
       "      <td>0.146021</td>\n",
       "      <td>2779459.0</td>\n",
       "    </tr>\n",
       "    <tr>\n",
       "      <th>adam-morgan</th>\n",
       "      <td>-0.035097</td>\n",
       "      <td>598408.0</td>\n",
       "      <td>-0.485819</td>\n",
       "      <td>-11.173841</td>\n",
       "      <td>-0.111946</td>\n",
       "      <td>-2.574767</td>\n",
       "      <td>11</td>\n",
       "      <td>23</td>\n",
       "      <td>-0.108604</td>\n",
       "      <td>-2.497894</td>\n",
       "      <td>-0.071646</td>\n",
       "      <td>2.586224</td>\n",
       "      <td>0.931969</td>\n",
       "      <td>626601.0</td>\n",
       "    </tr>\n",
       "    <tr>\n",
       "      <th>adam-pinter</th>\n",
       "      <td>0.539319</td>\n",
       "      <td>235958.0</td>\n",
       "      <td>-0.181553</td>\n",
       "      <td>-10.166996</td>\n",
       "      <td>0.044832</td>\n",
       "      <td>2.510586</td>\n",
       "      <td>23</td>\n",
       "      <td>56</td>\n",
       "      <td>0.052196</td>\n",
       "      <td>2.922989</td>\n",
       "      <td>0.758949</td>\n",
       "      <td>1.260486</td>\n",
       "      <td>1.659763</td>\n",
       "      <td>247245.0</td>\n",
       "    </tr>\n",
       "    <tr>\n",
       "      <th>adam-smith_3</th>\n",
       "      <td>-0.517473</td>\n",
       "      <td>2658363.0</td>\n",
       "      <td>0.018393</td>\n",
       "      <td>1.287477</td>\n",
       "      <td>0.013476</td>\n",
       "      <td>0.943337</td>\n",
       "      <td>11</td>\n",
       "      <td>70</td>\n",
       "      <td>0.148676</td>\n",
       "      <td>10.407349</td>\n",
       "      <td>-0.343799</td>\n",
       "      <td>1.122777</td>\n",
       "      <td>1.456196</td>\n",
       "      <td>2784255.0</td>\n",
       "    </tr>\n",
       "    <tr>\n",
       "      <th>adam-szalai</th>\n",
       "      <td>-0.010336</td>\n",
       "      <td>450957.0</td>\n",
       "      <td>-0.172860</td>\n",
       "      <td>-12.100213</td>\n",
       "      <td>-0.111946</td>\n",
       "      <td>-7.836247</td>\n",
       "      <td>25</td>\n",
       "      <td>70</td>\n",
       "      <td>0.020036</td>\n",
       "      <td>1.402532</td>\n",
       "      <td>-0.048987</td>\n",
       "      <td>0.285272</td>\n",
       "      <td>0.472589</td>\n",
       "      <td>466527.0</td>\n",
       "    </tr>\n",
       "    <tr>\n",
       "      <th>adan</th>\n",
       "      <td>0.656810</td>\n",
       "      <td>105304.0</td>\n",
       "      <td>-0.446559</td>\n",
       "      <td>-13.843332</td>\n",
       "      <td>0.171266</td>\n",
       "      <td>5.309246</td>\n",
       "      <td>13</td>\n",
       "      <td>31</td>\n",
       "      <td>-0.108604</td>\n",
       "      <td>-3.366726</td>\n",
       "      <td>0.548001</td>\n",
       "      <td>0.401936</td>\n",
       "      <td>0.751560</td>\n",
       "      <td>110781.0</td>\n",
       "    </tr>\n",
       "    <tr>\n",
       "      <th>adel-taarabt</th>\n",
       "      <td>-0.674983</td>\n",
       "      <td>2809079.0</td>\n",
       "      <td>-0.152576</td>\n",
       "      <td>-12.816368</td>\n",
       "      <td>-0.111946</td>\n",
       "      <td>-9.403496</td>\n",
       "      <td>11</td>\n",
       "      <td>84</td>\n",
       "      <td>-0.001404</td>\n",
       "      <td>-0.117925</td>\n",
       "      <td>-0.585350</td>\n",
       "      <td>1.076949</td>\n",
       "      <td>1.067928</td>\n",
       "      <td>2942916.0</td>\n",
       "    </tr>\n",
       "    <tr>\n",
       "      <th>adil-rami</th>\n",
       "      <td>0.200082</td>\n",
       "      <td>505782.0</td>\n",
       "      <td>0.225138</td>\n",
       "      <td>22.738965</td>\n",
       "      <td>0.148833</td>\n",
       "      <td>15.032166</td>\n",
       "      <td>25</td>\n",
       "      <td>101</td>\n",
       "      <td>0.069709</td>\n",
       "      <td>7.040623</td>\n",
       "      <td>0.128953</td>\n",
       "      <td>0.123698</td>\n",
       "      <td>0.150376</td>\n",
       "      <td>530242.0</td>\n",
       "    </tr>\n",
       "    <tr>\n",
       "      <th>adrian-colunga</th>\n",
       "      <td>0.547488</td>\n",
       "      <td>87911.0</td>\n",
       "      <td>0.083870</td>\n",
       "      <td>3.941879</td>\n",
       "      <td>-0.111946</td>\n",
       "      <td>-5.261480</td>\n",
       "      <td>7</td>\n",
       "      <td>47</td>\n",
       "      <td>0.082988</td>\n",
       "      <td>3.900426</td>\n",
       "      <td>0.516705</td>\n",
       "      <td>0.087058</td>\n",
       "      <td>0.102732</td>\n",
       "      <td>92973.0</td>\n",
       "    </tr>\n",
       "    <tr>\n",
       "      <th>adrian-mutu</th>\n",
       "      <td>0.499829</td>\n",
       "      <td>1198464.0</td>\n",
       "      <td>0.198779</td>\n",
       "      <td>31.804578</td>\n",
       "      <td>0.052671</td>\n",
       "      <td>8.427329</td>\n",
       "      <td>32</td>\n",
       "      <td>160</td>\n",
       "      <td>0.003956</td>\n",
       "      <td>0.632982</td>\n",
       "      <td>0.319045</td>\n",
       "      <td>0.138349</td>\n",
       "      <td>0.157712</td>\n",
       "      <td>1257152.0</td>\n",
       "    </tr>\n",
       "    <tr>\n",
       "      <th>adrian_2</th>\n",
       "      <td>0.278337</td>\n",
       "      <td>2565503.0</td>\n",
       "      <td>-0.259389</td>\n",
       "      <td>-22.307446</td>\n",
       "      <td>-0.111946</td>\n",
       "      <td>-9.627389</td>\n",
       "      <td>31</td>\n",
       "      <td>86</td>\n",
       "      <td>-0.108604</td>\n",
       "      <td>-9.339951</td>\n",
       "      <td>0.245674</td>\n",
       "      <td>0.254978</td>\n",
       "      <td>0.461851</td>\n",
       "      <td>2647455.0</td>\n",
       "    </tr>\n",
       "    <tr>\n",
       "      <th>adrian_7</th>\n",
       "      <td>0.678926</td>\n",
       "      <td>49980.0</td>\n",
       "      <td>-0.355420</td>\n",
       "      <td>-9.951749</td>\n",
       "      <td>-0.111946</td>\n",
       "      <td>-3.134499</td>\n",
       "      <td>1</td>\n",
       "      <td>28</td>\n",
       "      <td>-0.108604</td>\n",
       "      <td>-3.040914</td>\n",
       "      <td>0.568306</td>\n",
       "      <td>0.083427</td>\n",
       "      <td>0.100770</td>\n",
       "      <td>53116.0</td>\n",
       "    </tr>\n",
       "    <tr>\n",
       "      <th>...</th>\n",
       "      <td>...</td>\n",
       "      <td>...</td>\n",
       "      <td>...</td>\n",
       "      <td>...</td>\n",
       "      <td>...</td>\n",
       "      <td>...</td>\n",
       "      <td>...</td>\n",
       "      <td>...</td>\n",
       "      <td>...</td>\n",
       "      <td>...</td>\n",
       "      <td>...</td>\n",
       "      <td>...</td>\n",
       "      <td>...</td>\n",
       "      <td>...</td>\n",
       "    </tr>\n",
       "    <tr>\n",
       "      <th>xisco_2</th>\n",
       "      <td>0.425871</td>\n",
       "      <td>485456.0</td>\n",
       "      <td>-0.046324</td>\n",
       "      <td>-3.335350</td>\n",
       "      <td>-0.111946</td>\n",
       "      <td>-8.060139</td>\n",
       "      <td>11</td>\n",
       "      <td>72</td>\n",
       "      <td>-0.108604</td>\n",
       "      <td>-7.819494</td>\n",
       "      <td>0.374932</td>\n",
       "      <td>0.099991</td>\n",
       "      <td>0.122013</td>\n",
       "      <td>509793.0</td>\n",
       "    </tr>\n",
       "    <tr>\n",
       "      <th>yacine-brahimi</th>\n",
       "      <td>-0.143506</td>\n",
       "      <td>159389.0</td>\n",
       "      <td>-0.138087</td>\n",
       "      <td>-9.666088</td>\n",
       "      <td>-0.111946</td>\n",
       "      <td>-7.836247</td>\n",
       "      <td>18</td>\n",
       "      <td>70</td>\n",
       "      <td>0.148676</td>\n",
       "      <td>10.407349</td>\n",
       "      <td>-0.174007</td>\n",
       "      <td>3.612500</td>\n",
       "      <td>2.257564</td>\n",
       "      <td>166882.0</td>\n",
       "    </tr>\n",
       "    <tr>\n",
       "      <th>yann-mvila</th>\n",
       "      <td>0.313882</td>\n",
       "      <td>560207.0</td>\n",
       "      <td>-0.075414</td>\n",
       "      <td>-6.485630</td>\n",
       "      <td>-0.009858</td>\n",
       "      <td>-0.847805</td>\n",
       "      <td>24</td>\n",
       "      <td>86</td>\n",
       "      <td>-0.003897</td>\n",
       "      <td>-0.335134</td>\n",
       "      <td>0.489155</td>\n",
       "      <td>0.117548</td>\n",
       "      <td>0.145114</td>\n",
       "      <td>585572.0</td>\n",
       "    </tr>\n",
       "    <tr>\n",
       "      <th>yannick-djalo</th>\n",
       "      <td>0.486250</td>\n",
       "      <td>6297333.0</td>\n",
       "      <td>-0.329785</td>\n",
       "      <td>-25.723269</td>\n",
       "      <td>-0.111946</td>\n",
       "      <td>-8.731818</td>\n",
       "      <td>25</td>\n",
       "      <td>78</td>\n",
       "      <td>-0.108604</td>\n",
       "      <td>-8.471118</td>\n",
       "      <td>0.540030</td>\n",
       "      <td>0.153512</td>\n",
       "      <td>0.212687</td>\n",
       "      <td>6472778.0</td>\n",
       "    </tr>\n",
       "    <tr>\n",
       "      <th>yannik-schulze</th>\n",
       "      <td>-0.358453</td>\n",
       "      <td>271215.0</td>\n",
       "      <td>-0.207633</td>\n",
       "      <td>-7.267169</td>\n",
       "      <td>-0.111946</td>\n",
       "      <td>-3.918123</td>\n",
       "      <td>1</td>\n",
       "      <td>35</td>\n",
       "      <td>-0.108604</td>\n",
       "      <td>-3.801143</td>\n",
       "      <td>-0.583510</td>\n",
       "      <td>0.119984</td>\n",
       "      <td>0.140177</td>\n",
       "      <td>279090.0</td>\n",
       "    </tr>\n",
       "    <tr>\n",
       "      <th>yassine-benzia</th>\n",
       "      <td>-0.325916</td>\n",
       "      <td>2097808.0</td>\n",
       "      <td>-0.287693</td>\n",
       "      <td>-12.370786</td>\n",
       "      <td>-0.111946</td>\n",
       "      <td>-4.813694</td>\n",
       "      <td>23</td>\n",
       "      <td>43</td>\n",
       "      <td>-0.108604</td>\n",
       "      <td>-4.669975</td>\n",
       "      <td>-0.081239</td>\n",
       "      <td>1.408234</td>\n",
       "      <td>1.816428</td>\n",
       "      <td>2157238.0</td>\n",
       "    </tr>\n",
       "    <tr>\n",
       "      <th>yassine-el-ghanassi</th>\n",
       "      <td>0.372101</td>\n",
       "      <td>408184.0</td>\n",
       "      <td>-0.213342</td>\n",
       "      <td>-14.293944</td>\n",
       "      <td>-0.111946</td>\n",
       "      <td>-7.500408</td>\n",
       "      <td>21</td>\n",
       "      <td>67</td>\n",
       "      <td>-0.108604</td>\n",
       "      <td>-7.276473</td>\n",
       "      <td>0.215450</td>\n",
       "      <td>0.141665</td>\n",
       "      <td>0.161372</td>\n",
       "      <td>425374.0</td>\n",
       "    </tr>\n",
       "    <tr>\n",
       "      <th>yassine-jebbour</th>\n",
       "      <td>-0.146004</td>\n",
       "      <td>92765.0</td>\n",
       "      <td>-0.404682</td>\n",
       "      <td>-12.140450</td>\n",
       "      <td>0.473359</td>\n",
       "      <td>14.200775</td>\n",
       "      <td>8</td>\n",
       "      <td>30</td>\n",
       "      <td>0.191556</td>\n",
       "      <td>5.746695</td>\n",
       "      <td>-0.198039</td>\n",
       "      <td>0.097512</td>\n",
       "      <td>0.116119</td>\n",
       "      <td>96923.0</td>\n",
       "    </tr>\n",
       "    <tr>\n",
       "      <th>yaya-toure</th>\n",
       "      <td>-0.054684</td>\n",
       "      <td>1189535.0</td>\n",
       "      <td>0.170754</td>\n",
       "      <td>25.954630</td>\n",
       "      <td>-0.054186</td>\n",
       "      <td>-8.236267</td>\n",
       "      <td>44</td>\n",
       "      <td>152</td>\n",
       "      <td>-0.108604</td>\n",
       "      <td>-16.507820</td>\n",
       "      <td>-0.161284</td>\n",
       "      <td>1.432195</td>\n",
       "      <td>1.955858</td>\n",
       "      <td>1245331.0</td>\n",
       "    </tr>\n",
       "    <tr>\n",
       "      <th>yoan-gouffran</th>\n",
       "      <td>-0.289037</td>\n",
       "      <td>919219.0</td>\n",
       "      <td>-0.193724</td>\n",
       "      <td>-14.529309</td>\n",
       "      <td>0.005115</td>\n",
       "      <td>0.383605</td>\n",
       "      <td>20</td>\n",
       "      <td>75</td>\n",
       "      <td>-0.108604</td>\n",
       "      <td>-8.145306</td>\n",
       "      <td>-0.222221</td>\n",
       "      <td>0.272133</td>\n",
       "      <td>0.452293</td>\n",
       "      <td>962091.0</td>\n",
       "    </tr>\n",
       "    <tr>\n",
       "      <th>yoann-gourcuff</th>\n",
       "      <td>0.058532</td>\n",
       "      <td>2569892.0</td>\n",
       "      <td>-0.171411</td>\n",
       "      <td>-20.569357</td>\n",
       "      <td>0.034380</td>\n",
       "      <td>4.125601</td>\n",
       "      <td>34</td>\n",
       "      <td>120</td>\n",
       "      <td>-0.108604</td>\n",
       "      <td>-13.032490</td>\n",
       "      <td>0.011441</td>\n",
       "      <td>0.424584</td>\n",
       "      <td>0.537405</td>\n",
       "      <td>2651569.0</td>\n",
       "    </tr>\n",
       "    <tr>\n",
       "      <th>yohan-cabaye</th>\n",
       "      <td>-0.087488</td>\n",
       "      <td>1320231.0</td>\n",
       "      <td>0.393739</td>\n",
       "      <td>46.854914</td>\n",
       "      <td>-0.038168</td>\n",
       "      <td>-4.542036</td>\n",
       "      <td>30</td>\n",
       "      <td>119</td>\n",
       "      <td>-0.032933</td>\n",
       "      <td>-3.919068</td>\n",
       "      <td>-0.090905</td>\n",
       "      <td>0.289412</td>\n",
       "      <td>0.449860</td>\n",
       "      <td>1381927.0</td>\n",
       "    </tr>\n",
       "    <tr>\n",
       "      <th>yohandry-orozco</th>\n",
       "      <td>0.848965</td>\n",
       "      <td>2043746.0</td>\n",
       "      <td>-0.379988</td>\n",
       "      <td>-17.479431</td>\n",
       "      <td>-0.111946</td>\n",
       "      <td>-5.149534</td>\n",
       "      <td>20</td>\n",
       "      <td>46</td>\n",
       "      <td>-0.108604</td>\n",
       "      <td>-4.995788</td>\n",
       "      <td>0.881442</td>\n",
       "      <td>1.168642</td>\n",
       "      <td>1.943510</td>\n",
       "      <td>2100002.0</td>\n",
       "    </tr>\n",
       "    <tr>\n",
       "      <th>yossi-benayoun</th>\n",
       "      <td>0.158130</td>\n",
       "      <td>4177246.0</td>\n",
       "      <td>-0.229160</td>\n",
       "      <td>-33.686475</td>\n",
       "      <td>-0.111946</td>\n",
       "      <td>-16.456118</td>\n",
       "      <td>34</td>\n",
       "      <td>147</td>\n",
       "      <td>-0.047347</td>\n",
       "      <td>-6.959982</td>\n",
       "      <td>0.270087</td>\n",
       "      <td>0.714063</td>\n",
       "      <td>1.463450</td>\n",
       "      <td>4335072.0</td>\n",
       "    </tr>\n",
       "    <tr>\n",
       "      <th>younes-belhanda</th>\n",
       "      <td>0.017749</td>\n",
       "      <td>151010.0</td>\n",
       "      <td>0.122712</td>\n",
       "      <td>7.853580</td>\n",
       "      <td>0.299597</td>\n",
       "      <td>19.174182</td>\n",
       "      <td>24</td>\n",
       "      <td>64</td>\n",
       "      <td>0.172796</td>\n",
       "      <td>11.058974</td>\n",
       "      <td>0.352994</td>\n",
       "      <td>1.633363</td>\n",
       "      <td>2.113923</td>\n",
       "      <td>157985.0</td>\n",
       "    </tr>\n",
       "    <tr>\n",
       "      <th>younes-kaboul</th>\n",
       "      <td>-0.148622</td>\n",
       "      <td>1277976.0</td>\n",
       "      <td>-0.136089</td>\n",
       "      <td>-11.839700</td>\n",
       "      <td>0.089883</td>\n",
       "      <td>7.819832</td>\n",
       "      <td>23</td>\n",
       "      <td>87</td>\n",
       "      <td>0.305411</td>\n",
       "      <td>26.570714</td>\n",
       "      <td>-0.088037</td>\n",
       "      <td>0.255952</td>\n",
       "      <td>0.422955</td>\n",
       "      <td>1338000.0</td>\n",
       "    </tr>\n",
       "    <tr>\n",
       "      <th>youssef-el-arabi</th>\n",
       "      <td>-0.383270</td>\n",
       "      <td>157208.0</td>\n",
       "      <td>-0.213342</td>\n",
       "      <td>-14.293944</td>\n",
       "      <td>-0.111946</td>\n",
       "      <td>-7.500408</td>\n",
       "      <td>15</td>\n",
       "      <td>67</td>\n",
       "      <td>-0.108604</td>\n",
       "      <td>-7.276473</td>\n",
       "      <td>-0.455570</td>\n",
       "      <td>1.358703</td>\n",
       "      <td>1.819246</td>\n",
       "      <td>164749.0</td>\n",
       "    </tr>\n",
       "    <tr>\n",
       "      <th>yunus-malli</th>\n",
       "      <td>-0.315927</td>\n",
       "      <td>640715.0</td>\n",
       "      <td>-0.425717</td>\n",
       "      <td>-34.483103</td>\n",
       "      <td>-0.111946</td>\n",
       "      <td>-9.067657</td>\n",
       "      <td>6</td>\n",
       "      <td>81</td>\n",
       "      <td>-0.108604</td>\n",
       "      <td>-8.796930</td>\n",
       "      <td>-0.490469</td>\n",
       "      <td>0.118353</td>\n",
       "      <td>0.138409</td>\n",
       "      <td>660254.0</td>\n",
       "    </tr>\n",
       "    <tr>\n",
       "      <th>zdenk-pospch</th>\n",
       "      <td>0.176604</td>\n",
       "      <td>730613.0</td>\n",
       "      <td>-0.181553</td>\n",
       "      <td>-18.881563</td>\n",
       "      <td>-0.111946</td>\n",
       "      <td>-11.642424</td>\n",
       "      <td>34</td>\n",
       "      <td>104</td>\n",
       "      <td>-0.022019</td>\n",
       "      <td>-2.290007</td>\n",
       "      <td>0.265042</td>\n",
       "      <td>0.568004</td>\n",
       "      <td>0.570420</td>\n",
       "      <td>761462.0</td>\n",
       "    </tr>\n",
       "    <tr>\n",
       "      <th>zdravko-kuzmanovic</th>\n",
       "      <td>0.325819</td>\n",
       "      <td>815909.0</td>\n",
       "      <td>-0.109962</td>\n",
       "      <td>-14.954773</td>\n",
       "      <td>-0.047391</td>\n",
       "      <td>-6.445124</td>\n",
       "      <td>36</td>\n",
       "      <td>136</td>\n",
       "      <td>-0.042392</td>\n",
       "      <td>-5.765338</td>\n",
       "      <td>0.168850</td>\n",
       "      <td>0.638445</td>\n",
       "      <td>1.088815</td>\n",
       "      <td>851738.0</td>\n",
       "    </tr>\n",
       "    <tr>\n",
       "      <th>ze-castro</th>\n",
       "      <td>0.580122</td>\n",
       "      <td>172830.0</td>\n",
       "      <td>0.082143</td>\n",
       "      <td>4.928606</td>\n",
       "      <td>0.034380</td>\n",
       "      <td>2.062801</td>\n",
       "      <td>12</td>\n",
       "      <td>60</td>\n",
       "      <td>0.041476</td>\n",
       "      <td>2.488573</td>\n",
       "      <td>0.485237</td>\n",
       "      <td>0.086354</td>\n",
       "      <td>0.103809</td>\n",
       "      <td>181892.0</td>\n",
       "    </tr>\n",
       "    <tr>\n",
       "      <th>zhi-gin-lam</th>\n",
       "      <td>-0.358453</td>\n",
       "      <td>635418.0</td>\n",
       "      <td>-0.367081</td>\n",
       "      <td>-30.100671</td>\n",
       "      <td>-0.111946</td>\n",
       "      <td>-9.179603</td>\n",
       "      <td>1</td>\n",
       "      <td>82</td>\n",
       "      <td>-0.108604</td>\n",
       "      <td>-8.905535</td>\n",
       "      <td>-0.583510</td>\n",
       "      <td>0.119984</td>\n",
       "      <td>0.140177</td>\n",
       "      <td>653868.0</td>\n",
       "    </tr>\n",
       "    <tr>\n",
       "      <th>zlatan-alomerovic</th>\n",
       "      <td>-0.358453</td>\n",
       "      <td>526932.0</td>\n",
       "      <td>-0.306839</td>\n",
       "      <td>-20.865077</td>\n",
       "      <td>0.017165</td>\n",
       "      <td>1.167229</td>\n",
       "      <td>1</td>\n",
       "      <td>68</td>\n",
       "      <td>-0.108604</td>\n",
       "      <td>-7.385077</td>\n",
       "      <td>-0.583510</td>\n",
       "      <td>0.119984</td>\n",
       "      <td>0.140177</td>\n",
       "      <td>542232.0</td>\n",
       "    </tr>\n",
       "    <tr>\n",
       "      <th>zlatan-ibrahimovic</th>\n",
       "      <td>0.366766</td>\n",
       "      <td>1029792.0</td>\n",
       "      <td>0.146247</td>\n",
       "      <td>26.470627</td>\n",
       "      <td>0.179090</td>\n",
       "      <td>32.415206</td>\n",
       "      <td>36</td>\n",
       "      <td>181</td>\n",
       "      <td>0.090397</td>\n",
       "      <td>16.361931</td>\n",
       "      <td>0.205239</td>\n",
       "      <td>0.188314</td>\n",
       "      <td>0.252172</td>\n",
       "      <td>1077841.0</td>\n",
       "    </tr>\n",
       "    <tr>\n",
       "      <th>zlatko-junuzovic</th>\n",
       "      <td>0.099346</td>\n",
       "      <td>473957.0</td>\n",
       "      <td>0.085016</td>\n",
       "      <td>9.606758</td>\n",
       "      <td>-0.111946</td>\n",
       "      <td>-12.649941</td>\n",
       "      <td>37</td>\n",
       "      <td>113</td>\n",
       "      <td>-0.028915</td>\n",
       "      <td>-3.267444</td>\n",
       "      <td>0.089918</td>\n",
       "      <td>0.279404</td>\n",
       "      <td>0.347376</td>\n",
       "      <td>492691.0</td>\n",
       "    </tr>\n",
       "    <tr>\n",
       "      <th>zoltan-gera</th>\n",
       "      <td>0.030208</td>\n",
       "      <td>2921406.0</td>\n",
       "      <td>-0.089147</td>\n",
       "      <td>-12.034829</td>\n",
       "      <td>-0.046912</td>\n",
       "      <td>-6.333178</td>\n",
       "      <td>36</td>\n",
       "      <td>135</td>\n",
       "      <td>-0.041902</td>\n",
       "      <td>-5.656733</td>\n",
       "      <td>0.138852</td>\n",
       "      <td>0.147785</td>\n",
       "      <td>0.180011</td>\n",
       "      <td>3059538.0</td>\n",
       "    </tr>\n",
       "    <tr>\n",
       "      <th>zoltan-stieber</th>\n",
       "      <td>-0.345269</td>\n",
       "      <td>420137.0</td>\n",
       "      <td>-0.210258</td>\n",
       "      <td>-11.143664</td>\n",
       "      <td>-0.111946</td>\n",
       "      <td>-5.933158</td>\n",
       "      <td>6</td>\n",
       "      <td>53</td>\n",
       "      <td>-0.108604</td>\n",
       "      <td>-5.756016</td>\n",
       "      <td>-0.471994</td>\n",
       "      <td>0.120820</td>\n",
       "      <td>0.140340</td>\n",
       "      <td>433229.0</td>\n",
       "    </tr>\n",
       "    <tr>\n",
       "      <th>zoumana-camara</th>\n",
       "      <td>0.004288</td>\n",
       "      <td>769392.0</td>\n",
       "      <td>0.136235</td>\n",
       "      <td>12.261160</td>\n",
       "      <td>0.473359</td>\n",
       "      <td>42.602326</td>\n",
       "      <td>21</td>\n",
       "      <td>90</td>\n",
       "      <td>0.091503</td>\n",
       "      <td>8.235267</td>\n",
       "      <td>-0.169337</td>\n",
       "      <td>0.132387</td>\n",
       "      <td>0.151592</td>\n",
       "      <td>806031.0</td>\n",
       "    </tr>\n",
       "    <tr>\n",
       "      <th>zubikarai</th>\n",
       "      <td>0.647432</td>\n",
       "      <td>54929.0</td>\n",
       "      <td>-0.401884</td>\n",
       "      <td>-11.654631</td>\n",
       "      <td>0.493542</td>\n",
       "      <td>14.312722</td>\n",
       "      <td>2</td>\n",
       "      <td>29</td>\n",
       "      <td>-0.108604</td>\n",
       "      <td>-3.149518</td>\n",
       "      <td>0.584759</td>\n",
       "      <td>0.084671</td>\n",
       "      <td>0.101995</td>\n",
       "      <td>58328.0</td>\n",
       "    </tr>\n",
       "    <tr>\n",
       "      <th>zurutuza</th>\n",
       "      <td>0.556812</td>\n",
       "      <td>71131.0</td>\n",
       "      <td>0.183565</td>\n",
       "      <td>7.342613</td>\n",
       "      <td>-0.111946</td>\n",
       "      <td>-4.477855</td>\n",
       "      <td>6</td>\n",
       "      <td>40</td>\n",
       "      <td>-0.108604</td>\n",
       "      <td>-4.344163</td>\n",
       "      <td>0.579354</td>\n",
       "      <td>0.133398</td>\n",
       "      <td>0.155611</td>\n",
       "      <td>75401.0</td>\n",
       "    </tr>\n",
       "  </tbody>\n",
       "</table>\n",
       "<p>1585 rows × 14 columns</p>\n",
       "</div>"
      ],
      "text/plain": [
       "                         meanIAT       nIAT yellowCards             redCards  \\\n",
       "                            mean        sum        mean        sum      mean   \n",
       "playerShort                                                                    \n",
       "aaron-hughes           -0.051875  3271886.0   -0.346517 -57.521792 -0.111946   \n",
       "aaron-hunt              0.021697  2584325.0    0.030510   3.020536 -0.023264   \n",
       "aaron-lennon           -0.069532  2144721.0   -0.353268 -35.680047 -0.111946   \n",
       "aaron-ramsey           -0.040581  3981726.0   -0.123041 -12.796250 -0.027527   \n",
       "abdelhamid-el-kaoutari -0.515270   104797.0   -0.222670  -8.238808  0.362626   \n",
       "abdou-traore_2         -0.874543   189994.0   -0.167065  -7.016715 -0.111946   \n",
       "abdoulaye-diallo_2     -0.202627    52934.0   -0.485819  -9.716384 -0.111946   \n",
       "abdoulaye-keita_2       0.227117     3456.0   -0.485819  -0.971638 -0.111946   \n",
       "abdoulwhaid-sissoko     0.001736   138331.0   -0.029421  -1.647556  0.201610   \n",
       "abdul-rahman-baba      -0.188673   184400.0   -0.350590  -9.465930  0.213223   \n",
       "abdul-razak             0.200928   840540.0   -0.412058 -13.597908 -0.111946   \n",
       "abel-aguilar            0.344926  2319585.0    0.288675  31.754282  0.047682   \n",
       "abelaziz-barrada       -0.205236    84581.0   -0.142545  -5.559258  0.113171   \n",
       "abou-diaby             -0.349774  1273170.0   -0.036442  -2.368741  0.158195   \n",
       "adam-bodzek            -0.358453   433944.0    0.948576  53.120267 -0.111946   \n",
       "adam-campbell          -0.463920   550269.0   -0.414227  -7.041863 -0.111946   \n",
       "adam-federici          -0.557351  7146937.0   -0.425717 -34.483103 -0.111946   \n",
       "adam-hlousek            0.519203   328608.0   -0.059847  -3.590833 -0.111946   \n",
       "adam-johnson           -0.290535  2654381.0   -0.208011 -19.137047 -0.111946   \n",
       "adam-morgan            -0.035097   598408.0   -0.485819 -11.173841 -0.111946   \n",
       "adam-pinter             0.539319   235958.0   -0.181553 -10.166996  0.044832   \n",
       "adam-smith_3           -0.517473  2658363.0    0.018393   1.287477  0.013476   \n",
       "adam-szalai            -0.010336   450957.0   -0.172860 -12.100213 -0.111946   \n",
       "adan                    0.656810   105304.0   -0.446559 -13.843332  0.171266   \n",
       "adel-taarabt           -0.674983  2809079.0   -0.152576 -12.816368 -0.111946   \n",
       "adil-rami               0.200082   505782.0    0.225138  22.738965  0.148833   \n",
       "adrian-colunga          0.547488    87911.0    0.083870   3.941879 -0.111946   \n",
       "adrian-mutu             0.499829  1198464.0    0.198779  31.804578  0.052671   \n",
       "adrian_2                0.278337  2565503.0   -0.259389 -22.307446 -0.111946   \n",
       "adrian_7                0.678926    49980.0   -0.355420  -9.951749 -0.111946   \n",
       "...                          ...        ...         ...        ...       ...   \n",
       "xisco_2                 0.425871   485456.0   -0.046324  -3.335350 -0.111946   \n",
       "yacine-brahimi         -0.143506   159389.0   -0.138087  -9.666088 -0.111946   \n",
       "yann-mvila              0.313882   560207.0   -0.075414  -6.485630 -0.009858   \n",
       "yannick-djalo           0.486250  6297333.0   -0.329785 -25.723269 -0.111946   \n",
       "yannik-schulze         -0.358453   271215.0   -0.207633  -7.267169 -0.111946   \n",
       "yassine-benzia         -0.325916  2097808.0   -0.287693 -12.370786 -0.111946   \n",
       "yassine-el-ghanassi     0.372101   408184.0   -0.213342 -14.293944 -0.111946   \n",
       "yassine-jebbour        -0.146004    92765.0   -0.404682 -12.140450  0.473359   \n",
       "yaya-toure             -0.054684  1189535.0    0.170754  25.954630 -0.054186   \n",
       "yoan-gouffran          -0.289037   919219.0   -0.193724 -14.529309  0.005115   \n",
       "yoann-gourcuff          0.058532  2569892.0   -0.171411 -20.569357  0.034380   \n",
       "yohan-cabaye           -0.087488  1320231.0    0.393739  46.854914 -0.038168   \n",
       "yohandry-orozco         0.848965  2043746.0   -0.379988 -17.479431 -0.111946   \n",
       "yossi-benayoun          0.158130  4177246.0   -0.229160 -33.686475 -0.111946   \n",
       "younes-belhanda         0.017749   151010.0    0.122712   7.853580  0.299597   \n",
       "younes-kaboul          -0.148622  1277976.0   -0.136089 -11.839700  0.089883   \n",
       "youssef-el-arabi       -0.383270   157208.0   -0.213342 -14.293944 -0.111946   \n",
       "yunus-malli            -0.315927   640715.0   -0.425717 -34.483103 -0.111946   \n",
       "zdenk-pospch            0.176604   730613.0   -0.181553 -18.881563 -0.111946   \n",
       "zdravko-kuzmanovic      0.325819   815909.0   -0.109962 -14.954773 -0.047391   \n",
       "ze-castro               0.580122   172830.0    0.082143   4.928606  0.034380   \n",
       "zhi-gin-lam            -0.358453   635418.0   -0.367081 -30.100671 -0.111946   \n",
       "zlatan-alomerovic      -0.358453   526932.0   -0.306839 -20.865077  0.017165   \n",
       "zlatan-ibrahimovic      0.366766  1029792.0    0.146247  26.470627  0.179090   \n",
       "zlatko-junuzovic        0.099346   473957.0    0.085016   9.606758 -0.111946   \n",
       "zoltan-gera             0.030208  2921406.0   -0.089147 -12.034829 -0.046912   \n",
       "zoltan-stieber         -0.345269   420137.0   -0.210258 -11.143664 -0.111946   \n",
       "zoumana-camara          0.004288   769392.0    0.136235  12.261160  0.473359   \n",
       "zubikarai               0.647432    54929.0   -0.401884 -11.654631  0.493542   \n",
       "zurutuza                0.556812    71131.0    0.183565   7.342613 -0.111946   \n",
       "\n",
       "                                  refCountry   refNum yellowReds             \\\n",
       "                              sum   <lambda> <lambda>       mean        sum   \n",
       "playerShort                                                                   \n",
       "aaron-hughes           -18.583099         37      166  -0.108604 -18.028277   \n",
       "aaron-hunt              -2.303108         25       99  -0.108604 -10.751804   \n",
       "aaron-lennon           -11.306585         28      101  -0.108604 -10.969012   \n",
       "aaron-ramsey            -2.862840         37      104  -0.108604 -11.294824   \n",
       "abdelhamid-el-kaoutari  13.417151         11       37   0.864890  32.000918   \n",
       "abdou-traore_2          -4.701748         13       42   0.105796   4.443446   \n",
       "abdoulaye-diallo_2      -2.238928          5       20  -0.108604  -2.172082   \n",
       "abdoulaye-keita_2       -0.223893          2        2  -0.108604  -0.217208   \n",
       "abdoulwhaid-sissoko     11.290170          3       56  -0.108604  -6.081828   \n",
       "abdul-rahman-baba        5.757031          7       27  -0.108604  -2.932310   \n",
       "abdul-razak             -3.694231         10       33  -0.108604  -3.583935   \n",
       "abel-aguilar             5.245065         22      110   0.136982  15.068003   \n",
       "abelaziz-barrada         4.413675         18       39   0.122289   4.769258   \n",
       "abou-diaby              10.282652         21       65  -0.108604  -7.059265   \n",
       "adam-bodzek             -6.268997          1       56   0.052196   2.922989   \n",
       "adam-campbell           -1.903088          7       17  -0.108604  -1.846269   \n",
       "adam-federici           -9.067657         10       81  -0.108604  -8.796930   \n",
       "adam-hlousek            -6.716783         17       60  -0.108604  -6.516245   \n",
       "adam-johnson           -10.299067         22       92  -0.108604  -9.991575   \n",
       "adam-morgan             -2.574767         11       23  -0.108604  -2.497894   \n",
       "adam-pinter              2.510586         23       56   0.052196   2.922989   \n",
       "adam-smith_3             0.943337         11       70   0.148676  10.407349   \n",
       "adam-szalai             -7.836247         25       70   0.020036   1.402532   \n",
       "adan                     5.309246         13       31  -0.108604  -3.366726   \n",
       "adel-taarabt            -9.403496         11       84  -0.001404  -0.117925   \n",
       "adil-rami               15.032166         25      101   0.069709   7.040623   \n",
       "adrian-colunga          -5.261480          7       47   0.082988   3.900426   \n",
       "adrian-mutu              8.427329         32      160   0.003956   0.632982   \n",
       "adrian_2                -9.627389         31       86  -0.108604  -9.339951   \n",
       "adrian_7                -3.134499          1       28  -0.108604  -3.040914   \n",
       "...                           ...        ...      ...        ...        ...   \n",
       "xisco_2                 -8.060139         11       72  -0.108604  -7.819494   \n",
       "yacine-brahimi          -7.836247         18       70   0.148676  10.407349   \n",
       "yann-mvila              -0.847805         24       86  -0.003897  -0.335134   \n",
       "yannick-djalo           -8.731818         25       78  -0.108604  -8.471118   \n",
       "yannik-schulze          -3.918123          1       35  -0.108604  -3.801143   \n",
       "yassine-benzia          -4.813694         23       43  -0.108604  -4.669975   \n",
       "yassine-el-ghanassi     -7.500408         21       67  -0.108604  -7.276473   \n",
       "yassine-jebbour         14.200775          8       30   0.191556   5.746695   \n",
       "yaya-toure              -8.236267         44      152  -0.108604 -16.507820   \n",
       "yoan-gouffran            0.383605         20       75  -0.108604  -8.145306   \n",
       "yoann-gourcuff           4.125601         34      120  -0.108604 -13.032490   \n",
       "yohan-cabaye            -4.542036         30      119  -0.032933  -3.919068   \n",
       "yohandry-orozco         -5.149534         20       46  -0.108604  -4.995788   \n",
       "yossi-benayoun         -16.456118         34      147  -0.047347  -6.959982   \n",
       "younes-belhanda         19.174182         24       64   0.172796  11.058974   \n",
       "younes-kaboul            7.819832         23       87   0.305411  26.570714   \n",
       "youssef-el-arabi        -7.500408         15       67  -0.108604  -7.276473   \n",
       "yunus-malli             -9.067657          6       81  -0.108604  -8.796930   \n",
       "zdenk-pospch           -11.642424         34      104  -0.022019  -2.290007   \n",
       "zdravko-kuzmanovic      -6.445124         36      136  -0.042392  -5.765338   \n",
       "ze-castro                2.062801         12       60   0.041476   2.488573   \n",
       "zhi-gin-lam             -9.179603          1       82  -0.108604  -8.905535   \n",
       "zlatan-alomerovic        1.167229          1       68  -0.108604  -7.385077   \n",
       "zlatan-ibrahimovic      32.415206         36      181   0.090397  16.361931   \n",
       "zlatko-junuzovic       -12.649941         37      113  -0.028915  -3.267444   \n",
       "zoltan-gera             -6.333178         36      135  -0.041902  -5.656733   \n",
       "zoltan-stieber          -5.933158          6       53  -0.108604  -5.756016   \n",
       "zoumana-camara          42.602326         21       90   0.091503   8.235267   \n",
       "zubikarai               14.312722          2       29  -0.108604  -3.149518   \n",
       "zurutuza                -4.477855          6       40  -0.108604  -4.344163   \n",
       "\n",
       "                         meanExp     seIAT     seExp       nExp  \n",
       "                            mean  <lambda>  <lambda>        sum  \n",
       "playerShort                                                      \n",
       "aaron-hughes            0.140490  0.679242  1.383048  3425788.0  \n",
       "aaron-hunt             -0.066541  0.134552  0.154519  2659581.0  \n",
       "aaron-lennon            0.126371  0.259384  0.443087  2246113.0  \n",
       "aaron-ramsey            0.232325  5.860834  5.287312  4130878.0  \n",
       "abdelhamid-el-kaoutari -0.585243  1.293641  1.163850   109292.0  \n",
       "abdou-traore_2         -0.763380  2.513942  1.458362   199139.0  \n",
       "abdoulaye-diallo_2     -0.287481  0.098577  0.117702    55250.0  \n",
       "abdoulaye-keita_2      -0.212588  0.071729  0.086173     3617.0  \n",
       "abdoulwhaid-sissoko    -0.155963  0.094021  0.114340   145220.0  \n",
       "abdul-rahman-baba      -0.468928  0.121772  0.151991   190059.0  \n",
       "abdul-razak             0.331446  0.997785  1.687666   879359.0  \n",
       "abel-aguilar            0.389403  0.331773  0.482926  2389319.0  \n",
       "abelaziz-barrada       -0.294699  1.794764  2.393720    88948.0  \n",
       "abou-diaby             -0.186834  0.518194  0.631429  1333335.0  \n",
       "adam-bodzek            -0.583510  0.119984  0.140177   446544.0  \n",
       "adam-campbell          -0.336963  0.119478  0.146672   576229.0  \n",
       "adam-federici          -0.381793  0.273822  0.483246  7406135.0  \n",
       "adam-hlousek            0.158568  0.130326  0.155188   339954.0  \n",
       "adam-johnson           -0.205416  0.129962  0.146021  2779459.0  \n",
       "adam-morgan            -0.071646  2.586224  0.931969   626601.0  \n",
       "adam-pinter             0.758949  1.260486  1.659763   247245.0  \n",
       "adam-smith_3           -0.343799  1.122777  1.456196  2784255.0  \n",
       "adam-szalai            -0.048987  0.285272  0.472589   466527.0  \n",
       "adan                    0.548001  0.401936  0.751560   110781.0  \n",
       "adel-taarabt           -0.585350  1.076949  1.067928  2942916.0  \n",
       "adil-rami               0.128953  0.123698  0.150376   530242.0  \n",
       "adrian-colunga          0.516705  0.087058  0.102732    92973.0  \n",
       "adrian-mutu             0.319045  0.138349  0.157712  1257152.0  \n",
       "adrian_2                0.245674  0.254978  0.461851  2647455.0  \n",
       "adrian_7                0.568306  0.083427  0.100770    53116.0  \n",
       "...                          ...       ...       ...        ...  \n",
       "xisco_2                 0.374932  0.099991  0.122013   509793.0  \n",
       "yacine-brahimi         -0.174007  3.612500  2.257564   166882.0  \n",
       "yann-mvila              0.489155  0.117548  0.145114   585572.0  \n",
       "yannick-djalo           0.540030  0.153512  0.212687  6472778.0  \n",
       "yannik-schulze         -0.583510  0.119984  0.140177   279090.0  \n",
       "yassine-benzia         -0.081239  1.408234  1.816428  2157238.0  \n",
       "yassine-el-ghanassi     0.215450  0.141665  0.161372   425374.0  \n",
       "yassine-jebbour        -0.198039  0.097512  0.116119    96923.0  \n",
       "yaya-toure             -0.161284  1.432195  1.955858  1245331.0  \n",
       "yoan-gouffran          -0.222221  0.272133  0.452293   962091.0  \n",
       "yoann-gourcuff          0.011441  0.424584  0.537405  2651569.0  \n",
       "yohan-cabaye           -0.090905  0.289412  0.449860  1381927.0  \n",
       "yohandry-orozco         0.881442  1.168642  1.943510  2100002.0  \n",
       "yossi-benayoun          0.270087  0.714063  1.463450  4335072.0  \n",
       "younes-belhanda         0.352994  1.633363  2.113923   157985.0  \n",
       "younes-kaboul          -0.088037  0.255952  0.422955  1338000.0  \n",
       "youssef-el-arabi       -0.455570  1.358703  1.819246   164749.0  \n",
       "yunus-malli            -0.490469  0.118353  0.138409   660254.0  \n",
       "zdenk-pospch            0.265042  0.568004  0.570420   761462.0  \n",
       "zdravko-kuzmanovic      0.168850  0.638445  1.088815   851738.0  \n",
       "ze-castro               0.485237  0.086354  0.103809   181892.0  \n",
       "zhi-gin-lam            -0.583510  0.119984  0.140177   653868.0  \n",
       "zlatan-alomerovic      -0.583510  0.119984  0.140177   542232.0  \n",
       "zlatan-ibrahimovic      0.205239  0.188314  0.252172  1077841.0  \n",
       "zlatko-junuzovic        0.089918  0.279404  0.347376   492691.0  \n",
       "zoltan-gera             0.138852  0.147785  0.180011  3059538.0  \n",
       "zoltan-stieber         -0.471994  0.120820  0.140340   433229.0  \n",
       "zoumana-camara         -0.169337  0.132387  0.151592   806031.0  \n",
       "zubikarai               0.584759  0.084671  0.101995    58328.0  \n",
       "zurutuza                0.579354  0.133398  0.155611    75401.0  \n",
       "\n",
       "[1585 rows x 14 columns]"
      ]
     },
     "execution_count": 132,
     "metadata": {},
     "output_type": "execute_result"
    }
   ],
   "source": [
    "agg_grouped"
   ]
  },
  {
   "cell_type": "code",
   "execution_count": null,
   "metadata": {
    "collapsed": true
   },
   "outputs": [],
   "source": []
  }
 ],
 "metadata": {
  "anaconda-cloud": {},
  "kernelspec": {
   "display_name": "Python [Root]",
   "language": "python",
   "name": "Python [Root]"
  },
  "language_info": {
   "codemirror_mode": {
    "name": "ipython",
    "version": 3
   },
   "file_extension": ".py",
   "mimetype": "text/x-python",
   "name": "python",
   "nbconvert_exporter": "python",
   "pygments_lexer": "ipython3",
   "version": "3.5.2"
  }
 },
 "nbformat": 4,
 "nbformat_minor": 0
}
