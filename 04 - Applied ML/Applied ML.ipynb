{
 "cells": [
  {
   "cell_type": "code",
   "execution_count": 2,
   "metadata": {
    "collapsed": false
   },
   "outputs": [],
   "source": [
    "import pandas as pd\n",
    "import numpy as np \n",
    "from sklearn.ensemble import RandomForestRegressor, RandomForestClassifier\n",
    "import matplotlib.pyplot as plt \n",
    "import seaborn as sns\n",
    "import warnings\n",
    "import math\n",
    "warnings.filterwarnings('ignore')\n",
    "%matplotlib inline\n",
    "pd.options.mode.chained_assignment = None\n",
    "\n",
    "sns.set_style(\"darkgrid\")"
   ]
  },
  {
   "cell_type": "markdown",
   "metadata": {},
   "source": [
    "# Applied Machine Learning\n",
    "In this assignment we will explore a dataset about soccer players and referees, focusing predictions and clustering essentially on the players' skin color."
   ]
  },
  {
   "cell_type": "markdown",
   "metadata": {},
   "source": [
    "## Preprocessing"
   ]
  },
  {
   "cell_type": "markdown",
   "metadata": {},
   "source": [
    "Let's have a look at the data:"
   ]
  },
  {
   "cell_type": "code",
   "execution_count": 3,
   "metadata": {
    "collapsed": false
   },
   "outputs": [
    {
     "data": {
      "text/html": [
       "<div>\n",
       "<table border=\"1\" class=\"dataframe\">\n",
       "  <thead>\n",
       "    <tr style=\"text-align: right;\">\n",
       "      <th></th>\n",
       "      <th>playerShort</th>\n",
       "      <th>player</th>\n",
       "      <th>club</th>\n",
       "      <th>leagueCountry</th>\n",
       "      <th>birthday</th>\n",
       "      <th>height</th>\n",
       "      <th>weight</th>\n",
       "      <th>position</th>\n",
       "      <th>games</th>\n",
       "      <th>victories</th>\n",
       "      <th>ties</th>\n",
       "      <th>defeats</th>\n",
       "      <th>goals</th>\n",
       "      <th>yellowCards</th>\n",
       "    </tr>\n",
       "  </thead>\n",
       "  <tbody>\n",
       "    <tr>\n",
       "      <th>0</th>\n",
       "      <td>lucas-wilchez</td>\n",
       "      <td>Lucas Wilchez</td>\n",
       "      <td>Real Zaragoza</td>\n",
       "      <td>Spain</td>\n",
       "      <td>31.08.1983</td>\n",
       "      <td>177.0</td>\n",
       "      <td>72.0</td>\n",
       "      <td>Attacking Midfielder</td>\n",
       "      <td>1</td>\n",
       "      <td>0</td>\n",
       "      <td>0</td>\n",
       "      <td>1</td>\n",
       "      <td>0</td>\n",
       "      <td>0</td>\n",
       "    </tr>\n",
       "    <tr>\n",
       "      <th>1</th>\n",
       "      <td>john-utaka</td>\n",
       "      <td>John Utaka</td>\n",
       "      <td>Montpellier HSC</td>\n",
       "      <td>France</td>\n",
       "      <td>08.01.1982</td>\n",
       "      <td>179.0</td>\n",
       "      <td>82.0</td>\n",
       "      <td>Right Winger</td>\n",
       "      <td>1</td>\n",
       "      <td>0</td>\n",
       "      <td>0</td>\n",
       "      <td>1</td>\n",
       "      <td>0</td>\n",
       "      <td>1</td>\n",
       "    </tr>\n",
       "    <tr>\n",
       "      <th>2</th>\n",
       "      <td>abdon-prats</td>\n",
       "      <td>Abdón Prats</td>\n",
       "      <td>RCD Mallorca</td>\n",
       "      <td>Spain</td>\n",
       "      <td>17.12.1992</td>\n",
       "      <td>181.0</td>\n",
       "      <td>79.0</td>\n",
       "      <td>NaN</td>\n",
       "      <td>1</td>\n",
       "      <td>0</td>\n",
       "      <td>1</td>\n",
       "      <td>0</td>\n",
       "      <td>0</td>\n",
       "      <td>1</td>\n",
       "    </tr>\n",
       "    <tr>\n",
       "      <th>3</th>\n",
       "      <td>pablo-mari</td>\n",
       "      <td>Pablo Marí</td>\n",
       "      <td>RCD Mallorca</td>\n",
       "      <td>Spain</td>\n",
       "      <td>31.08.1993</td>\n",
       "      <td>191.0</td>\n",
       "      <td>87.0</td>\n",
       "      <td>Center Back</td>\n",
       "      <td>1</td>\n",
       "      <td>1</td>\n",
       "      <td>0</td>\n",
       "      <td>0</td>\n",
       "      <td>0</td>\n",
       "      <td>0</td>\n",
       "    </tr>\n",
       "    <tr>\n",
       "      <th>4</th>\n",
       "      <td>ruben-pena</td>\n",
       "      <td>Rubén Peña</td>\n",
       "      <td>Real Valladolid</td>\n",
       "      <td>Spain</td>\n",
       "      <td>18.07.1991</td>\n",
       "      <td>172.0</td>\n",
       "      <td>70.0</td>\n",
       "      <td>Right Midfielder</td>\n",
       "      <td>1</td>\n",
       "      <td>1</td>\n",
       "      <td>0</td>\n",
       "      <td>0</td>\n",
       "      <td>0</td>\n",
       "      <td>0</td>\n",
       "    </tr>\n",
       "    <tr>\n",
       "      <th>5</th>\n",
       "      <td>aaron-hughes</td>\n",
       "      <td>Aaron Hughes</td>\n",
       "      <td>Fulham FC</td>\n",
       "      <td>England</td>\n",
       "      <td>08.11.1979</td>\n",
       "      <td>182.0</td>\n",
       "      <td>71.0</td>\n",
       "      <td>Center Back</td>\n",
       "      <td>1</td>\n",
       "      <td>0</td>\n",
       "      <td>0</td>\n",
       "      <td>1</td>\n",
       "      <td>0</td>\n",
       "      <td>0</td>\n",
       "    </tr>\n",
       "  </tbody>\n",
       "</table>\n",
       "</div>"
      ],
      "text/plain": [
       "     playerShort         player             club leagueCountry    birthday  \\\n",
       "0  lucas-wilchez  Lucas Wilchez    Real Zaragoza         Spain  31.08.1983   \n",
       "1     john-utaka     John Utaka  Montpellier HSC        France  08.01.1982   \n",
       "2    abdon-prats    Abdón Prats     RCD Mallorca         Spain  17.12.1992   \n",
       "3     pablo-mari     Pablo Marí     RCD Mallorca         Spain  31.08.1993   \n",
       "4     ruben-pena     Rubén Peña  Real Valladolid         Spain  18.07.1991   \n",
       "5   aaron-hughes   Aaron Hughes        Fulham FC       England  08.11.1979   \n",
       "\n",
       "   height  weight              position  games  victories  ties  defeats  \\\n",
       "0   177.0    72.0  Attacking Midfielder      1          0     0        1   \n",
       "1   179.0    82.0          Right Winger      1          0     0        1   \n",
       "2   181.0    79.0                   NaN      1          0     1        0   \n",
       "3   191.0    87.0           Center Back      1          1     0        0   \n",
       "4   172.0    70.0      Right Midfielder      1          1     0        0   \n",
       "5   182.0    71.0           Center Back      1          0     0        1   \n",
       "\n",
       "   goals  yellowCards  \n",
       "0      0            0  \n",
       "1      0            1  \n",
       "2      0            1  \n",
       "3      0            0  \n",
       "4      0            0  \n",
       "5      0            0  "
      ]
     },
     "execution_count": 3,
     "metadata": {},
     "output_type": "execute_result"
    }
   ],
   "source": [
    "data = pd.read_csv('CrowdstormingDataJuly1st.csv')\n",
    "data.ix[:5,:14]"
   ]
  },
  {
   "cell_type": "code",
   "execution_count": 4,
   "metadata": {
    "collapsed": false
   },
   "outputs": [
    {
     "data": {
      "text/html": [
       "<div>\n",
       "<table border=\"1\" class=\"dataframe\">\n",
       "  <thead>\n",
       "    <tr style=\"text-align: right;\">\n",
       "      <th></th>\n",
       "      <th>yellowReds</th>\n",
       "      <th>redCards</th>\n",
       "      <th>photoID</th>\n",
       "      <th>rater1</th>\n",
       "      <th>rater2</th>\n",
       "      <th>refNum</th>\n",
       "      <th>refCountry</th>\n",
       "      <th>Alpha_3</th>\n",
       "      <th>meanIAT</th>\n",
       "      <th>nIAT</th>\n",
       "      <th>seIAT</th>\n",
       "      <th>meanExp</th>\n",
       "      <th>nExp</th>\n",
       "      <th>seExp</th>\n",
       "    </tr>\n",
       "  </thead>\n",
       "  <tbody>\n",
       "    <tr>\n",
       "      <th>0</th>\n",
       "      <td>0</td>\n",
       "      <td>0</td>\n",
       "      <td>95212.jpg</td>\n",
       "      <td>0.25</td>\n",
       "      <td>0.50</td>\n",
       "      <td>1</td>\n",
       "      <td>1</td>\n",
       "      <td>GRC</td>\n",
       "      <td>0.326391</td>\n",
       "      <td>712.0</td>\n",
       "      <td>0.000564</td>\n",
       "      <td>0.396000</td>\n",
       "      <td>750.0</td>\n",
       "      <td>0.002696</td>\n",
       "    </tr>\n",
       "    <tr>\n",
       "      <th>1</th>\n",
       "      <td>0</td>\n",
       "      <td>0</td>\n",
       "      <td>1663.jpg</td>\n",
       "      <td>0.75</td>\n",
       "      <td>0.75</td>\n",
       "      <td>2</td>\n",
       "      <td>2</td>\n",
       "      <td>ZMB</td>\n",
       "      <td>0.203375</td>\n",
       "      <td>40.0</td>\n",
       "      <td>0.010875</td>\n",
       "      <td>-0.204082</td>\n",
       "      <td>49.0</td>\n",
       "      <td>0.061504</td>\n",
       "    </tr>\n",
       "    <tr>\n",
       "      <th>2</th>\n",
       "      <td>0</td>\n",
       "      <td>0</td>\n",
       "      <td>NaN</td>\n",
       "      <td>NaN</td>\n",
       "      <td>NaN</td>\n",
       "      <td>3</td>\n",
       "      <td>3</td>\n",
       "      <td>ESP</td>\n",
       "      <td>0.369894</td>\n",
       "      <td>1785.0</td>\n",
       "      <td>0.000229</td>\n",
       "      <td>0.588297</td>\n",
       "      <td>1897.0</td>\n",
       "      <td>0.001002</td>\n",
       "    </tr>\n",
       "    <tr>\n",
       "      <th>3</th>\n",
       "      <td>0</td>\n",
       "      <td>0</td>\n",
       "      <td>NaN</td>\n",
       "      <td>NaN</td>\n",
       "      <td>NaN</td>\n",
       "      <td>3</td>\n",
       "      <td>3</td>\n",
       "      <td>ESP</td>\n",
       "      <td>0.369894</td>\n",
       "      <td>1785.0</td>\n",
       "      <td>0.000229</td>\n",
       "      <td>0.588297</td>\n",
       "      <td>1897.0</td>\n",
       "      <td>0.001002</td>\n",
       "    </tr>\n",
       "    <tr>\n",
       "      <th>4</th>\n",
       "      <td>0</td>\n",
       "      <td>0</td>\n",
       "      <td>NaN</td>\n",
       "      <td>NaN</td>\n",
       "      <td>NaN</td>\n",
       "      <td>3</td>\n",
       "      <td>3</td>\n",
       "      <td>ESP</td>\n",
       "      <td>0.369894</td>\n",
       "      <td>1785.0</td>\n",
       "      <td>0.000229</td>\n",
       "      <td>0.588297</td>\n",
       "      <td>1897.0</td>\n",
       "      <td>0.001002</td>\n",
       "    </tr>\n",
       "    <tr>\n",
       "      <th>5</th>\n",
       "      <td>0</td>\n",
       "      <td>0</td>\n",
       "      <td>3868.jpg</td>\n",
       "      <td>0.25</td>\n",
       "      <td>0.00</td>\n",
       "      <td>4</td>\n",
       "      <td>4</td>\n",
       "      <td>LUX</td>\n",
       "      <td>0.325185</td>\n",
       "      <td>127.0</td>\n",
       "      <td>0.003297</td>\n",
       "      <td>0.538462</td>\n",
       "      <td>130.0</td>\n",
       "      <td>0.013752</td>\n",
       "    </tr>\n",
       "  </tbody>\n",
       "</table>\n",
       "</div>"
      ],
      "text/plain": [
       "   yellowReds  redCards    photoID  rater1  rater2  refNum  refCountry  \\\n",
       "0           0         0  95212.jpg    0.25    0.50       1           1   \n",
       "1           0         0   1663.jpg    0.75    0.75       2           2   \n",
       "2           0         0        NaN     NaN     NaN       3           3   \n",
       "3           0         0        NaN     NaN     NaN       3           3   \n",
       "4           0         0        NaN     NaN     NaN       3           3   \n",
       "5           0         0   3868.jpg    0.25    0.00       4           4   \n",
       "\n",
       "  Alpha_3   meanIAT    nIAT     seIAT   meanExp    nExp     seExp  \n",
       "0     GRC  0.326391   712.0  0.000564  0.396000   750.0  0.002696  \n",
       "1     ZMB  0.203375    40.0  0.010875 -0.204082    49.0  0.061504  \n",
       "2     ESP  0.369894  1785.0  0.000229  0.588297  1897.0  0.001002  \n",
       "3     ESP  0.369894  1785.0  0.000229  0.588297  1897.0  0.001002  \n",
       "4     ESP  0.369894  1785.0  0.000229  0.588297  1897.0  0.001002  \n",
       "5     LUX  0.325185   127.0  0.003297  0.538462   130.0  0.013752  "
      ]
     },
     "execution_count": 4,
     "metadata": {},
     "output_type": "execute_result"
    }
   ],
   "source": [
    "data.ix[:5,14:]"
   ]
  },
  {
   "cell_type": "markdown",
   "metadata": {},
   "source": [
    "### NaN values"
   ]
  },
  {
   "cell_type": "code",
   "execution_count": 5,
   "metadata": {
    "collapsed": false
   },
   "outputs": [
    {
     "data": {
      "text/plain": [
       "playerShort          0\n",
       "player               0\n",
       "club                 0\n",
       "leagueCountry        0\n",
       "birthday             0\n",
       "height             263\n",
       "weight            2243\n",
       "position         17726\n",
       "games                0\n",
       "victories            0\n",
       "ties                 0\n",
       "defeats              0\n",
       "goals                0\n",
       "yellowCards          0\n",
       "yellowReds           0\n",
       "redCards             0\n",
       "photoID          21407\n",
       "rater1           21407\n",
       "rater2           21407\n",
       "refNum               0\n",
       "refCountry           0\n",
       "Alpha_3              1\n",
       "meanIAT            163\n",
       "nIAT               163\n",
       "seIAT              163\n",
       "meanExp            163\n",
       "nExp               163\n",
       "seExp              163\n",
       "dtype: int64"
      ]
     },
     "execution_count": 5,
     "metadata": {},
     "output_type": "execute_result"
    }
   ],
   "source": [
    "data.isnull().sum()"
   ]
  },
  {
   "cell_type": "code",
   "execution_count": 6,
   "metadata": {
    "collapsed": true
   },
   "outputs": [],
   "source": [
    "filtered = data.dropna()"
   ]
  },
  {
   "cell_type": "code",
   "execution_count": 7,
   "metadata": {
    "collapsed": false
   },
   "outputs": [
    {
     "data": {
      "text/plain": [
       "0.790649738406333"
      ]
     },
     "execution_count": 7,
     "metadata": {},
     "output_type": "execute_result"
    }
   ],
   "source": [
    "len(filtered)/len(data)"
   ]
  },
  {
   "cell_type": "markdown",
   "metadata": {},
   "source": [
    "If we would decide to simply discard all the NaN values, we would keep only 21% of the DataSet. We are mainly interested in the skin color of each player so we will have a closer look at the `rater1` and `rater2` skin rating columns."
   ]
  },
  {
   "cell_type": "markdown",
   "metadata": {},
   "source": [
    "### Skin Color"
   ]
  },
  {
   "cell_type": "code",
   "execution_count": 8,
   "metadata": {
    "collapsed": false
   },
   "outputs": [
    {
     "data": {
      "text/plain": [
       "0.14659517352836443"
      ]
     },
     "execution_count": 8,
     "metadata": {},
     "output_type": "execute_result"
    }
   ],
   "source": [
    "len(data[data.rater1.isnull() & (data.rater2.isnull())])/len(data)"
   ]
  },
  {
   "cell_type": "markdown",
   "metadata": {},
   "source": [
    "15% of the dataset will be discarded as it doesn't give any information about the skin color."
   ]
  },
  {
   "cell_type": "code",
   "execution_count": 9,
   "metadata": {
    "collapsed": false
   },
   "outputs": [],
   "source": [
    "skin_data = data.dropna(how='all', subset=['rater1','rater2'])"
   ]
  },
  {
   "cell_type": "markdown",
   "metadata": {},
   "source": [
    "We will also drop the cell with missing IAT or Exp score as there are only 152"
   ]
  },
  {
   "cell_type": "code",
   "execution_count": 10,
   "metadata": {
    "collapsed": true
   },
   "outputs": [],
   "source": [
    "skin_data = skin_data.dropna(how='all', subset=['meanIAT', 'nIAT'])"
   ]
  },
  {
   "cell_type": "code",
   "execution_count": 11,
   "metadata": {
    "collapsed": false
   },
   "outputs": [
    {
     "data": {
      "text/plain": [
       "0"
      ]
     },
     "execution_count": 11,
     "metadata": {},
     "output_type": "execute_result"
    }
   ],
   "source": [
    "len(skin_data[skin_data.rater1.isnull() | (skin_data.rater2.isnull())])"
   ]
  },
  {
   "cell_type": "markdown",
   "metadata": {},
   "source": [
    "We can observe that there were always values for both `rater1` and `rater2` or not any values. Let's have a look at the data for which the raters gave a different skin color."
   ]
  },
  {
   "cell_type": "code",
   "execution_count": 12,
   "metadata": {
    "collapsed": true
   },
   "outputs": [],
   "source": [
    "skin_data_differ = skin_data[skin_data.rater1 != skin_data.rater2]"
   ]
  },
  {
   "cell_type": "code",
   "execution_count": 13,
   "metadata": {
    "collapsed": false
   },
   "outputs": [
    {
     "data": {
      "text/plain": [
       "0.23189896198219623"
      ]
     },
     "execution_count": 13,
     "metadata": {},
     "output_type": "execute_result"
    }
   ],
   "source": [
    "len(skin_data_differ)/len(skin_data)"
   ]
  },
  {
   "cell_type": "markdown",
   "metadata": {},
   "source": [
    "For 23% of the player the two raters gave a different value. Let's see if they gave skin colors that are almost the same or opposite skin colors:"
   ]
  },
  {
   "cell_type": "code",
   "execution_count": 14,
   "metadata": {
    "collapsed": false
   },
   "outputs": [],
   "source": [
    "skin_data['skin_difference'] = skin_data.apply(lambda x: abs(x['rater1'] - x['rater2']), axis=1)"
   ]
  },
  {
   "cell_type": "code",
   "execution_count": 15,
   "metadata": {
    "collapsed": false
   },
   "outputs": [
    {
     "data": {
      "image/png": "[encoded data removed]",
      "text/plain": [
       "<matplotlib.figure.Figure at 0x7f33392f73c8>"
      ]
     },
     "metadata": {},
     "output_type": "display_data"
    }
   ],
   "source": [
    "palette = sns.color_palette()\n",
    "sns.countplot(x=\"skin_difference\", data=skin_data);"
   ]
  },
  {
   "cell_type": "markdown",
   "metadata": {},
   "source": [
    "If the two raters differ, it is only by one on the 5-point scale or by 2. We decide to keep the average value of the two raters on a 0 to 8 scale. (so that the average keep all the information)"
   ]
  },
  {
   "cell_type": "code",
   "execution_count": 16,
   "metadata": {
    "collapsed": false
   },
   "outputs": [],
   "source": [
    "skin_data['skin'] = skin_data.apply(lambda x: (x['rater1']+x['rater2'])/2*4, axis=1)"
   ]
  },
  {
   "cell_type": "code",
   "execution_count": 17,
   "metadata": {
    "collapsed": false
   },
   "outputs": [
    {
     "data": {
      "image/png": "[encoded data removed]",
      "text/plain": [
       "<matplotlib.figure.Figure at 0x7f33304c8a90>"
      ]
     },
     "metadata": {},
     "output_type": "display_data"
    }
   ],
   "source": [
    "sns.countplot(x=\"skin\", data=skin_data, palette=sns.color_palette(\"Greys\", 9));"
   ]
  },
  {
   "cell_type": "markdown",
   "metadata": {},
   "source": [
    "Since we are looking at data from countries with predominantly caucasion populations, it seems reasonable to have a larger white population."
   ]
  },
  {
   "cell_type": "markdown",
   "metadata": {},
   "source": [
    "### Age\n",
    "There are not any missing birthday value. We will have a look at the age distribution."
   ]
  },
  {
   "cell_type": "code",
   "execution_count": 18,
   "metadata": {
    "collapsed": false
   },
   "outputs": [],
   "source": [
    "# The birthday string is converted into a datetime type\n",
    "import datetime\n",
    "skin_data['birthday'] = skin_data.apply(lambda x: datetime.datetime.strptime(x['birthday'], \"%d.%m.%Y\"), axis=1)"
   ]
  },
  {
   "cell_type": "code",
   "execution_count": 19,
   "metadata": {
    "collapsed": false
   },
   "outputs": [
    {
     "data": {
      "text/plain": [
       "0   1983-08-31\n",
       "1   1982-01-08\n",
       "5   1979-11-08\n",
       "6   1985-11-10\n",
       "7   1986-04-04\n",
       "Name: birthday, dtype: datetime64[ns]"
      ]
     },
     "execution_count": 19,
     "metadata": {},
     "output_type": "execute_result"
    }
   ],
   "source": [
    "skin_data['birthday'].head()"
   ]
  },
  {
   "cell_type": "code",
   "execution_count": 20,
   "metadata": {
    "collapsed": false,
    "scrolled": true
   },
   "outputs": [],
   "source": [
    "import datetime as DT\n",
    "now = pd.Timestamp(DT.datetime.now())\n",
    "# We will plot the age in year of the players from their birthday\n",
    "age = skin_data[['birthday']]\n",
    "skin_data['age'] = age.apply(lambda x: int((now - x['birthday']).days/365.25) , axis=1)"
   ]
  },
  {
   "cell_type": "code",
   "execution_count": 21,
   "metadata": {
    "collapsed": false
   },
   "outputs": [
    {
     "data": {
      "image/png": "[encoded data removed]",
      "text/plain": [
       "<matplotlib.figure.Figure at 0x7f33304a1f98>"
      ]
     },
     "metadata": {},
     "output_type": "display_data"
    }
   ],
   "source": [
    "p = sns.countplot(x=\"age\", data=skin_data)"
   ]
  },
  {
   "cell_type": "markdown",
   "metadata": {},
   "source": [
    "Everything seems fine for the date values. Note that this is the distribution for the data non-aggregated by player. So it is reasonable to assume that older players, who have many more interactions with referees, appear many more times in this countplot than younger players, which is why the mean is surprisingly high."
   ]
  },
  {
   "cell_type": "markdown",
   "metadata": {},
   "source": [
    "### League Country"
   ]
  },
  {
   "cell_type": "code",
   "execution_count": 22,
   "metadata": {
    "collapsed": false
   },
   "outputs": [
    {
     "data": {
      "image/png": "[encoded data removed]",
      "text/plain": [
       "<matplotlib.figure.Figure at 0x7f33307d2b70>"
      ]
     },
     "metadata": {},
     "output_type": "display_data"
    }
   ],
   "source": [
    "sns.countplot(x=\"leagueCountry\", data=skin_data);"
   ]
  },
  {
   "cell_type": "markdown",
   "metadata": {},
   "source": [
    "### Height"
   ]
  },
  {
   "cell_type": "code",
   "execution_count": 23,
   "metadata": {
    "collapsed": false,
    "scrolled": true
   },
   "outputs": [
    {
     "data": {
      "image/png": "[encoded data removed]",
      "text/plain": [
       "<matplotlib.figure.Figure at 0x7f3338c95710>"
      ]
     },
     "metadata": {},
     "output_type": "display_data"
    }
   ],
   "source": [
    "import matplotlib.ticker as ticker\n",
    "f, ax = plt.subplots(figsize=(8,6))\n",
    "heights = skin_data['height'].dropna()\n",
    "plt.hist(heights, bins=20);\n",
    "f.suptitle(\"Height distribution\");"
   ]
  },
  {
   "cell_type": "markdown",
   "metadata": {},
   "source": [
    "There is no outliers and the distribution looks normal."
   ]
  },
  {
   "cell_type": "markdown",
   "metadata": {},
   "source": [
    "### Weight"
   ]
  },
  {
   "cell_type": "code",
   "execution_count": 24,
   "metadata": {
    "collapsed": false
   },
   "outputs": [
    {
     "data": {
      "image/png": "[encoded data removed]",
      "text/plain": [
       "<matplotlib.figure.Figure at 0x7f3338c904a8>"
      ]
     },
     "metadata": {},
     "output_type": "display_data"
    }
   ],
   "source": [
    "f, ax = plt.subplots(figsize=(8, 6))\n",
    "plt.hist(skin_data.weight.dropna(), bins=20)\n",
    "f.suptitle(\"Weight distribution\");"
   ]
  },
  {
   "cell_type": "markdown",
   "metadata": {},
   "source": [
    "### Position "
   ]
  },
  {
   "cell_type": "code",
   "execution_count": 25,
   "metadata": {
    "collapsed": false
   },
   "outputs": [
    {
     "data": {
      "image/png": "[encoded data removed]",
      "text/plain": [
       "<matplotlib.figure.Figure at 0x7f33380d8c18>"
      ]
     },
     "metadata": {},
     "output_type": "display_data"
    }
   ],
   "source": [
    "pos = sns.countplot(x=\"position\", data=skin_data);\n",
    "plt.setp(pos.get_xticklabels(), rotation=90);"
   ]
  },
  {
   "cell_type": "code",
   "execution_count": 26,
   "metadata": {
    "collapsed": false
   },
   "outputs": [],
   "source": [
    "missing_values = skin_data['position'].isnull().value_counts()"
   ]
  },
  {
   "cell_type": "code",
   "execution_count": 27,
   "metadata": {
    "collapsed": false
   },
   "outputs": [
    {
     "data": {
      "text/plain": [
       "0.072870515627424276"
      ]
     },
     "execution_count": 27,
     "metadata": {},
     "output_type": "execute_result"
    }
   ],
   "source": [
    "missing_values[1]/missing_values[0]"
   ]
  },
  {
   "cell_type": "markdown",
   "metadata": {},
   "source": [
    "7% of the positions are missing. We will replace them by the most by a category `Missing Position`."
   ]
  },
  {
   "cell_type": "markdown",
   "metadata": {},
   "source": [
    "### Referees"
   ]
  },
  {
   "cell_type": "code",
   "execution_count": 28,
   "metadata": {
    "collapsed": false
   },
   "outputs": [
    {
     "name": "stdout",
     "output_type": "stream",
     "text": [
      "There are 2967 different referees.\n"
     ]
    }
   ],
   "source": [
    "print('There are ' + str(len(skin_data['refNum'].value_counts())) + ' different referees.')"
   ]
  },
  {
   "cell_type": "code",
   "execution_count": 29,
   "metadata": {
    "collapsed": false
   },
   "outputs": [
    {
     "name": "stdout",
     "output_type": "stream",
     "text": [
      "Which come from 155 different countries...\n"
     ]
    }
   ],
   "source": [
    "print('Which come from ' + str(len(skin_data['refCountry'].value_counts())) + ' different countries...')"
   ]
  },
  {
   "cell_type": "markdown",
   "metadata": {},
   "source": [
    "### Standardization, Categorical Features Encoding and Replacing Missing Values"
   ]
  },
  {
   "cell_type": "markdown",
   "metadata": {},
   "source": [
    "We transform each feature into a representation that is more suitable for the machine learning methods. Each feature will be **standardized** if it is a float number (remove mean value, scale dividing by standard deviation) using the `StandardScaler()` function from `sklearn`. If there are missing values, they will be replaced by the mean, which is 0 after applying the StandardScaler. The categorical features will be **encoded** using the `LabelEncoder()` function which converts categorical variable into numerical values. The learning models consider continuous values and don't handle categorical features, but we hope RandomForest will be robust again those values. The missing categorical variables are replaced by `Missing Category`. We discard the name of the player, as well as the photoID and the birthday as it is a one to one relationship with the skin color."
   ]
  },
  {
   "cell_type": "code",
   "execution_count": 30,
   "metadata": {
    "collapsed": false
   },
   "outputs": [],
   "source": [
    "from sklearn.preprocessing import LabelEncoder, StandardScaler, Imputer \n",
    "from sklearn.feature_extraction import DictVectorizer\n",
    "\n",
    "# Replacing missing values for categorical data:\n",
    "skin_data['position'] = skin_data['position'].fillna('Missing Position')\n",
    "# For the Alpha_3 there is only one missing value so we will drop it\n",
    "skin_data = skin_data.dropna(subset=['Alpha_3'])\n",
    "\n",
    "# Features to be standardized\n",
    "stand = ['height', 'weight', 'games', 'victories', 'ties', 'defeats', 'goals', 'yellowCards', 'redCards', \n",
    "         'yellowReds', 'age', 'skin', 'skin_difference', 'rater1', 'rater2']\n",
    "# Categorical features to be encoded\n",
    "cat = ['club', 'leagueCountry', 'position']\n",
    "\n",
    "standardized = skin_data.copy()\n",
    "standardized['skin_nonorm'] = standardized['skin']\n",
    "# Encode categories\n",
    "for c in cat:\n",
    "    standardized[c] = LabelEncoder().fit_transform(standardized[c])\n",
    "\n",
    "# The first function fills the missing values and the second one will apply the standardization \n",
    "for s in stand:\n",
    "    standardized[s] = Imputer(strategy='mean', axis=1).fit_transform(standardized[s])[0]\n",
    "    standardized[s] = StandardScaler().fit_transform(standardized[s])\n",
    "    \n",
    "     \n",
    "# Discard names of players and photoID\n",
    "skin_data_dropped = standardized.drop(labels=['playerShort', 'player', 'photoID', 'birthday', 'Alpha_3'], axis=1)"
   ]
  },
  {
   "cell_type": "code",
   "execution_count": 31,
   "metadata": {
    "collapsed": false,
    "scrolled": true
   },
   "outputs": [
    {
     "data": {
      "text/html": [
       "<div>\n",
       "<table border=\"1\" class=\"dataframe\">\n",
       "  <thead>\n",
       "    <tr style=\"text-align: right;\">\n",
       "      <th></th>\n",
       "      <th>club</th>\n",
       "      <th>leagueCountry</th>\n",
       "      <th>height</th>\n",
       "      <th>weight</th>\n",
       "      <th>position</th>\n",
       "      <th>games</th>\n",
       "      <th>victories</th>\n",
       "      <th>ties</th>\n",
       "      <th>defeats</th>\n",
       "      <th>goals</th>\n",
       "      <th>...</th>\n",
       "      <th>meanIAT</th>\n",
       "      <th>nIAT</th>\n",
       "      <th>seIAT</th>\n",
       "      <th>meanExp</th>\n",
       "      <th>nExp</th>\n",
       "      <th>seExp</th>\n",
       "      <th>skin_difference</th>\n",
       "      <th>skin</th>\n",
       "      <th>age</th>\n",
       "      <th>skin_nonorm</th>\n",
       "    </tr>\n",
       "  </thead>\n",
       "  <tbody>\n",
       "    <tr>\n",
       "      <th>0</th>\n",
       "      <td>70</td>\n",
       "      <td>3</td>\n",
       "      <td>-0.753585</td>\n",
       "      <td>-0.609844</td>\n",
       "      <td>0</td>\n",
       "      <td>-0.557169</td>\n",
       "      <td>-0.714417</td>\n",
       "      <td>-0.625217</td>\n",
       "      <td>0.044463</td>\n",
       "      <td>-0.374371</td>\n",
       "      <td>...</td>\n",
       "      <td>0.326391</td>\n",
       "      <td>712.0</td>\n",
       "      <td>0.000564</td>\n",
       "      <td>0.396000</td>\n",
       "      <td>750.0</td>\n",
       "      <td>0.002696</td>\n",
       "      <td>1.800031</td>\n",
       "      <td>0.317661</td>\n",
       "      <td>0.458531</td>\n",
       "      <td>1.5</td>\n",
       "    </tr>\n",
       "    <tr>\n",
       "      <th>1</th>\n",
       "      <td>51</td>\n",
       "      <td>1</td>\n",
       "      <td>-0.459621</td>\n",
       "      <td>0.785575</td>\n",
       "      <td>12</td>\n",
       "      <td>-0.557169</td>\n",
       "      <td>-0.714417</td>\n",
       "      <td>-0.625217</td>\n",
       "      <td>0.044463</td>\n",
       "      <td>-0.374371</td>\n",
       "      <td>...</td>\n",
       "      <td>0.203375</td>\n",
       "      <td>40.0</td>\n",
       "      <td>0.010875</td>\n",
       "      <td>-0.204082</td>\n",
       "      <td>49.0</td>\n",
       "      <td>0.061504</td>\n",
       "      <td>-0.547478</td>\n",
       "      <td>1.617787</td>\n",
       "      <td>0.686558</td>\n",
       "      <td>3.0</td>\n",
       "    </tr>\n",
       "    <tr>\n",
       "      <th>5</th>\n",
       "      <td>34</td>\n",
       "      <td>0</td>\n",
       "      <td>-0.018675</td>\n",
       "      <td>-0.749386</td>\n",
       "      <td>1</td>\n",
       "      <td>-0.557169</td>\n",
       "      <td>-0.714417</td>\n",
       "      <td>-0.625217</td>\n",
       "      <td>0.044463</td>\n",
       "      <td>-0.374371</td>\n",
       "      <td>...</td>\n",
       "      <td>0.325185</td>\n",
       "      <td>127.0</td>\n",
       "      <td>0.003297</td>\n",
       "      <td>0.538462</td>\n",
       "      <td>130.0</td>\n",
       "      <td>0.013752</td>\n",
       "      <td>1.800031</td>\n",
       "      <td>-0.549090</td>\n",
       "      <td>1.370639</td>\n",
       "      <td>0.5</td>\n",
       "    </tr>\n",
       "    <tr>\n",
       "      <th>6</th>\n",
       "      <td>48</td>\n",
       "      <td>0</td>\n",
       "      <td>0.716234</td>\n",
       "      <td>0.506492</td>\n",
       "      <td>6</td>\n",
       "      <td>-0.557169</td>\n",
       "      <td>-0.182707</td>\n",
       "      <td>-0.625217</td>\n",
       "      <td>-0.658021</td>\n",
       "      <td>-0.374371</td>\n",
       "      <td>...</td>\n",
       "      <td>0.325185</td>\n",
       "      <td>127.0</td>\n",
       "      <td>0.003297</td>\n",
       "      <td>0.538462</td>\n",
       "      <td>130.0</td>\n",
       "      <td>0.013752</td>\n",
       "      <td>1.800031</td>\n",
       "      <td>-0.549090</td>\n",
       "      <td>0.002477</td>\n",
       "      <td>0.5</td>\n",
       "    </tr>\n",
       "    <tr>\n",
       "      <th>7</th>\n",
       "      <td>54</td>\n",
       "      <td>0</td>\n",
       "      <td>-0.312639</td>\n",
       "      <td>-1.168011</td>\n",
       "      <td>4</td>\n",
       "      <td>-0.557169</td>\n",
       "      <td>-0.714417</td>\n",
       "      <td>-0.625217</td>\n",
       "      <td>0.044463</td>\n",
       "      <td>-0.374371</td>\n",
       "      <td>...</td>\n",
       "      <td>0.325185</td>\n",
       "      <td>127.0</td>\n",
       "      <td>0.003297</td>\n",
       "      <td>0.538462</td>\n",
       "      <td>130.0</td>\n",
       "      <td>0.013752</td>\n",
       "      <td>-0.547478</td>\n",
       "      <td>2.484538</td>\n",
       "      <td>-0.225550</td>\n",
       "      <td>4.0</td>\n",
       "    </tr>\n",
       "  </tbody>\n",
       "</table>\n",
       "<p>5 rows × 27 columns</p>\n",
       "</div>"
      ],
      "text/plain": [
       "   club  leagueCountry    height    weight  position     games  victories  \\\n",
       "0    70              3 -0.753585 -0.609844         0 -0.557169  -0.714417   \n",
       "1    51              1 -0.459621  0.785575        12 -0.557169  -0.714417   \n",
       "5    34              0 -0.018675 -0.749386         1 -0.557169  -0.714417   \n",
       "6    48              0  0.716234  0.506492         6 -0.557169  -0.182707   \n",
       "7    54              0 -0.312639 -1.168011         4 -0.557169  -0.714417   \n",
       "\n",
       "       ties   defeats     goals     ...        meanIAT   nIAT     seIAT  \\\n",
       "0 -0.625217  0.044463 -0.374371     ...       0.326391  712.0  0.000564   \n",
       "1 -0.625217  0.044463 -0.374371     ...       0.203375   40.0  0.010875   \n",
       "5 -0.625217  0.044463 -0.374371     ...       0.325185  127.0  0.003297   \n",
       "6 -0.625217 -0.658021 -0.374371     ...       0.325185  127.0  0.003297   \n",
       "7 -0.625217  0.044463 -0.374371     ...       0.325185  127.0  0.003297   \n",
       "\n",
       "    meanExp   nExp     seExp  skin_difference      skin       age  skin_nonorm  \n",
       "0  0.396000  750.0  0.002696         1.800031  0.317661  0.458531          1.5  \n",
       "1 -0.204082   49.0  0.061504        -0.547478  1.617787  0.686558          3.0  \n",
       "5  0.538462  130.0  0.013752         1.800031 -0.549090  1.370639          0.5  \n",
       "6  0.538462  130.0  0.013752         1.800031 -0.549090  0.002477          0.5  \n",
       "7  0.538462  130.0  0.013752        -0.547478  2.484538 -0.225550          4.0  \n",
       "\n",
       "[5 rows x 27 columns]"
      ]
     },
     "execution_count": 31,
     "metadata": {},
     "output_type": "execute_result"
    }
   ],
   "source": [
    "skin_data_dropped.head()"
   ]
  },
  {
   "cell_type": "markdown",
   "metadata": {},
   "source": [
    "# 1. Random Forest Skin Color Regressor"
   ]
  },
  {
   "cell_type": "markdown",
   "metadata": {},
   "source": [
    "**We use Random Forest Regressor and Classifier because darkness of skin reflect a continuous value, we talked about it with Catasta on slack**\n",
    "\n",
    "The most important parameters that can affect the accuracy of the random forest regressor are the number of trees in the forest `n_estimators`, the number of features to consider when looking for a best split `max_features`, the maximum depth of the tree `max_depth` and the minimum number of samples required to be at a leaf node `min_samples_leaf`. There are other parameters but we will have a closer look at those ones."
   ]
  },
  {
   "cell_type": "markdown",
   "metadata": {},
   "source": [
    "We seperate the data between the features used for prediction and the target features (skin). We need to drop the `rater1`, `rater2`, `skin`, `skin_difference` and `skin_nonorm` values as we want to predict the `skin`."
   ]
  },
  {
   "cell_type": "code",
   "execution_count": 32,
   "metadata": {
    "collapsed": false
   },
   "outputs": [],
   "source": [
    "to_predict = ['rater1', 'rater2', 'skin', 'skin_difference', 'skin_nonorm']\n",
    "data = skin_data_dropped.drop(labels=to_predict, axis=1)\n",
    "features = data.columns\n",
    "\n",
    "# Skin to predict\n",
    "target = skin_data_dropped.skin_nonorm.apply(lambda x: x/4.0).values.ravel() \n"
   ]
  },
  {
   "cell_type": "markdown",
   "metadata": {},
   "source": [
    "First, all the columns will be used to train the Random Forest Regressor."
   ]
  },
  {
   "cell_type": "markdown",
   "metadata": {},
   "source": [
    "### n_estimators\n",
    "We will test the accuracy of the model for different number of trees. We use 5-folds cross validation to measure the accuracy of the predictive model, we use the mean of the accuracy over the 5 folds to tune the parameters."
   ]
  },
  {
   "cell_type": "code",
   "execution_count": 49,
   "metadata": {
    "collapsed": false
   },
   "outputs": [],
   "source": [
    "from sklearn.metrics import accuracy_score\n",
    "from sklearn import model_selection"
   ]
  },
  {
   "cell_type": "code",
   "execution_count": 33,
   "metadata": {
    "collapsed": false
   },
   "outputs": [],
   "source": [
    "number_trees = [5,10,20,50,100,200]\n",
    "accuracy = []\n",
    "\n",
    "for t in number_trees:\n",
    "    tree = RandomForestRegressor(n_estimators=t)\n",
    "    scores = model_selection.cross_val_score(tree, data, target, cv=5)\n",
    "    accuracy.append(scores.mean())"
   ]
  },
  {
   "cell_type": "code",
   "execution_count": 34,
   "metadata": {
    "collapsed": false
   },
   "outputs": [
    {
     "data": {
      "image/png": "[encoded data removed]",
      "text/plain": [
       "<matplotlib.figure.Figure at 0x7f255876f1d0>"
      ]
     },
     "metadata": {},
     "output_type": "display_data"
    }
   ],
   "source": [
    "plt.plot(number_trees, accuracy);"
   ]
  },
  {
   "cell_type": "markdown",
   "metadata": {},
   "source": [
    "Higher number of trees will avoid overfitting (because the model takes the maximum voting of predictions) and give more stable predictions but it takes the model longer to fit the data."
   ]
  },
  {
   "cell_type": "markdown",
   "metadata": {},
   "source": [
    "However, notice that this accuracy is impossibly high, which makes sense when we consider that each player appears multiple times in the dataset, due to their presence in multiple dyads. So players will be recognised due to their almost unique personal characteristics (e.g. height, weight, age, position, club). "
   ]
  },
  {
   "cell_type": "markdown",
   "metadata": {},
   "source": [
    "### Rethinking the data - aggregation"
   ]
  },
  {
   "cell_type": "markdown",
   "metadata": {},
   "source": [
    "In order to get more reasonable results and train our model to recognise unseen players, we group on each player and aggregate the information."
   ]
  },
  {
   "cell_type": "markdown",
   "metadata": {},
   "source": [
    "We can add some other features on top of the aggregated means of these columns"
   ]
  },
  {
   "cell_type": "code",
   "execution_count": 33,
   "metadata": {
    "collapsed": true
   },
   "outputs": [],
   "source": [
    "# Weighted means of the meanIAT and meanExp measures\n",
    "standardized['weightMeanIAT'] = standardized.meanIAT * standardized.nIAT / standardized.nIAT.sum()\n",
    "standardized['weightMeanExp'] = standardized.meanExp * standardized.nExp / standardized.nExp.sum()\n",
    "unique_count = lambda df: len(df.unique())\n",
    "agg_stderr = lambda df: math.sqrt(np.mean(df**2))"
   ]
  },
  {
   "cell_type": "code",
   "execution_count": 34,
   "metadata": {
    "collapsed": false
   },
   "outputs": [],
   "source": [
    "f = {'skin': 'mean', 'skin_difference': 'mean', 'skin_nonorm': 'mean', 'meanIAT': 'mean', 'meanExp': 'mean', \n",
    "     'weight': 'mean', 'height': 'mean', 'age': 'mean', 'games': 'mean', 'victories': 'mean', 'ties': 'mean', \n",
    "     'defeats': 'mean', 'goals': 'mean', 'yellowCards': 'mean', 'yellowReds': 'mean', 'redCards': 'mean', \n",
    "     'refNum': unique_count, 'refCountry': unique_count, 'seIAT': agg_stderr, 'seExp': agg_stderr, \n",
    "     'weightMeanIAT': 'mean', 'weightMeanExp': 'mean', 'position': 'mean'}"
   ]
  },
  {
   "cell_type": "code",
   "execution_count": 35,
   "metadata": {
    "collapsed": false
   },
   "outputs": [],
   "source": [
    "grouped = standardized.groupby('playerShort').agg(f)"
   ]
  },
  {
   "cell_type": "markdown",
   "metadata": {},
   "source": [
    "Let's split the data into the feature set and the target data.\n",
    "\n",
    "We convert here the skin values to integers in $\\{0,1\\}$, so if we compare it with a classifier, we have a total of 2 classes."
   ]
  },
  {
   "cell_type": "code",
   "execution_count": 36,
   "metadata": {
    "collapsed": false
   },
   "outputs": [],
   "source": [
    "to_predict = ['skin', 'skin_difference', 'skin_nonorm']\n",
    "\n",
    "# Features\n",
    "data = grouped.drop(labels=to_predict, axis=1)\n",
    "target = grouped.skin_nonorm.apply(lambda x: x/4.0).values.ravel() \n",
    "features = data.columns"
   ]
  },
  {
   "cell_type": "markdown",
   "metadata": {},
   "source": [
    "### Feature correlation matrix"
   ]
  },
  {
   "cell_type": "markdown",
   "metadata": {},
   "source": [
    "Before looking into training and tuning the model, it is interesting to look at the relations between features. To this end, we plotted a feature-correlation matrix."
   ]
  },
  {
   "cell_type": "code",
   "execution_count": 39,
   "metadata": {
    "collapsed": true
   },
   "outputs": [],
   "source": [
    "def correlation_matrix(df, title):\n",
    "    \"\"\"Plot the pairwise correlations in df\"\"\"\n",
    "    corr = df.corr(method='pearson')\n",
    " \n",
    "    # Generate a mask for the upper triangle \n",
    "    mask = np.zeros_like(corr, dtype=np.bool)\n",
    "    mask[np.triu_indices_from(mask)] = True\n",
    " \n",
    "    # Set up the matplotlib figure \n",
    "    f, ax = plt.subplots(figsize=(11, 9))\n",
    " \n",
    "    # Generate a custom diverging colormap \n",
    "    cmap = sns.diverging_palette(220, 10, as_cmap=True)\n",
    " \n",
    "    # Draw the heatmap with the mask and correct aspect ratio \n",
    "    sns.heatmap(corr, mask=mask, cmap=cmap, vmax=1.0, square=True,\n",
    "                linewidths=.5, cbar_kws={\"shrink\": .8}, ax=ax)\n",
    " \n",
    "    # Rename the labels (movement_activity_i -> mi, stationarity_i -> si) \n",
    "    curr_labels = [item.get_text() for item in ax.get_xticklabels()]\n",
    "    split_labels = [str.split(label, '_') for label in curr_labels]\n",
    "    labels = [lst[0][0]+lst[-1] for lst in split_labels] # shortening the name \n",
    "    ax.set_xticklabels(labels)\n",
    "    ax.set_yticklabels(reversed(labels))\n",
    " \n",
    "    # Set title \n",
    "    f.suptitle(title, fontsize=18)"
   ]
  },
  {
   "cell_type": "code",
   "execution_count": 137,
   "metadata": {
    "collapsed": false
   },
   "outputs": [
    {
     "data": {
      "image/png": "[encoded data removed]",
      "text/plain": [
       "<matplotlib.figure.Figure at 0x7f2c14fda320>"
      ]
     },
     "metadata": {},
     "output_type": "display_data"
    }
   ],
   "source": [
    "correlation_matrix(data, \"Feature correlation matrix\")"
   ]
  },
  {
   "cell_type": "markdown",
   "metadata": {},
   "source": [
    "Some of the features show an obvious correlation with others (e.g. `games` has a strong positive correlation with `ties`, `victories`, `defeats`). Other than these obvious connections, the correlation matrix doesn't show any surprising correlations."
   ]
  },
  {
   "cell_type": "markdown",
   "metadata": {},
   "source": [
    "### `n_estimators` with aggregated data"
   ]
  },
  {
   "cell_type": "markdown",
   "metadata": {},
   "source": [
    "With the grouping on players and aggregation of the features done, let's recompute the score with varying `n_estimators` parameter for our `RandomForestRegressor`."
   ]
  },
  {
   "cell_type": "code",
   "execution_count": 40,
   "metadata": {
    "collapsed": false
   },
   "outputs": [],
   "source": [
    "number_trees = [1,5,10,20,50,100,200]\n",
    "score = []\n",
    "\n",
    "for t in number_trees:\n",
    "    tree = RandomForestRegressor(n_estimators=t)\n",
    "    scores = model_selection.cross_val_score(tree, data, target, cv=5)\n",
    "    score.append(scores.mean())"
   ]
  },
  {
   "cell_type": "code",
   "execution_count": 41,
   "metadata": {
    "collapsed": false
   },
   "outputs": [
    {
     "data": {
      "image/png": "[encoded data removed]",
      "text/plain": [
       "<matplotlib.figure.Figure at 0x7f25553c0f28>"
      ]
     },
     "metadata": {},
     "output_type": "display_data"
    }
   ],
   "source": [
    "plt.plot(number_trees, score)\n",
    "plt.suptitle(\"n_estimators\");"
   ]
  },
  {
   "cell_type": "markdown",
   "metadata": {},
   "source": [
    "The negative score can seem alarming at first, but `RandomForestRegressor`'s `score` function computes the score differently than that of a `RandomForestClassifier`, as is explained in the [doc](http://scikit-learn.org/stable/modules/generated/sklearn.ensemble.RandomForestRegressor.html#sklearn.ensemble.RandomForestRegressor.score). It uses the $R^2$ regression score function (aka coefficient of determination). \n",
    "\n",
    "The negative score values indicate that there is a constant model that performs better than ours, with low values of `n_estimators`, which is understandable given the distribution of our data (many more white players than not).\n",
    "\n",
    "From the progression of the score here, we can see that a good value for `n_estimators` is 100."
   ]
  },
  {
   "cell_type": "markdown",
   "metadata": {},
   "source": [
    "### Random Forest accuracy and f1-score\n",
    "In order to better understand the performance of our Regressor, we can convert the output so that it corresponds to that of a classifier. \n",
    "\n",
    "We can then compute the **accuracy** and plot it (i.e. #correctly classified instances/#instances), as it is returned by the RandomForestClassifier. This will give a better idea as to the performance of the regressor, although strictly speaking, we just losing a lot of the information produced by our model (the exact choice why we wanted to use a regressor in the first place). The accuracy metric is computed by rounding the predicted values to the closest integer, so we end up with values in two classes only (white, black). \n",
    "\n",
    "A more interesting measure of the performance of a classifier is the **F1-score**. This takes into account the *precision* ($\\frac{TP}{TP + FP}$) and *recall* ($\\frac{TP}{TP + FN}$) of a model. So our measure will be sensitive to how good our model is at predicting whether the player is dark-skinned or not."
   ]
  },
  {
   "cell_type": "code",
   "execution_count": 44,
   "metadata": {
    "collapsed": true
   },
   "outputs": [],
   "source": [
    "def predict_class_from_reg(model, X, y, test):\n",
    "    \"\"\"Returns the predictions of a RandomForestRegressor rounded so as to have classes as output.\"\"\"\n",
    "    model.fit(X, y)\n",
    "    predictions = model.predict(test)\n",
    "    return np.around(predictions)"
   ]
  },
  {
   "cell_type": "code",
   "execution_count": 45,
   "metadata": {
    "collapsed": true
   },
   "outputs": [],
   "source": [
    "def rf_accuracy(model, data, target):\n",
    "    \"\"\"Returns the accuracy of a model over a split.\n",
    "    Rounds the predictions\"\"\"\n",
    "    x_train, x_test, y_train, y_test = model_selection.train_test_split(data, target, test_size=0.1, random_state=42)\n",
    "    rounded_pred = predict_class_from_reg(model, x_train, y_train, x_test)\n",
    "    \n",
    "    return np.sum(np.equal(rounded_pred, np.around(y_test))) / float(len(y_test))"
   ]
  },
  {
   "cell_type": "code",
   "execution_count": 46,
   "metadata": {
    "collapsed": true
   },
   "outputs": [],
   "source": [
    "from sklearn.metrics import f1_score\n",
    "def rf_f1score(model, data, target):\n",
    "    \"\"\"Returns the F1 score of a model over a split of the data.\"\"\"\n",
    "    x_train, x_test, y_train, y_test = model_selection.train_test_split(data, target, test_size=0.1, random_state=42)\n",
    "    rounded_pred = predict_class_from_reg(model, x_train, y_train, x_test)\n",
    "    return f1_score(np.around(y_test), rounded_pred)"
   ]
  },
  {
   "cell_type": "code",
   "execution_count": 45,
   "metadata": {
    "collapsed": false
   },
   "outputs": [
    {
     "data": {
      "image/png": "[encoded data removed]",
      "text/plain": [
       "<matplotlib.figure.Figure at 0x7f255875b9b0>"
      ]
     },
     "metadata": {},
     "output_type": "display_data"
    }
   ],
   "source": [
    "number_trees = [5,10,20,50,100,200]\n",
    "accuracy = []\n",
    "\n",
    "for t in number_trees:\n",
    "    tree = RandomForestRegressor(n_estimators=t)\n",
    "    accuracy.append(rf_accuracy(tree, data, target))\n",
    "\n",
    "plt.plot(number_trees, accuracy)\n",
    "plt.suptitle(\"RF accuracy with different n_estimators\");"
   ]
  },
  {
   "cell_type": "code",
   "execution_count": 54,
   "metadata": {
    "collapsed": false
   },
   "outputs": [
    {
     "data": {
      "image/png": "[encoded data removed]",
      "text/plain": [
       "<matplotlib.figure.Figure at 0x7f25599a4eb8>"
      ]
     },
     "metadata": {},
     "output_type": "display_data"
    }
   ],
   "source": [
    "f1 = []\n",
    "\n",
    "for t in number_trees:\n",
    "    tree = RandomForestRegressor(n_estimators=t)\n",
    "    f1.append(rf_f1score(tree, data, target))\n",
    "\n",
    "plt.plot(number_trees, f1)\n",
    "plt.suptitle(\"RF f1-score with different n_estimators\");"
   ]
  },
  {
   "cell_type": "markdown",
   "metadata": {},
   "source": [
    "*Note* that this is the result of only one train-test split, so not a viable judge for determining stable and efficient parameters. This is noticeable by running the cell above several times, and we see the shape of the curve change quite a lot. The result of the actual score plotted previously is far more reliable."
   ]
  },
  {
   "cell_type": "markdown",
   "metadata": {},
   "source": [
    "### max_features\n",
    "As default, the number of features to consider when looking for the best split is equal to the square root of the number of features. We will test it with different values between 1 and the number of features."
   ]
  },
  {
   "cell_type": "code",
   "execution_count": 57,
   "metadata": {
    "collapsed": false
   },
   "outputs": [],
   "source": [
    "max_features = range(1,len(features)+1)\n",
    "score = []\n",
    "\n",
    "for m in max_features:\n",
    "    tree = RandomForestRegressor(n_estimators=100, max_features=m)\n",
    "    scores = model_selection.cross_val_score(tree, data, target, cv=10)\n",
    "    score.append(scores.mean())"
   ]
  },
  {
   "cell_type": "code",
   "execution_count": 58,
   "metadata": {
    "collapsed": false,
    "scrolled": true
   },
   "outputs": [
    {
     "data": {
      "image/png": "[encoded data removed]",
      "text/plain": [
       "<matplotlib.figure.Figure at 0x7f25538194e0>"
      ]
     },
     "metadata": {},
     "output_type": "display_data"
    }
   ],
   "source": [
    "plt.plot(max_features, score);"
   ]
  },
  {
   "cell_type": "markdown",
   "metadata": {},
   "source": [
    "An efficient and stable choice for max_features seems to be 5.\n"
   ]
  },
  {
   "cell_type": "markdown",
   "metadata": {},
   "source": [
    "### max_depth\n",
    "The maximum depth of the tree. If None, then nodes are expanded until all leaves are pure. We compute the score for several depths, including the default value (indicated by `None`)."
   ]
  },
  {
   "cell_type": "code",
   "execution_count": 59,
   "metadata": {
    "collapsed": false
   },
   "outputs": [],
   "source": [
    "# None included to compute \n",
    "max_depths = [1,5,10,20,50,75]\n",
    "accuracy = []\n",
    "\n",
    "for d in max_depths:\n",
    "    tree = RandomForestRegressor(n_estimators=100, max_features=5, max_depth=d)\n",
    "    scores = model_selection.cross_val_score(tree, data, target, cv=10)\n",
    "    accuracy.append(scores.mean())"
   ]
  },
  {
   "cell_type": "code",
   "execution_count": 60,
   "metadata": {
    "collapsed": false
   },
   "outputs": [],
   "source": [
    "tree = RandomForestRegressor(n_estimators=100, max_features=5, max_depth=None)\n",
    "scores = model_selection.cross_val_score(tree, data, target, cv=10)\n",
    "accuracy.append(scores.mean())"
   ]
  },
  {
   "cell_type": "code",
   "execution_count": 61,
   "metadata": {
    "collapsed": false
   },
   "outputs": [
    {
     "data": {
      "image/png": "[encoded data removed]",
      "text/plain": [
       "<matplotlib.figure.Figure at 0x7f2559893978>"
      ]
     },
     "metadata": {},
     "output_type": "display_data"
    }
   ],
   "source": [
    "max_depths.append(100) # 100 represents the default value\n",
    "plt.plot(max_depths, accuracy);"
   ]
  },
  {
   "cell_type": "markdown",
   "metadata": {},
   "source": [
    "In our case, there is no overfitting problem with a tree having pure nodes. We will keep the default value."
   ]
  },
  {
   "cell_type": "markdown",
   "metadata": {},
   "source": [
    "### min_samples_leaf\n",
    "The minimum number of samples required to be at a leaf node."
   ]
  },
  {
   "cell_type": "code",
   "execution_count": 66,
   "metadata": {
    "collapsed": false
   },
   "outputs": [],
   "source": [
    "min_samples = [1,2,3,4,5,10,20]\n",
    "accuracy = []\n",
    "\n",
    "for s in min_samples:\n",
    "    tree = RandomForestRegressor(n_estimators=100, max_features=5, min_samples_leaf=s)\n",
    "    scores = model_selection.cross_val_score(tree, data, target, cv=5)\n",
    "    accuracy.append(scores.mean())"
   ]
  },
  {
   "cell_type": "code",
   "execution_count": 67,
   "metadata": {
    "collapsed": false
   },
   "outputs": [
    {
     "data": {
      "image/png": "[encoded data removed]",
      "text/plain": [
       "<matplotlib.figure.Figure at 0x7f255972d550>"
      ]
     },
     "metadata": {},
     "output_type": "display_data"
    }
   ],
   "source": [
    "plt.plot(min_samples, accuracy);"
   ]
  },
  {
   "cell_type": "markdown",
   "metadata": {},
   "source": [
    "If less than 3 samples are in a leaf the model is overfitting and if more than 3 are in a leaf node it is underfitting."
   ]
  },
  {
   "cell_type": "markdown",
   "metadata": {},
   "source": [
    "### Feature importance of the trained model\n",
    "\n",
    "Now we will have a look at the features sorted by their score in the tree with the tuned parameter we found."
   ]
  },
  {
   "cell_type": "code",
   "execution_count": 50,
   "metadata": {
    "collapsed": true
   },
   "outputs": [],
   "source": [
    "def features_importance_rf(X, y, rf, print_=True, plot=True):\n",
    "    \"\"\"Print and plot the top features importances in X using the rf classifier.\n",
    "    Returns columns names in order of increasing importance\"\"\"\n",
    "    rf.fit(X, y)\n",
    " \n",
    "    importances = rf.feature_importances_\n",
    "    std = np.std([tree.feature_importances_ for tree in rf.estimators_], axis=0)\n",
    "    indices = np.argsort(importances)[::-1]\n",
    " \n",
    "    cols = X.columns\n",
    "    ord_cols = []\n",
    "    # Print the feature ranking \n",
    "    if print_:\n",
    "        print(\"Feature ranking:\")\n",
    " \n",
    "        for f in range(X.shape[1]):\n",
    "            print(\"%d. feature n° %d %s (%f)\" % (f + 1, indices[f], cols[indices[f]], importances[indices[f]]))\n",
    "            ord_cols.append(cols[indices[f]])\n",
    "    else:\n",
    "        for f in range(X.shape[1]):\n",
    "            ord_cols.append(cols[indices[f]])  \n",
    " \n",
    "    # Plot the feature importance \n",
    "    if plot:\n",
    "        plt.subplots(figsize=(8,6))\n",
    "        plt.suptitle(\"Feature importance\", fontsize=18)\n",
    "        plt.bar(range(X.shape[1]), importances[indices],\n",
    "               color=\"r\", yerr=std[indices], align=\"center\")\n",
    "        plt.xticks(range(X.shape[1]), indices)\n",
    "        plt.xlim([-1, X.shape[1]])\n",
    "        plt.show()\n",
    "        \n",
    "    # Compute accuracy\n",
    "    print(\"Accuracy:\", rf_accuracy(rf, X, y))\n",
    "    print(\"F1-score:\", rf_f1score(rf, X, y))\n",
    " \n",
    "    return ord_cols"
   ]
  },
  {
   "cell_type": "markdown",
   "metadata": {},
   "source": [
    "The red bars in the plot represent the feature importance of the trees and the blue lines are the inter-tree variability."
   ]
  },
  {
   "cell_type": "code",
   "execution_count": 51,
   "metadata": {
    "collapsed": false,
    "scrolled": true
   },
   "outputs": [
    {
     "name": "stdout",
     "output_type": "stream",
     "text": [
      "Feature ranking:\n",
      "1. feature n° 17 seExp (0.104936)\n",
      "2. feature n° 7 meanIAT (0.100495)\n",
      "3. feature n° 11 seIAT (0.091301)\n",
      "4. feature n° 0 meanExp (0.085518)\n",
      "5. feature n° 8 refNum (0.055482)\n",
      "6. feature n° 9 victories (0.054914)\n",
      "7. feature n° 10 games (0.048459)\n",
      "8. feature n° 15 goals (0.048344)\n",
      "9. feature n° 18 yellowCards (0.048188)\n",
      "10. feature n° 4 ties (0.045120)\n",
      "11. feature n° 13 defeats (0.040957)\n",
      "12. feature n° 14 refCountry (0.040457)\n",
      "13. feature n° 12 redCards (0.034260)\n",
      "14. feature n° 19 position (0.032728)\n",
      "15. feature n° 5 weight (0.032355)\n",
      "16. feature n° 2 age (0.030016)\n",
      "17. feature n° 16 height (0.029655)\n",
      "18. feature n° 1 weightMeanIAT (0.027595)\n",
      "19. feature n° 3 weightMeanExp (0.026763)\n",
      "20. feature n° 6 yellowReds (0.022456)\n"
     ]
    },
    {
     "data": {
      "image/png": "[encoded data removed]",
      "text/plain": [
       "<matplotlib.figure.Figure at 0x7f333956a780>"
      ]
     },
     "metadata": {},
     "output_type": "display_data"
    },
    {
     "name": "stdout",
     "output_type": "stream",
     "text": [
      "Accuracy: 0.85534591195\n",
      "F1-score: 0.368421052632\n"
     ]
    }
   ],
   "source": [
    "rf = RandomForestRegressor(n_estimators=100, max_features=5, min_samples_leaf=3)\n",
    "sorted_features = features_importance_rf(data, target, rf)"
   ]
  },
  {
   "cell_type": "markdown",
   "metadata": {},
   "source": [
    "The four highest ranked features are the aggregated standard errors and mean scores of the explicit and implicit racism tests. We can also see that these four features have the highest inter-tree variability. \n",
    "\n",
    "Let's see what happens if we remove these top four features."
   ]
  },
  {
   "cell_type": "code",
   "execution_count": 52,
   "metadata": {
    "collapsed": false
   },
   "outputs": [
    {
     "name": "stdout",
     "output_type": "stream",
     "text": [
      "Feature ranking:\n",
      "1. feature n° 7 victories (0.090788)\n",
      "2. feature n° 14 yellowCards (0.083793)\n",
      "3. feature n° 12 goals (0.080200)\n",
      "4. feature n° 6 refNum (0.079413)\n",
      "5. feature n° 11 refCountry (0.079279)\n",
      "6. feature n° 8 games (0.072913)\n",
      "7. feature n° 3 ties (0.070201)\n",
      "8. feature n° 10 defeats (0.067533)\n",
      "9. feature n° 9 redCards (0.054991)\n",
      "10. feature n° 4 weight (0.054592)\n",
      "11. feature n° 13 height (0.053374)\n",
      "12. feature n° 2 weightMeanExp (0.047946)\n",
      "13. feature n° 0 weightMeanIAT (0.043911)\n",
      "14. feature n° 1 age (0.040626)\n",
      "15. feature n° 5 yellowReds (0.040617)\n",
      "16. feature n° 15 position (0.039822)\n"
     ]
    },
    {
     "data": {
      "image/png": "[encoded data removed]",
      "text/plain": [
       "<matplotlib.figure.Figure at 0x7f333183e4a8>"
      ]
     },
     "metadata": {},
     "output_type": "display_data"
    },
    {
     "name": "stdout",
     "output_type": "stream",
     "text": [
      "Accuracy: 0.823899371069\n",
      "F1-score: 0.0\n"
     ]
    }
   ],
   "source": [
    "reduced_data = data.drop(sorted_features[:4], axis=1)\n",
    "rf_red = RandomForestRegressor(n_estimators=100, max_features=5, min_samples_leaf=3)\n",
    "reduced_sorted_features = features_importance_rf(reduced_data, target, rf_red)"
   ]
  },
  {
   "cell_type": "markdown",
   "metadata": {},
   "source": [
    "Even though the importance measures (red bars) increased slightly, the order of the feature importances measured seem quite stable.\n",
    "\n",
    "However, by removing the features with highest importance, we get an **accuracy** slightly lower than with those features. \n",
    "\n",
    "More interestingly, the **f1-score** varies greatly, where with the four most important features we have a score around 0.36, and **without them**  it is 0. This is because the recall and precision values are extremely low, and our model is very bad at predicting players in the '1' category, when trained without those 4 top features."
   ]
  },
  {
   "cell_type": "markdown",
   "metadata": {},
   "source": [
    "### Confusion Matrix\n",
    "\n",
    "With the help of a confusion matrix, we can look at the way our 'classifier' (rounded regressor predictions) labels the OOB objects it receives."
   ]
  },
  {
   "cell_type": "code",
   "execution_count": 53,
   "metadata": {
    "collapsed": true
   },
   "outputs": [],
   "source": [
    "from sklearn.metrics import confusion_matrix, f1_score\n",
    "import itertools"
   ]
  },
  {
   "cell_type": "code",
   "execution_count": 54,
   "metadata": {
    "collapsed": true
   },
   "outputs": [],
   "source": [
    "def plot_confusion_matrix(cm, classes, title='Confusion matrix', cmap=plt.cm.Blues):\n",
    "    \"\"\"\n",
    "    This function prints and plots the confusion matrix.\n",
    "    Normalization can be applied by setting `normalize=True`.\n",
    "    \"\"\"\n",
    "    plt.imshow(cm, interpolation='nearest', cmap=cmap)\n",
    "    plt.title(title)\n",
    "    plt.colorbar()\n",
    "    tick_marks = np.arange(len(classes))\n",
    "    plt.xticks(tick_marks, classes, rotation=45)\n",
    "    plt.yticks(tick_marks, classes)\n",
    "    np.set_printoptions(precision=2)\n",
    "    \n",
    "    thresh = cm.max() / 2.\n",
    "    for i, j in itertools.product(range(cm.shape[0]), range(cm.shape[1])):\n",
    "        plt.text(j, i, cm[i, j],\n",
    "                 horizontalalignment=\"center\",\n",
    "                 color=\"white\" if cm[i, j] > thresh else \"black\")\n",
    "\n",
    "    plt.tight_layout()\n",
    "    plt.ylabel('True label')\n",
    "    plt.xlabel('Predicted label')"
   ]
  },
  {
   "cell_type": "code",
   "execution_count": 73,
   "metadata": {
    "collapsed": false
   },
   "outputs": [
    {
     "data": {
      "image/png": "[encoded data removed]",
      "text/plain": [
       "<matplotlib.figure.Figure at 0x7f25597afc88>"
      ]
     },
     "metadata": {},
     "output_type": "display_data"
    }
   ],
   "source": [
    "# Our model with best parameters according to our previous tests\n",
    "rf = RandomForestRegressor(n_estimators=100, max_features=5, min_samples_leaf=3)\n",
    "# Data split \n",
    "x_train, x_test, y_train, y_test = model_selection.train_test_split(data, target, test_size=0.2)\n",
    "predictions = predict_class_from_reg(rf, x_train, y_train, x_test)\n",
    "rounded_y = np.around(y_test)\n",
    "cm = confusion_matrix(rounded_y, predictions)\n",
    "classes = np.unique(rounded_y)\n",
    "plot_confusion_matrix(cm, classes)"
   ]
  },
  {
   "cell_type": "markdown",
   "metadata": {},
   "source": [
    "Our model performs best at predicting players with light skin-tone. For the white player class, we have\n",
    "- recall $: \\frac{255}{255+8} \\approx 0.97$ \n",
    "- precision $: \\frac{255}{255+44} \\approx 0.85$ \n",
    "For the black player class we have\n",
    "- recall $: \\frac{10}{10+44} \\approx 0.19$ \n",
    "- precision $: \\frac{10}{10+8} \\approx 0.55$"
   ]
  },
  {
   "cell_type": "markdown",
   "metadata": {},
   "source": [
    "# Bonus"
   ]
  },
  {
   "cell_type": "markdown",
   "metadata": {},
   "source": [
    "As described in the *bonus* part of the assignment, we plot the learning curve of our model, which is essentially the score of the model plotted against the amount of experience, i.e. number of data samples used for its training."
   ]
  },
  {
   "cell_type": "code",
   "execution_count": 55,
   "metadata": {
    "collapsed": true
   },
   "outputs": [],
   "source": [
    "def plot_learning_curve(estimator, title, X, y, ylim=None, cv=None, n_jobs=1, train_sizes=np.linspace(.1, 1.0, 5)):\n",
    "    \"\"\"Generate a simple plot of the test and training learning curve.\"\"\"\n",
    "    plt.figure()\n",
    "    plt.title(title)\n",
    "    if ylim is not None:\n",
    "        plt.ylim(*ylim)\n",
    "    plt.xlabel(\"Training examples\")\n",
    "    plt.ylabel(\"Score\")\n",
    "    train_sizes, train_scores, test_scores = model_selection.learning_curve(\n",
    "        estimator, X, y, cv=cv, n_jobs=n_jobs, train_sizes=train_sizes)\n",
    "    train_scores_mean = np.mean(train_scores, axis=1)\n",
    "    train_scores_std = np.std(train_scores, axis=1)\n",
    "    test_scores_mean = np.mean(test_scores, axis=1)\n",
    "    test_scores_std = np.std(test_scores, axis=1)\n",
    "    plt.grid()\n",
    "\n",
    "    plt.fill_between(train_sizes, train_scores_mean - train_scores_std,\n",
    "                     train_scores_mean + train_scores_std, alpha=0.1,\n",
    "                     color=\"r\")\n",
    "    plt.fill_between(train_sizes, test_scores_mean - test_scores_std, \n",
    "                     test_scores_mean + test_scores_std, alpha=0.1, color=\"g\")\n",
    "    plt.plot(train_sizes, train_scores_mean, 'o-', color=\"r\", label=\"Training score\")\n",
    "    plt.plot(train_sizes, test_scores_mean, 'o-', color=\"g\", label=\"Cross-validation score\")\n",
    "\n",
    "    plt.legend(loc=\"best\")\n",
    "    return plt"
   ]
  },
  {
   "cell_type": "code",
   "execution_count": 56,
   "metadata": {
    "collapsed": false
   },
   "outputs": [
    {
     "data": {
      "image/png": "[encoded data removed]",
      "text/plain": [
       "<matplotlib.figure.Figure at 0x7f333807ae10>"
      ]
     },
     "metadata": {},
     "output_type": "display_data"
    }
   ],
   "source": [
    "cv = model_selection.ShuffleSplit(n_splits=100, test_size=0.2, random_state=0)\n",
    "title = \"Learning curve - low bias\"\n",
    "rounded_target = np.around(target)\n",
    "rf = RandomForestClassifier(n_estimators=20, max_features=10, min_samples_leaf=3)\n",
    "plot_learning_curve(rf, title, data, rounded_target, cv=cv, n_jobs=4);"
   ]
  },
  {
   "cell_type": "markdown",
   "metadata": {},
   "source": [
    "By plotting the learning curve for the Random Forest with the parameters we computed in the previous part, we get two curves that are relatively far appart, and the training score is much higher than the validation score. This is a case of low bias, and the model can be overfitting."
   ]
  },
  {
   "cell_type": "code",
   "execution_count": 57,
   "metadata": {
    "collapsed": false
   },
   "outputs": [
    {
     "data": {
      "image/png": "[encoded data removed]",
      "text/plain": [
       "<matplotlib.figure.Figure at 0x7f33778b2080>"
      ]
     },
     "metadata": {},
     "output_type": "display_data"
    }
   ],
   "source": [
    "cv = model_selection.ShuffleSplit(n_splits=100, test_size=0.2, random_state=0)\n",
    "title = \"Learning curve - high bias\"\n",
    "rounded_target = np.around(target)\n",
    "rf = RandomForestClassifier(n_estimators=1, min_samples_leaf=40, max_depth=2)\n",
    "plot_learning_curve(rf, title, data, rounded_target, cv=cv, n_jobs=4);"
   ]
  },
  {
   "cell_type": "markdown",
   "metadata": {},
   "source": [
    "Above, we plotted the learning curve for a Random Forest with parameters specified to make it much more simple. That means it will have a tendency to underfit. As we can see, even with larger amounts of data available for training, the training score remains quite low, and the validation score looks very similar. So this model has a **high bias**."
   ]
  },
  {
   "cell_type": "markdown",
   "metadata": {
    "collapsed": true
   },
   "source": [
    "# 2. Clustering"
   ]
  },
  {
   "cell_type": "markdown",
   "metadata": {},
   "source": [
    "We group the referee informations by player and since we did it already in the last part, we can reuse group."
   ]
  },
  {
   "cell_type": "code",
   "execution_count": 58,
   "metadata": {
    "collapsed": false
   },
   "outputs": [
    {
     "data": {
      "text/html": [
       "<div>\n",
       "<table border=\"1\" class=\"dataframe\">\n",
       "  <thead>\n",
       "    <tr style=\"text-align: right;\">\n",
       "      <th></th>\n",
       "      <th>skin_nonorm</th>\n",
       "      <th>meanExp</th>\n",
       "      <th>skin_difference</th>\n",
       "      <th>weightMeanIAT</th>\n",
       "      <th>age</th>\n",
       "      <th>weightMeanExp</th>\n",
       "      <th>ties</th>\n",
       "      <th>weight</th>\n",
       "      <th>yellowReds</th>\n",
       "      <th>meanIAT</th>\n",
       "      <th>...</th>\n",
       "      <th>seIAT</th>\n",
       "      <th>redCards</th>\n",
       "      <th>defeats</th>\n",
       "      <th>skin</th>\n",
       "      <th>refCountry</th>\n",
       "      <th>goals</th>\n",
       "      <th>height</th>\n",
       "      <th>seExp</th>\n",
       "      <th>yellowCards</th>\n",
       "      <th>position</th>\n",
       "    </tr>\n",
       "    <tr>\n",
       "      <th>playerShort</th>\n",
       "      <th></th>\n",
       "      <th></th>\n",
       "      <th></th>\n",
       "      <th></th>\n",
       "      <th></th>\n",
       "      <th></th>\n",
       "      <th></th>\n",
       "      <th></th>\n",
       "      <th></th>\n",
       "      <th></th>\n",
       "      <th></th>\n",
       "      <th></th>\n",
       "      <th></th>\n",
       "      <th></th>\n",
       "      <th></th>\n",
       "      <th></th>\n",
       "      <th></th>\n",
       "      <th></th>\n",
       "      <th></th>\n",
       "      <th></th>\n",
       "      <th></th>\n",
       "    </tr>\n",
       "  </thead>\n",
       "  <tbody>\n",
       "    <tr>\n",
       "      <th>aaron-hughes</th>\n",
       "      <td>0.5</td>\n",
       "      <td>0.494575</td>\n",
       "      <td>1.800031</td>\n",
       "      <td>2.861858e-06</td>\n",
       "      <td>1.370639</td>\n",
       "      <td>3.235924e-06</td>\n",
       "      <td>0.317084</td>\n",
       "      <td>-0.749386</td>\n",
       "      <td>-0.108671</td>\n",
       "      <td>0.346459</td>\n",
       "      <td>...</td>\n",
       "      <td>0.003315</td>\n",
       "      <td>-0.112016</td>\n",
       "      <td>0.306836</td>\n",
       "      <td>-0.549090</td>\n",
       "      <td>37</td>\n",
       "      <td>-0.316979</td>\n",
       "      <td>-0.018675</td>\n",
       "      <td>0.027536</td>\n",
       "      <td>-0.346780</td>\n",
       "      <td>1</td>\n",
       "    </tr>\n",
       "    <tr>\n",
       "      <th>aaron-hunt</th>\n",
       "      <td>0.5</td>\n",
       "      <td>0.449220</td>\n",
       "      <td>1.800031</td>\n",
       "      <td>3.807995e-06</td>\n",
       "      <td>-0.225550</td>\n",
       "      <td>5.058827e-06</td>\n",
       "      <td>0.019149</td>\n",
       "      <td>-0.470302</td>\n",
       "      <td>-0.108671</td>\n",
       "      <td>0.348818</td>\n",
       "      <td>...</td>\n",
       "      <td>0.000543</td>\n",
       "      <td>-0.023386</td>\n",
       "      <td>0.207666</td>\n",
       "      <td>-0.549090</td>\n",
       "      <td>25</td>\n",
       "      <td>0.288572</td>\n",
       "      <td>0.128306</td>\n",
       "      <td>0.002506</td>\n",
       "      <td>0.030080</td>\n",
       "      <td>0</td>\n",
       "    </tr>\n",
       "    <tr>\n",
       "      <th>aaron-lennon</th>\n",
       "      <td>1.0</td>\n",
       "      <td>0.491482</td>\n",
       "      <td>-0.547478</td>\n",
       "      <td>3.081554e-06</td>\n",
       "      <td>-0.453577</td>\n",
       "      <td>3.467183e-06</td>\n",
       "      <td>0.214040</td>\n",
       "      <td>-1.865721</td>\n",
       "      <td>-0.108671</td>\n",
       "      <td>0.345893</td>\n",
       "      <td>...</td>\n",
       "      <td>0.001268</td>\n",
       "      <td>-0.112016</td>\n",
       "      <td>0.141837</td>\n",
       "      <td>-0.115715</td>\n",
       "      <td>28</td>\n",
       "      <td>-0.049463</td>\n",
       "      <td>-2.517367</td>\n",
       "      <td>0.008914</td>\n",
       "      <td>-0.353528</td>\n",
       "      <td>11</td>\n",
       "    </tr>\n",
       "    <tr>\n",
       "      <th>aaron-ramsey</th>\n",
       "      <td>0.0</td>\n",
       "      <td>0.514693</td>\n",
       "      <td>-0.547478</td>\n",
       "      <td>5.548255e-06</td>\n",
       "      <td>-1.365686</td>\n",
       "      <td>6.992590e-06</td>\n",
       "      <td>-0.272310</td>\n",
       "      <td>-0.051676</td>\n",
       "      <td>-0.108671</td>\n",
       "      <td>0.346821</td>\n",
       "      <td>...</td>\n",
       "      <td>0.028116</td>\n",
       "      <td>-0.027647</td>\n",
       "      <td>-0.198705</td>\n",
       "      <td>-0.982466</td>\n",
       "      <td>37</td>\n",
       "      <td>0.022593</td>\n",
       "      <td>-0.606603</td>\n",
       "      <td>0.104541</td>\n",
       "      <td>-0.123403</td>\n",
       "      <td>3</td>\n",
       "    </tr>\n",
       "    <tr>\n",
       "      <th>abdelhamid-el-kaoutari</th>\n",
       "      <td>1.0</td>\n",
       "      <td>0.335587</td>\n",
       "      <td>-0.547478</td>\n",
       "      <td>4.243206e-07</td>\n",
       "      <td>-1.137659</td>\n",
       "      <td>4.779943e-07</td>\n",
       "      <td>0.319503</td>\n",
       "      <td>-0.470302</td>\n",
       "      <td>0.864236</td>\n",
       "      <td>0.331600</td>\n",
       "      <td>...</td>\n",
       "      <td>0.006309</td>\n",
       "      <td>0.362271</td>\n",
       "      <td>0.158379</td>\n",
       "      <td>-0.115715</td>\n",
       "      <td>11</td>\n",
       "      <td>-0.345761</td>\n",
       "      <td>-0.312639</td>\n",
       "      <td>0.023426</td>\n",
       "      <td>-0.222989</td>\n",
       "      <td>1</td>\n",
       "    </tr>\n",
       "  </tbody>\n",
       "</table>\n",
       "<p>5 rows × 23 columns</p>\n",
       "</div>"
      ],
      "text/plain": [
       "                        skin_nonorm   meanExp  skin_difference  weightMeanIAT  \\\n",
       "playerShort                                                                     \n",
       "aaron-hughes                    0.5  0.494575         1.800031   2.861858e-06   \n",
       "aaron-hunt                      0.5  0.449220         1.800031   3.807995e-06   \n",
       "aaron-lennon                    1.0  0.491482        -0.547478   3.081554e-06   \n",
       "aaron-ramsey                    0.0  0.514693        -0.547478   5.548255e-06   \n",
       "abdelhamid-el-kaoutari          1.0  0.335587        -0.547478   4.243206e-07   \n",
       "\n",
       "                             age  weightMeanExp      ties    weight  \\\n",
       "playerShort                                                           \n",
       "aaron-hughes            1.370639   3.235924e-06  0.317084 -0.749386   \n",
       "aaron-hunt             -0.225550   5.058827e-06  0.019149 -0.470302   \n",
       "aaron-lennon           -0.453577   3.467183e-06  0.214040 -1.865721   \n",
       "aaron-ramsey           -1.365686   6.992590e-06 -0.272310 -0.051676   \n",
       "abdelhamid-el-kaoutari -1.137659   4.779943e-07  0.319503 -0.470302   \n",
       "\n",
       "                        yellowReds   meanIAT    ...        seIAT  redCards  \\\n",
       "playerShort                                     ...                          \n",
       "aaron-hughes             -0.108671  0.346459    ...     0.003315 -0.112016   \n",
       "aaron-hunt               -0.108671  0.348818    ...     0.000543 -0.023386   \n",
       "aaron-lennon             -0.108671  0.345893    ...     0.001268 -0.112016   \n",
       "aaron-ramsey             -0.108671  0.346821    ...     0.028116 -0.027647   \n",
       "abdelhamid-el-kaoutari    0.864236  0.331600    ...     0.006309  0.362271   \n",
       "\n",
       "                         defeats      skin  refCountry     goals    height  \\\n",
       "playerShort                                                                  \n",
       "aaron-hughes            0.306836 -0.549090          37 -0.316979 -0.018675   \n",
       "aaron-hunt              0.207666 -0.549090          25  0.288572  0.128306   \n",
       "aaron-lennon            0.141837 -0.115715          28 -0.049463 -2.517367   \n",
       "aaron-ramsey           -0.198705 -0.982466          37  0.022593 -0.606603   \n",
       "abdelhamid-el-kaoutari  0.158379 -0.115715          11 -0.345761 -0.312639   \n",
       "\n",
       "                           seExp  yellowCards  position  \n",
       "playerShort                                              \n",
       "aaron-hughes            0.027536    -0.346780         1  \n",
       "aaron-hunt              0.002506     0.030080         0  \n",
       "aaron-lennon            0.008914    -0.353528        11  \n",
       "aaron-ramsey            0.104541    -0.123403         3  \n",
       "abdelhamid-el-kaoutari  0.023426    -0.222989         1  \n",
       "\n",
       "[5 rows x 23 columns]"
      ]
     },
     "execution_count": 58,
     "metadata": {},
     "output_type": "execute_result"
    }
   ],
   "source": [
    "grouped.head()"
   ]
  },
  {
   "cell_type": "code",
   "execution_count": 59,
   "metadata": {
    "collapsed": true
   },
   "outputs": [],
   "source": [
    "from sklearn.cluster import KMeans\n",
    "from sklearn.metrics import silhouette_score"
   ]
  },
  {
   "cell_type": "markdown",
   "metadata": {},
   "source": [
    "We now compute the silhouette score and remove iteratively features. We keep track of 2 score, the one by silhouette score of the clusterisation by k-mean and its own labels, and the one corresponding to the proportion of correctly partitionned data along the skin value (accuracy = max(partition_accuracy, 1-partition_accuracy) split at skin value = 2.0)"
   ]
  },
  {
   "cell_type": "code",
   "execution_count": 60,
   "metadata": {
    "collapsed": false
   },
   "outputs": [
    {
     "data": {
      "text/plain": [
       "playerShort\n",
       "aaron-hughes              1\n",
       "aaron-hunt                1\n",
       "aaron-lennon              1\n",
       "aaron-ramsey              1\n",
       "abdelhamid-el-kaoutari    1\n",
       "Name: skin_nonorm, dtype: int64"
      ]
     },
     "execution_count": 60,
     "metadata": {},
     "output_type": "execute_result"
    }
   ],
   "source": [
    "skin_labels = (grouped['skin_nonorm'] < 2.0).astype(int) \n",
    "skin_labels.head()"
   ]
  },
  {
   "cell_type": "markdown",
   "metadata": {},
   "source": [
    "We define the cluster method with the data as parameter"
   ]
  },
  {
   "cell_type": "code",
   "execution_count": 61,
   "metadata": {
    "collapsed": false
   },
   "outputs": [],
   "source": [
    "def cluster(X):\n",
    "    kmeans_model = KMeans(n_clusters=2, random_state=1).fit(X)\n",
    "    labels = kmeans_model.labels_\n",
    "    \n",
    "    silhouette_unsupervised = silhouette_score(X, labels)\n",
    "    np.mean(silhouette_unsupervised)\n",
    "    eq = skin_labels == labels\n",
    "    mean = np.mean(eq)\n",
    "    skin_partition = max(mean, 1-mean)\n",
    "    \n",
    "    return  silhouette_unsupervised, skin_partition"
   ]
  },
  {
   "cell_type": "markdown",
   "metadata": {},
   "source": [
    "The first iterative ablation of the features is done according to the features importance we found in the previous part. It should logically give good results."
   ]
  },
  {
   "cell_type": "code",
   "execution_count": 62,
   "metadata": {
    "collapsed": false
   },
   "outputs": [
    {
     "name": "stdout",
     "output_type": "stream",
     "text": [
      "0.530480813806 0.569085173502 ['seExp', 'meanIAT', 'seIAT', 'meanExp', 'refNum', 'victories', 'games', 'goals', 'yellowCards', 'ties', 'defeats', 'refCountry', 'redCards', 'position', 'weight', 'age', 'height', 'weightMeanIAT', 'weightMeanExp', 'yellowReds']\n",
      "REMOVED FEATURE:  yellowReds\n",
      "\n",
      "\n",
      "0.530499422484 0.569085173502 ['seExp', 'meanIAT', 'seIAT', 'meanExp', 'refNum', 'victories', 'games', 'goals', 'yellowCards', 'ties', 'defeats', 'refCountry', 'redCards', 'position', 'weight', 'age', 'height', 'weightMeanIAT', 'weightMeanExp']\n",
      "REMOVED FEATURE:  weightMeanExp\n",
      "\n",
      "\n",
      "0.530499422484 0.569085173502 ['seExp', 'meanIAT', 'seIAT', 'meanExp', 'refNum', 'victories', 'games', 'goals', 'yellowCards', 'ties', 'defeats', 'refCountry', 'redCards', 'position', 'weight', 'age', 'height', 'weightMeanIAT']\n",
      "REMOVED FEATURE:  weightMeanIAT\n",
      "\n",
      "\n",
      "0.530499422484 0.569085173502 ['seExp', 'meanIAT', 'seIAT', 'meanExp', 'refNum', 'victories', 'games', 'goals', 'yellowCards', 'ties', 'defeats', 'refCountry', 'redCards', 'position', 'weight', 'age', 'height']\n",
      "REMOVED FEATURE:  height\n",
      "\n",
      "\n",
      "0.531188491851 0.569085173502 ['seExp', 'meanIAT', 'seIAT', 'meanExp', 'refNum', 'victories', 'games', 'goals', 'yellowCards', 'ties', 'defeats', 'refCountry', 'redCards', 'position', 'weight', 'age']\n",
      "REMOVED FEATURE:  age\n",
      "\n",
      "\n",
      "0.531772145079 0.569085173502 ['seExp', 'meanIAT', 'seIAT', 'meanExp', 'refNum', 'victories', 'games', 'goals', 'yellowCards', 'ties', 'defeats', 'refCountry', 'redCards', 'position', 'weight']\n",
      "REMOVED FEATURE:  weight\n",
      "\n",
      "\n",
      "0.532472283986 0.569085173502 ['seExp', 'meanIAT', 'seIAT', 'meanExp', 'refNum', 'victories', 'games', 'goals', 'yellowCards', 'ties', 'defeats', 'refCountry', 'redCards', 'position']\n",
      "REMOVED FEATURE:  position\n",
      "\n",
      "\n",
      "0.541373603164 0.569085173502 ['seExp', 'meanIAT', 'seIAT', 'meanExp', 'refNum', 'victories', 'games', 'goals', 'yellowCards', 'ties', 'defeats', 'refCountry', 'redCards']\n",
      "REMOVED FEATURE:  redCards\n",
      "\n",
      "\n",
      "0.541395239518 0.569085173502 ['seExp', 'meanIAT', 'seIAT', 'meanExp', 'refNum', 'victories', 'games', 'goals', 'yellowCards', 'ties', 'defeats', 'refCountry']\n",
      "REMOVED FEATURE:  refCountry\n",
      "\n",
      "\n",
      "0.572681286246 0.557728706625 ['seExp', 'meanIAT', 'seIAT', 'meanExp', 'refNum', 'victories', 'games', 'goals', 'yellowCards', 'ties', 'defeats']\n",
      "REMOVED FEATURE:  defeats\n",
      "\n",
      "\n",
      "0.572851865215 0.557728706625 ['seExp', 'meanIAT', 'seIAT', 'meanExp', 'refNum', 'victories', 'games', 'goals', 'yellowCards', 'ties']\n",
      "REMOVED FEATURE:  ties\n",
      "\n",
      "\n",
      "0.572998949619 0.557728706625 ['seExp', 'meanIAT', 'seIAT', 'meanExp', 'refNum', 'victories', 'games', 'goals', 'yellowCards']\n",
      "REMOVED FEATURE:  yellowCards\n",
      "\n",
      "\n",
      "0.573236680334 0.557728706625 ['seExp', 'meanIAT', 'seIAT', 'meanExp', 'refNum', 'victories', 'games', 'goals']\n",
      "REMOVED FEATURE:  goals\n",
      "\n",
      "\n",
      "0.5735286157 0.557728706625 ['seExp', 'meanIAT', 'seIAT', 'meanExp', 'refNum', 'victories', 'games']\n",
      "REMOVED FEATURE:  games\n",
      "\n",
      "\n",
      "0.573738630968 0.557728706625 ['seExp', 'meanIAT', 'seIAT', 'meanExp', 'refNum', 'victories']\n",
      "REMOVED FEATURE:  victories\n",
      "\n",
      "\n",
      "0.573917623245 0.557728706625 ['seExp', 'meanIAT', 'seIAT', 'meanExp', 'refNum']\n",
      "REMOVED FEATURE:  refNum\n",
      "\n",
      "\n",
      "0.583320472568 0.533123028391 ['seExp', 'meanIAT', 'seIAT', 'meanExp']\n",
      "REMOVED FEATURE:  meanExp\n",
      "\n",
      "\n",
      "0.643129663855 0.778548895899 ['seExp', 'meanIAT', 'seIAT']\n",
      "REMOVED FEATURE:  seIAT\n",
      "\n",
      "\n",
      "0.630514905378 0.779810725552 ['seExp', 'meanIAT']\n",
      "REMOVED FEATURE:  meanIAT\n",
      "\n",
      "\n",
      "0.819587579463 0.771608832808 ['seExp']\n",
      "REMOVED FEATURE:  seExp\n",
      "\n",
      "\n"
     ]
    }
   ],
   "source": [
    "silhouettes_unsupervised = []\n",
    "skin_partitions = []\n",
    "feature_number = []\n",
    "\n",
    "columns = sorted_features\n",
    "#We always drop skin_nonorm. It was only used for labeling before standardization\n",
    "for i in range(len(columns)):\n",
    "    silhouette_unsupervised, skin_partitionning = cluster(grouped[columns])\n",
    "    \n",
    "    silhouettes_unsupervised.append(silhouette_unsupervised)\n",
    "    skin_partitions.append(skin_partitionning )\n",
    "    \n",
    "    feature_number.append(len(columns))\n",
    "    print(silhouette_unsupervised, skin_partitionning, columns)\n",
    "    print(\"REMOVED FEATURE: \", columns[-1])\n",
    "    print()\n",
    "    print()\n",
    "    columns = columns[:-1]"
   ]
  },
  {
   "cell_type": "code",
   "execution_count": 63,
   "metadata": {
    "collapsed": false
   },
   "outputs": [
    {
     "data": {
      "image/png": "[encoded data removed]",
      "text/plain": [
       "<matplotlib.figure.Figure at 0x7f3339282fd0>"
      ]
     },
     "metadata": {},
     "output_type": "display_data"
    }
   ],
   "source": [
    "plt.plot(feature_number, silhouettes_unsupervised, label='silhouette');\n",
    "plt.plot(feature_number, skin_partitions, label='partition');\n",
    "plt.xlabel('Number of features');\n",
    "plt.legend();"
   ]
  },
  {
   "cell_type": "markdown",
   "metadata": {},
   "source": [
    "We can see that the silhouette goes up as the number of features go down (easier to cluster). \n",
    "We could think that ['seExp', 'seIAT', 'meanIAT', 'meanExp'] give good enough silhouette and partition scores."
   ]
  },
  {
   "cell_type": "code",
   "execution_count": 64,
   "metadata": {
    "collapsed": false
   },
   "outputs": [
    {
     "name": "stdout",
     "output_type": "stream",
     "text": [
      "1    1200\n",
      "0     385\n",
      "Name: skin_nonorm, dtype: int64\n"
     ]
    },
    {
     "data": {
      "text/plain": [
       "0.7570977917981072"
      ]
     },
     "execution_count": 64,
     "metadata": {},
     "output_type": "execute_result"
    }
   ],
   "source": [
    "print(skin_labels.value_counts())\n",
    "1200/(1200+385)"
   ]
  },
  {
   "cell_type": "markdown",
   "metadata": {},
   "source": [
    "But we notice that just outputing everything under 1 category would result in a 75% accuracy, which is only a bit less than the best paritionning accuracy achieved here. Way less spectacular.\n",
    "\n",
    "Now let's take another approach and instead of removing features iteratively based on the feature importance found in the previous part, we're gonna remove the feature such that it maximizes the silhouette score at the next iteration"
   ]
  },
  {
   "cell_type": "code",
   "execution_count": 66,
   "metadata": {
    "collapsed": false
   },
   "outputs": [
    {
     "name": "stdout",
     "output_type": "stream",
     "text": [
      "0.530480813806 0.569085173502 ['seExp', 'meanIAT', 'seIAT', 'meanExp', 'refNum', 'victories', 'games', 'goals', 'yellowCards', 'ties', 'defeats', 'refCountry', 'redCards', 'position', 'weight', 'age', 'height', 'weightMeanIAT', 'weightMeanExp', 'yellowReds']\n",
      "REMOVED FEATURE:  11 refCountry\n",
      "\n",
      "\n",
      "0.554782338277 0.557728706625 ['seExp', 'meanIAT', 'seIAT', 'meanExp', 'refNum', 'victories', 'games', 'goals', 'yellowCards', 'ties', 'defeats', 'redCards', 'position', 'weight', 'age', 'height', 'weightMeanIAT', 'weightMeanExp', 'yellowReds']\n",
      "REMOVED FEATURE:  12 position\n",
      "\n",
      "\n",
      "0.568201208404 0.557728706625 ['seExp', 'meanIAT', 'seIAT', 'meanExp', 'refNum', 'victories', 'games', 'goals', 'yellowCards', 'ties', 'defeats', 'redCards', 'weight', 'age', 'height', 'weightMeanIAT', 'weightMeanExp', 'yellowReds']\n",
      "REMOVED FEATURE:  14 height\n",
      "\n",
      "\n",
      "0.569602594661 0.557728706625 ['seExp', 'meanIAT', 'seIAT', 'meanExp', 'refNum', 'victories', 'games', 'goals', 'yellowCards', 'ties', 'defeats', 'redCards', 'weight', 'age', 'weightMeanIAT', 'weightMeanExp', 'yellowReds']\n",
      "REMOVED FEATURE:  12 weight\n",
      "\n",
      "\n",
      "0.571160177901 0.557728706625 ['seExp', 'meanIAT', 'seIAT', 'meanExp', 'refNum', 'victories', 'games', 'goals', 'yellowCards', 'ties', 'defeats', 'redCards', 'age', 'weightMeanIAT', 'weightMeanExp', 'yellowReds']\n",
      "REMOVED FEATURE:  12 age\n",
      "\n",
      "\n",
      "0.572587114145 0.557728706625 ['seExp', 'meanIAT', 'seIAT', 'meanExp', 'refNum', 'victories', 'games', 'goals', 'yellowCards', 'ties', 'defeats', 'redCards', 'weightMeanIAT', 'weightMeanExp', 'yellowReds']\n",
      "REMOVED FEATURE:  7 goals\n",
      "\n",
      "\n",
      "0.572851211565 0.557728706625 ['seExp', 'meanIAT', 'seIAT', 'meanExp', 'refNum', 'victories', 'games', 'yellowCards', 'ties', 'defeats', 'redCards', 'weightMeanIAT', 'weightMeanExp', 'yellowReds']\n",
      "REMOVED FEATURE:  7 yellowCards\n",
      "\n",
      "\n",
      "0.57307622555 0.557728706625 ['seExp', 'meanIAT', 'seIAT', 'meanExp', 'refNum', 'victories', 'games', 'ties', 'defeats', 'redCards', 'weightMeanIAT', 'weightMeanExp', 'yellowReds']\n",
      "REMOVED FEATURE:  8 defeats\n",
      "\n",
      "\n",
      "0.573257420914 0.557728706625 ['seExp', 'meanIAT', 'seIAT', 'meanExp', 'refNum', 'victories', 'games', 'ties', 'redCards', 'weightMeanIAT', 'weightMeanExp', 'yellowReds']\n",
      "REMOVED FEATURE:  6 games\n",
      "\n",
      "\n",
      "0.573442680048 0.557728706625 ['seExp', 'meanIAT', 'seIAT', 'meanExp', 'refNum', 'victories', 'ties', 'redCards', 'weightMeanIAT', 'weightMeanExp', 'yellowReds']\n",
      "REMOVED FEATURE:  6 ties\n",
      "\n",
      "\n",
      "0.573614812916 0.557728706625 ['seExp', 'meanIAT', 'seIAT', 'meanExp', 'refNum', 'victories', 'redCards', 'weightMeanIAT', 'weightMeanExp', 'yellowReds']\n",
      "REMOVED FEATURE:  5 victories\n",
      "\n",
      "\n",
      "0.573772973877 0.557728706625 ['seExp', 'meanIAT', 'seIAT', 'meanExp', 'refNum', 'redCards', 'weightMeanIAT', 'weightMeanExp', 'yellowReds']\n",
      "REMOVED FEATURE:  8 yellowReds\n",
      "\n",
      "\n",
      "0.57384204924 0.557728706625 ['seExp', 'meanIAT', 'seIAT', 'meanExp', 'refNum', 'redCards', 'weightMeanIAT', 'weightMeanExp']\n",
      "REMOVED FEATURE:  5 redCards\n",
      "\n",
      "\n",
      "0.573917623244 0.557728706625 ['seExp', 'meanIAT', 'seIAT', 'meanExp', 'refNum', 'weightMeanIAT', 'weightMeanExp']\n",
      "REMOVED FEATURE:  4 refNum\n",
      "\n",
      "\n",
      "0.583320465026 0.533123028391 ['seExp', 'meanIAT', 'seIAT', 'meanExp', 'weightMeanIAT', 'weightMeanExp']\n",
      "REMOVED FEATURE:  3 meanExp\n",
      "\n",
      "\n",
      "0.643129621023 0.778548895899 ['seExp', 'meanIAT', 'seIAT', 'weightMeanIAT', 'weightMeanExp']\n",
      "REMOVED FEATURE:  1 meanIAT\n",
      "\n",
      "\n",
      "0.817535465052 0.773501577287 ['seExp', 'seIAT', 'weightMeanIAT', 'weightMeanExp']\n",
      "REMOVED FEATURE:  0 seExp\n",
      "\n",
      "\n",
      "0.868011267004 0.752050473186 ['seIAT', 'weightMeanIAT', 'weightMeanExp']\n",
      "REMOVED FEATURE:  0 seIAT\n",
      "\n",
      "\n",
      "0.904598876547 0.756466876972 ['weightMeanIAT', 'weightMeanExp']\n",
      "REMOVED FEATURE:  0 weightMeanIAT\n",
      "\n",
      "\n",
      "0.903255729891 0.755835962145 ['weightMeanExp']\n"
     ]
    }
   ],
   "source": [
    "\n",
    "silhouettes_unsupervised = []\n",
    "skin_partitions = []\n",
    "feature_number = []\n",
    "\n",
    "columns = sorted_features\n",
    "\n",
    "#We always drop skin_nonorm. It was only used for labeling before standardization\n",
    "for i in range(len(columns)):\n",
    "    silhouette_unsupervised, skin_partitionning = cluster(grouped[columns])\n",
    "    \n",
    "    silhouettes_unsupervised.append(silhouette_unsupervised)\n",
    "    skin_partitions.append(skin_partitionning )\n",
    "    \n",
    "\n",
    "    feature_number.append(len(columns))\n",
    "    print(silhouette_unsupervised, skin_partitionning, columns)\n",
    "    \n",
    "    if len(columns) == 1:\n",
    "        break;\n",
    "    \n",
    "    max_silhouette = 0\n",
    "    j = -1\n",
    "    \n",
    "    for i in range(len(columns)):\n",
    "        hole_columns = columns[:i] + columns[i+1:]\n",
    "        silhouette, _ = cluster(grouped[hole_columns]) \n",
    "        if silhouette > max_silhouette:\n",
    "            j = i\n",
    "            max_silhouette = silhouette\n",
    "            \n",
    "\n",
    "    print(\"REMOVED FEATURE: \", j, columns[j])\n",
    "    print()\n",
    "    print()\n",
    "    columns = columns[:j] + columns[j+1:]"
   ]
  },
  {
   "cell_type": "code",
   "execution_count": 67,
   "metadata": {
    "collapsed": false
   },
   "outputs": [
    {
     "data": {
      "image/png": "[encoded data removed]",
      "text/plain": [
       "<matplotlib.figure.Figure at 0x7f33391f9898>"
      ]
     },
     "metadata": {},
     "output_type": "display_data"
    }
   ],
   "source": [
    "plt.plot(feature_number, silhouettes_unsupervised, label='silhouette');\n",
    "plt.plot(feature_number, skin_partitions, label='partition');\n",
    "plt.xlabel('Number of features');\n",
    "plt.legend();"
   ]
  },
  {
   "cell_type": "markdown",
   "metadata": {},
   "source": [
    "Silhouette reaches a higher score but accuracy stays the same. We can conclude that clusterisation doesn't reveal any significative correlation with Skin color. \n",
    "\n",
    "\n",
    "Let's now try by adding the skin feature for sanity check if there is now a clear partition."
   ]
  },
  {
   "cell_type": "code",
   "execution_count": 68,
   "metadata": {
    "collapsed": false
   },
   "outputs": [
    {
     "name": "stdout",
     "output_type": "stream",
     "text": [
      "0.529074517977 0.569085173502 ['skin', 'skin_difference', 'seExp', 'meanIAT', 'seIAT', 'meanExp', 'refNum', 'victories', 'games', 'goals', 'yellowCards', 'ties', 'defeats', 'refCountry', 'redCards', 'position', 'weight', 'age', 'height', 'weightMeanIAT', 'weightMeanExp', 'yellowReds']\n",
      "REMOVED FEATURE:  yellowReds\n",
      "\n",
      "\n",
      "0.529092669023 0.569085173502 ['skin', 'skin_difference', 'seExp', 'meanIAT', 'seIAT', 'meanExp', 'refNum', 'victories', 'games', 'goals', 'yellowCards', 'ties', 'defeats', 'refCountry', 'redCards', 'position', 'weight', 'age', 'height', 'weightMeanIAT', 'weightMeanExp']\n",
      "REMOVED FEATURE:  weightMeanExp\n",
      "\n",
      "\n",
      "0.529092669023 0.569085173502 ['skin', 'skin_difference', 'seExp', 'meanIAT', 'seIAT', 'meanExp', 'refNum', 'victories', 'games', 'goals', 'yellowCards', 'ties', 'defeats', 'refCountry', 'redCards', 'position', 'weight', 'age', 'height', 'weightMeanIAT']\n",
      "REMOVED FEATURE:  weightMeanIAT\n",
      "\n",
      "\n",
      "0.529092669023 0.569085173502 ['skin', 'skin_difference', 'seExp', 'meanIAT', 'seIAT', 'meanExp', 'refNum', 'victories', 'games', 'goals', 'yellowCards', 'ties', 'defeats', 'refCountry', 'redCards', 'position', 'weight', 'age', 'height']\n",
      "REMOVED FEATURE:  height\n",
      "\n",
      "\n",
      "0.529765767353 0.569085173502 ['skin', 'skin_difference', 'seExp', 'meanIAT', 'seIAT', 'meanExp', 'refNum', 'victories', 'games', 'goals', 'yellowCards', 'ties', 'defeats', 'refCountry', 'redCards', 'position', 'weight', 'age']\n",
      "REMOVED FEATURE:  age\n",
      "\n",
      "\n",
      "0.530334283175 0.569085173502 ['skin', 'skin_difference', 'seExp', 'meanIAT', 'seIAT', 'meanExp', 'refNum', 'victories', 'games', 'goals', 'yellowCards', 'ties', 'defeats', 'refCountry', 'redCards', 'position', 'weight']\n",
      "REMOVED FEATURE:  weight\n",
      "\n",
      "\n",
      "0.531014463865 0.569085173502 ['skin', 'skin_difference', 'seExp', 'meanIAT', 'seIAT', 'meanExp', 'refNum', 'victories', 'games', 'goals', 'yellowCards', 'ties', 'defeats', 'refCountry', 'redCards', 'position']\n",
      "REMOVED FEATURE:  position\n",
      "\n",
      "\n",
      "0.539671298157 0.569085173502 ['skin', 'skin_difference', 'seExp', 'meanIAT', 'seIAT', 'meanExp', 'refNum', 'victories', 'games', 'goals', 'yellowCards', 'ties', 'defeats', 'refCountry', 'redCards']\n",
      "REMOVED FEATURE:  redCards\n",
      "\n",
      "\n",
      "0.539691600877 0.569085173502 ['skin', 'skin_difference', 'seExp', 'meanIAT', 'seIAT', 'meanExp', 'refNum', 'victories', 'games', 'goals', 'yellowCards', 'ties', 'defeats', 'refCountry']\n",
      "REMOVED FEATURE:  refCountry\n",
      "\n",
      "\n",
      "0.569344341002 0.557728706625 ['skin', 'skin_difference', 'seExp', 'meanIAT', 'seIAT', 'meanExp', 'refNum', 'victories', 'games', 'goals', 'yellowCards', 'ties', 'defeats']\n",
      "REMOVED FEATURE:  defeats\n",
      "\n",
      "\n",
      "0.569486839115 0.557728706625 ['skin', 'skin_difference', 'seExp', 'meanIAT', 'seIAT', 'meanExp', 'refNum', 'victories', 'games', 'goals', 'yellowCards', 'ties']\n",
      "REMOVED FEATURE:  ties\n",
      "\n",
      "\n",
      "0.569607990772 0.557728706625 ['skin', 'skin_difference', 'seExp', 'meanIAT', 'seIAT', 'meanExp', 'refNum', 'victories', 'games', 'goals', 'yellowCards']\n",
      "REMOVED FEATURE:  yellowCards\n",
      "\n",
      "\n",
      "0.5697987775 0.557728706625 ['skin', 'skin_difference', 'seExp', 'meanIAT', 'seIAT', 'meanExp', 'refNum', 'victories', 'games', 'goals']\n",
      "REMOVED FEATURE:  goals\n",
      "\n",
      "\n",
      "0.570022193599 0.557728706625 ['skin', 'skin_difference', 'seExp', 'meanIAT', 'seIAT', 'meanExp', 'refNum', 'victories', 'games']\n",
      "REMOVED FEATURE:  games\n",
      "\n",
      "\n",
      "0.570178309409 0.557728706625 ['skin', 'skin_difference', 'seExp', 'meanIAT', 'seIAT', 'meanExp', 'refNum', 'victories']\n",
      "REMOVED FEATURE:  victories\n",
      "\n",
      "\n",
      "0.570292324176 0.557728706625 ['skin', 'skin_difference', 'seExp', 'meanIAT', 'seIAT', 'meanExp', 'refNum']\n",
      "REMOVED FEATURE:  refNum\n",
      "\n",
      "\n",
      "0.611584095337 0.610094637224 ['skin', 'skin_difference', 'seExp', 'meanIAT', 'seIAT', 'meanExp']\n",
      "REMOVED FEATURE:  meanExp\n",
      "\n",
      "\n",
      "0.623534998814 0.610094637224 ['skin', 'skin_difference', 'seExp', 'meanIAT', 'seIAT']\n",
      "REMOVED FEATURE:  seIAT\n",
      "\n",
      "\n",
      "0.623572382333 0.610094637224 ['skin', 'skin_difference', 'seExp', 'meanIAT']\n",
      "REMOVED FEATURE:  meanIAT\n",
      "\n",
      "\n",
      "0.624856569665 0.610094637224 ['skin', 'skin_difference', 'seExp']\n",
      "REMOVED FEATURE:  seExp\n",
      "\n",
      "\n",
      "0.626172225 0.610094637224 ['skin', 'skin_difference']\n",
      "REMOVED FEATURE:  skin_difference\n",
      "\n",
      "\n",
      "0.717701546897 1.0 ['skin']\n",
      "REMOVED FEATURE:  skin\n",
      "\n",
      "\n"
     ]
    }
   ],
   "source": [
    "silhouettes_unsupervised = []\n",
    "skin_partitions = []\n",
    "feature_number = []\n",
    "\n",
    "columns = ['skin', 'skin_difference'] + sorted_features\n",
    "#We always drop skin_nonorm. It was only used for labeling before standardization\n",
    "for i in range(len(columns)):\n",
    "    silhouette_unsupervised, skin_partitionning = cluster(grouped[columns])\n",
    "    \n",
    "    silhouettes_unsupervised.append(silhouette_unsupervised)\n",
    "    skin_partitions.append(skin_partitionning )\n",
    "    \n",
    "    feature_number.append(len(columns))\n",
    "    print(silhouette_unsupervised, skin_partitionning, columns)\n",
    "    print(\"REMOVED FEATURE: \", columns[-1])\n",
    "    print()\n",
    "    print()\n",
    "    columns = columns[:-1]"
   ]
  },
  {
   "cell_type": "code",
   "execution_count": 69,
   "metadata": {
    "collapsed": false
   },
   "outputs": [
    {
     "data": {
      "image/png": "[encoded data removed]",
      "text/plain": [
       "<matplotlib.figure.Figure at 0x7f33319c6438>"
      ]
     },
     "metadata": {},
     "output_type": "display_data"
    }
   ],
   "source": [
    "plt.plot(feature_number, silhouettes_unsupervised, label='silhouette');\n",
    "plt.plot(feature_number, skin_partitions, label='partition');\n",
    "plt.xlabel('Number of features');\n",
    "plt.legend();"
   ]
  },
  {
   "cell_type": "markdown",
   "metadata": {},
   "source": [
    "Surprisingly, the paritition doesn't improve significatively until we only keep the skin related features. Then it achieves not so surprisingly a perfect partition.\n",
    "\n",
    "Let's now try to have some visualisation of the effect of clusterisation based on the two relevant features:\n",
    "['seExp', 'seIAT']"
   ]
  },
  {
   "cell_type": "code",
   "execution_count": 70,
   "metadata": {
    "collapsed": false
   },
   "outputs": [
    {
     "data": {
      "image/png": "[encoded data removed]",
      "text/plain": [
       "<matplotlib.figure.Figure at 0x7f33319c6320>"
      ]
     },
     "metadata": {},
     "output_type": "display_data"
    },
    {
     "data": {
      "image/png": "[encoded data removed]",
      "text/plain": [
       "<matplotlib.figure.Figure at 0x7f33331a5fd0>"
      ]
     },
     "metadata": {},
     "output_type": "display_data"
    }
   ],
   "source": [
    "import numpy as np\n",
    "import matplotlib.pyplot as plt\n",
    "from mpl_toolkits.mplot3d import Axes3D\n",
    "\n",
    "\n",
    "X = grouped[['seExp', 'seIAT']]\n",
    "kmeans_model = KMeans(n_clusters=2, random_state=1).fit(X)\n",
    "labels = kmeans_model.labels_\n",
    "\n",
    "skin_labels_nd = skin_labels.as_matrix()\n",
    "\n",
    "Xnd = X.as_matrix()\n",
    "\n",
    "x1 = Xnd[labels == 0, 0]\n",
    "y1 = Xnd[labels == 0, 1]\n",
    "x2 = Xnd[labels == 1, 0]\n",
    "y2 = Xnd[labels == 1, 1]\n",
    "\n",
    "plt.figure()\n",
    "plt.scatter(x1, y1, color='navy', alpha=.8, label='0')\n",
    "plt.scatter(x2, y2, color='red', alpha=.8, label='0')\n",
    "plt.legend(loc='best', shadow=False, scatterpoints=1)\n",
    "plt.title('KMeans labels')\n",
    "\n",
    "\n",
    "x1 = Xnd[skin_labels_nd == 0, 0]\n",
    "y1 = Xnd[skin_labels_nd == 0, 1]\n",
    "x2 = Xnd[skin_labels_nd == 1, 0]\n",
    "y2 = Xnd[skin_labels_nd == 1, 1]\n",
    "\n",
    "plt.figure()\n",
    "plt.scatter(x1, y1, color='navy', alpha=.8, label='0')\n",
    "plt.scatter(x2, y2, color='red', alpha=.8, label='1')\n",
    "plt.legend(loc='best', shadow=False, scatterpoints=1)\n",
    "plt.title('True labels')\n",
    "plt.show()\n"
   ]
  },
  {
   "cell_type": "markdown",
   "metadata": {
    "collapsed": true
   },
   "source": [
    "We can notice that there seems to be a pattern"
   ]
  },
  {
   "cell_type": "code",
   "execution_count": null,
   "metadata": {
    "collapsed": true
   },
   "outputs": [],
   "source": []
  }
 ],
 "metadata": {
  "anaconda-cloud": {},
  "kernelspec": {
   "display_name": "Python [conda root]",
   "language": "python",
   "name": "conda-root-py"
  },
  "language_info": {
   "codemirror_mode": {
    "name": "ipython",
    "version": 3
   },
   "file_extension": ".py",
   "mimetype": "text/x-python",
   "name": "python",
   "nbconvert_exporter": "python",
   "pygments_lexer": "ipython3",
   "version": "3.5.2"
  }
 },
 "nbformat": 4,
 "nbformat_minor": 0
}
